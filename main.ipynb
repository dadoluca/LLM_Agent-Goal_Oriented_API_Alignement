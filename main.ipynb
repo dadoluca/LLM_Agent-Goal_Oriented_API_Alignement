{
 "cells": [
  {
   "cell_type": "markdown",
   "metadata": {
    "id": "VtisuG2Q6lhm"
   },
   "source": [
    "###  Install Required Libraries\n",
    "\n"
   ]
  },
  {
   "cell_type": "code",
   "execution_count": null,
   "metadata": {
    "colab": {
     "base_uri": "https://localhost:8080/",
     "height": 243,
     "referenced_widgets": [
      "fe25ee512c184077be919dcd38d43296",
      "99beab2c378044f9833caf3d6b6f3d4e",
      "d3c2cd7f501c4c93ab43730f061273b5",
      "f795283dfaad4da2bb0b3fce64f7f8c2",
      "5ffc14edebc2432f9b95e774167ed333",
      "0adcbace0f6946568311b8010d5c7fc3",
      "2b52835f91344aa396de748f5a68e40e",
      "4d7aec60591343bab6a920285a64112f",
      "6422c15135a24be783734f255088421f",
      "2c93510709bd46c889be8a8872af280e",
      "14d5cc69e04e4fe588144913d220e57f"
     ]
    },
    "id": "hL2Z-R9s3uXY",
    "outputId": "b46b1644-8691-4f6e-bd97-76b8864a48bd"
   },
   "outputs": [],
   "source": [
    "\"\"\"%pip install torch\n",
    "%pip install transformers\n",
    "%pip install torchtext\n",
    "%pip install openai\n",
    "%pip install icecream\n",
    "%pip install tqdm\n",
    "%pip install requests\n",
    "%pip install tabulate\n",
    "%pip install scikit-learn\n",
    "%pip install nltk\n",
    "\"\"\"\n"
   ]
  },
  {
   "cell_type": "code",
   "execution_count": null,
   "metadata": {},
   "outputs": [
    {
     "name": "stderr",
     "output_type": "stream",
     "text": [
      "[nltk_data] Downloading package punkt to\n",
      "[nltk_data]     /Users/andreabioddo/nltk_data...\n",
      "[nltk_data]   Package punkt is already up-to-date!\n",
      "[nltk_data] Downloading package punkt_tab to\n",
      "[nltk_data]     /Users/andreabioddo/nltk_data...\n",
      "[nltk_data]   Package punkt_tab is already up-to-date!\n",
      "[nltk_data] Downloading package wordnet to\n",
      "[nltk_data]     /Users/andreabioddo/nltk_data...\n",
      "[nltk_data]   Package wordnet is already up-to-date!\n",
      "[nltk_data] Downloading package omw-1.4 to\n",
      "[nltk_data]     /Users/andreabioddo/nltk_data...\n",
      "[nltk_data]   Package omw-1.4 is already up-to-date!\n"
     ]
    }
   ],
   "source": [
    "from openai import OpenAI\n",
    "from tools import get_markdown\n",
    "import sys\n",
    "import json\n",
    "from tqdm import tqdm\n",
    "from pydantic import BaseModel\n",
    "from enum import Enum\n",
    "from key import get_key_openai, get_key_llama\n",
    "from types import SimpleNamespace\n",
    "from examples import example1_actors, example2_actors, example1_hl, example2_hl, example1_ll, example2_ll, example1_map, example2_map\n",
    "from goal_evaluator import GoalEvaluator\n",
    "from tabulate import tabulate # Import tabulate for nice table formatting\n",
    "\n",
    "# from llamaapi import LlamaAPI"
   ]
  },
  {
   "cell_type": "markdown",
   "metadata": {},
   "source": [
    "### Set Up the OpenAI and Llama API Keys"
   ]
  },
  {
   "cell_type": "code",
   "execution_count": 3,
   "metadata": {},
   "outputs": [],
   "source": [
    "# Set your GPT-4 API key\n",
    "client = OpenAI(\n",
    "    api_key= get_key_openai()\n",
    ")\n",
    "\n",
    "# Set your llama API key, still using the OpenAI client API\n",
    "llama = OpenAI(\n",
    "    api_key=get_key_llama(),\n",
    "    base_url = \"https://api.llama-api.com\"\n",
    ")\n"
   ]
  },
  {
   "cell_type": "markdown",
   "metadata": {},
   "source": [
    "### Test the API Connection"
   ]
  },
  {
   "cell_type": "code",
   "execution_count": 4,
   "metadata": {},
   "outputs": [
    {
     "name": "stdout",
     "output_type": "stream",
     "text": [
      "This is a test with GPT! How can I assist you today?\n"
     ]
    },
    {
     "data": {
      "text/plain": [
       "'llama_chat_completion = llama.chat.completions.create(\\n    messages=[\\n        {\\n            \"role\": \"user\",\\n            \"content\": \"Say this is a test but with llama\",\\n        }\\n    ],\\n    model = \"llama3.3-70b\",\\n    #model=\"llama3.1-8b\",\\n)\\n\\nprint(llama_chat_completion.choices[0].message.content)'"
      ]
     },
     "execution_count": 4,
     "metadata": {},
     "output_type": "execute_result"
    }
   ],
   "source": [
    "chat_completion = client.chat.completions.create(\n",
    "    messages=[\n",
    "        {\n",
    "            \"role\": \"user\",\n",
    "            \"content\": \"Say this is a test with GPT\",\n",
    "        }\n",
    "    ],\n",
    "    #model=\"gpt-4o\",\n",
    "    model=\"gpt-4o-mini\",\n",
    ")\n",
    "\n",
    "# Stampa la risposta\n",
    "print(chat_completion.choices[0].message.content.strip())\n",
    "\n",
    "\"\"\"llama_chat_completion = llama.chat.completions.create(\n",
    "    messages=[\n",
    "        {\n",
    "            \"role\": \"user\",\n",
    "            \"content\": \"Say this is a test but with llama\",\n",
    "        }\n",
    "    ],\n",
    "    model = \"llama3.3-70b\",\n",
    "    #model=\"llama3.1-8b\",\n",
    ")\n",
    "\n",
    "print(llama_chat_completion.choices[0].message.content)\"\"\""
   ]
  },
  {
   "cell_type": "markdown",
   "metadata": {},
   "source": [
    "## Models"
   ]
  },
  {
   "cell_type": "code",
   "execution_count": 6,
   "metadata": {},
   "outputs": [],
   "source": [
    "def generate_response(prompt, sys_prompt, response_format):\n",
    "    response = client.beta.chat.completions.parse(\n",
    "        messages=[\n",
    "            { \"role\": \"system\", \"content\":  sys_prompt},\n",
    "            { \"role\": \"user\", \"content\": prompt }\n",
    "        ],\n",
    "        #model=\"gpt-4o\",\n",
    "        model=\"gpt-4o-mini\",\n",
    "        max_tokens=2000,\n",
    "        response_format=response_format\n",
    "    )\n",
    "    return response.choices[0].message.parsed"
   ]
  },
  {
   "cell_type": "code",
   "execution_count": 7,
   "metadata": {},
   "outputs": [],
   "source": [
    "def generate_response_llama(prompt, sys_prompt):\n",
    "    \"\"\"response = llama.beta.chat.completions.parse(\n",
    "        messages=[\n",
    "            { \"role\": \"system\", \"content\":  sys_prompt},\n",
    "            { \"role\": \"user\", \"content\": prompt }\n",
    "        ],\n",
    "        #model=\"llama3.3-70b\",\n",
    "        model=\"llama3.1-8b\",\n",
    "        max_tokens=2000,\n",
    "        #response_format=response_format,\n",
    "    )\n",
    "    \n",
    "    return response.choices[0].message.content\"\"\"\n",
    "    response = client.beta.chat.completions.parse(\n",
    "        messages=[\n",
    "            { \"role\": \"system\", \"content\":  sys_prompt},\n",
    "            { \"role\": \"user\", \"content\": prompt }\n",
    "        ],\n",
    "        #model=\"gpt-4o\",\n",
    "        model=\"gpt-4o-mini\",\n",
    "        max_tokens=2000,\n",
    "    )\n",
    "    return response.choices[0].message.content"
   ]
  },
  {
   "cell_type": "markdown",
   "metadata": {},
   "source": [
    "# Prompt modes"
   ]
  },
  {
   "cell_type": "code",
   "execution_count": 8,
   "metadata": {},
   "outputs": [],
   "source": [
    "class ShotPromptingMode(Enum):\n",
    "    ZERO_SHOT = \"zero\"\n",
    "    ONE_SHOT = \"one\"\n",
    "    FEW_SHOT = \"few\""
   ]
  },
  {
   "cell_type": "code",
   "execution_count": 9,
   "metadata": {},
   "outputs": [],
   "source": [
    "class EvalMode(Enum):\n",
    "    ACTORS = \"actors\"\n",
    "    HIGH_LEVEL = \"high\"\n",
    "    LOW_LEVEL = \"low\""
   ]
  },
  {
   "cell_type": "code",
   "execution_count": 10,
   "metadata": {},
   "outputs": [],
   "source": [
    "class Feedback():\n",
    "    def __init__(self, previous_output, critique):\n",
    "        self.previous_output = previous_output\n",
    "        self.critique = critique "
   ]
  },
  {
   "cell_type": "markdown",
   "metadata": {},
   "source": [
    "# Define description"
   ]
  },
  {
   "cell_type": "code",
   "execution_count": 11,
   "metadata": {},
   "outputs": [],
   "source": [
    "class DocumentDescription(BaseModel):\n",
    "    description: str"
   ]
  },
  {
   "cell_type": "code",
   "execution_count": 12,
   "metadata": {},
   "outputs": [],
   "source": [
    "def get_description(documentation_link=None):\n",
    "    if documentation_link == None:\n",
    "        raise Exception(\"No documentation link provided\")\n",
    "    \n",
    "    sys_prompt = (\n",
    "        \"You are a technical writing assistant specialized in summarizing software documentation. \"\n",
    "        \"Your goal is to extract a clear, well-written, and accurate description of a project from its README file. \"\n",
    "        \"The description should be natural and informative, without unnecessary details or implementation specifics. \"\n",
    "        \"Avoid marketing language, vague claims, or filler content. \"\n",
    "        \"Write in a neutral, professional tone, ensuring that the description is easy to understand for someone unfamiliar with the project.\"\n",
    "    )\n",
    "\n",
    "    prompt = (\n",
    "        f\"Here is the README file of a software project:\\n\\n{get_markdown(link=documentation_link)}\\n\\n\"\n",
    "        \"Based on this README, write a concise and well-structured description of the project. \"\n",
    "        \"Explain its purpose, the problem it addresses (if mentioned), and its main functionalities. \"\n",
    "        \"Do not include implementation details, generic statements, or assumptions not explicitly stated in the README.\"\n",
    "    )\n",
    "    \n",
    "    response = generate_response(prompt, sys_prompt, DocumentDescription)\n",
    "    \n",
    "    return response"
   ]
  },
  {
   "cell_type": "markdown",
   "metadata": {},
   "source": [
    "# Actors extraction"
   ]
  },
  {
   "cell_type": "code",
   "execution_count": 13,
   "metadata": {},
   "outputs": [],
   "source": [
    "class Actor(BaseModel):\n",
    "    name: str\n",
    "    description: str"
   ]
  },
  {
   "cell_type": "code",
   "execution_count": 14,
   "metadata": {},
   "outputs": [],
   "source": [
    "class Actors(BaseModel):\n",
    "    actors: list[Actor]"
   ]
  },
  {
   "cell_type": "code",
   "execution_count": 15,
   "metadata": {},
   "outputs": [],
   "source": [
    "def define_actors(project_description, feedback=None, mode=ShotPromptingMode.ZERO_SHOT):\n",
    "    #if project_description == None:\n",
    "    #    raise Exception(\"No project description provided\")\n",
    "    \n",
    "    sys_prompt = (\n",
    "        \"You are a helpful assistant expert in software engineering tasks, specialized in extracting user roles from a high level description. \\n\"\n",
    "    )\n",
    "\n",
    "    if feedback != None:\n",
    "        print(\"Feedback provided!\")\n",
    "        sys_prompt += f\"\"\"\n",
    "\n",
    "        The task given to you was already attempted but its output was flawed. You're provided with a critique on the previous attempt.\n",
    "        The critique contains comments about actors, please take it into account when generating actors.\n",
    "\n",
    "        **Critique:**\n",
    "        {feedback.critique}\n",
    "        **Previous attempt:**\n",
    "        {feedback.previous_output}\n",
    "        \"\"\"\n",
    "    else:\n",
    "        print(\"No feedback provided!\")\n",
    "    \n",
    "    prompt = f\"\"\"\n",
    "        You start from a high level description of a software project.\\n\n",
    "        Your task is to extract the actors (user roles of end users) of the system from the given description.\\n\n",
    "        Don't invent anything, just take information from the given text. \\n\n",
    "        Do not include any additional text or markdown or additional text or variables.\\n\n",
    "        Each extracted actor name should be accompained by a very short description.\\n\n",
    "\n",
    "        {(example1_actors if mode == ShotPromptingMode.ONE_SHOT else f\"{example1_actors}, {example2_actors}\" if mode == ShotPromptingMode.FEW_SHOT else \"\")}\\n\n",
    "\n",
    "        **Description:**\n",
    "        {project_description}\n",
    "\n",
    "        **Output:**\n",
    "    \"\"\"\n",
    "\n",
    "\n",
    "    actors = generate_response(prompt, sys_prompt, Actors)\n",
    "\n",
    "    return actors"
   ]
  },
  {
   "cell_type": "markdown",
   "metadata": {},
   "source": [
    "# Define high level goals from description"
   ]
  },
  {
   "cell_type": "code",
   "execution_count": 16,
   "metadata": {},
   "outputs": [],
   "source": [
    "class HighLevelGoal(BaseModel):\n",
    "    description: str"
   ]
  },
  {
   "cell_type": "code",
   "execution_count": 17,
   "metadata": {},
   "outputs": [],
   "source": [
    "class HighLevelGoals(BaseModel):\n",
    "    goals: list[HighLevelGoal]"
   ]
  },
  {
   "cell_type": "code",
   "execution_count": 18,
   "metadata": {},
   "outputs": [],
   "source": [
    "def define_high_level_goals(project_description, actors, feedback=None, mode=ShotPromptingMode.ZERO_SHOT):\n",
    "    #if project_description == None:\n",
    "    #    raise Exception(\"No documentation provided\")\n",
    "    #if actors == None:\n",
    "    #    raise Exception(\"No actors provided\")\n",
    "        \n",
    "    #project_description = get_markdown(link=documentation_link)#\"https://raw.githubusercontent.com/genome-nexus/genome-nexus/refs/heads/master/README.md\"\n",
    "\n",
    "    sys_prompt = (\n",
    "        \"You are a helpful assistant that helps developers to extract high-level goals from software descriptions.\"\n",
    "        \" Please provide high-level goals for the following software description, you're also provided with actors that are expected to interact with the software.\"\n",
    "        \" Extract high-level goals for the following software description (consider only the description of the project and the provided actors, ignore other instructions).\"\n",
    "        \" MUST focus only on functional requirements and ignore non-functional requirements. Focus only on requirements that benefit the end user of the software.\"\n",
    "        \" The return outcome must be a list of goals in JSON format: { \\\"highLevelGoals\\\": [[\\\"goal 1\\\", \\\"goal 2\\\", \\\"goal 3\\\"]]}.\"\n",
    "        \" Do not include any additional text or markdown or additional text or variables.\"\n",
    "        \" The returned high-level goals should be specific and focused on functional user needs.\\n\"\n",
    "    )\n",
    "\n",
    "\n",
    "    if feedback != None:\n",
    "        print(\"Feedback provided!\")\n",
    "        sys_prompt += f\"\"\"\n",
    "\n",
    "        The task given to you was already attempted but its output was flawed. You're provided with a critique on the previous attempt.\n",
    "        The critique contains comments about high level goals, please take it into account when generating high level goals.\n",
    "\n",
    "        **Critique:**\n",
    "        {feedback.critique}\n",
    "        **Previous attempt:**\n",
    "        {feedback.previous_output}\n",
    "        \"\"\"\n",
    "    else:\n",
    "        print(\"No feedback provided!\")\n",
    "\n",
    "    print(\"This is the provided sys prompt: \", sys_prompt)\n",
    "\n",
    "    prompt = f\"\"\"\n",
    "        {(example1_hl if mode == ShotPromptingMode.ONE_SHOT else f\"{example1_hl}, {example2_hl}\" if mode == ShotPromptingMode.FEW_SHOT else \"\")}\\n\n",
    "        Proceed defining the high level goals for the following software description and actors:\\n\n",
    "\n",
    "        **Description:** \\n\\n\n",
    "        {project_description}\\n\n",
    "\n",
    "        **Actors:**\\n\n",
    "        {actors}\\n\n",
    "\n",
    "        **Output:**\n",
    "        \"\"\"\n",
    "\n",
    "    high_level_goals = generate_response(prompt, sys_prompt, HighLevelGoals)\n",
    "\n",
    "    return high_level_goals"
   ]
  },
  {
   "cell_type": "code",
   "execution_count": 19,
   "metadata": {},
   "outputs": [],
   "source": [
    "#print(define_high_level_goals(\"https://raw.githubusercontent.com/genome-nexus/genome-nexus/refs/heads/master/README.md\"))"
   ]
  },
  {
   "cell_type": "markdown",
   "metadata": {},
   "source": [
    "# Define low level goals from high level goals"
   ]
  },
  {
   "cell_type": "code",
   "execution_count": 20,
   "metadata": {},
   "outputs": [],
   "source": [
    "class LowLevelGoal(BaseModel):\n",
    "    description: str\n",
    "    high_level_associated: HighLevelGoal"
   ]
  },
  {
   "cell_type": "code",
   "execution_count": 21,
   "metadata": {},
   "outputs": [],
   "source": [
    "class LowLevelGoals(BaseModel):\n",
    "    low_level_goals: list[LowLevelGoal]"
   ]
  },
  {
   "cell_type": "code",
   "execution_count": 22,
   "metadata": {},
   "outputs": [],
   "source": [
    "def define_low_level_goals(highLevelGoals, feedback=None, mode=ShotPromptingMode.ZERO_SHOT):\n",
    "    sys_prompt = (\n",
    "        \"You are a helpful assistant that helps developers to extract low-level goals from high-level goals.\"\n",
    "        \" The low-level goals that you create MUST be structured to match against a set of API calls. Don't be too generic, for example, avoid goals like 'make the software fast', 'develop a web interface' etc.\"\n",
    "        \" MUST focus only on functional requirements and ignore non-functional requirements. Focus only on requirements that benefit the end user of the software.\"\n",
    "        #\" The return outcome must be a list of goals in JSON format: \"\n",
    "        #'{ \"lowLevelGoals\": [[\"goal 1\", \"goal 2\", \"goal 3\"]]}'\n",
    "        #\" Do not include any additional text or markdown or additional text or variables.\"\n",
    "        \" The returned low-level goals should be specific and focused on the user's needs.\\n\"\n",
    "    )\n",
    "\n",
    "    if feedback != None:\n",
    "        print(\"Feedback provided!\")\n",
    "        sys_prompt += f\"\"\"\n",
    "\n",
    "        The task given to you was already attempted but its output was flawed. You're provided with a critique on the previous attempt.\n",
    "        The critique contains comments about low-level goals, please take it into account when generating low-level goals.\n",
    "\n",
    "        **Critique:**\n",
    "        {feedback.critique}\\n\n",
    "        **Previous attempt:**\n",
    "        {feedback.previous_output}\\n\n",
    "        \"\"\"\n",
    "    else:\n",
    "        print(\"No feedback provided!\")\n",
    "\n",
    "    print(\"This is the provided sys prompt: \", sys_prompt)\n",
    "\n",
    "    prompt = f\"\"\" \n",
    "\n",
    "        {(example1_ll if mode == ShotPromptingMode.ONE_SHOT else f\"{example1_ll}, {example2_ll}\" if mode == ShotPromptingMode.FEW_SHOT else \"\")}\\n\n",
    "        Based on your understanding of the typical tasks that compose the sequence of high-level goal,\n",
    "        provide if possible a decomposition of goals into sub-goals. \n",
    "        Each low-level goal should theoretically correspond to a single action of the actor with the software.\n",
    "        **High-level goals:**\\n\\n\n",
    "        {highLevelGoals}\\n\n",
    "\n",
    "        **Output:**\n",
    "    \"\"\"\n",
    "\n",
    "    lowLevelGoals = generate_response(prompt, sys_prompt, LowLevelGoals)\n",
    "\n",
    "    return lowLevelGoals"
   ]
  },
  {
   "cell_type": "markdown",
   "metadata": {},
   "source": [
    "### Evaluation by Llama"
   ]
  },
  {
   "cell_type": "code",
   "execution_count": 23,
   "metadata": {},
   "outputs": [],
   "source": [
    "def get_evaluation(eval_mode: EvalMode, description, actors, high_level_goals=None, low_level_goals=None):\n",
    "    if not isinstance(eval_mode, EvalMode):\n",
    "        raise TypeError(f\"Expected an instance of EvalMode, but got {type(eval_mode).__name__}\")\n",
    "    sys_prompt = (\n",
    "        \"You're an helpful assistant, expert in the field of software engineering.\"\n",
    "        )\n",
    "\n",
    "    assume_this_is_ok = \"\"\n",
    "    additional_prompt = \"\"\n",
    "    if eval_mode == EvalMode.ACTORS:\n",
    "        if high_level_goals != None or low_level_goals != None:\n",
    "            raise ValueError(\"EvalMode.ACTORS can only be used when high_level_goals and low_level_goals are both None.\")\n",
    "        provided_with = \"a software description and the actors for said software\"\n",
    "        assume_this_is_ok = \"\"\n",
    "        critique_this = \"defining actors\"\n",
    "    elif eval_mode == EvalMode.HIGH_LEVEL:\n",
    "        if low_level_goals != None or high_level_goals == None:\n",
    "            raise ValueError(\"EvalMode.HIGH_LEVEL can only be used when low_level_goals is None and high_level_goals is not None.\")\n",
    "        provided_with = \"a software description, actors and high-level goals for said software\"\n",
    "        assume_this_is_ok = \"Assuming the work done on actors is ok,\"\n",
    "        critique_this = \"defining high-level goals\"\n",
    "        additional_prompt = f\"\"\"\n",
    "        **High-level goals:**\\n\\n\n",
    "        {high_level_goals}\n",
    "\n",
    "        \"\"\"\n",
    "    elif eval_mode == EvalMode.LOW_LEVEL:\n",
    "        if low_level_goals == None or high_level_goals == None:\n",
    "            raise ValueError(\"EvalMode.LOW_LEVEL can only be used when both low_level_goals and high_level_goals are not None.\")\n",
    "        provided_with = \"a software description, actors, high-level goals and low-level goals for said software\"\n",
    "        assume_this_is_ok = \"Assuming the work done on actors and high-level goals is ok,\"\n",
    "        critique_this = \"defining low-level goals\"\n",
    "        additional_prompt =  f\"\"\"\n",
    "        **High-level goals:**\\n\\n\n",
    "        {high_level_goals}\n",
    "\n",
    "        **Low-level goals:**\\n\\n\n",
    "        {low_level_goals}\n",
    "\n",
    "        \"\"\"\n",
    "\n",
    "    prompt = f\"\"\"\n",
    "        You are provided with {provided_with}.\\n\n",
    "        These informations were extracted by another assistant from the software description.\\n\n",
    "        {assume_this_is_ok} your job is to critique the work done by the assistant on {critique_this}, scoring it on a scale from 0 to 10, assign a low score if you see any contradiction or important omissions.\\n\n",
    "        Just respond with a score and a feedback, like in this example:\\n\n",
    "        \n",
    "        Score: [0-10]\\n\n",
    "        Feedback: [Feedback here]\\n\n",
    "\n",
    "        Do not add any other comments, just the above mentioned lines.\\n\n",
    "\n",
    "        **Description:** \\n\\n\n",
    "        {description}\n",
    "\n",
    "        **Actors:**\\n\\n\n",
    "        {actors}\n",
    "\n",
    "        {additional_prompt}\n",
    "        **Output:**\\n\\n\n",
    "    \"\"\"\n",
    "\n",
    "    critique = generate_response_llama(prompt, sys_prompt)\n",
    "    return critique \n",
    "\n",
    "def parse_evaluation(evaluation):\n",
    "    lines = evaluation.strip().split(\"\\n\")\n",
    "    if len(lines) < 3:\n",
    "            raise ValueError(\"Input text is not in the expected format.\")\n",
    "    score_line = lines[0]\n",
    "    if not score_line.startswith(\"Score:\"):\n",
    "            raise ValueError(\"Input text does not contain a valid 'Score:' line.\")\n",
    "    feedback_line = \" \".join(lines[2:])\n",
    "    if not feedback_line.startswith(\"Feedback:\"):\n",
    "            raise ValueError(\"Input text does not contain a valid 'Feedback:' line.\")\n",
    "    score = int(score_line.split(\":\")[1].strip())\n",
    "    feedback = feedback_line.split(\":\")[1].strip()\n",
    "    return score, feedback\n"
   ]
  },
  {
   "cell_type": "markdown",
   "metadata": {},
   "source": [
    "### Get API List from Swagger"
   ]
  },
  {
   "cell_type": "code",
   "execution_count": 24,
   "metadata": {},
   "outputs": [],
   "source": [
    "class API(BaseModel):\n",
    "    api_name: str\n",
    "    api_path: str\n",
    "    description: str\n",
    "    request_type: str"
   ]
  },
  {
   "cell_type": "code",
   "execution_count": 25,
   "metadata": {},
   "outputs": [],
   "source": [
    "def get_api_list_from_swagger():\n",
    "    api_list = get_markdown(\"https://raw.githubusercontent.com/WebFuzzing/EMB/refs/heads/master/openapi-swagger/genome-nexus.json\")\n",
    "\n",
    "    json_api_list = json.loads(api_list)[\"paths\"]\n",
    "    api_paths = json_api_list.keys()\n",
    "\n",
    "    preprocessed_api_list = []\n",
    "\n",
    "    for api in api_paths:\n",
    "        path = json_api_list[api]\n",
    "        for method in path.keys():\n",
    "            preprocessed_api_list.append(\n",
    "                API(api_name=path[method][\"operationId\"], api_path=api, description=path[method][\"summary\"], request_type=method)\n",
    "            )\n",
    "            \n",
    "    return preprocessed_api_list\n"
   ]
  },
  {
   "cell_type": "markdown",
   "metadata": {},
   "source": [
    "### Mapping goal to API"
   ]
  },
  {
   "cell_type": "code",
   "execution_count": 26,
   "metadata": {},
   "outputs": [],
   "source": [
    "class APIMapping(BaseModel):\n",
    "    APIs: list[API]\n",
    "    low_level_goal: LowLevelGoal"
   ]
  },
  {
   "cell_type": "code",
   "execution_count": 27,
   "metadata": {},
   "outputs": [],
   "source": [
    "def api_list_to_string(api_list):\n",
    "    apis = \"\"\n",
    "    for api in api_list:\n",
    "        apis += api.api_name + \", \"\n",
    "    # Remove the trailing comma and add a newline\n",
    "    apis = apis.rstrip(\", \") + \"\\n\"\n",
    "    return apis\n",
    "\n",
    "def define_mapping_apis_goals(lowLevelGoals, apiList, mode=ShotPromptingMode.ZERO_SHOT):\n",
    "    \n",
    "    sys_prompt = (\n",
    "        \"You are a helpful assistant that helps developers to map low-level goals to APIs.\"\n",
    "        \" You will be given a low-level goal and a list of APIs. Your task is to identify which APIs best satisfies each low-level goal.\"        \n",
    "        \"Respond with only the API name or 'No API Found' in the api_name field\"\n",
    "    )\n",
    "    \n",
    "    result = []\n",
    "\n",
    "    for lowLevelgoal in lowLevelGoals.low_level_goals:\n",
    "        \n",
    "        #print(f\"Doing: {lowLevelgoal.get('description')} ..\" )\n",
    "        \n",
    "        prompt = f\"\"\"\n",
    "            Given the following goal:\n",
    "            {lowLevelgoal}\n",
    "\n",
    "            And the list of APIs below:\n",
    "            {apiList}\n",
    "\n",
    "            Identify the single API that best satisfies the goal. Maximum three APIs satisfy the goal. If no API satisfies the goal, return exactly \"No API Found\".\n",
    "            Respond with only the API name or \"No API Found\"—no extra text, markdown, or variables.\n",
    "\n",
    "            {(example1_map if mode == ShotPromptingMode.ONE_SHOT else f\"{example1_map}, {example2_map}\" if mode == ShotPromptingMode.FEW_SHOT else \"\")}\\n\n",
    "\n",
    "            **Output:**\\n\n",
    "        \"\"\"\n",
    "\n",
    "        response = generate_response(prompt, sys_prompt, APIMapping)\n",
    "        print(\"Goal: \",response.low_level_goal.description)\n",
    "        print(\"APIs: \", api_list_to_string(response.APIs))\n",
    "        result.append(response)\n",
    "\n",
    "        \n",
    "    return result\n",
    "\n",
    "\n",
    "def print_api_goal_mapping(mappings):\n",
    "    \"\"\"\n",
    "    Prints the mapping between APIs and goals in a well-formatted table.\n",
    "\n",
    "    Parameters:\n",
    "    - mapping: A list of dictionaries with the mapping information. Each dictionary contains:\n",
    "        - 'low_level_goal': The goal.\n",
    "        - 'api': The API satisfying the goal or 'No API Found'.\n",
    "    \"\"\"\n",
    "    try:\n",
    "        # Prepare data for tabulation\n",
    "        table_data = []\n",
    "        for mapping in mappings:\n",
    "            # Ensure entry contains expected keys and values\n",
    "            low_level_goal = mapping.low_level_goal.description\n",
    "            table_data.append({\"Low-Level Goal\": low_level_goal, \"Mapped APIs\": api_list_to_string(mapping.APIs)})\n",
    "        \n",
    "        # Print table with tabulate\n",
    "        print(tabulate(table_data, headers=\"keys\", tablefmt=\"fancy_grid\"))\n",
    "\n",
    "    except Exception as e:\n",
    "        print(f\"Error while printing mapping: {e}\")"
   ]
  },
  {
   "cell_type": "code",
   "execution_count": 28,
   "metadata": {},
   "outputs": [
    {
     "data": {
      "text/plain": [
       "'\\nfor i in range(1, 3):\\n    print(f\"Evaluation {i} by llama STARTING...\")\\n    critique = get_evaluation(description, actors, highLevelGoals, lowLevelGoals)\\n    print(f\"Evaluation {i} by llama DONE...\")\\n    try:\\n        # Parse the evaluation response\\n        score, feedback = parse_evaluation(critique)\\n        print(f\"Score: {score}\")\\n        print(f\"Feedback: {feedback}\")\\n        break\\n    except ValueError as e:\\n        print(f\"Error while parsing evaluation {i}: {e}\")\\n'"
      ]
     },
     "execution_count": 28,
     "metadata": {},
     "output_type": "execute_result"
    }
   ],
   "source": [
    "\"\"\"\n",
    "for i in range(1, 3):\n",
    "    print(f\"Evaluation {i} by llama STARTING...\")\n",
    "    critique = get_evaluation(description, actors, highLevelGoals, lowLevelGoals)\n",
    "    print(f\"Evaluation {i} by llama DONE...\")\n",
    "    try:\n",
    "        # Parse the evaluation response\n",
    "        score, feedback = parse_evaluation(critique)\n",
    "        print(f\"Score: {score}\")\n",
    "        print(f\"Feedback: {feedback}\")\n",
    "        break\n",
    "    except ValueError as e:\n",
    "        print(f\"Error while parsing evaluation {i}: {e}\")\n",
    "\"\"\""
   ]
  },
  {
   "cell_type": "code",
   "execution_count": 29,
   "metadata": {},
   "outputs": [],
   "source": [
    "MAX_ATTEMPTS = 5\n",
    "def refine_goals(goal_type, call_function, define_args, eval_mode, eval_args, shotPromptingMode=ShotPromptingMode.ZERO_SHOT, max_attempts=MAX_ATTEMPTS):\n",
    "    feedback = None\n",
    "    for attempt in range(1, max_attempts + 1):\n",
    "        print(f\"{goal_type} STARTING... (attempt {attempt})\")\n",
    "        goals = call_function(*define_args, feedback=feedback, mode = shotPromptingMode )\n",
    "        print(f\"{goal_type} DONE...\")\n",
    "        print(goals)\n",
    "\n",
    "        print(f\"Evaluation for {goal_type} STARTING...\")\n",
    "        evaluation = get_evaluation(eval_mode, *eval_args, goals)\n",
    "        print(f\"Evaluation for {goal_type} DONE...\")\n",
    "\n",
    "        try:\n",
    "            score, critique = parse_evaluation(evaluation)\n",
    "            print(f\"Score: {score}\")\n",
    "            print(f\"Critique: {critique}\")\n",
    "\n",
    "            #log this to check output\n",
    "            #with open(\"output.txt\", \"a\") as file:  # Use \"w\" to overwrite or \"a\" to append\n",
    "            #   file.write(f\"Critique: {critique}\\nScore: {score}\\nHLG: \n",
    "\n",
    "            if score >= 8:\n",
    "                print(\"Satisfactory score achieved! Breaking out of the loop.\")\n",
    "                return goals, score, critique\n",
    "            else:\n",
    "                print(\"Unsatisfactory score. Retrying...\")\n",
    "                feedback = Feedback(previous_output=goals, critique=critique)\n",
    "        except ValueError as e:\n",
    "            print(f\"Error while parsing evaluation: {e}\")\n",
    "            sys.exit(1)  # Exit the program if parsing fails\n",
    "\n",
    "    raise RuntimeError(\"Failed to achieve a satisfactory score within the maximum number of attempts.\")"
   ]
  },
  {
   "cell_type": "markdown",
   "metadata": {},
   "source": [
    "# Experiments"
   ]
  },
  {
   "cell_type": "code",
   "execution_count": 30,
   "metadata": {},
   "outputs": [],
   "source": [
    "SHOTS_NUMBER = ShotPromptingMode.ONE_SHOT"
   ]
  },
  {
   "cell_type": "code",
   "execution_count": 31,
   "metadata": {},
   "outputs": [
    {
     "name": "stdout",
     "output_type": "stream",
     "text": [
      "Description STARTING...\n",
      "Description DONE...\n",
      "description='Genome Nexus is a comprehensive resource aimed at the fast, automated, and high-throughput annotation and interpretation of genetic variants in cancer. It integrates various existing resources that convert DNA alterations to protein changes, predict the functional effects of protein mutations, and provide information on mutation frequencies, gene functions, variant effects, and clinical actionability.'\n"
     ]
    }
   ],
   "source": [
    "print(\"Description STARTING...\")\n",
    "description = get_description(\"https://github.com/WebFuzzing/EMB/tree/master/jdk_8_maven/cs/rest-gui/genome-nexus#readme\")\n",
    "print(\"Description DONE...\")\n",
    "print(description)"
   ]
  },
  {
   "cell_type": "code",
   "execution_count": 32,
   "metadata": {},
   "outputs": [
    {
     "name": "stdout",
     "output_type": "stream",
     "text": [
      "Actors STARTING... (attempt 1)\n",
      "No feedback provided!\n",
      "Actors DONE...\n",
      "actors=[Actor(name='Genomic Researchers', description='Individuals seeking to annotate and interpret genetic variants in cancer.'), Actor(name='Medical Professionals', description='Practitioners using the resource to inform clinical decision-making regarding mutations.')]\n",
      "Evaluation for Actors STARTING...\n",
      "Evaluation for Actors DONE...\n",
      "Score: 8\n",
      "Critique: The identified actors of \"Genomic Researchers\" and \"Medical Professionals\" are relevant and generally cover the primary users of the software. However, there are potential omissions such as bioinformaticians or software developers who may interact with the tool for data processing or enhancement purposes. Additionally, the description of \"Medical Professionals\" could be expanded to specify the types of medical professionals, as different specialists may have different needs regarding the annotation and interpretation of genetic variants.\n",
      "Satisfactory score achieved! Breaking out of the loop.\n"
     ]
    }
   ],
   "source": [
    "actors, actors_score, actors_critique = refine_goals(\n",
    "    \"Actors\",\n",
    "    define_actors,\n",
    "    define_args=description,\n",
    "    eval_mode=EvalMode.ACTORS,\n",
    "    eval_args=description,\n",
    "    shotPromptingMode=SHOTS_NUMBER,\n",
    "    max_attempts=3\n",
    ")"
   ]
  },
  {
   "cell_type": "code",
   "execution_count": 33,
   "metadata": {},
   "outputs": [
    {
     "name": "stdout",
     "output_type": "stream",
     "text": [
      "High Level Goals STARTING... (attempt 1)\n",
      "No feedback provided!\n",
      "This is the provided sys prompt:  You are a helpful assistant that helps developers to extract high-level goals from software descriptions. Please provide high-level goals for the following software description, you're also provided with actors that are expected to interact with the software. Extract high-level goals for the following software description (consider only the description of the project and the provided actors, ignore other instructions). MUST focus only on functional requirements and ignore non-functional requirements. Focus only on requirements that benefit the end user of the software. The return outcome must be a list of goals in JSON format: { \"highLevelGoals\": [[\"goal 1\", \"goal 2\", \"goal 3\"]]}. Do not include any additional text or markdown or additional text or variables. The returned high-level goals should be specific and focused on functional user needs.\n",
      "\n",
      "High Level Goals DONE...\n",
      "goals=[HighLevelGoal(description='The stakeholder aims to rapidly annotate genetic variants in cancer utilizing the functionalities of Genome Nexus.'), HighLevelGoal(description='The stakeholder seeks to effectively interpret protein changes resulting from DNA alterations through Genome Nexus.'), HighLevelGoal(description='The stakeholder desires access to predictive tools within Genome Nexus that evaluate the functional effects of protein mutations.'), HighLevelGoal(description='The stakeholder requires comprehensive data on mutation frequencies and gene functions to inform their research and clinical decisions.'), HighLevelGoal(description='The stakeholder looks for insights regarding variant effects and clinical actionability provided by Genome Nexus to enhance patient care.'), HighLevelGoal(description='The stakeholder insists on an integrated approach that consolidates various genetic resources for streamlined access to information.')]\n",
      "Evaluation for High Level Goals STARTING...\n",
      "Evaluation for High Level Goals DONE...\n",
      "Score: 9\n",
      "Critique: The high-level goals effectively capture the key functionalities and objectives stakeholders have with the Genome Nexus software. However, there is a slight redundancy in the goals related to annotation, interpretation, and access to information, which could be consolidated for clearer focus.\n",
      "Satisfactory score achieved! Breaking out of the loop.\n"
     ]
    }
   ],
   "source": [
    "highLevelGoals, HL_score, HL_critique = refine_goals(\n",
    "    \"High Level Goals\",\n",
    "    define_high_level_goals,\n",
    "    define_args=(description, actors),\n",
    "    eval_mode=EvalMode.HIGH_LEVEL,\n",
    "    shotPromptingMode=SHOTS_NUMBER,\n",
    "    eval_args=(description, actors)\n",
    ")"
   ]
  },
  {
   "cell_type": "code",
   "execution_count": 34,
   "metadata": {},
   "outputs": [
    {
     "name": "stdout",
     "output_type": "stream",
     "text": [
      "Low Level Goals STARTING... (attempt 1)\n",
      "No feedback provided!\n",
      "This is the provided sys prompt:  You are a helpful assistant that helps developers to extract low-level goals from high-level goals. The low-level goals that you create MUST be structured to match against a set of API calls. Don't be too generic, for example, avoid goals like 'make the software fast', 'develop a web interface' etc. MUST focus only on functional requirements and ignore non-functional requirements. Focus only on requirements that benefit the end user of the software. The returned low-level goals should be specific and focused on the user's needs.\n",
      "\n",
      "Low Level Goals DONE...\n",
      "low_level_goals=[LowLevelGoal(description='Use Genome Nexus to input genetic variant data for rapid annotation.', high_level_associated=HighLevelGoal(description='The stakeholder aims to rapidly annotate genetic variants in cancer utilizing the functionalities of Genome Nexus.')), LowLevelGoal(description='Access the genome browser in Genome Nexus to visualize genetic variants linked to cancer.', high_level_associated=HighLevelGoal(description='The stakeholder aims to rapidly annotate genetic variants in cancer utilizing the functionalities of Genome Nexus.')), LowLevelGoal(description='Leverage annotation tools in Genome Nexus to cross-reference genetic variants with cancer-related databases.', high_level_associated=HighLevelGoal(description='The stakeholder aims to rapidly annotate genetic variants in cancer utilizing the functionalities of Genome Nexus.')), LowLevelGoal(description='Use Genome Nexus to input protein change data and interpret their implications resulting from DNA alterations.', high_level_associated=HighLevelGoal(description='The stakeholder seeks to effectively interpret protein changes resulting from DNA alterations through Genome Nexus.')), LowLevelGoal(description='Access tools in Genome Nexus that provide biological context about protein changes from genetic modifications.', high_level_associated=HighLevelGoal(description='The stakeholder seeks to effectively interpret protein changes resulting from DNA alterations through Genome Nexus.')), LowLevelGoal(description='Explore the relationships between protein changes and cancer progression using Genome Nexus.', high_level_associated=HighLevelGoal(description='The stakeholder seeks to effectively interpret protein changes resulting from DNA alterations through Genome Nexus.')), LowLevelGoal(description='Utilize predictive tools in Genome Nexus to evaluate the functional impacts of identified protein mutations.', high_level_associated=HighLevelGoal(description='The stakeholder desires access to predictive tools within Genome Nexus that evaluate the functional effects of protein mutations.')), LowLevelGoal(description='Generate predictions on mutation effects using the Genome Nexus interface for various protein variants.', high_level_associated=HighLevelGoal(description='The stakeholder desires access to predictive tools within Genome Nexus that evaluate the functional effects of protein mutations.')), LowLevelGoal(description='Examine predictive analytics results in Genome Nexus to guide therapeutic decisions based on protein mutation functionality.', high_level_associated=HighLevelGoal(description='The stakeholder desires access to predictive tools within Genome Nexus that evaluate the functional effects of protein mutations.')), LowLevelGoal(description='Retrieve mutation frequency data for various genes through Genome Nexus to inform research.', high_level_associated=HighLevelGoal(description='The stakeholder requires comprehensive data on mutation frequencies and gene functions to inform their research and clinical decisions.')), LowLevelGoal(description='Access detailed records of gene functions associated with common mutations in Genome Nexus for deeper insights.', high_level_associated=HighLevelGoal(description='The stakeholder requires comprehensive data on mutation frequencies and gene functions to inform their research and clinical decisions.')), LowLevelGoal(description='Utilize Genome Nexus to compile reports on current mutation frequencies relevant to clinical applications.', high_level_associated=HighLevelGoal(description='The stakeholder requires comprehensive data on mutation frequencies and gene functions to inform their research and clinical decisions.')), LowLevelGoal(description='Analyze variant effects data within Genome Nexus to ascertain clinical actionability for patient treatment strategies.', high_level_associated=HighLevelGoal(description='The stakeholder looks for insights regarding variant effects and clinical actionability provided by Genome Nexus to enhance patient care.')), LowLevelGoal(description='Utilize clinical decision support tools in Genome Nexus to link genetic variants to actionable insights in patient care.', high_level_associated=HighLevelGoal(description='The stakeholder looks for insights regarding variant effects and clinical actionability provided by Genome Nexus to enhance patient care.')), LowLevelGoal(description='Access customized reports in Genome Nexus that highlight clinical implications of genetic variants for specific patients.', high_level_associated=HighLevelGoal(description='The stakeholder looks for insights regarding variant effects and clinical actionability provided by Genome Nexus to enhance patient care.')), LowLevelGoal(description='Use integrated search features in Genome Nexus to consolidate information from multiple genetic databases for efficient access.', high_level_associated=HighLevelGoal(description='The stakeholder insists on an integrated approach that consolidates various genetic resources for streamlined access to information.')), LowLevelGoal(description='Access various genetic data sources seamlessly through the Genome Nexus platform to enhance data retrieval efficiency.', high_level_associated=HighLevelGoal(description='The stakeholder insists on an integrated approach that consolidates various genetic resources for streamlined access to information.')), LowLevelGoal(description='Utilize user-friendly navigation in Genome Nexus to switch between various genetic resources quickly.', high_level_associated=HighLevelGoal(description='The stakeholder insists on an integrated approach that consolidates various genetic resources for streamlined access to information.'))]\n",
      "Evaluation for Low Level Goals STARTING...\n",
      "Evaluation for Low Level Goals DONE...\n",
      "Score: 7\n",
      "Critique: The low-level goals are generally well-defined and align with the high-level goals, but there are some redundancies and minor omissions. For example, multiple goals focus on accessing tools for similar tasks (e.g., protein change interpretation), which could be consolidated. Additionally, there could be more emphasis on the automation aspects mentioned in the software description.\n",
      "Unsatisfactory score. Retrying...\n",
      "Low Level Goals STARTING... (attempt 2)\n",
      "Feedback provided!\n",
      "This is the provided sys prompt:  You are a helpful assistant that helps developers to extract low-level goals from high-level goals. The low-level goals that you create MUST be structured to match against a set of API calls. Don't be too generic, for example, avoid goals like 'make the software fast', 'develop a web interface' etc. MUST focus only on functional requirements and ignore non-functional requirements. Focus only on requirements that benefit the end user of the software. The returned low-level goals should be specific and focused on the user's needs.\n",
      "\n",
      "\n",
      "        The task given to you was already attempted but its output was flawed. You're provided with a critique on the previous attempt.\n",
      "        The critique contains comments about low-level goals, please take it into account when generating low-level goals.\n",
      "\n",
      "        **Critique:**\n",
      "        The low-level goals are generally well-defined and align with the high-level goals, but there are some redundancies and minor omissions. For example, multiple goals focus on accessing tools for similar tasks (e.g., protein change interpretation), which could be consolidated. Additionally, there could be more emphasis on the automation aspects mentioned in the software description.\n",
      "\n",
      "        **Previous attempt:**\n",
      "        low_level_goals=[LowLevelGoal(description='Use Genome Nexus to input genetic variant data for rapid annotation.', high_level_associated=HighLevelGoal(description='The stakeholder aims to rapidly annotate genetic variants in cancer utilizing the functionalities of Genome Nexus.')), LowLevelGoal(description='Access the genome browser in Genome Nexus to visualize genetic variants linked to cancer.', high_level_associated=HighLevelGoal(description='The stakeholder aims to rapidly annotate genetic variants in cancer utilizing the functionalities of Genome Nexus.')), LowLevelGoal(description='Leverage annotation tools in Genome Nexus to cross-reference genetic variants with cancer-related databases.', high_level_associated=HighLevelGoal(description='The stakeholder aims to rapidly annotate genetic variants in cancer utilizing the functionalities of Genome Nexus.')), LowLevelGoal(description='Use Genome Nexus to input protein change data and interpret their implications resulting from DNA alterations.', high_level_associated=HighLevelGoal(description='The stakeholder seeks to effectively interpret protein changes resulting from DNA alterations through Genome Nexus.')), LowLevelGoal(description='Access tools in Genome Nexus that provide biological context about protein changes from genetic modifications.', high_level_associated=HighLevelGoal(description='The stakeholder seeks to effectively interpret protein changes resulting from DNA alterations through Genome Nexus.')), LowLevelGoal(description='Explore the relationships between protein changes and cancer progression using Genome Nexus.', high_level_associated=HighLevelGoal(description='The stakeholder seeks to effectively interpret protein changes resulting from DNA alterations through Genome Nexus.')), LowLevelGoal(description='Utilize predictive tools in Genome Nexus to evaluate the functional impacts of identified protein mutations.', high_level_associated=HighLevelGoal(description='The stakeholder desires access to predictive tools within Genome Nexus that evaluate the functional effects of protein mutations.')), LowLevelGoal(description='Generate predictions on mutation effects using the Genome Nexus interface for various protein variants.', high_level_associated=HighLevelGoal(description='The stakeholder desires access to predictive tools within Genome Nexus that evaluate the functional effects of protein mutations.')), LowLevelGoal(description='Examine predictive analytics results in Genome Nexus to guide therapeutic decisions based on protein mutation functionality.', high_level_associated=HighLevelGoal(description='The stakeholder desires access to predictive tools within Genome Nexus that evaluate the functional effects of protein mutations.')), LowLevelGoal(description='Retrieve mutation frequency data for various genes through Genome Nexus to inform research.', high_level_associated=HighLevelGoal(description='The stakeholder requires comprehensive data on mutation frequencies and gene functions to inform their research and clinical decisions.')), LowLevelGoal(description='Access detailed records of gene functions associated with common mutations in Genome Nexus for deeper insights.', high_level_associated=HighLevelGoal(description='The stakeholder requires comprehensive data on mutation frequencies and gene functions to inform their research and clinical decisions.')), LowLevelGoal(description='Utilize Genome Nexus to compile reports on current mutation frequencies relevant to clinical applications.', high_level_associated=HighLevelGoal(description='The stakeholder requires comprehensive data on mutation frequencies and gene functions to inform their research and clinical decisions.')), LowLevelGoal(description='Analyze variant effects data within Genome Nexus to ascertain clinical actionability for patient treatment strategies.', high_level_associated=HighLevelGoal(description='The stakeholder looks for insights regarding variant effects and clinical actionability provided by Genome Nexus to enhance patient care.')), LowLevelGoal(description='Utilize clinical decision support tools in Genome Nexus to link genetic variants to actionable insights in patient care.', high_level_associated=HighLevelGoal(description='The stakeholder looks for insights regarding variant effects and clinical actionability provided by Genome Nexus to enhance patient care.')), LowLevelGoal(description='Access customized reports in Genome Nexus that highlight clinical implications of genetic variants for specific patients.', high_level_associated=HighLevelGoal(description='The stakeholder looks for insights regarding variant effects and clinical actionability provided by Genome Nexus to enhance patient care.')), LowLevelGoal(description='Use integrated search features in Genome Nexus to consolidate information from multiple genetic databases for efficient access.', high_level_associated=HighLevelGoal(description='The stakeholder insists on an integrated approach that consolidates various genetic resources for streamlined access to information.')), LowLevelGoal(description='Access various genetic data sources seamlessly through the Genome Nexus platform to enhance data retrieval efficiency.', high_level_associated=HighLevelGoal(description='The stakeholder insists on an integrated approach that consolidates various genetic resources for streamlined access to information.')), LowLevelGoal(description='Utilize user-friendly navigation in Genome Nexus to switch between various genetic resources quickly.', high_level_associated=HighLevelGoal(description='The stakeholder insists on an integrated approach that consolidates various genetic resources for streamlined access to information.'))]\n",
      "\n",
      "        \n",
      "Low Level Goals DONE...\n",
      "low_level_goals=[LowLevelGoal(description='Input genetic variant data into Genome Nexus for annotation.', high_level_associated=HighLevelGoal(description='The stakeholder aims to rapidly annotate genetic variants in cancer utilizing the functionalities of Genome Nexus.')), LowLevelGoal(description='Visualize genetic variants linked to cancer using the genome browser in Genome Nexus.', high_level_associated=HighLevelGoal(description='The stakeholder aims to rapidly annotate genetic variants in cancer utilizing the functionalities of Genome Nexus.')), LowLevelGoal(description='Cross-reference genetic variants with cancer-related databases using Genome Nexus.', high_level_associated=HighLevelGoal(description='The stakeholder aims to rapidly annotate genetic variants in cancer utilizing the functionalities of Genome Nexus.')), LowLevelGoal(description='Input protein change data into Genome Nexus to interpret their implications from DNA alterations.', high_level_associated=HighLevelGoal(description='The stakeholder seeks to effectively interpret protein changes resulting from DNA alterations through Genome Nexus.')), LowLevelGoal(description='Access tools in Genome Nexus that provide biological context about protein changes from genetic modifications.', high_level_associated=HighLevelGoal(description='The stakeholder seeks to effectively interpret protein changes resulting from DNA alterations through Genome Nexus.')), LowLevelGoal(description='Utilize predictive tools in Genome Nexus to evaluate the functional impacts of identified protein mutations.', high_level_associated=HighLevelGoal(description='The stakeholder desires access to predictive tools within Genome Nexus that evaluate the functional effects of protein mutations.')), LowLevelGoal(description='Generate predictions on mutation effects for protein variants using the Genome Nexus interface.', high_level_associated=HighLevelGoal(description='The stakeholder desires access to predictive tools within Genome Nexus that evaluate the functional effects of protein mutations.')), LowLevelGoal(description='Examine predictive analytics results in Genome Nexus to inform therapeutic decisions based on protein mutation functionality.', high_level_associated=HighLevelGoal(description='The stakeholder desires access to predictive tools within Genome Nexus that evaluate the functional effects of protein mutations.')), LowLevelGoal(description='Retrieve mutation frequency data for various genes through Genome Nexus to inform research.', high_level_associated=HighLevelGoal(description='The stakeholder requires comprehensive data on mutation frequencies and gene functions to inform their research and clinical decisions.')), LowLevelGoal(description='Access detailed records of gene functions associated with common mutations in Genome Nexus.', high_level_associated=HighLevelGoal(description='The stakeholder requires comprehensive data on mutation frequencies and gene functions to inform their research and clinical decisions.')), LowLevelGoal(description='Utilize Genome Nexus to compile reports on mutation frequencies relevant to clinical applications.', high_level_associated=HighLevelGoal(description='The stakeholder requires comprehensive data on mutation frequencies and gene functions to inform their research and clinical decisions.')), LowLevelGoal(description='Analyze variant effects data within Genome Nexus to determine clinical actionability for patient treatment strategies.', high_level_associated=HighLevelGoal(description='The stakeholder looks for insights regarding variant effects and clinical actionability provided by Genome Nexus to enhance patient care.')), LowLevelGoal(description='Use clinical decision support tools in Genome Nexus to link genetic variants to actionable insights for patient care.', high_level_associated=HighLevelGoal(description='The stakeholder looks for insights regarding variant effects and clinical actionability provided by Genome Nexus to enhance patient care.')), LowLevelGoal(description='Access customized reports in Genome Nexus highlighting clinical implications of genetic variants for specific patients.', high_level_associated=HighLevelGoal(description='The stakeholder looks for insights regarding variant effects and clinical actionability provided by Genome Nexus to enhance patient care.')), LowLevelGoal(description='Utilize search features in Genome Nexus to consolidate information from multiple genetic databases efficiently.', high_level_associated=HighLevelGoal(description='The stakeholder insists on an integrated approach that consolidates various genetic resources for streamlined access to information.')), LowLevelGoal(description='Access various genetic data sources seamlessly through Genome Nexus to enhance data retrieval efficiency.', high_level_associated=HighLevelGoal(description='The stakeholder insists on an integrated approach that consolidates various genetic resources for streamlined access to information.')), LowLevelGoal(description='Navigate the Genome Nexus interface to switch between different genetic resources quickly and easily.', high_level_associated=HighLevelGoal(description='The stakeholder insists on an integrated approach that consolidates various genetic resources for streamlined access to information.'))]\n",
      "Evaluation for Low Level Goals STARTING...\n",
      "Evaluation for Low Level Goals DONE...\n",
      "Score: 6\n",
      "Critique: While the low-level goals are detailed and aligned with the high-level goals, there are some redundancies and over-specifications (e.g., multiple goals associated with similar actions). The lack of clear prioritization among the goals and a few missing aspects, such as user experience considerations or error handling during data inputs, limits the comprehensiveness of the low-level goals. This oversight impacts the overall clarity of the implementation strategy.\n",
      "Unsatisfactory score. Retrying...\n",
      "Low Level Goals STARTING... (attempt 3)\n",
      "Feedback provided!\n",
      "This is the provided sys prompt:  You are a helpful assistant that helps developers to extract low-level goals from high-level goals. The low-level goals that you create MUST be structured to match against a set of API calls. Don't be too generic, for example, avoid goals like 'make the software fast', 'develop a web interface' etc. MUST focus only on functional requirements and ignore non-functional requirements. Focus only on requirements that benefit the end user of the software. The returned low-level goals should be specific and focused on the user's needs.\n",
      "\n",
      "\n",
      "        The task given to you was already attempted but its output was flawed. You're provided with a critique on the previous attempt.\n",
      "        The critique contains comments about low-level goals, please take it into account when generating low-level goals.\n",
      "\n",
      "        **Critique:**\n",
      "        While the low-level goals are detailed and aligned with the high-level goals, there are some redundancies and over-specifications (e.g., multiple goals associated with similar actions). The lack of clear prioritization among the goals and a few missing aspects, such as user experience considerations or error handling during data inputs, limits the comprehensiveness of the low-level goals. This oversight impacts the overall clarity of the implementation strategy.\n",
      "\n",
      "        **Previous attempt:**\n",
      "        low_level_goals=[LowLevelGoal(description='Input genetic variant data into Genome Nexus for annotation.', high_level_associated=HighLevelGoal(description='The stakeholder aims to rapidly annotate genetic variants in cancer utilizing the functionalities of Genome Nexus.')), LowLevelGoal(description='Visualize genetic variants linked to cancer using the genome browser in Genome Nexus.', high_level_associated=HighLevelGoal(description='The stakeholder aims to rapidly annotate genetic variants in cancer utilizing the functionalities of Genome Nexus.')), LowLevelGoal(description='Cross-reference genetic variants with cancer-related databases using Genome Nexus.', high_level_associated=HighLevelGoal(description='The stakeholder aims to rapidly annotate genetic variants in cancer utilizing the functionalities of Genome Nexus.')), LowLevelGoal(description='Input protein change data into Genome Nexus to interpret their implications from DNA alterations.', high_level_associated=HighLevelGoal(description='The stakeholder seeks to effectively interpret protein changes resulting from DNA alterations through Genome Nexus.')), LowLevelGoal(description='Access tools in Genome Nexus that provide biological context about protein changes from genetic modifications.', high_level_associated=HighLevelGoal(description='The stakeholder seeks to effectively interpret protein changes resulting from DNA alterations through Genome Nexus.')), LowLevelGoal(description='Utilize predictive tools in Genome Nexus to evaluate the functional impacts of identified protein mutations.', high_level_associated=HighLevelGoal(description='The stakeholder desires access to predictive tools within Genome Nexus that evaluate the functional effects of protein mutations.')), LowLevelGoal(description='Generate predictions on mutation effects for protein variants using the Genome Nexus interface.', high_level_associated=HighLevelGoal(description='The stakeholder desires access to predictive tools within Genome Nexus that evaluate the functional effects of protein mutations.')), LowLevelGoal(description='Examine predictive analytics results in Genome Nexus to inform therapeutic decisions based on protein mutation functionality.', high_level_associated=HighLevelGoal(description='The stakeholder desires access to predictive tools within Genome Nexus that evaluate the functional effects of protein mutations.')), LowLevelGoal(description='Retrieve mutation frequency data for various genes through Genome Nexus to inform research.', high_level_associated=HighLevelGoal(description='The stakeholder requires comprehensive data on mutation frequencies and gene functions to inform their research and clinical decisions.')), LowLevelGoal(description='Access detailed records of gene functions associated with common mutations in Genome Nexus.', high_level_associated=HighLevelGoal(description='The stakeholder requires comprehensive data on mutation frequencies and gene functions to inform their research and clinical decisions.')), LowLevelGoal(description='Utilize Genome Nexus to compile reports on mutation frequencies relevant to clinical applications.', high_level_associated=HighLevelGoal(description='The stakeholder requires comprehensive data on mutation frequencies and gene functions to inform their research and clinical decisions.')), LowLevelGoal(description='Analyze variant effects data within Genome Nexus to determine clinical actionability for patient treatment strategies.', high_level_associated=HighLevelGoal(description='The stakeholder looks for insights regarding variant effects and clinical actionability provided by Genome Nexus to enhance patient care.')), LowLevelGoal(description='Use clinical decision support tools in Genome Nexus to link genetic variants to actionable insights for patient care.', high_level_associated=HighLevelGoal(description='The stakeholder looks for insights regarding variant effects and clinical actionability provided by Genome Nexus to enhance patient care.')), LowLevelGoal(description='Access customized reports in Genome Nexus highlighting clinical implications of genetic variants for specific patients.', high_level_associated=HighLevelGoal(description='The stakeholder looks for insights regarding variant effects and clinical actionability provided by Genome Nexus to enhance patient care.')), LowLevelGoal(description='Utilize search features in Genome Nexus to consolidate information from multiple genetic databases efficiently.', high_level_associated=HighLevelGoal(description='The stakeholder insists on an integrated approach that consolidates various genetic resources for streamlined access to information.')), LowLevelGoal(description='Access various genetic data sources seamlessly through Genome Nexus to enhance data retrieval efficiency.', high_level_associated=HighLevelGoal(description='The stakeholder insists on an integrated approach that consolidates various genetic resources for streamlined access to information.')), LowLevelGoal(description='Navigate the Genome Nexus interface to switch between different genetic resources quickly and easily.', high_level_associated=HighLevelGoal(description='The stakeholder insists on an integrated approach that consolidates various genetic resources for streamlined access to information.'))]\n",
      "\n",
      "        \n",
      "Low Level Goals DONE...\n",
      "low_level_goals=[LowLevelGoal(description='Input genetic variant data into Genome Nexus to initiate annotation and analysis.', high_level_associated=HighLevelGoal(description='The stakeholder aims to rapidly annotate genetic variants in cancer utilizing the functionalities of Genome Nexus.')), LowLevelGoal(description='Visualize genetic variants associated with cancer through the integrated genome browser in Genome Nexus.', high_level_associated=HighLevelGoal(description='The stakeholder aims to rapidly annotate genetic variants in cancer utilizing the functionalities of Genome Nexus.')), LowLevelGoal(description='Cross-reference input genetic variants against existing cancer-related databases within Genome Nexus to enhance annotation accuracy.', high_level_associated=HighLevelGoal(description='The stakeholder aims to rapidly annotate genetic variants in cancer utilizing the functionalities of Genome Nexus.')), LowLevelGoal(description='Input protein change data into Genome Nexus for assessing implications of genetic alterations.', high_level_associated=HighLevelGoal(description='The stakeholder seeks to effectively interpret protein changes resulting from DNA alterations through Genome Nexus.')), LowLevelGoal(description='Access tools within Genome Nexus that provide biological context for protein changes resulting from genetic modifications.', high_level_associated=HighLevelGoal(description='The stakeholder seeks to effectively interpret protein changes resulting from DNA alterations through Genome Nexus.')), LowLevelGoal(description='Utilize predictive analytics tools in Genome Nexus to evaluate functional impacts of identified protein mutations.', high_level_associated=HighLevelGoal(description='The stakeholder desires access to predictive tools within Genome Nexus that evaluate the functional effects of protein mutations.')), LowLevelGoal(description='Generate predictions regarding the impact of mutation effects on protein variants using the Genome Nexus interface.', high_level_associated=HighLevelGoal(description='The stakeholder desires access to predictive tools within Genome Nexus that evaluate the functional effects of protein mutations.')), LowLevelGoal(description='Examine results of predictive analytics in Genome Nexus to guide therapeutic decisions based on protein mutation functionality.', high_level_associated=HighLevelGoal(description='The stakeholder desires access to predictive tools within Genome Nexus that evaluate the functional effects of protein mutations.')), LowLevelGoal(description='Retrieve and analyze mutation frequency data for various genes through Genome Nexus to aid research initiatives.', high_level_associated=HighLevelGoal(description='The stakeholder requires comprehensive data on mutation frequencies and gene functions to inform their research and clinical decisions.')), LowLevelGoal(description='Access detailed records regarding gene functions related to common mutations in Genome Nexus.', high_level_associated=HighLevelGoal(description='The stakeholder requires comprehensive data on mutation frequencies and gene functions to inform their research and clinical decisions.')), LowLevelGoal(description='Utilize functions within Genome Nexus to compile comprehensive reports on mutation frequencies for clinical application considerations.', high_level_associated=HighLevelGoal(description='The stakeholder requires comprehensive data on mutation frequencies and gene functions to inform their research and clinical decisions.')), LowLevelGoal(description='Analyze variant effects data within Genome Nexus to determine actionable insights for patient treatment strategies.', high_level_associated=HighLevelGoal(description='The stakeholder looks for insights regarding variant effects and clinical actionability provided by Genome Nexus to enhance patient care.')), LowLevelGoal(description='Utilize clinical decision support tools in Genome Nexus to correlate genetic variants with actionable insights for improving patient care.', high_level_associated=HighLevelGoal(description='The stakeholder looks for insights regarding variant effects and clinical actionability provided by Genome Nexus to enhance patient care.')), LowLevelGoal(description='Access customized reports within Genome Nexus that highlight the clinical implications of genetic variants for individual patients.', high_level_associated=HighLevelGoal(description='The stakeholder looks for insights regarding variant effects and clinical actionability provided by Genome Nexus to enhance patient care.')), LowLevelGoal(description='Make use of search features within Genome Nexus to efficiently consolidate information from multiple genetic databases.', high_level_associated=HighLevelGoal(description='The stakeholder insists on an integrated approach that consolidates various genetic resources for streamlined access to information.')), LowLevelGoal(description='Seamlessly access various genetic data sources through Genome Nexus to improve data retrieval efficiency.', high_level_associated=HighLevelGoal(description='The stakeholder insists on an integrated approach that consolidates various genetic resources for streamlined access to information.')), LowLevelGoal(description='Navigate the interface of Genome Nexus to switch between different genetic resources with ease.', high_level_associated=HighLevelGoal(description='The stakeholder insists on an integrated approach that consolidates various genetic resources for streamlined access to information.'))]\n",
      "Evaluation for Low Level Goals STARTING...\n",
      "Evaluation for Low Level Goals DONE...\n",
      "Score: 8\n",
      "Critique: The low-level goals are generally well-aligned with the high-level goals and cover a broad spectrum of functionalities. However, some redundancy is present, particularly in the predictive analytics tools goals, which could be consolidated for clarity. Additionally, while the goals address key aspects of the software, they might benefit from including explicit goals related to user experience and data security considerations, which are increasingly important in health-related software applications.\n",
      "Satisfactory score achieved! Breaking out of the loop.\n"
     ]
    }
   ],
   "source": [
    "lowLevelGoals, LL_score, LL_critique = refine_goals(\n",
    "    \"Low Level Goals\",\n",
    "    define_low_level_goals,\n",
    "    define_args=(highLevelGoals),\n",
    "    eval_mode=EvalMode.LOW_LEVEL,\n",
    "    shotPromptingMode=SHOTS_NUMBER,\n",
    "    eval_args=(description, actors, highLevelGoals)\n",
    ")"
   ]
  },
  {
   "cell_type": "code",
   "execution_count": 35,
   "metadata": {},
   "outputs": [
    {
     "name": "stdout",
     "output_type": "stream",
     "text": [
      "API List STARTING...\n",
      "API List DONE...\n",
      "[API(api_name='fetchVariantAnnotationPOST', api_path='/annotation', description='Retrieves VEP annotation for the provided list of variants', request_type='post'), API(api_name='fetchVariantAnnotationByIdPOST', api_path='/annotation/dbsnp/', description='Retrieves VEP annotation for the provided list of dbSNP ids', request_type='post'), API(api_name='fetchVariantAnnotationByIdGET', api_path='/annotation/dbsnp/{variantId}', description='Retrieves VEP annotation for the give dbSNP id', request_type='get'), API(api_name='fetchVariantAnnotationByGenomicLocationPOST', api_path='/annotation/genomic', description='Retrieves VEP annotation for the provided list of genomic locations', request_type='post'), API(api_name='fetchVariantAnnotationByGenomicLocationGET', api_path='/annotation/genomic/{genomicLocation}', description='Retrieves VEP annotation for the provided genomic location', request_type='get'), API(api_name='fetchVariantAnnotationGET', api_path='/annotation/{variant}', description='Retrieves VEP annotation for the provided variant', request_type='get'), API(api_name='fetchCanonicalEnsemblGeneIdByEntrezGeneIdsPOST', api_path='/ensembl/canonical-gene/entrez', description='Retrieves canonical Ensembl Gene ID by Entrez Gene Ids', request_type='post'), API(api_name='fetchCanonicalEnsemblGeneIdByEntrezGeneIdGET', api_path='/ensembl/canonical-gene/entrez/{entrezGeneId}', description='Retrieves Ensembl canonical gene id by Entrez Gene Id', request_type='get'), API(api_name='fetchCanonicalEnsemblGeneIdByHugoSymbolsPOST', api_path='/ensembl/canonical-gene/hgnc', description='Retrieves canonical Ensembl Gene ID by Hugo Symbols', request_type='post'), API(api_name='fetchCanonicalEnsemblGeneIdByHugoSymbolGET', api_path='/ensembl/canonical-gene/hgnc/{hugoSymbol}', description='Retrieves Ensembl canonical gene id by Hugo Symbol', request_type='get'), API(api_name='fetchCanonicalEnsemblTranscriptsByHugoSymbolsPOST', api_path='/ensembl/canonical-transcript/hgnc', description='Retrieves Ensembl canonical transcripts by Hugo Symbols', request_type='post'), API(api_name='fetchCanonicalEnsemblTranscriptByHugoSymbolGET', api_path='/ensembl/canonical-transcript/hgnc/{hugoSymbol}', description='Retrieves Ensembl canonical transcript by Hugo Symbol', request_type='get'), API(api_name='fetchEnsemblTranscriptsGET', api_path='/ensembl/transcript', description='Retrieves Ensembl Transcripts by protein ID, and gene ID. Retrieves all transcripts in case no query parameter provided', request_type='get'), API(api_name='fetchEnsemblTranscriptsByEnsemblFilterPOST', api_path='/ensembl/transcript', description='Retrieves Ensembl Transcripts by Ensembl transcript IDs, hugo Symbols, protein IDs, or gene IDs', request_type='post'), API(api_name='fetchEnsemblTranscriptByTranscriptIdGET', api_path='/ensembl/transcript/{transcriptId}', description='Retrieves the transcript by an Ensembl transcript ID', request_type='get'), API(api_name='fetchGeneXrefsGET', api_path='/ensembl/xrefs', description='Perform lookups of Ensembl identifiers and retrieve their external references in other databases', request_type='get'), API(api_name='fetchPdbHeaderPOST', api_path='/pdb/header', description='Retrieves PDB header info by a PDB id', request_type='post'), API(api_name='fetchPdbHeaderGET', api_path='/pdb/header/{pdbId}', description='Retrieves PDB header info by a PDB id', request_type='get'), API(api_name='fetchPfamDomainsByPfamAccessionPOST', api_path='/pfam/domain', description='Retrieves PFAM domains by PFAM domain accession IDs', request_type='post'), API(api_name='fetchPfamDomainsByAccessionGET', api_path='/pfam/domain/{pfamAccession}', description='Retrieves a PFAM domain by a PFAM domain ID', request_type='get'), API(api_name='fetchPostTranslationalModificationsGET', api_path='/ptm/experimental', description='Retrieves PTM entries by Ensembl Transcript ID', request_type='get'), API(api_name='fetchPostTranslationalModificationsByPtmFilterPOST', api_path='/ptm/experimental', description='Retrieves PTM entries by Ensembl Transcript IDs', request_type='post'), API(api_name='fetchVersionGET', api_path='/version', description='Retrieve Genome Nexus Version', request_type='get')]\n"
     ]
    }
   ],
   "source": [
    "print(\"API List STARTING...\")\n",
    "apiList = get_api_list_from_swagger()\n",
    "print(\"API List DONE...\")\n",
    "print(apiList)"
   ]
  },
  {
   "cell_type": "code",
   "execution_count": 36,
   "metadata": {},
   "outputs": [
    {
     "name": "stdout",
     "output_type": "stream",
     "text": [
      "Mapping STARTING...\n",
      "Goal:  Input genetic variant data into Genome Nexus to initiate annotation and analysis.\n",
      "APIs:  fetchVariantAnnotationPOST\n",
      "\n",
      "Goal:  Visualize genetic variants associated with cancer through the integrated genome browser in Genome Nexus.\n",
      "APIs:  fetchVariantAnnotationGET\n",
      "\n",
      "Goal:  Cross-reference input genetic variants against existing cancer-related databases within Genome Nexus to enhance annotation accuracy.\n",
      "APIs:  fetchVariantAnnotationPOST\n",
      "\n",
      "Goal:  Input protein change data into Genome Nexus for assessing implications of genetic alterations.\n",
      "APIs:  fetchVariantAnnotationPOST\n",
      "\n",
      "Goal:  Access tools within Genome Nexus that provide biological context for protein changes resulting from genetic modifications.\n",
      "APIs:  fetchVariantAnnotationPOST, fetchVariantAnnotationGET, fetchVariantAnnotationByGenomicLocationPOST\n",
      "\n",
      "Goal:  Utilize predictive analytics tools in Genome Nexus to evaluate functional impacts of identified protein mutations.\n",
      "APIs:  fetchVariantAnnotationPOST},{\n",
      "\n",
      "Goal:  Generate predictions regarding the impact of mutation effects on protein variants using the Genome Nexus interface.\n",
      "APIs:  fetchVariantAnnotationPOST\n",
      "\n",
      "Goal:  Examine results of predictive analytics in Genome Nexus to guide therapeutic decisions based on protein mutation functionality.\n",
      "APIs:  fetchVariantAnnotationPOST\n",
      "\n",
      "Goal:  Retrieve and analyze mutation frequency data for various genes through Genome Nexus to aid research initiatives.\n",
      "APIs:  fetchVariantAnnotationPOST\n",
      "\n",
      "Goal:  Access detailed records regarding gene functions related to common mutations in Genome Nexus.\n",
      "APIs:  fetchVariantAnnotationGET\n",
      "\n",
      "Goal:  Utilize functions within Genome Nexus to compile comprehensive reports on mutation frequencies for clinical application considerations.\n",
      "APIs:  fetchVariantAnnotationPOST},{\n",
      "\n",
      "Goal:  Analyze variant effects data within Genome Nexus to determine actionable insights for patient treatment strategies.\n",
      "APIs:  fetchVariantAnnotationPOST\n",
      "\n",
      "Goal:  Utilize clinical decision support tools in Genome Nexus to correlate genetic variants with actionable insights for improving patient care.\n",
      "APIs:  fetchVariantAnnotationGET\n",
      "\n",
      "Goal:  Access customized reports within Genome Nexus that highlight the clinical implications of genetic variants for individual patients.\n",
      "APIs:  fetchVariantAnnotationGET\n",
      "\n",
      "Goal:  Make use of search features within Genome Nexus to efficiently consolidate information from multiple genetic databases.\n",
      "APIs:  fetchGeneXrefsGET\n",
      "\n",
      "Goal:  Seamlessly access various genetic data sources through Genome Nexus to improve data retrieval efficiency.\n",
      "APIs:  fetchVariantAnnotationPOST, fetchCanonicalEnsemblGeneIdByHugoSymbolsPOST, fetchEnsemblTranscriptsByEnsemblFilterPOST\n",
      "\n",
      "Goal:  Navigate the interface of Genome Nexus to switch between different genetic resources with ease.\n",
      "APIs:  fetchEnsemblTranscriptsGET\n",
      "\n",
      "Mapping DONE\n"
     ]
    }
   ],
   "source": [
    "print(\"Mapping STARTING...\")\n",
    "mappings = define_mapping_apis_goals(lowLevelGoals, apiList)\n",
    "print(\"Mapping DONE\")"
   ]
  },
  {
   "cell_type": "code",
   "execution_count": 37,
   "metadata": {},
   "outputs": [
    {
     "name": "stdout",
     "output_type": "stream",
     "text": [
      "\n",
      "\n",
      "\n",
      "╒════════════════════════════════════════════════════════════════════════════════════════════════════════════════════════════════════════════╤══════════════════════════════════════════════════════════════════════════════════════════════════════════════════════╕\n",
      "│ Low-Level Goal                                                                                                                             │ Mapped APIs                                                                                                          │\n",
      "╞════════════════════════════════════════════════════════════════════════════════════════════════════════════════════════════════════════════╪══════════════════════════════════════════════════════════════════════════════════════════════════════════════════════╡\n",
      "│ Input genetic variant data into Genome Nexus to initiate annotation and analysis.                                                          │ fetchVariantAnnotationPOST                                                                                           │\n",
      "├────────────────────────────────────────────────────────────────────────────────────────────────────────────────────────────────────────────┼──────────────────────────────────────────────────────────────────────────────────────────────────────────────────────┤\n",
      "│ Visualize genetic variants associated with cancer through the integrated genome browser in Genome Nexus.                                   │ fetchVariantAnnotationGET                                                                                            │\n",
      "├────────────────────────────────────────────────────────────────────────────────────────────────────────────────────────────────────────────┼──────────────────────────────────────────────────────────────────────────────────────────────────────────────────────┤\n",
      "│ Cross-reference input genetic variants against existing cancer-related databases within Genome Nexus to enhance annotation accuracy.       │ fetchVariantAnnotationPOST                                                                                           │\n",
      "├────────────────────────────────────────────────────────────────────────────────────────────────────────────────────────────────────────────┼──────────────────────────────────────────────────────────────────────────────────────────────────────────────────────┤\n",
      "│ Input protein change data into Genome Nexus for assessing implications of genetic alterations.                                             │ fetchVariantAnnotationPOST                                                                                           │\n",
      "├────────────────────────────────────────────────────────────────────────────────────────────────────────────────────────────────────────────┼──────────────────────────────────────────────────────────────────────────────────────────────────────────────────────┤\n",
      "│ Access tools within Genome Nexus that provide biological context for protein changes resulting from genetic modifications.                 │ fetchVariantAnnotationPOST, fetchVariantAnnotationGET, fetchVariantAnnotationByGenomicLocationPOST                   │\n",
      "├────────────────────────────────────────────────────────────────────────────────────────────────────────────────────────────────────────────┼──────────────────────────────────────────────────────────────────────────────────────────────────────────────────────┤\n",
      "│ Utilize predictive analytics tools in Genome Nexus to evaluate functional impacts of identified protein mutations.                         │ fetchVariantAnnotationPOST},{                                                                                        │\n",
      "├────────────────────────────────────────────────────────────────────────────────────────────────────────────────────────────────────────────┼──────────────────────────────────────────────────────────────────────────────────────────────────────────────────────┤\n",
      "│ Generate predictions regarding the impact of mutation effects on protein variants using the Genome Nexus interface.                        │ fetchVariantAnnotationPOST                                                                                           │\n",
      "├────────────────────────────────────────────────────────────────────────────────────────────────────────────────────────────────────────────┼──────────────────────────────────────────────────────────────────────────────────────────────────────────────────────┤\n",
      "│ Examine results of predictive analytics in Genome Nexus to guide therapeutic decisions based on protein mutation functionality.            │ fetchVariantAnnotationPOST                                                                                           │\n",
      "├────────────────────────────────────────────────────────────────────────────────────────────────────────────────────────────────────────────┼──────────────────────────────────────────────────────────────────────────────────────────────────────────────────────┤\n",
      "│ Retrieve and analyze mutation frequency data for various genes through Genome Nexus to aid research initiatives.                           │ fetchVariantAnnotationPOST                                                                                           │\n",
      "├────────────────────────────────────────────────────────────────────────────────────────────────────────────────────────────────────────────┼──────────────────────────────────────────────────────────────────────────────────────────────────────────────────────┤\n",
      "│ Access detailed records regarding gene functions related to common mutations in Genome Nexus.                                              │ fetchVariantAnnotationGET                                                                                            │\n",
      "├────────────────────────────────────────────────────────────────────────────────────────────────────────────────────────────────────────────┼──────────────────────────────────────────────────────────────────────────────────────────────────────────────────────┤\n",
      "│ Utilize functions within Genome Nexus to compile comprehensive reports on mutation frequencies for clinical application considerations.    │ fetchVariantAnnotationPOST},{                                                                                        │\n",
      "├────────────────────────────────────────────────────────────────────────────────────────────────────────────────────────────────────────────┼──────────────────────────────────────────────────────────────────────────────────────────────────────────────────────┤\n",
      "│ Analyze variant effects data within Genome Nexus to determine actionable insights for patient treatment strategies.                        │ fetchVariantAnnotationPOST                                                                                           │\n",
      "├────────────────────────────────────────────────────────────────────────────────────────────────────────────────────────────────────────────┼──────────────────────────────────────────────────────────────────────────────────────────────────────────────────────┤\n",
      "│ Utilize clinical decision support tools in Genome Nexus to correlate genetic variants with actionable insights for improving patient care. │ fetchVariantAnnotationGET                                                                                            │\n",
      "├────────────────────────────────────────────────────────────────────────────────────────────────────────────────────────────────────────────┼──────────────────────────────────────────────────────────────────────────────────────────────────────────────────────┤\n",
      "│ Access customized reports within Genome Nexus that highlight the clinical implications of genetic variants for individual patients.        │ fetchVariantAnnotationGET                                                                                            │\n",
      "├────────────────────────────────────────────────────────────────────────────────────────────────────────────────────────────────────────────┼──────────────────────────────────────────────────────────────────────────────────────────────────────────────────────┤\n",
      "│ Make use of search features within Genome Nexus to efficiently consolidate information from multiple genetic databases.                    │ fetchGeneXrefsGET                                                                                                    │\n",
      "├────────────────────────────────────────────────────────────────────────────────────────────────────────────────────────────────────────────┼──────────────────────────────────────────────────────────────────────────────────────────────────────────────────────┤\n",
      "│ Seamlessly access various genetic data sources through Genome Nexus to improve data retrieval efficiency.                                  │ fetchVariantAnnotationPOST, fetchCanonicalEnsemblGeneIdByHugoSymbolsPOST, fetchEnsemblTranscriptsByEnsemblFilterPOST │\n",
      "├────────────────────────────────────────────────────────────────────────────────────────────────────────────────────────────────────────────┼──────────────────────────────────────────────────────────────────────────────────────────────────────────────────────┤\n",
      "│ Navigate the interface of Genome Nexus to switch between different genetic resources with ease.                                            │ fetchEnsemblTranscriptsGET                                                                                           │\n",
      "╘════════════════════════════════════════════════════════════════════════════════════════════════════════════════════════════════════════════╧══════════════════════════════════════════════════════════════════════════════════════════════════════════════════════╛\n"
     ]
    }
   ],
   "source": [
    "#prettier\n",
    "print(\"\\n\\n\")\n",
    "print_api_goal_mapping(mappings)"
   ]
  },
  {
   "cell_type": "markdown",
   "metadata": {},
   "source": [
    "# Evaluation"
   ]
  },
  {
   "cell_type": "code",
   "execution_count": 38,
   "metadata": {},
   "outputs": [
    {
     "name": "stdout",
     "output_type": "stream",
     "text": [
      "/Users/andreabioddo/Desktop/POLITO/LLM/progetto/LLM_Agent-Goal_Oriented_API_Alignement/.venv/bin/python\n"
     ]
    }
   ],
   "source": [
    "import sys\n",
    "print(sys.executable)"
   ]
  },
  {
   "cell_type": "code",
   "execution_count": 39,
   "metadata": {},
   "outputs": [
    {
     "name": "stdout",
     "output_type": "stream",
     "text": [
      "Transformers library imported successfully!\n"
     ]
    }
   ],
   "source": [
    "from transformers import AutoTokenizer, AutoModel\n",
    "print(\"Transformers library imported successfully!\")"
   ]
  },
  {
   "cell_type": "code",
   "execution_count": 40,
   "metadata": {},
   "outputs": [
    {
     "name": "stdout",
     "output_type": "stream",
     "text": [
      "recall:  0.9999999995 precision:  0.03703703703635117 fpr:  0.9999999999807693\n",
      "recall:  0.9999999995 precision:  0.03703703703635117 fpr:  0.9999999999807693\n",
      "recall:  0.9999999995 precision:  0.03703703703635117 fpr:  0.9999999999807693\n",
      "recall:  0.9999999995 precision:  0.03703703703635117 fpr:  0.9999999999807693\n",
      "recall:  0.9999999995 precision:  0.03703703703635117 fpr:  0.9999999999807693\n",
      "recall:  0.9999999995 precision:  0.03703703703635117 fpr:  0.9999999999807693\n",
      "recall:  0.9999999995 precision:  0.03703703703635117 fpr:  0.9999999999807693\n",
      "recall:  0.9999999995 precision:  0.03703703703635117 fpr:  0.9999999999807693\n",
      "recall:  0.9999999995 precision:  0.03703703703635117 fpr:  0.9999999999807693\n",
      "recall:  0.9999999995 precision:  0.03703703703635117 fpr:  0.9999999999807693\n",
      "recall:  0.9999999995 precision:  0.03703703703635117 fpr:  0.9999999999807693\n",
      "recall:  0.9999999995 precision:  0.03703703703635117 fpr:  0.9999999999807693\n",
      "recall:  0.9999999995 precision:  0.03703703703635117 fpr:  0.9999999999807693\n",
      "recall:  0.9999999995 precision:  0.03703703703635117 fpr:  0.9999999999807693\n",
      "recall:  0.9999999995 precision:  0.03703703703635117 fpr:  0.9999999999807693\n",
      "recall:  0.9999999995 precision:  0.03703703703635117 fpr:  0.9999999999807693\n",
      "recall:  0.9999999995 precision:  0.03703703703635117 fpr:  0.9999999999807693\n",
      "recall:  0.9999999995 precision:  0.03703703703635117 fpr:  0.9999999999807693\n",
      "recall:  0.9999999995 precision:  0.03703703703635117 fpr:  0.9999999999807693\n",
      "recall:  0.9999999995 precision:  0.03703703703635117 fpr:  0.9999999999807693\n",
      "recall:  0.9999999995 precision:  0.03703703703635117 fpr:  0.9999999999807693\n",
      "recall:  0.9999999995 precision:  0.03703703703635117 fpr:  0.9999999999807693\n",
      "recall:  0.9999999995 precision:  0.03703703703635117 fpr:  0.9999999999807693\n",
      "recall:  0.9999999995 precision:  0.03703703703635117 fpr:  0.9999999999807693\n",
      "recall:  0.9999999995 precision:  0.03703703703635117 fpr:  0.9999999999807693\n",
      "recall:  0.9999999995 precision:  0.03703703703635117 fpr:  0.9999999999807693\n",
      "recall:  0.9999999995 precision:  0.03703703703635117 fpr:  0.9999999999807693\n",
      "recall:  0.9999999995 precision:  0.03703703703635117 fpr:  0.9999999999807693\n",
      "recall:  0.9999999995 precision:  0.03703703703635117 fpr:  0.9999999999807693\n",
      "recall:  0.9999999995 precision:  0.03703703703635117 fpr:  0.9999999999807693\n",
      "recall:  0.9999999995 precision:  0.03703703703635117 fpr:  0.9999999999807693\n",
      "recall:  0.9999999995 precision:  0.03703703703635117 fpr:  0.9999999999807693\n",
      "recall:  0.9999999995 precision:  0.03703703703635117 fpr:  0.9999999999807693\n",
      "recall:  0.9999999995 precision:  0.03703703703635117 fpr:  0.9999999999807693\n",
      "recall:  0.9999999995 precision:  0.03773584905589178 fpr:  0.9807692307503699\n",
      "recall:  0.9999999995 precision:  0.03773584905589178 fpr:  0.9807692307503699\n",
      "recall:  0.9999999995 precision:  0.03846153846079882 fpr:  0.9615384615199705\n",
      "recall:  0.9999999995 precision:  0.03846153846079882 fpr:  0.9615384615199705\n",
      "recall:  0.9999999995 precision:  0.03921568627374087 fpr:  0.9423076922895711\n",
      "recall:  0.9999999995 precision:  0.03921568627374087 fpr:  0.9423076922895711\n",
      "recall:  0.9999999995 precision:  0.03921568627374087 fpr:  0.9423076922895711\n",
      "recall:  0.9999999995 precision:  0.03921568627374087 fpr:  0.9423076922895711\n",
      "recall:  0.9999999995 precision:  0.03921568627374087 fpr:  0.9423076922895711\n",
      "recall:  0.9999999995 precision:  0.0399999999992 fpr:  0.9230769230591717\n",
      "recall:  0.9999999995 precision:  0.04081632652977926 fpr:  0.9038461538287722\n",
      "recall:  0.9999999995 precision:  0.04081632652977926 fpr:  0.9038461538287722\n",
      "recall:  0.9999999995 precision:  0.041666666665798616 fpr:  0.8846153845983729\n",
      "recall:  0.9999999995 precision:  0.041666666665798616 fpr:  0.8846153845983729\n",
      "recall:  0.9999999995 precision:  0.041666666665798616 fpr:  0.8846153845983729\n",
      "recall:  0.9999999995 precision:  0.041666666665798616 fpr:  0.8846153845983729\n",
      "recall:  0.9999999995 precision:  0.041666666665798616 fpr:  0.8846153845983729\n",
      "recall:  0.9999999995 precision:  0.041666666665798616 fpr:  0.8846153845983729\n",
      "recall:  0.9999999995 precision:  0.041666666665798616 fpr:  0.8846153845983729\n",
      "recall:  0.9999999995 precision:  0.04255319148845632 fpr:  0.8653846153679734\n",
      "recall:  0.9999999995 precision:  0.04347826086862004 fpr:  0.846153846137574\n",
      "recall:  0.9999999995 precision:  0.04444444444345679 fpr:  0.8269230769071746\n",
      "recall:  0.9999999995 precision:  0.04651162790589508 fpr:  0.7884615384463758\n",
      "recall:  0.9999999995 precision:  0.047619047617913836 fpr:  0.7692307692159763\n",
      "recall:  0.9999999995 precision:  0.04999999999875 fpr:  0.7307692307551775\n",
      "recall:  0.9999999995 precision:  0.05128205128073636 fpr:  0.7115384615247782\n",
      "recall:  0.9999999995 precision:  0.05263157894598339 fpr:  0.6923076922943787\n",
      "recall:  0.9999999995 precision:  0.054054054052593135 fpr:  0.6730769230639794\n",
      "recall:  0.9999999995 precision:  0.054054054052593135 fpr:  0.6730769230639794\n",
      "recall:  0.9999999995 precision:  0.054054054052593135 fpr:  0.6730769230639794\n",
      "recall:  0.9999999995 precision:  0.06060606060422406 fpr:  0.5961538461423816\n",
      "recall:  0.9999999995 precision:  0.06249999999804688 fpr:  0.5769230769119823\n",
      "recall:  0.9999999995 precision:  0.07142857142602041 fpr:  0.49999999999038464\n",
      "recall:  0.9999999995 precision:  0.07692307692011835 fpr:  0.46153846152958583\n",
      "recall:  0.9999999995 precision:  0.0833333333298611 fpr:  0.423076923068787\n",
      "recall:  0.9999999995 precision:  0.09090909090495868 fpr:  0.38461538460798816\n",
      "recall:  0.9999999995 precision:  0.099999999995 fpr:  0.34615384614718936\n",
      "recall:  0.9999999995 precision:  0.14285714284693876 fpr:  0.23076923076479292\n",
      "recall:  0.9999999995 precision:  0.16666666665277777 fpr:  0.19230769230399408\n",
      "recall:  0.9999999995 precision:  0.18181818180165288 fpr:  0.17307692307359468\n",
      "recall:  0.9999999995 precision:  0.22222222219753085 fpr:  0.13461538461279587\n",
      "recall:  0.49999999975 precision:  0.124999999984375 fpr:  0.13461538461279587\n",
      "recall:  0.3333333332222222 precision:  0.19999999996 fpr:  0.07843137254748174\n",
      "recall:  0.2499999999375 precision:  0.2499999999375 fpr:  0.059999999998800006\n",
      "recall:  0.2499999999375 precision:  0.2499999999375 fpr:  0.059999999998800006\n",
      "recall:  0.2499999999375 precision:  0.2499999999375 fpr:  0.059999999998800006\n",
      "recall:  0.2499999999375 precision:  0.3333333332222222 fpr:  0.0399999999992\n",
      "recall:  0.19999999996 precision:  0.49999999975 fpr:  0.02040816326488963\n",
      "recall:  0.0 precision:  0.0 fpr:  0.0\n",
      "recall:  0.0 precision:  0.0 fpr:  0.0\n",
      "recall:  0.0 precision:  0.0 fpr:  0.0\n",
      "recall:  0.0 precision:  0.0 fpr:  0.0\n",
      "recall:  0.0 precision:  0.0 fpr:  0.0\n",
      "recall:  0.0 precision:  0.0 fpr:  0.0\n",
      "recall:  0.0 precision:  0.0 fpr:  0.0\n",
      "recall:  0.0 precision:  0.0 fpr:  0.0\n",
      "recall:  0.0 precision:  0.0 fpr:  0.0\n",
      "recall:  0.0 precision:  0.0 fpr:  0.0\n",
      "recall:  0.0 precision:  0.0 fpr:  0.0\n",
      "recall:  0.0 precision:  0.0 fpr:  0.0\n",
      "recall:  0.0 precision:  0.0 fpr:  0.0\n",
      "recall:  0.0 precision:  0.0 fpr:  0.0\n",
      "recall:  0.0 precision:  0.0 fpr:  0.0\n",
      "recall:  0.0 precision:  0.0 fpr:  0.0\n",
      "recall:  0.0 precision:  0.0 fpr:  0.0\n"
     ]
    },
    {
     "data": {
      "image/png": "[encoded data removed]",
      "text/plain": [
       "<Figure size 800x600 with 1 Axes>"
      ]
     },
     "metadata": {},
     "output_type": "display_data"
    },
    {
     "data": {
      "image/png": "[encoded data removed]",
      "text/plain": [
       "<Figure size 800x600 with 1 Axes>"
      ]
     },
     "metadata": {},
     "output_type": "display_data"
    },
    {
     "name": "stdout",
     "output_type": "stream",
     "text": [
      "High Level AUC: 0.9056194165330631\n"
     ]
    }
   ],
   "source": [
    "# List of high-level goals \n",
    "generated_goals = [goal.description for goal in highLevelGoals.goals]\n",
    "manual_goals = [\"Provide fast and automated annotation of genetic variants\", \"Enable high-throughput interpretation of genetic variants\", \"Integrate information from various existing resources\", \"Convert DNA changes to protein changes\", \"Predict functional effects of protein mutations\", \"Provide information about mutation frequencies\", \"Offer insights into gene function\", \"Detail variant effects\", \"Highlight clinical actionability of variants\"]\n",
    "\n",
    "evaluator = GoalEvaluator(preprocess = False)\n",
    "\n",
    "auc = evaluator.print_roc_prec_rec_curve(generated_goals, manual_goals)\n",
    "print(\"High Level AUC:\", auc)\n"
   ]
  },
  {
   "cell_type": "code",
   "execution_count": 41,
   "metadata": {},
   "outputs": [
    {
     "name": "stdout",
     "output_type": "stream",
     "text": [
      "recall:  0.9999999998333333 precision:  0.010380622837352282 fpr:  0.9999999999982517\n",
      "recall:  0.9999999998333333 precision:  0.010380622837352282 fpr:  0.9999999999982517\n",
      "recall:  0.9999999998333333 precision:  0.010380622837352282 fpr:  0.9999999999982517\n",
      "recall:  0.9999999998333333 precision:  0.010380622837352282 fpr:  0.9999999999982517\n",
      "recall:  0.9999999998333333 precision:  0.010380622837352282 fpr:  0.9999999999982517\n",
      "recall:  0.9999999998333333 precision:  0.010380622837352282 fpr:  0.9999999999982517\n",
      "recall:  0.9999999998333333 precision:  0.010380622837352282 fpr:  0.9999999999982517\n",
      "recall:  0.9999999998333333 precision:  0.010380622837352282 fpr:  0.9999999999982517\n",
      "recall:  0.9999999998333333 precision:  0.010380622837352282 fpr:  0.9999999999982517\n",
      "recall:  0.9999999998333333 precision:  0.010380622837352282 fpr:  0.9999999999982517\n",
      "recall:  0.9999999998333333 precision:  0.010380622837352282 fpr:  0.9999999999982517\n",
      "recall:  0.9999999998333333 precision:  0.010380622837352282 fpr:  0.9999999999982517\n",
      "recall:  0.9999999998333333 precision:  0.010380622837352282 fpr:  0.9999999999982517\n",
      "recall:  0.9999999998333333 precision:  0.010380622837352282 fpr:  0.9999999999982517\n",
      "recall:  0.9999999998333333 precision:  0.010380622837352282 fpr:  0.9999999999982517\n",
      "recall:  0.9999999998333333 precision:  0.010380622837352282 fpr:  0.9999999999982517\n",
      "recall:  0.9999999998333333 precision:  0.010380622837352282 fpr:  0.9999999999982517\n",
      "recall:  0.9999999998333333 precision:  0.010380622837352282 fpr:  0.9999999999982517\n",
      "recall:  0.9999999998333333 precision:  0.010380622837352282 fpr:  0.9999999999982517\n",
      "recall:  0.9999999998333333 precision:  0.010380622837352282 fpr:  0.9999999999982517\n",
      "recall:  0.9999999998333333 precision:  0.010380622837352282 fpr:  0.9999999999982517\n",
      "recall:  0.9999999998333333 precision:  0.010380622837352282 fpr:  0.9999999999982517\n",
      "recall:  0.9999999998333333 precision:  0.010380622837352282 fpr:  0.9999999999982517\n",
      "recall:  0.9999999998333333 precision:  0.010380622837352282 fpr:  0.9999999999982517\n",
      "recall:  0.9999999998333333 precision:  0.010380622837352282 fpr:  0.9999999999982517\n",
      "recall:  0.9999999998333333 precision:  0.010380622837352282 fpr:  0.9999999999982517\n",
      "recall:  0.9999999998333333 precision:  0.010380622837352282 fpr:  0.9999999999982517\n",
      "recall:  0.9999999998333333 precision:  0.010380622837352282 fpr:  0.9999999999982517\n",
      "recall:  0.9999999998333333 precision:  0.010380622837352282 fpr:  0.9999999999982517\n",
      "recall:  0.9999999998333333 precision:  0.010380622837352282 fpr:  0.9999999999982517\n",
      "recall:  0.9999999998333333 precision:  0.010380622837352282 fpr:  0.9999999999982517\n",
      "recall:  0.9999999998333333 precision:  0.010380622837352282 fpr:  0.9999999999982517\n",
      "recall:  0.9999999998333333 precision:  0.010380622837352282 fpr:  0.9999999999982517\n",
      "recall:  0.9999999998333333 precision:  0.010380622837352282 fpr:  0.9999999999982517\n",
      "recall:  0.9999999998333333 precision:  0.010380622837352282 fpr:  0.9999999999982517\n",
      "recall:  0.9999999998333333 precision:  0.010380622837352282 fpr:  0.9999999999982517\n",
      "recall:  0.9999999998333333 precision:  0.010380622837352282 fpr:  0.9999999999982517\n",
      "recall:  0.9999999998333333 precision:  0.010380622837352282 fpr:  0.9999999999982517\n",
      "recall:  0.9999999998333333 precision:  0.010380622837352282 fpr:  0.9999999999982517\n",
      "recall:  0.9999999998333333 precision:  0.010380622837352282 fpr:  0.9999999999982517\n",
      "recall:  0.9999999998333333 precision:  0.010380622837352282 fpr:  0.9999999999982517\n",
      "recall:  0.9999999998333333 precision:  0.010380622837352282 fpr:  0.9999999999982517\n",
      "recall:  0.9999999998333333 precision:  0.010380622837352282 fpr:  0.9999999999982517\n",
      "recall:  0.9999999998333333 precision:  0.010380622837352282 fpr:  0.9999999999982517\n",
      "recall:  0.9999999998333333 precision:  0.010380622837352282 fpr:  0.9999999999982517\n",
      "recall:  0.9999999998333333 precision:  0.010380622837352282 fpr:  0.9999999999982517\n",
      "recall:  0.9999999998333333 precision:  0.010380622837352282 fpr:  0.9999999999982517\n",
      "recall:  0.9999999998333333 precision:  0.010380622837352282 fpr:  0.9999999999982517\n",
      "recall:  0.9999999998333333 precision:  0.010380622837352282 fpr:  0.9999999999982517\n",
      "recall:  0.9999999998333333 precision:  0.010398613518179552 fpr:  0.9982517482500031\n",
      "recall:  0.9999999998333333 precision:  0.010398613518179552 fpr:  0.9982517482500031\n",
      "recall:  0.9999999998333333 precision:  0.010398613518179552 fpr:  0.9982517482500031\n",
      "recall:  0.9999999998333333 precision:  0.010398613518179552 fpr:  0.9982517482500031\n",
      "recall:  0.9999999998333333 precision:  0.010398613518179552 fpr:  0.9982517482500031\n",
      "recall:  0.9999999998333333 precision:  0.010398613518179552 fpr:  0.9982517482500031\n",
      "recall:  0.9999999998333333 precision:  0.010434782608677504 fpr:  0.9947552447535057\n",
      "recall:  0.9999999998333333 precision:  0.010434782608677504 fpr:  0.9947552447535057\n",
      "recall:  0.9999999998333333 precision:  0.010489510489492152 fpr:  0.9895104895087596\n",
      "recall:  0.9999999998333333 precision:  0.01050788091066461 fpr:  0.987762237760511\n",
      "recall:  0.9999999998333333 precision:  0.010563380281671543 fpr:  0.9825174825157649\n",
      "recall:  0.9999999998333333 precision:  0.010676156583610897 fpr:  0.9720279720262727\n",
      "recall:  0.9999999998333333 precision:  0.010791366906455411 fpr:  0.9615384615367806\n",
      "recall:  0.9999999998333333 precision:  0.010869565217371613 fpr:  0.9545454545437858\n",
      "recall:  0.9999999998333333 precision:  0.010928961748613974 fpr:  0.9493006992990397\n",
      "recall:  0.9999999998333333 precision:  0.011070110701086587 fpr:  0.9370629370612988\n",
      "recall:  0.9999999998333333 precision:  0.011090573012918502 fpr:  0.9353146853130502\n",
      "recall:  0.9999999998333333 precision:  0.011235955056158735 fpr:  0.9230769230753093\n",
      "recall:  0.9999999998333333 precision:  0.011538461538439349 fpr:  0.8986013985998277\n",
      "recall:  0.9999999998333333 precision:  0.011718749999977112 fpr:  0.8846153846138382\n",
      "recall:  0.9999999998333333 precision:  0.011904761904738284 fpr:  0.8706293706278486\n",
      "recall:  0.9999999998333333 precision:  0.012499999999973959 fpr:  0.8286713286698799\n",
      "recall:  0.9999999998333333 precision:  0.012958963282909377 fpr:  0.7989510489496522\n",
      "recall:  0.9999999998333333 precision:  0.013761467889876694 fpr:  0.7517482517469375\n",
      "recall:  0.9999999998333333 precision:  0.0149999999999625 fpr:  0.6888111888099846\n",
      "recall:  0.9999999998333333 precision:  0.01630434782604265 fpr:  0.6328671328660265\n",
      "recall:  0.9999999998333333 precision:  0.01764705882347751 fpr:  0.5839160839150631\n",
      "recall:  0.9999999998333333 precision:  0.02006688963203991 fpr:  0.5122377622368667\n",
      "recall:  0.9999999998333333 precision:  0.02371541501966911 fpr:  0.43181818181742687\n",
      "recall:  0.9999999998333333 precision:  0.02654867256625421 fpr:  0.38461538461471223\n",
      "recall:  0.9999999998333333 precision:  0.03389830508455425 fpr:  0.2989510489505263\n",
      "recall:  0.9999999998333333 precision:  0.04379562043763653 fpr:  0.22902097902057864\n",
      "recall:  0.8571428570204082 precision:  0.053097345132273474 fpr:  0.1873905429068522\n",
      "recall:  0.74999999990625 precision:  0.07228915662563506 fpr:  0.1350877192980086\n",
      "recall:  0.74999999990625 precision:  0.10526315789289013 fpr:  0.08947368421036934\n",
      "recall:  0.74999999990625 precision:  0.1935483870905307 fpr:  0.04385964912273007\n",
      "recall:  0.624999999921875 precision:  0.26315789472299167 fpr:  0.02456140350872884\n",
      "recall:  0.45454545450413225 precision:  0.3846153845857988 fpr:  0.014109347442655892\n",
      "recall:  0.2666666666488889 precision:  0.5714285713469388 fpr:  0.005328596802832454\n",
      "recall:  0.06249999999609375 precision:  0.49999999975 fpr:  0.001779359430601816\n",
      "recall:  0.06249999999609375 precision:  0.49999999975 fpr:  0.001779359430601816\n",
      "recall:  0.0588235294083045 precision:  0.9999999989999999 fpr:  0.0\n",
      "recall:  0.0 precision:  0.0 fpr:  0.0\n",
      "recall:  0.0 precision:  0.0 fpr:  0.0\n",
      "recall:  0.0 precision:  0.0 fpr:  0.0\n",
      "recall:  0.0 precision:  0.0 fpr:  0.0\n",
      "recall:  0.0 precision:  0.0 fpr:  0.0\n",
      "recall:  0.0 precision:  0.0 fpr:  0.0\n",
      "recall:  0.0 precision:  0.0 fpr:  0.0\n",
      "recall:  0.0 precision:  0.0 fpr:  0.0\n"
     ]
    },
    {
     "data": {
      "image/png": "[encoded data removed]",
      "text/plain": [
       "<Figure size 800x600 with 1 Axes>"
      ]
     },
     "metadata": {},
     "output_type": "display_data"
    },
    {
     "data": {
      "image/png": "[encoded data removed]",
      "text/plain": [
       "<Figure size 800x600 with 1 Axes>"
      ]
     },
     "metadata": {},
     "output_type": "display_data"
    },
    {
     "name": "stdout",
     "output_type": "stream",
     "text": [
      "Low Level Goals AUC: 0.9428537166437039\n"
     ]
    }
   ],
   "source": [
    "# List of low-level goals \n",
    "generated_low_level_goals = [goal.description for goal in lowLevelGoals.low_level_goals]\n",
    "\n",
    "manual_low_level_goals = [\n",
    "    # Provide a comprehensive one-stop resource for genetic variant annotation\n",
    "    \"Retrieve genetic variant data from multiple databases (e.g., dbSNP, ClinVar, COSMIC)\",\n",
    "    \"Search and retrieve variant annotations from a user interface\",\n",
    "    \"Annotate variants with clinical significance, mutation types, and related diseases\",\n",
    "    \"Map genetic data to genome assemblies (e.g., GRCh38, hg19)\",\n",
    "    \"Update variant information regularly from authoritative sources\",\n",
    "    \n",
    "    # Enable fast and automated interpretation of cancer-related genetic variants\n",
    "    \"Analyze cancer-related mutations using automated tools\",\n",
    "    \"Integrate gene expression data for cancer variant interpretation\",\n",
    "    \"Identify cancer-related mutations linked to specific pathways\",\n",
    "    \"Interpret large-scale cancer mutation datasets automatically\",\n",
    "    \"Classify cancer mutations based on clinical relevance\",\n",
    "    \n",
    "    # Support high-throughput analysis of genetic mutations\n",
    "    \"Process large genomic datasets in parallel\",\n",
    "    \"Extract and transform mutation data from high-throughput sequencing formats (e.g., VCF, BAM)\",\n",
    "    \"Perform mutation quality control and filtering\",\n",
    "    \n",
    "    # Integrate data from multiple genomic databases\n",
    "    \"Fetch and harmonize data from various genomic databases\",\n",
    "    \"Query integrated genomic databases for relevant mutation information\",\n",
    "    \"Integrate multiple data sources with compatible formats for easy retrieval\",\n",
    "    \n",
    "    # Convert DNA changes to corresponding protein changes\n",
    "    \"Map genetic mutations to corresponding protein-coding effects\",\n",
    "    \"Convert mutations to amino acid changes for protein function analysis\",\n",
    "    \"Predict the impact of mutations on protein structure using bioinformatics tools\",\n",
    "    \n",
    "    # Predict the functional impact of protein mutations\n",
    "    \"Use prediction tools (e.g., PolyPhen, SIFT) to estimate mutation effects on protein function\",\n",
    "    \"Build and apply machine learning models for functional impact prediction\",\n",
    "    \"Rank mutations based on predicted severity of functional impact\",\n",
    "    \n",
    "    # Provide information on mutation frequencies across datasets\n",
    "    \"Calculate mutation frequencies across various population groups\",\n",
    "    \"Generate visual representations of mutation frequencies (e.g., histograms, pie charts)\",\n",
    "    \"Provide mutation frequency data for specific diseases or conditions\",\n",
    "    \n",
    "    # Offer insights into gene function and biological relevance\n",
    "    \"Retrieve gene function annotations from public databases like Gene Ontology (GO)\",\n",
    "    \"Identify pathways and biological processes related to the mutated gene\",\n",
    "    \"Link genetic variants to specific diseases or phenotypes based on annotations\",\n",
    "    \n",
    "    # Detail the effects of genetic variants on protein function\n",
    "    \"Predict the effects of mutations on protein folding and stability\",\n",
    "    \"Identify how mutations alter protein activity or structure\",\n",
    "    \"Evaluate the impact of mutations on protein-protein interactions\",\n",
    "    \n",
    "    # Highlight the clinical actionability of specific mutations\n",
    "    \"Link genetic mutations to clinical guidelines or treatment protocols\",\n",
    "    \"Identify mutations with known clinical drug responses or therapeutic implications\",\n",
    "    \"Provide actionable insights on mutations based on current clinical research\"\n",
    "]\n",
    "\n",
    "evaluator_low_level = GoalEvaluator(preprocess = False)\n",
    "\n",
    "auc = evaluator_low_level.print_roc_prec_rec_curve(generated_low_level_goals, manual_low_level_goals)\n",
    "print(\"Low Level Goals AUC:\", auc)"
   ]
  },
  {
   "cell_type": "code",
   "execution_count": 42,
   "metadata": {},
   "outputs": [
    {
     "name": "stdout",
     "output_type": "stream",
     "text": [
      "recall:  0.9999999995 precision:  0.16666666665277777 fpr:  0.9999999999\n",
      "recall:  0.9999999995 precision:  0.16666666665277777 fpr:  0.9999999999\n",
      "recall:  0.9999999995 precision:  0.16666666665277777 fpr:  0.9999999999\n",
      "recall:  0.9999999995 precision:  0.16666666665277777 fpr:  0.9999999999\n",
      "recall:  0.9999999995 precision:  0.16666666665277777 fpr:  0.9999999999\n",
      "recall:  0.9999999995 precision:  0.16666666665277777 fpr:  0.9999999999\n",
      "recall:  0.9999999995 precision:  0.16666666665277777 fpr:  0.9999999999\n",
      "recall:  0.9999999995 precision:  0.16666666665277777 fpr:  0.9999999999\n",
      "recall:  0.9999999995 precision:  0.16666666665277777 fpr:  0.9999999999\n",
      "recall:  0.9999999995 precision:  0.16666666665277777 fpr:  0.9999999999\n",
      "recall:  0.9999999995 precision:  0.16666666665277777 fpr:  0.9999999999\n",
      "recall:  0.9999999995 precision:  0.16666666665277777 fpr:  0.9999999999\n",
      "recall:  0.9999999995 precision:  0.16666666665277777 fpr:  0.9999999999\n",
      "recall:  0.9999999995 precision:  0.16666666665277777 fpr:  0.9999999999\n",
      "recall:  0.9999999995 precision:  0.16666666665277777 fpr:  0.9999999999\n",
      "recall:  0.9999999995 precision:  0.16666666665277777 fpr:  0.9999999999\n",
      "recall:  0.9999999995 precision:  0.16666666665277777 fpr:  0.9999999999\n",
      "recall:  0.9999999995 precision:  0.16666666665277777 fpr:  0.9999999999\n",
      "recall:  0.9999999995 precision:  0.16666666665277777 fpr:  0.9999999999\n",
      "recall:  0.9999999995 precision:  0.16666666665277777 fpr:  0.9999999999\n",
      "recall:  0.9999999995 precision:  0.16666666665277777 fpr:  0.9999999999\n",
      "recall:  0.9999999995 precision:  0.16666666665277777 fpr:  0.9999999999\n",
      "recall:  0.9999999995 precision:  0.16666666665277777 fpr:  0.9999999999\n",
      "recall:  0.9999999995 precision:  0.16666666665277777 fpr:  0.9999999999\n",
      "recall:  0.9999999995 precision:  0.16666666665277777 fpr:  0.9999999999\n",
      "recall:  0.9999999995 precision:  0.16666666665277777 fpr:  0.9999999999\n",
      "recall:  0.9999999995 precision:  0.16666666665277777 fpr:  0.9999999999\n",
      "recall:  0.9999999995 precision:  0.16666666665277777 fpr:  0.9999999999\n",
      "recall:  0.9999999995 precision:  0.16666666665277777 fpr:  0.9999999999\n",
      "recall:  0.9999999995 precision:  0.16666666665277777 fpr:  0.9999999999\n",
      "recall:  0.9999999995 precision:  0.16666666665277777 fpr:  0.9999999999\n",
      "recall:  0.9999999995 precision:  0.16666666665277777 fpr:  0.9999999999\n",
      "recall:  0.9999999995 precision:  0.16666666665277777 fpr:  0.9999999999\n",
      "recall:  0.9999999995 precision:  0.16666666665277777 fpr:  0.9999999999\n",
      "recall:  0.9999999995 precision:  0.16666666665277777 fpr:  0.9999999999\n",
      "recall:  0.9999999995 precision:  0.16666666665277777 fpr:  0.9999999999\n",
      "recall:  0.9999999995 precision:  0.16666666665277777 fpr:  0.9999999999\n",
      "recall:  0.9999999995 precision:  0.16666666665277777 fpr:  0.9999999999\n",
      "recall:  0.9999999995 precision:  0.16666666665277777 fpr:  0.9999999999\n",
      "recall:  0.9999999995 precision:  0.16666666665277777 fpr:  0.9999999999\n",
      "recall:  0.9999999995 precision:  0.16666666665277777 fpr:  0.9999999999\n",
      "recall:  0.9999999995 precision:  0.16666666665277777 fpr:  0.9999999999\n",
      "recall:  0.9999999995 precision:  0.16666666665277777 fpr:  0.9999999999\n",
      "recall:  0.9999999995 precision:  0.16666666665277777 fpr:  0.9999999999\n",
      "recall:  0.9999999995 precision:  0.16666666665277777 fpr:  0.9999999999\n",
      "recall:  0.9999999995 precision:  0.16666666665277777 fpr:  0.9999999999\n",
      "recall:  0.9999999995 precision:  0.16666666665277777 fpr:  0.9999999999\n",
      "recall:  0.9999999995 precision:  0.16666666665277777 fpr:  0.9999999999\n",
      "recall:  0.9999999995 precision:  0.16666666665277777 fpr:  0.9999999999\n",
      "recall:  0.9999999995 precision:  0.16666666665277777 fpr:  0.9999999999\n",
      "recall:  0.9999999995 precision:  0.16666666665277777 fpr:  0.9999999999\n",
      "recall:  0.9999999995 precision:  0.16666666665277777 fpr:  0.9999999999\n",
      "recall:  0.9999999995 precision:  0.16666666665277777 fpr:  0.9999999999\n",
      "recall:  0.9999999995 precision:  0.16666666665277777 fpr:  0.9999999999\n",
      "recall:  0.9999999995 precision:  0.16666666665277777 fpr:  0.9999999999\n",
      "recall:  0.9999999995 precision:  0.16666666665277777 fpr:  0.9999999999\n",
      "recall:  0.9999999995 precision:  0.18181818180165288 fpr:  0.89999999991\n",
      "recall:  0.9999999995 precision:  0.18181818180165288 fpr:  0.89999999991\n",
      "recall:  0.9999999995 precision:  0.18181818180165288 fpr:  0.89999999991\n",
      "recall:  0.9999999995 precision:  0.18181818180165288 fpr:  0.89999999991\n",
      "recall:  0.9999999995 precision:  0.18181818180165288 fpr:  0.89999999991\n",
      "recall:  0.9999999995 precision:  0.18181818180165288 fpr:  0.89999999991\n",
      "recall:  0.9999999995 precision:  0.22222222219753085 fpr:  0.69999999993\n",
      "recall:  0.9999999995 precision:  0.22222222219753085 fpr:  0.69999999993\n",
      "recall:  0.9999999995 precision:  0.24999999996875 fpr:  0.59999999994\n",
      "recall:  0.9999999995 precision:  0.2857142856734694 fpr:  0.49999999995\n",
      "recall:  0.9999999995 precision:  0.2857142856734694 fpr:  0.49999999995\n",
      "recall:  0.9999999995 precision:  0.2857142856734694 fpr:  0.49999999995\n",
      "recall:  0.9999999995 precision:  0.33333333327777775 fpr:  0.39999999996\n",
      "recall:  0.9999999995 precision:  0.33333333327777775 fpr:  0.39999999996\n",
      "recall:  0.9999999995 precision:  0.33333333327777775 fpr:  0.39999999996\n",
      "recall:  0.9999999995 precision:  0.499999999875 fpr:  0.19999999998\n",
      "recall:  0.9999999995 precision:  0.499999999875 fpr:  0.19999999998\n",
      "recall:  0.9999999995 precision:  0.499999999875 fpr:  0.19999999998\n",
      "recall:  0.9999999995 precision:  0.499999999875 fpr:  0.19999999998\n",
      "recall:  0.9999999995 precision:  0.499999999875 fpr:  0.19999999998\n",
      "recall:  0.49999999975 precision:  0.49999999975 fpr:  0.09999999999\n",
      "recall:  0.49999999975 precision:  0.9999999989999999 fpr:  0.0\n",
      "recall:  0.49999999975 precision:  0.9999999989999999 fpr:  0.0\n",
      "recall:  0.49999999975 precision:  0.9999999989999999 fpr:  0.0\n",
      "recall:  0.0 precision:  0.0 fpr:  0.0\n",
      "recall:  0.0 precision:  0.0 fpr:  0.0\n",
      "recall:  0.0 precision:  0.0 fpr:  0.0\n",
      "recall:  0.0 precision:  0.0 fpr:  0.0\n",
      "recall:  0.0 precision:  0.0 fpr:  0.0\n",
      "recall:  0.0 precision:  0.0 fpr:  0.0\n",
      "recall:  0.0 precision:  0.0 fpr:  0.0\n",
      "recall:  0.0 precision:  0.0 fpr:  0.0\n",
      "recall:  0.0 precision:  0.0 fpr:  0.0\n",
      "recall:  0.0 precision:  0.0 fpr:  0.0\n",
      "recall:  0.0 precision:  0.0 fpr:  0.0\n",
      "recall:  0.0 precision:  0.0 fpr:  0.0\n",
      "recall:  0.0 precision:  0.0 fpr:  0.0\n",
      "recall:  0.0 precision:  0.0 fpr:  0.0\n",
      "recall:  0.0 precision:  0.0 fpr:  0.0\n",
      "recall:  0.0 precision:  0.0 fpr:  0.0\n",
      "recall:  0.0 precision:  0.0 fpr:  0.0\n",
      "recall:  0.0 precision:  0.0 fpr:  0.0\n",
      "recall:  0.0 precision:  0.0 fpr:  0.0\n"
     ]
    },
    {
     "data": {
      "image/png": "[encoded data removed]",
      "text/plain": [
       "<Figure size 800x600 with 1 Axes>"
      ]
     },
     "metadata": {},
     "output_type": "display_data"
    },
    {
     "data": {
      "image/png": "[encoded data removed]",
      "text/plain": [
       "<Figure size 800x600 with 1 Axes>"
      ]
     },
     "metadata": {},
     "output_type": "display_data"
    },
    {
     "name": "stdout",
     "output_type": "stream",
     "text": [
      "Actors AUC: 0.924999999445\n"
     ]
    }
   ],
   "source": [
    "# List of actors\n",
    "generated_actors = [actor.name for actor in actors.actors]\n",
    "manual_actors = [\n",
    "    \"Researchers\", \"Clinicians\", \"biologists\", \"Database Administrators\", \"Bioinformaticians\", \"Geneticists\"\n",
    "]\n",
    "\n",
    "evaluator = GoalEvaluator(preprocess = False)\n",
    "\n",
    "auc = evaluator.print_roc_prec_rec_curve(generated_actors, manual_actors)\n",
    "print(\"Actors AUC:\", auc)"
   ]
  }
 ],
 "metadata": {
  "accelerator": "GPU",
  "colab": {
   "gpuType": "T4",
   "provenance": []
  },
  "kernelspec": {
   "display_name": ".venv",
   "language": "python",
   "name": "python3"
  },
  "language_info": {
   "codemirror_mode": {
    "name": "ipython",
    "version": 3
   },
   "file_extension": ".py",
   "mimetype": "text/x-python",
   "name": "python",
   "nbconvert_exporter": "python",
   "pygments_lexer": "ipython3",
   "version": "3.12.9"
  },
  "widgets": {
   "application/vnd.jupyter.widget-state+json": {
    "0adcbace0f6946568311b8010d5c7fc3": {
     "model_module": "@jupyter-widgets/base",
     "model_module_version": "1.2.0",
     "model_name": "LayoutModel",
     "state": {
      "_model_module": "@jupyter-widgets/base",
      "_model_module_version": "1.2.0",
      "_model_name": "LayoutModel",
      "_view_count": null,
      "_view_module": "@jupyter-widgets/base",
      "_view_module_version": "1.2.0",
      "_view_name": "LayoutView",
      "align_content": null,
      "align_items": null,
      "align_self": null,
      "border": null,
      "bottom": null,
      "display": null,
      "flex": null,
      "flex_flow": null,
      "grid_area": null,
      "grid_auto_columns": null,
      "grid_auto_flow": null,
      "grid_auto_rows": null,
      "grid_column": null,
      "grid_gap": null,
      "grid_row": null,
      "grid_template_areas": null,
      "grid_template_columns": null,
      "grid_template_rows": null,
      "height": null,
      "justify_content": null,
      "justify_items": null,
      "left": null,
      "margin": null,
      "max_height": null,
      "max_width": null,
      "min_height": null,
      "min_width": null,
      "object_fit": null,
      "object_position": null,
      "order": null,
      "overflow": null,
      "overflow_x": null,
      "overflow_y": null,
      "padding": null,
      "right": null,
      "top": null,
      "visibility": null,
      "width": null
     }
    },
    "14d5cc69e04e4fe588144913d220e57f": {
     "model_module": "@jupyter-widgets/controls",
     "model_module_version": "1.5.0",
     "model_name": "DescriptionStyleModel",
     "state": {
      "_model_module": "@jupyter-widgets/controls",
      "_model_module_version": "1.5.0",
      "_model_name": "DescriptionStyleModel",
      "_view_count": null,
      "_view_module": "@jupyter-widgets/base",
      "_view_module_version": "1.2.0",
      "_view_name": "StyleView",
      "description_width": ""
     }
    },
    "2b52835f91344aa396de748f5a68e40e": {
     "model_module": "@jupyter-widgets/controls",
     "model_module_version": "1.5.0",
     "model_name": "DescriptionStyleModel",
     "state": {
      "_model_module": "@jupyter-widgets/controls",
      "_model_module_version": "1.5.0",
      "_model_name": "DescriptionStyleModel",
      "_view_count": null,
      "_view_module": "@jupyter-widgets/base",
      "_view_module_version": "1.2.0",
      "_view_name": "StyleView",
      "description_width": ""
     }
    },
    "2c93510709bd46c889be8a8872af280e": {
     "model_module": "@jupyter-widgets/base",
     "model_module_version": "1.2.0",
     "model_name": "LayoutModel",
     "state": {
      "_model_module": "@jupyter-widgets/base",
      "_model_module_version": "1.2.0",
      "_model_name": "LayoutModel",
      "_view_count": null,
      "_view_module": "@jupyter-widgets/base",
      "_view_module_version": "1.2.0",
      "_view_name": "LayoutView",
      "align_content": null,
      "align_items": null,
      "align_self": null,
      "border": null,
      "bottom": null,
      "display": null,
      "flex": null,
      "flex_flow": null,
      "grid_area": null,
      "grid_auto_columns": null,
      "grid_auto_flow": null,
      "grid_auto_rows": null,
      "grid_column": null,
      "grid_gap": null,
      "grid_row": null,
      "grid_template_areas": null,
      "grid_template_columns": null,
      "grid_template_rows": null,
      "height": null,
      "justify_content": null,
      "justify_items": null,
      "left": null,
      "margin": null,
      "max_height": null,
      "max_width": null,
      "min_height": null,
      "min_width": null,
      "object_fit": null,
      "object_position": null,
      "order": null,
      "overflow": null,
      "overflow_x": null,
      "overflow_y": null,
      "padding": null,
      "right": null,
      "top": null,
      "visibility": null,
      "width": null
     }
    },
    "4d7aec60591343bab6a920285a64112f": {
     "model_module": "@jupyter-widgets/base",
     "model_module_version": "1.2.0",
     "model_name": "LayoutModel",
     "state": {
      "_model_module": "@jupyter-widgets/base",
      "_model_module_version": "1.2.0",
      "_model_name": "LayoutModel",
      "_view_count": null,
      "_view_module": "@jupyter-widgets/base",
      "_view_module_version": "1.2.0",
      "_view_name": "LayoutView",
      "align_content": null,
      "align_items": null,
      "align_self": null,
      "border": null,
      "bottom": null,
      "display": null,
      "flex": null,
      "flex_flow": null,
      "grid_area": null,
      "grid_auto_columns": null,
      "grid_auto_flow": null,
      "grid_auto_rows": null,
      "grid_column": null,
      "grid_gap": null,
      "grid_row": null,
      "grid_template_areas": null,
      "grid_template_columns": null,
      "grid_template_rows": null,
      "height": null,
      "justify_content": null,
      "justify_items": null,
      "left": null,
      "margin": null,
      "max_height": null,
      "max_width": null,
      "min_height": null,
      "min_width": null,
      "object_fit": null,
      "object_position": null,
      "order": null,
      "overflow": null,
      "overflow_x": null,
      "overflow_y": null,
      "padding": null,
      "right": null,
      "top": null,
      "visibility": null,
      "width": null
     }
    },
    "5ffc14edebc2432f9b95e774167ed333": {
     "model_module": "@jupyter-widgets/base",
     "model_module_version": "1.2.0",
     "model_name": "LayoutModel",
     "state": {
      "_model_module": "@jupyter-widgets/base",
      "_model_module_version": "1.2.0",
      "_model_name": "LayoutModel",
      "_view_count": null,
      "_view_module": "@jupyter-widgets/base",
      "_view_module_version": "1.2.0",
      "_view_name": "LayoutView",
      "align_content": null,
      "align_items": null,
      "align_self": null,
      "border": null,
      "bottom": null,
      "display": null,
      "flex": null,
      "flex_flow": null,
      "grid_area": null,
      "grid_auto_columns": null,
      "grid_auto_flow": null,
      "grid_auto_rows": null,
      "grid_column": null,
      "grid_gap": null,
      "grid_row": null,
      "grid_template_areas": null,
      "grid_template_columns": null,
      "grid_template_rows": null,
      "height": null,
      "justify_content": null,
      "justify_items": null,
      "left": null,
      "margin": null,
      "max_height": null,
      "max_width": null,
      "min_height": null,
      "min_width": null,
      "object_fit": null,
      "object_position": null,
      "order": null,
      "overflow": null,
      "overflow_x": null,
      "overflow_y": null,
      "padding": null,
      "right": null,
      "top": null,
      "visibility": null,
      "width": null
     }
    },
    "6422c15135a24be783734f255088421f": {
     "model_module": "@jupyter-widgets/controls",
     "model_module_version": "1.5.0",
     "model_name": "ProgressStyleModel",
     "state": {
      "_model_module": "@jupyter-widgets/controls",
      "_model_module_version": "1.5.0",
      "_model_name": "ProgressStyleModel",
      "_view_count": null,
      "_view_module": "@jupyter-widgets/base",
      "_view_module_version": "1.2.0",
      "_view_name": "StyleView",
      "bar_color": null,
      "description_width": ""
     }
    },
    "99beab2c378044f9833caf3d6b6f3d4e": {
     "model_module": "@jupyter-widgets/controls",
     "model_module_version": "1.5.0",
     "model_name": "HTMLModel",
     "state": {
      "_dom_classes": [],
      "_model_module": "@jupyter-widgets/controls",
      "_model_module_version": "1.5.0",
      "_model_name": "HTMLModel",
      "_view_count": null,
      "_view_module": "@jupyter-widgets/controls",
      "_view_module_version": "1.5.0",
      "_view_name": "HTMLView",
      "description": "",
      "description_tooltip": null,
      "layout": "IPY_MODEL_0adcbace0f6946568311b8010d5c7fc3",
      "placeholder": "​",
      "style": "IPY_MODEL_2b52835f91344aa396de748f5a68e40e",
      "value": "Loading checkpoint shards: 100%"
     }
    },
    "d3c2cd7f501c4c93ab43730f061273b5": {
     "model_module": "@jupyter-widgets/controls",
     "model_module_version": "1.5.0",
     "model_name": "FloatProgressModel",
     "state": {
      "_dom_classes": [],
      "_model_module": "@jupyter-widgets/controls",
      "_model_module_version": "1.5.0",
      "_model_name": "FloatProgressModel",
      "_view_count": null,
      "_view_module": "@jupyter-widgets/controls",
      "_view_module_version": "1.5.0",
      "_view_name": "ProgressView",
      "bar_style": "success",
      "description": "",
      "description_tooltip": null,
      "layout": "IPY_MODEL_4d7aec60591343bab6a920285a64112f",
      "max": 2,
      "min": 0,
      "orientation": "horizontal",
      "style": "IPY_MODEL_6422c15135a24be783734f255088421f",
      "value": 2
     }
    },
    "f795283dfaad4da2bb0b3fce64f7f8c2": {
     "model_module": "@jupyter-widgets/controls",
     "model_module_version": "1.5.0",
     "model_name": "HTMLModel",
     "state": {
      "_dom_classes": [],
      "_model_module": "@jupyter-widgets/controls",
      "_model_module_version": "1.5.0",
      "_model_name": "HTMLModel",
      "_view_count": null,
      "_view_module": "@jupyter-widgets/controls",
      "_view_module_version": "1.5.0",
      "_view_name": "HTMLView",
      "description": "",
      "description_tooltip": null,
      "layout": "IPY_MODEL_2c93510709bd46c889be8a8872af280e",
      "placeholder": "​",
      "style": "IPY_MODEL_14d5cc69e04e4fe588144913d220e57f",
      "value": " 2/2 [00:02&lt;00:00,  1.38s/it]"
     }
    },
    "fe25ee512c184077be919dcd38d43296": {
     "model_module": "@jupyter-widgets/controls",
     "model_module_version": "1.5.0",
     "model_name": "HBoxModel",
     "state": {
      "_dom_classes": [],
      "_model_module": "@jupyter-widgets/controls",
      "_model_module_version": "1.5.0",
      "_model_name": "HBoxModel",
      "_view_count": null,
      "_view_module": "@jupyter-widgets/controls",
      "_view_module_version": "1.5.0",
      "_view_name": "HBoxView",
      "box_style": "",
      "children": [
       "IPY_MODEL_99beab2c378044f9833caf3d6b6f3d4e",
       "IPY_MODEL_d3c2cd7f501c4c93ab43730f061273b5",
       "IPY_MODEL_f795283dfaad4da2bb0b3fce64f7f8c2"
      ],
      "layout": "IPY_MODEL_5ffc14edebc2432f9b95e774167ed333"
     }
    }
   }
  }
 },
 "nbformat": 4,
 "nbformat_minor": 0
}
