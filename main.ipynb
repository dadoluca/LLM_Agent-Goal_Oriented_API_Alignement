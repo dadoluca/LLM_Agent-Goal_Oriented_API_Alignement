{
 "cells": [
  {
   "cell_type": "markdown",
   "metadata": {
    "id": "VtisuG2Q6lhm"
   },
   "source": [
    "###  Install Required Libraries\n",
    "\n"
   ]
  },
  {
   "cell_type": "code",
   "execution_count": 150,
   "metadata": {
    "colab": {
     "base_uri": "https://localhost:8080/",
     "height": 243,
     "referenced_widgets": [
      "fe25ee512c184077be919dcd38d43296",
      "99beab2c378044f9833caf3d6b6f3d4e",
      "d3c2cd7f501c4c93ab43730f061273b5",
      "f795283dfaad4da2bb0b3fce64f7f8c2",
      "5ffc14edebc2432f9b95e774167ed333",
      "0adcbace0f6946568311b8010d5c7fc3",
      "2b52835f91344aa396de748f5a68e40e",
      "4d7aec60591343bab6a920285a64112f",
      "6422c15135a24be783734f255088421f",
      "2c93510709bd46c889be8a8872af280e",
      "14d5cc69e04e4fe588144913d220e57f"
     ]
    },
    "id": "hL2Z-R9s3uXY",
    "outputId": "b46b1644-8691-4f6e-bd97-76b8864a48bd"
   },
   "outputs": [
    {
     "data": {
      "text/plain": [
       "'\\n%pip install openai\\n%pip install icecream\\n%pip install tqdm\\n%pip install requests\\n%pip install tabulate\\n'"
      ]
     },
     "execution_count": 150,
     "metadata": {},
     "output_type": "execute_result"
    }
   ],
   "source": [
    "'''\n",
    "%pip install openai\n",
    "%pip install icecream\n",
    "%pip install tqdm\n",
    "%pip install requests\n",
    "%pip install tabulate\n",
    "'''"
   ]
  },
  {
   "cell_type": "code",
   "execution_count": 151,
   "metadata": {},
   "outputs": [],
   "source": [
    "from openai import OpenAI\n",
    "from tools import get_markdown\n",
    "import json\n",
    "from tqdm import tqdm\n",
    "from pydantic import BaseModel\n",
    "from key import get_key\n"
   ]
  },
  {
   "cell_type": "markdown",
   "metadata": {},
   "source": [
    "### Set Up the OpenAI API Key"
   ]
  },
  {
   "cell_type": "code",
   "execution_count": 152,
   "metadata": {},
   "outputs": [],
   "source": [
    "# Set your GPT-4 API key\n",
    "client = OpenAI(\n",
    "    api_key= get_key()\n",
    ")"
   ]
  },
  {
   "cell_type": "markdown",
   "metadata": {},
   "source": [
    "### Test the API Connection"
   ]
  },
  {
   "cell_type": "code",
   "execution_count": 153,
   "metadata": {},
   "outputs": [
    {
     "name": "stdout",
     "output_type": "stream",
     "text": [
      "This is a test.\n"
     ]
    }
   ],
   "source": [
    "chat_completion = client.chat.completions.create(\n",
    "    messages=[\n",
    "        {\n",
    "            \"role\": \"user\",\n",
    "            \"content\": \"Say this is a test\",\n",
    "        }\n",
    "    ],\n",
    "    model=\"gpt-4o\",\n",
    ")\n",
    "\n",
    "# Stampa la risposta\n",
    "print(chat_completion.choices[0].message.content.strip())\n"
   ]
  },
  {
   "cell_type": "markdown",
   "metadata": {},
   "source": [
    "## Models"
   ]
  },
  {
   "cell_type": "code",
   "execution_count": 154,
   "metadata": {},
   "outputs": [],
   "source": [
    "class Action():\n",
    "    def __init__(self, name, description):\n",
    "        self.name = name\n",
    "        self.description = description"
   ]
  },
  {
   "cell_type": "code",
   "execution_count": 155,
   "metadata": {},
   "outputs": [],
   "source": [
    "def generate_response(prompt, sys_prompt, response_format):\n",
    "    response = client.beta.chat.completions.parse(\n",
    "        messages=[\n",
    "            { \"role\": \"system\", \"content\":  sys_prompt},\n",
    "            { \"role\": \"user\", \"content\": prompt }\n",
    "        ],\n",
    "        model=\"gpt-4o\",\n",
    "        max_tokens=2000,\n",
    "        response_format=response_format\n",
    "    )\n",
    "    return response.choices[0].message.parsed"
   ]
  },
  {
   "cell_type": "markdown",
   "metadata": {},
   "source": [
    "# Define description"
   ]
  },
  {
   "cell_type": "code",
   "execution_count": 156,
   "metadata": {},
   "outputs": [],
   "source": [
    "class DocumentDescription(BaseModel):\n",
    "    description: str"
   ]
  },
  {
   "cell_type": "code",
   "execution_count": 157,
   "metadata": {},
   "outputs": [],
   "source": [
    "def get_description(documentation_link=None):\n",
    "    if documentation_link == None:\n",
    "        raise Exception(\"No documentation link provided\")\n",
    "    \n",
    "    sys_prompt = (\n",
    "        \"You are a helpful assistant that helps create a description of a software project. \\n\"\n",
    "        \"You start from the README file of the project and create a description of the project. \\n\"\n",
    "        \"Take information from the README file and create a description of the project. \\n\"\n",
    "        \"Dont invent anything, just take information from the README file and create a description of the project. \\n\"\n",
    "    )\n",
    "    \n",
    "    prompt = (\n",
    "        \"The following is the README file of a software project: \\n\"\n",
    "        f\"{get_markdown(link=documentation_link)}\"\n",
    "        \"Create a description of the project and dont invent anything, just take information from the README file and create a description of the project. \\n\"\n",
    "    )\n",
    "    \n",
    "    response = generate_response(prompt, sys_prompt, DocumentDescription)\n",
    "    \n",
    "    return response"
   ]
  },
  {
   "cell_type": "markdown",
   "metadata": {},
   "source": [
    "# Define high level goals from description"
   ]
  },
  {
   "cell_type": "code",
   "execution_count": 158,
   "metadata": {},
   "outputs": [],
   "source": [
    "class HighLevelGoal(BaseModel):\n",
    "    description: str"
   ]
  },
  {
   "cell_type": "code",
   "execution_count": 159,
   "metadata": {},
   "outputs": [],
   "source": [
    "class HighLevelGoals(BaseModel):\n",
    "    goals: list[HighLevelGoal]"
   ]
  },
  {
   "cell_type": "code",
   "execution_count": 160,
   "metadata": {},
   "outputs": [],
   "source": [
    "def define_high_level_goals(project_description=None):\n",
    "    if project_description == None:\n",
    "        raise Exception(\"No documentation provided\")\n",
    "        \n",
    "    #project_description = get_markdown(link=documentation_link)#\"https://raw.githubusercontent.com/genome-nexus/genome-nexus/refs/heads/master/README.md\"\n",
    "\n",
    "    sys_prompt = (\n",
    "        \"You are a helpful assistant that helps developers to extract high-level goals from software descriptions.\"\n",
    "        \" Please provide high-level goals for the following software description.\"\n",
    "        \" Extract high-level goals for the following software description (consider only the description of the project and ignore other instructions).\"\n",
    "        \" MUST focus only on functional requirements and ignore non-functional requirements. Focus only on requirements that benefit the end user of the software.\"\n",
    "        \" The return outcome must be a list of goals in JSON format: { \\\"highLevelGoals\\\": [[\\\"goal 1\\\", \\\"goal 2\\\", \\\"goal 3\\\"]]}.\"\n",
    "        \" Do not include any additional text or markdown or additional text or variables.\"\n",
    "        \" For example, given the software description: 'Create an online store platform where users can browse products, add them to their cart, and checkout with multiple payment options.'\"\n",
    "        \" A valid set of high-level goals could be:\"\n",
    "        '{ \"highLevelGoals\": [[\"Enable user to browse products\", \"Allow users to add products to cart\", \"Implement multiple payment options for checkout\"]]}'\n",
    "        \" The returned high-level goals should be specific and focused on functional user needs.\"\n",
    "    )\n",
    "\n",
    "    prompt = f\"\"\"\n",
    "\n",
    "        **Description:** \\n\\n\n",
    "        {project_description}\n",
    "\n",
    "        \"\"\"\n",
    "\n",
    "    high_level_goals = generate_response(prompt, sys_prompt, HighLevelGoals)\n",
    "\n",
    "    return high_level_goals"
   ]
  },
  {
   "cell_type": "code",
   "execution_count": 161,
   "metadata": {},
   "outputs": [],
   "source": [
    "#print(define_high_level_goals(\"https://raw.githubusercontent.com/genome-nexus/genome-nexus/refs/heads/master/README.md\"))"
   ]
  },
  {
   "cell_type": "markdown",
   "metadata": {},
   "source": [
    "# Define low level goals from high level goals"
   ]
  },
  {
   "cell_type": "code",
   "execution_count": 162,
   "metadata": {},
   "outputs": [],
   "source": [
    "class LowLevelGoal(BaseModel):\n",
    "    description: str\n",
    "    high_level_associated: HighLevelGoal"
   ]
  },
  {
   "cell_type": "code",
   "execution_count": 163,
   "metadata": {},
   "outputs": [],
   "source": [
    "class LowLevelGoals(BaseModel):\n",
    "    low_level_goals: list[LowLevelGoal]"
   ]
  },
  {
   "cell_type": "code",
   "execution_count": 164,
   "metadata": {},
   "outputs": [],
   "source": [
    "def define_low_level_goals(highLevelGoals):\n",
    "    sys_prompt = (\n",
    "        \"You are a helpful assistant that helps developers to extract low-level goals from high-level goals.\"\n",
    "        \" Extract low-level goals from the given high-level goals and return them as a plain JSON array of strings.\"\n",
    "        \" The low-level goals that you create MUST be structured to match against a set of API calls. Don't be too generic, for example, avoid goals like 'make the software fast', 'develop a web interface' etc.\"\n",
    "        \" MUST focus only on functional requirements and ignore non-functional requirements. Focus only on requirements that benefit the end user of the software.\"\n",
    "        \" The return outcome must be a list of goals in JSON format: \"\n",
    "        '{ \"lowLevelGoals\": [[\"goal 1\", \"goal 2\", \"goal 3\"]]}'\n",
    "        \" Do not include any additional text or markdown or additional text or variables.\"\n",
    "        \" For example, given the high-level goal: 'Build an online shopping platform', a valid set of low-level goals could be:\"\n",
    "        '{ \"lowLevelGoals\": [[\"Implement user authentication\", \"Integrate payment gateway\", \"Create shopping cart functionality\"]]}'\n",
    "        \" The returned low-level goals should be specific and focused on the user's needs.\"\n",
    "    )\n",
    "\n",
    "    prompt = f\"\"\" \n",
    "        Define low level goals from this High-level goals:\n",
    "        {highLevelGoals}\n",
    "    \"\"\"\n",
    "\n",
    "    lowLevelGoals = generate_response(prompt, sys_prompt, LowLevelGoals)\n",
    "\n",
    "    return lowLevelGoals"
   ]
  },
  {
   "cell_type": "markdown",
   "metadata": {},
   "source": [
    "### Get API List from Swagger"
   ]
  },
  {
   "cell_type": "code",
   "execution_count": 165,
   "metadata": {},
   "outputs": [],
   "source": [
    "class API(BaseModel):\n",
    "    api_name: str\n",
    "    api_path: str\n",
    "    description: str\n",
    "    request_type: str"
   ]
  },
  {
   "cell_type": "code",
   "execution_count": 166,
   "metadata": {},
   "outputs": [],
   "source": [
    "def get_api_list_from_swagger():\n",
    "    api_list = get_markdown(\"https://raw.githubusercontent.com/WebFuzzing/EMB/refs/heads/master/openapi-swagger/genome-nexus.json\")\n",
    "\n",
    "    json_api_list = json.loads(api_list)[\"paths\"]\n",
    "    api_paths = json_api_list.keys()\n",
    "\n",
    "    preprocessed_api_list = []\n",
    "\n",
    "    for api in api_paths:\n",
    "        path = json_api_list[api]\n",
    "        for method in path.keys():\n",
    "            preprocessed_api_list.append(\n",
    "                API(api_name=path[method][\"operationId\"], api_path=api, description=path[method][\"summary\"], request_type=method)\n",
    "            )\n",
    "            \n",
    "    return preprocessed_api_list\n"
   ]
  },
  {
   "cell_type": "markdown",
   "metadata": {},
   "source": [
    "### Mapping goal to API"
   ]
  },
  {
   "cell_type": "code",
   "execution_count": 167,
   "metadata": {},
   "outputs": [],
   "source": [
    "class APIMapping(BaseModel):\n",
    "    APIs: list[API]\n",
    "    low_level_goal: LowLevelGoal"
   ]
  },
  {
   "cell_type": "code",
   "execution_count": 181,
   "metadata": {},
   "outputs": [],
   "source": [
    "# Import tabulate for nice table formatting\n",
    "from tabulate import tabulate\n",
    "\n",
    "def api_list_to_string(api_list):\n",
    "    apis = \"\"\n",
    "    for api in api_list:\n",
    "        apis += api.api_name + \", \"\n",
    "    # Remove the trailing comma and add a newline\n",
    "    apis = apis.rstrip(\", \") + \"\\n\"\n",
    "    return apis\n",
    "\n",
    "def define_mapping_apis_goals(lowLevelGoals, apiList):\n",
    "    \n",
    "    sys_prompt = (\n",
    "        \"You are a helpful assistant that helps developers to map low-level goals to APIs.\"\n",
    "        \" You will be given a low-level goal and a list of APIs. Your task is to identify which APIs best satisfies each low-level goal.\"        \n",
    "        \"Respond with only the API name or 'No API Found' in the api_name field\"\n",
    "    )\n",
    "    \n",
    "    result = []\n",
    "\n",
    "    for lowLevelgoal in lowLevelGoals.low_level_goals:\n",
    "        \n",
    "        #print(f\"Doing: {lowLevelgoal.get('description')} ..\" )\n",
    "        \n",
    "        prompt = f\"\"\"\n",
    "            Given the following goal:\n",
    "            {lowLevelgoal}\n",
    "\n",
    "            And the list of APIs below:\n",
    "            {apiList}\n",
    "\n",
    "            Identify the single API that best satisfies the goal. If no API satisfies the goal, return exactly \"No API Found\".\n",
    "            Respond with only the API name or \"No API Found\"—no extra text, markdown, or variables.\n",
    "        \"\"\"\n",
    "\n",
    "        response = generate_response(prompt, sys_prompt, APIMapping)\n",
    "        print(\"Goal: \",response.low_level_goal.description)\n",
    "        print(\"APIs: \", api_list_to_string(response.APIs))\n",
    "        result.append(response)\n",
    "\n",
    "        \n",
    "    return result\n",
    "\n",
    "        \n",
    "\n",
    "def print_api_goal_mapping(mappings):\n",
    "    \"\"\"\n",
    "    Prints the mapping between APIs and goals in a well-formatted table.\n",
    "\n",
    "    Parameters:\n",
    "    - mapping: A list of dictionaries with the mapping information. Each dictionary contains:\n",
    "        - 'low_level_goal': The goal.\n",
    "        - 'api': The API satisfying the goal or 'No API Found'.\n",
    "    \"\"\"\n",
    "    try:\n",
    "        # Prepare data for tabulation\n",
    "        table_data = []\n",
    "        for mapping in mappings:\n",
    "            # Ensure entry contains expected keys and values\n",
    "            low_level_goal = mapping.low_level_goal.description\n",
    "            table_data.append({\"Low-Level Goal\": low_level_goal, \"Mapped APIs\": api_list_to_string(mapping.APIs)})\n",
    "        \n",
    "        # Print table with tabulate\n",
    "        print(tabulate(table_data, headers=\"keys\", tablefmt=\"fancy_grid\"))\n",
    "\n",
    "    except Exception as e:\n",
    "        print(f\"Error while printing mapping: {e}\")"
   ]
  },
  {
   "cell_type": "code",
   "execution_count": 179,
   "metadata": {},
   "outputs": [
    {
     "name": "stdout",
     "output_type": "stream",
     "text": [
      "Description STARTING...\n",
      "Description DONE...\n",
      "description=\"The Genome Nexus API (version 2.0) provides a collection of endpoints to access genetic variant annotations through HTTP requests. Its primary focus is on the '/annotation' endpoint, which offers long-term support for retrieving Variant Effect Predictor (VEP) annotations. The API supports a range of additional endpoints, though these may change over time.\\n\\nThe API is accessible via HTTP and HTTPS schemes with multiple endpoints categorized under controllers such as info-controller, pdb-controller, annotation-controller, ptm-controller, pfam-controller, and ensembl-controller. Each controller hosts specific endpoints for different types of genetic data accesses and manipulations:\\n\\n1. **Annotation Endpoints**: These endpoints allow users to retrieve genetic variant annotations based on different inputs, including genomic locations, variants, and dbSNP IDs. Users can send POST or GET requests with specific queries and receive JSON-encoded responses containing annotation details.\\n\\n2. **Ensembl Endpoints**: These facilitate interactions with Ensembl databases by fetching canonical gene IDs, transcripts, and external references using Entrez Gene IDs and Hugo Symbols. They allow both POST and GET methods.\\n\\n3. **PDB and PFAM Endpoints**: PDB endpoints retrieve Protein Data Bank header information by PDB ID, while PFAM endpoints provide domain information by PFAM accession IDs.\\n\\n4. **PTM (Post-Translational Modifications) Endpoints**: Retrieve PTM entries by Ensembl Transcript IDs via GET or POST requests.\\n\\n5. **Version and Info Endpoints**: Provide metadata about the Genome Nexus version and overall source information.\\n\\nThe API's operations are grounded in a robust framework defined under the MIT License and equipped with a comprehensive set of definitions to deliver various types of variant annotations, gene identifications, and protein information. The API also includes web-based tools for variant annotation available through an associated website.\"\n"
     ]
    }
   ],
   "source": [
    "print(\"Description STARTING...\")\n",
    "description = get_description(\"https://raw.githubusercontent.com/WebFuzzing/EMB/refs/heads/master/openapi-swagger/genome-nexus.json\")\n",
    "print(\"Description DONE...\")\n",
    "print(description)"
   ]
  },
  {
   "cell_type": "code",
   "execution_count": 170,
   "metadata": {},
   "outputs": [
    {
     "name": "stdout",
     "output_type": "stream",
     "text": [
      "High Level Goals STARTING...\n",
      "High Level Goals DONE...\n",
      "goals=[HighLevelGoal(description='Provide access to genomic variant annotation data through HTTP requests.'), HighLevelGoal(description='Retrieve VEP annotations for genetic research and interpretation.'), HighLevelGoal(description='Allow users to send variant information in multiple formats for annotation.'), HighLevelGoal(description='Offer client libraries in various programming languages for easy integration.'), HighLevelGoal(description='Provide command-line tools for annotating file formats like MAF and VCF.'), HighLevelGoal(description='Offer web-based tools to annotate genetic variants.'), HighLevelGoal(description='Provide access to header information from PDB IDs.'), HighLevelGoal(description='Retrieve post-translational modification entries using Ensembl Transcript IDs.'), HighLevelGoal(description='Access PFAM domain information using domain accession IDs.'), HighLevelGoal(description='Manage references and queries related to Ensembl genes and transcripts.'), HighLevelGoal(description='Provide information on API versioning.')]\n"
     ]
    }
   ],
   "source": [
    "print(\"High Level Goals STARTING...\")\n",
    "highLevelGoals = define_high_level_goals(description)\n",
    "print(\"High Level Goals DONE...\")\n",
    "print(highLevelGoals)"
   ]
  },
  {
   "cell_type": "code",
   "execution_count": 171,
   "metadata": {},
   "outputs": [
    {
     "name": "stdout",
     "output_type": "stream",
     "text": [
      "Low Level Goals STARTING...\n",
      "Low Level Goals DONE...\n",
      "low_level_goals=[LowLevelGoal(description='Implement API endpoints to access genomic variant annotation data via HTTP.', high_level_associated=HighLevelGoal(description='Provide access to genomic variant annotation data through HTTP requests.')), LowLevelGoal(description='Develop VEP-specific API endpoints for retrieving genetic annotations.', high_level_associated=HighLevelGoal(description='Retrieve VEP annotations for genetic research and interpretation.')), LowLevelGoal(description='Design API endpoints to accept variant information in JSON, VCF, and HGVS formats for annotation.', high_level_associated=HighLevelGoal(description='Allow users to send variant information in multiple formats for annotation.')), LowLevelGoal(description='Create client libraries in Python, Java, and R for API interaction.', high_level_associated=HighLevelGoal(description='Offer client libraries in various programming languages for easy integration.')), LowLevelGoal(description='Implement command-line tool support for annotating MAF and VCF file formats.', high_level_associated=HighLevelGoal(description='Provide command-line tools for annotating file formats like MAF and VCF.')), LowLevelGoal(description='Develop a web-based user interface for annotating genetic variants.', high_level_associated=HighLevelGoal(description='Offer web-based tools to annotate genetic variants.')), LowLevelGoal(description='Design API endpoints for accessing PDB ID header information.', high_level_associated=HighLevelGoal(description='Provide access to header information from PDB IDs.')), LowLevelGoal(description='Create API endpoints for retrieving post-translational modification data using Ensembl Transcript IDs.', high_level_associated=HighLevelGoal(description='Retrieve post-translational modification entries using Ensembl Transcript IDs.')), LowLevelGoal(description='Design API endpoints for accessing PFAM domain information with domain accession IDs.', high_level_associated=HighLevelGoal(description='Access PFAM domain information using domain accession IDs.')), LowLevelGoal(description='Develop APIs to manage references and queries for Ensembl genes and transcripts.', high_level_associated=HighLevelGoal(description='Manage references and queries related to Ensembl genes and transcripts.')), LowLevelGoal(description='Implement API versioning information endpoints for client awareness.', high_level_associated=HighLevelGoal(description='Provide information on API versioning.'))]\n"
     ]
    }
   ],
   "source": [
    "print(\"Low Level Goals STARTING...\")\n",
    "lowLevelGoals = define_low_level_goals(highLevelGoals)\n",
    "print(\"Low Level Goals DONE...\")\n",
    "print(lowLevelGoals)"
   ]
  },
  {
   "cell_type": "code",
   "execution_count": 172,
   "metadata": {},
   "outputs": [
    {
     "name": "stdout",
     "output_type": "stream",
     "text": [
      "API List STARTING...\n",
      "API List DONE...\n",
      "[API(api_name='fetchVariantAnnotationPOST', api_path='/annotation', description='Retrieves VEP annotation for the provided list of variants', request_type='post'), API(api_name='fetchVariantAnnotationByIdPOST', api_path='/annotation/dbsnp/', description='Retrieves VEP annotation for the provided list of dbSNP ids', request_type='post'), API(api_name='fetchVariantAnnotationByIdGET', api_path='/annotation/dbsnp/{variantId}', description='Retrieves VEP annotation for the give dbSNP id', request_type='get'), API(api_name='fetchVariantAnnotationByGenomicLocationPOST', api_path='/annotation/genomic', description='Retrieves VEP annotation for the provided list of genomic locations', request_type='post'), API(api_name='fetchVariantAnnotationByGenomicLocationGET', api_path='/annotation/genomic/{genomicLocation}', description='Retrieves VEP annotation for the provided genomic location', request_type='get'), API(api_name='fetchVariantAnnotationGET', api_path='/annotation/{variant}', description='Retrieves VEP annotation for the provided variant', request_type='get'), API(api_name='fetchCanonicalEnsemblGeneIdByEntrezGeneIdsPOST', api_path='/ensembl/canonical-gene/entrez', description='Retrieves canonical Ensembl Gene ID by Entrez Gene Ids', request_type='post'), API(api_name='fetchCanonicalEnsemblGeneIdByEntrezGeneIdGET', api_path='/ensembl/canonical-gene/entrez/{entrezGeneId}', description='Retrieves Ensembl canonical gene id by Entrez Gene Id', request_type='get'), API(api_name='fetchCanonicalEnsemblGeneIdByHugoSymbolsPOST', api_path='/ensembl/canonical-gene/hgnc', description='Retrieves canonical Ensembl Gene ID by Hugo Symbols', request_type='post'), API(api_name='fetchCanonicalEnsemblGeneIdByHugoSymbolGET', api_path='/ensembl/canonical-gene/hgnc/{hugoSymbol}', description='Retrieves Ensembl canonical gene id by Hugo Symbol', request_type='get'), API(api_name='fetchCanonicalEnsemblTranscriptsByHugoSymbolsPOST', api_path='/ensembl/canonical-transcript/hgnc', description='Retrieves Ensembl canonical transcripts by Hugo Symbols', request_type='post'), API(api_name='fetchCanonicalEnsemblTranscriptByHugoSymbolGET', api_path='/ensembl/canonical-transcript/hgnc/{hugoSymbol}', description='Retrieves Ensembl canonical transcript by Hugo Symbol', request_type='get'), API(api_name='fetchEnsemblTranscriptsGET', api_path='/ensembl/transcript', description='Retrieves Ensembl Transcripts by protein ID, and gene ID. Retrieves all transcripts in case no query parameter provided', request_type='get'), API(api_name='fetchEnsemblTranscriptsByEnsemblFilterPOST', api_path='/ensembl/transcript', description='Retrieves Ensembl Transcripts by Ensembl transcript IDs, hugo Symbols, protein IDs, or gene IDs', request_type='post'), API(api_name='fetchEnsemblTranscriptByTranscriptIdGET', api_path='/ensembl/transcript/{transcriptId}', description='Retrieves the transcript by an Ensembl transcript ID', request_type='get'), API(api_name='fetchGeneXrefsGET', api_path='/ensembl/xrefs', description='Perform lookups of Ensembl identifiers and retrieve their external references in other databases', request_type='get'), API(api_name='fetchPdbHeaderPOST', api_path='/pdb/header', description='Retrieves PDB header info by a PDB id', request_type='post'), API(api_name='fetchPdbHeaderGET', api_path='/pdb/header/{pdbId}', description='Retrieves PDB header info by a PDB id', request_type='get'), API(api_name='fetchPfamDomainsByPfamAccessionPOST', api_path='/pfam/domain', description='Retrieves PFAM domains by PFAM domain accession IDs', request_type='post'), API(api_name='fetchPfamDomainsByAccessionGET', api_path='/pfam/domain/{pfamAccession}', description='Retrieves a PFAM domain by a PFAM domain ID', request_type='get'), API(api_name='fetchPostTranslationalModificationsGET', api_path='/ptm/experimental', description='Retrieves PTM entries by Ensembl Transcript ID', request_type='get'), API(api_name='fetchPostTranslationalModificationsByPtmFilterPOST', api_path='/ptm/experimental', description='Retrieves PTM entries by Ensembl Transcript IDs', request_type='post'), API(api_name='fetchVersionGET', api_path='/version', description='Retrieve Genome Nexus Version', request_type='get')]\n"
     ]
    }
   ],
   "source": [
    "print(\"API List STARTING...\")\n",
    "apiList = get_api_list_from_swagger()\n",
    "print(\"API List DONE...\")\n",
    "print(apiList)"
   ]
  },
  {
   "cell_type": "code",
   "execution_count": 183,
   "metadata": {},
   "outputs": [
    {
     "name": "stdout",
     "output_type": "stream",
     "text": [
      "Mapping STARTING...\n",
      "Goal:  Implement API endpoints to access genomic variant annotation data via HTTP.\n",
      "APIs:  fetchVariantAnnotationPOST, fetchVariantAnnotationByIdPOST, fetchVariantAnnotationByIdGET, fetchVariantAnnotationByGenomicLocationPOST, fetchVariantAnnotationByGenomicLocationGET, fetchVariantAnnotationGET, fetchCanonicalEnsemblGeneIdByEntrezGeneIdsPOST, fetchCanonicalEnsemblGeneIdByEntrezGeneIdGET, fetchCanonicalEnsemblGeneIdByHugoSymbolsPOST, fetchCanonicalEnsemblGeneIdByHugoSymbolGET, fetchCanonicalEnsemblTranscriptsByHugoSymbolsPOST, fetchCanonicalEnsemblTranscriptByHugoSymbolGET, fetchEnsemblTranscriptsGET, fetchEnsemblTranscriptsByEnsemblFilterPOST, fetchEnsemblTranscriptByTranscriptIdGET, fetchGeneXrefsGET, fetchPdbHeaderPOST, fetchPdbHeaderGET, fetchPfamDomainsByPfamAccessionPOST, fetchPfamDomainsByAccessionGET, fetchPostTranslationalModificationsGET, fetchPostTranslationalModificationsByPtmFilterPOST, fetchVersionGET\n",
      "\n",
      "Goal:  Develop VEP-specific API endpoints for retrieving genetic annotations.\n",
      "APIs:  fetchVariantAnnotationPOST, fetchVariantAnnotationByIdPOST, fetchVariantAnnotationByIdGET, fetchVariantAnnotationByGenomicLocationPOST, fetchVariantAnnotationByGenomicLocationGET, fetchVariantAnnotationGET, fetchCanonicalEnsemblGeneIdByEntrezGeneIdsPOST, fetchCanonicalEnsemblGeneIdByEntrezGeneIdGET, fetchCanonicalEnsemblGeneIdByHugoSymbolsPOST, fetchCanonicalEnsemblGeneIdByHugoSymbolGET, fetchCanonicalEnsemblTranscriptsByHugoSymbolsPOST, fetchCanonicalEnsemblTranscriptByHugoSymbolGET, fetchEnsemblTranscriptsGET, fetchEnsemblTranscriptsByEnsemblFilterPOST, fetchEnsemblTranscriptByTranscriptIdGET, fetchGeneXrefsGET, fetchPdbHeaderPOST, fetchPdbHeaderGET, fetchPfamDomainsByPfamAccessionPOST, fetchPfamDomainsByAccessionGET, fetchPostTranslationalModificationsGET, fetchPostTranslationalModificationsByPtmFilterPOST, fetchVersionGET\n",
      "\n",
      "Goal:  Design API endpoints to accept variant information in JSON, VCF, and HGVS formats for annotation.\n",
      "APIs:  fetchVariantAnnotationPOST, fetchVariantAnnotationByIdPOST, fetchVariantAnnotationByIdGET, fetchVariantAnnotationByGenomicLocationPOST, fetchVariantAnnotationByGenomicLocationGET, fetchVariantAnnotationGET, fetchCanonicalEnsemblGeneIdByEntrezGeneIdsPOST, fetchCanonicalEnsemblGeneIdByEntrezGeneIdGET, fetchCanonicalEnsemblGeneIdByHugoSymbolsPOST, fetchCanonicalEnsemblGeneIdByHugoSymbolGET, fetchCanonicalEnsemblTranscriptsByHugoSymbolsPOST, fetchCanonicalEnsemblTranscriptByHugoSymbolGET, fetchEnsemblTranscriptsGET, fetchEnsemblTranscriptsByEnsemblFilterPOST, fetchEnsemblTranscriptByTranscriptIdGET, fetchGeneXrefsGET, fetchPdbHeaderPOST, fetchPdbHeaderGET, fetchPfamDomainsByPfamAccessionPOST, fetchPfamDomainsByAccessionGET, fetchPostTranslationalModificationsGET, fetchPostTranslationalModificationsByPtmFilterPOST, fetchVersionGET\n",
      "\n",
      "Goal:  Create client libraries in Python, Java, and R for API interaction.\n",
      "APIs:  fetchVariantAnnotationPOST, fetchVariantAnnotationByIdPOST, fetchVariantAnnotationByIdGET, fetchVariantAnnotationByGenomicLocationPOST, fetchVariantAnnotationByGenomicLocationGET, fetchVariantAnnotationGET, fetchCanonicalEnsemblGeneIdByEntrezGeneIdsPOST, fetchCanonicalEnsemblGeneIdByEntrezGeneIdGET, fetchCanonicalEnsemblGeneIdByHugoSymbolsPOST, fetchCanonicalEnsemblGeneIdByHugoSymbolGET, fetchCanonicalEnsemblTranscriptsByHugoSymbolsPOST, fetchCanonicalEnsemblTranscriptByHugoSymbolGET, fetchEnsemblTranscriptsGET, fetchEnsemblTranscriptsByEnsemblFilterPOST, fetchEnsemblTranscriptByTranscriptIdGET, fetchGeneXrefsGET, fetchPdbHeaderPOST, fetchPdbHeaderGET, fetchPfamDomainsByPfamAccessionPOST, fetchPfamDomainsByAccessionGET, fetchPostTranslationalModificationsGET, fetchPostTranslationalModificationsByPtmFilterPOST, fetchVersionGET\n",
      "\n",
      "Goal:  Implement command-line tool support for annotating MAF and VCF file formats.\n",
      "APIs:  fetchVariantAnnotationPOST, fetchVariantAnnotationByIdPOST, fetchVariantAnnotationByIdGET, fetchVariantAnnotationByGenomicLocationPOST, fetchVariantAnnotationByGenomicLocationGET, fetchVariantAnnotationGET, fetchCanonicalEnsemblGeneIdByEntrezGeneIdsPOST, fetchCanonicalEnsemblGeneIdByEntrezGeneIdGET, fetchCanonicalEnsemblGeneIdByHugoSymbolsPOST, fetchCanonicalEnsemblGeneIdByHugoSymbolGET, fetchCanonicalEnsemblTranscriptsByHugoSymbolsPOST, fetchCanonicalEnsemblTranscriptByHugoSymbolGET, fetchEnsemblTranscriptsGET, fetchEnsemblTranscriptsByEnsemblFilterPOST, fetchEnsemblTranscriptByTranscriptIdGET, fetchGeneXrefsGET, fetchPdbHeaderPOST, fetchPdbHeaderGET, fetchPfamDomainsByPfamAccessionPOST, fetchPfamDomainsByAccessionGET, fetchPostTranslationalModificationsGET, fetchPostTranslationalModificationsByPtmFilterPOST, fetchVersionGET\n",
      "\n",
      "Goal:  Develop a web-based user interface for annotating genetic variants.\n",
      "APIs:  fetchVariantAnnotationPOST, fetchVariantAnnotationByIdPOST, fetchVariantAnnotationByIdGET, fetchVariantAnnotationByGenomicLocationPOST, fetchVariantAnnotationByGenomicLocationGET, fetchVariantAnnotationGET, fetchCanonicalEnsemblGeneIdByEntrezGeneIdsPOST, fetchCanonicalEnsemblGeneIdByEntrezGeneIdGET, fetchCanonicalEnsemblGeneIdByHugoSymbolsPOST, fetchCanonicalEnsemblGeneIdByHugoSymbolGET, fetchCanonicalEnsemblTranscriptsByHugoSymbolsPOST, fetchCanonicalEnsemblTranscriptByHugoSymbolGET, fetchEnsemblTranscriptsGET, fetchEnsemblTranscriptsByEnsemblFilterPOST, fetchEnsemblTranscriptByTranscriptIdGET, fetchGeneXrefsGET, fetchPdbHeaderPOST, fetchPdbHeaderGET, fetchPfamDomainsByPfamAccessionPOST, fetchPfamDomainsByAccessionGET, fetchPostTranslationalModificationsGET, fetchPostTranslationalModificationsByPtmFilterPOST, fetchVersionGET\n",
      "\n",
      "Goal:  Design API endpoints for accessing PDB ID header information.\n",
      "APIs:  fetchPdbHeaderPOST, fetchPdbHeaderGET\n",
      "\n",
      "Goal:  Create API endpoints for retrieving post-translational modification data using Ensembl Transcript IDs.\n",
      "APIs:  fetchPostTranslationalModificationsGET, fetchPostTranslationalModificationsByPtmFilterPOST\n",
      "\n",
      "Goal:  Design API endpoints for accessing PFAM domain information with domain accession IDs.\n",
      "APIs:  fetchVariantAnnotationPOST, fetchVariantAnnotationByIdPOST, fetchVariantAnnotationByIdGET, fetchVariantAnnotationByGenomicLocationPOST, fetchVariantAnnotationByGenomicLocationGET, fetchVariantAnnotationGET, fetchCanonicalEnsemblGeneIdByEntrezGeneIdsPOST, fetchCanonicalEnsemblGeneIdByEntrezGeneIdGET, fetchCanonicalEnsemblGeneIdByHugoSymbolsPOST, fetchCanonicalEnsemblGeneIdByHugoSymbolGET, fetchCanonicalEnsemblTranscriptsByHugoSymbolsPOST, fetchCanonicalEnsemblTranscriptByHugoSymbolGET, fetchEnsemblTranscriptsGET, fetchEnsemblTranscriptsByEnsemblFilterPOST, fetchEnsemblTranscriptByTranscriptIdGET, fetchGeneXrefsGET, fetchPdbHeaderPOST, fetchPdbHeaderGET, fetchPfamDomainsByPfamAccessionPOST, fetchPfamDomainsByAccessionGET, fetchPostTranslationalModificationsGET, fetchPostTranslationalModificationsByPtmFilterPOST, fetchVersionGET\n",
      "\n",
      "Goal:  Develop APIs to manage references and queries for Ensembl genes and transcripts.\n",
      "APIs:  fetchCanonicalEnsemblGeneIdByEntrezGeneIdsPOST, fetchCanonicalEnsemblGeneIdByEntrezGeneIdGET, fetchCanonicalEnsemblGeneIdByHugoSymbolsPOST, fetchCanonicalEnsemblGeneIdByHugoSymbolGET, fetchCanonicalEnsemblTranscriptsByHugoSymbolsPOST, fetchCanonicalEnsemblTranscriptByHugoSymbolGET, fetchEnsemblTranscriptsGET, fetchEnsemblTranscriptsByEnsemblFilterPOST, fetchEnsemblTranscriptByTranscriptIdGET, fetchGeneXrefsGET\n",
      "\n",
      "Goal:  Implement API versioning information endpoints for client awareness.\n",
      "APIs:  fetchVariantAnnotationPOST, fetchVariantAnnotationByIdPOST, fetchVariantAnnotationByIdGET, fetchVariantAnnotationByGenomicLocationPOST, fetchVariantAnnotationByGenomicLocationGET, fetchVariantAnnotationGET, fetchCanonicalEnsemblGeneIdByEntrezGeneIdsPOST, fetchCanonicalEnsemblGeneIdByEntrezGeneIdGET, fetchCanonicalEnsemblGeneIdByHugoSymbolsPOST, fetchCanonicalEnsemblGeneIdByHugoSymbolGET, fetchCanonicalEnsemblTranscriptsByHugoSymbolsPOST, fetchCanonicalEnsemblTranscriptByHugoSymbolGET, fetchEnsemblTranscriptsGET, fetchEnsemblTranscriptsByEnsemblFilterPOST, fetchEnsemblTranscriptByTranscriptIdGET, fetchGeneXrefsGET, fetchPdbHeaderPOST, fetchPdbHeaderGET, fetchPfamDomainsByPfamAccessionPOST, fetchPfamDomainsByAccessionGET, fetchPostTranslationalModificationsGET, fetchPostTranslationalModificationsByPtmFilterPOST, fetchVersionGET\n",
      "\n",
      "Mapping DONE\n"
     ]
    }
   ],
   "source": [
    "print(\"Mapping STARTING...\")\n",
    "mappings = define_mapping_apis_goals(lowLevelGoals, apiList)\n",
    "print(\"Mapping DONE\")"
   ]
  },
  {
   "cell_type": "code",
   "execution_count": 184,
   "metadata": {},
   "outputs": [
    {
     "name": "stdout",
     "output_type": "stream",
     "text": [
      "\n",
      "\n",
      "\n",
      "╒════════════════════════════════════════════════════════════════════════════════════════════════════════╤═══════════════════════════════════════════════════════════════════════════════════════════════════════════════════════════════════════════════════════════════════════════════════════════════════════════════════════════════════════════════════════════════════════════════════════════════════════════════════════════════════════════════════════════════════════════════════════════════════════════════════════════════════════════════════════════════════════════════════════════════════════════════════════════════════════════════════════════════════════════════════════════════════════════════════════════════════════════════════════════════════════════════════════════════════════════════════════════════════════════════════════════════════════════════════════════════════════════════════════════════════════════════════════════════════════╕\n",
      "│ Low-Level Goal                                                                                         │ Mapped APIs                                                                                                                                                                                                                                                                                                                                                                                                                                                                                                                                                                                                                                                                                                                                                                                                                                                           │\n",
      "╞════════════════════════════════════════════════════════════════════════════════════════════════════════╪═══════════════════════════════════════════════════════════════════════════════════════════════════════════════════════════════════════════════════════════════════════════════════════════════════════════════════════════════════════════════════════════════════════════════════════════════════════════════════════════════════════════════════════════════════════════════════════════════════════════════════════════════════════════════════════════════════════════════════════════════════════════════════════════════════════════════════════════════════════════════════════════════════════════════════════════════════════════════════════════════════════════════════════════════════════════════════════════════════════════════════════════════════════════════════════════════════════════════════════════════════════════════════════════════════════╡\n",
      "│ Implement API endpoints to access genomic variant annotation data via HTTP.                            │ fetchVariantAnnotationPOST, fetchVariantAnnotationByIdPOST, fetchVariantAnnotationByIdGET, fetchVariantAnnotationByGenomicLocationPOST, fetchVariantAnnotationByGenomicLocationGET, fetchVariantAnnotationGET, fetchCanonicalEnsemblGeneIdByEntrezGeneIdsPOST, fetchCanonicalEnsemblGeneIdByEntrezGeneIdGET, fetchCanonicalEnsemblGeneIdByHugoSymbolsPOST, fetchCanonicalEnsemblGeneIdByHugoSymbolGET, fetchCanonicalEnsemblTranscriptsByHugoSymbolsPOST, fetchCanonicalEnsemblTranscriptByHugoSymbolGET, fetchEnsemblTranscriptsGET, fetchEnsemblTranscriptsByEnsemblFilterPOST, fetchEnsemblTranscriptByTranscriptIdGET, fetchGeneXrefsGET, fetchPdbHeaderPOST, fetchPdbHeaderGET, fetchPfamDomainsByPfamAccessionPOST, fetchPfamDomainsByAccessionGET, fetchPostTranslationalModificationsGET, fetchPostTranslationalModificationsByPtmFilterPOST, fetchVersionGET │\n",
      "├────────────────────────────────────────────────────────────────────────────────────────────────────────┼───────────────────────────────────────────────────────────────────────────────────────────────────────────────────────────────────────────────────────────────────────────────────────────────────────────────────────────────────────────────────────────────────────────────────────────────────────────────────────────────────────────────────────────────────────────────────────────────────────────────────────────────────────────────────────────────────────────────────────────────────────────────────────────────────────────────────────────────────────────────────────────────────────────────────────────────────────────────────────────────────────────────────────────────────────────────────────────────────────────────────────────────────────────────────────────────────────────────────────────────────────────────────────────────────────┤\n",
      "│ Develop VEP-specific API endpoints for retrieving genetic annotations.                                 │ fetchVariantAnnotationPOST, fetchVariantAnnotationByIdPOST, fetchVariantAnnotationByIdGET, fetchVariantAnnotationByGenomicLocationPOST, fetchVariantAnnotationByGenomicLocationGET, fetchVariantAnnotationGET, fetchCanonicalEnsemblGeneIdByEntrezGeneIdsPOST, fetchCanonicalEnsemblGeneIdByEntrezGeneIdGET, fetchCanonicalEnsemblGeneIdByHugoSymbolsPOST, fetchCanonicalEnsemblGeneIdByHugoSymbolGET, fetchCanonicalEnsemblTranscriptsByHugoSymbolsPOST, fetchCanonicalEnsemblTranscriptByHugoSymbolGET, fetchEnsemblTranscriptsGET, fetchEnsemblTranscriptsByEnsemblFilterPOST, fetchEnsemblTranscriptByTranscriptIdGET, fetchGeneXrefsGET, fetchPdbHeaderPOST, fetchPdbHeaderGET, fetchPfamDomainsByPfamAccessionPOST, fetchPfamDomainsByAccessionGET, fetchPostTranslationalModificationsGET, fetchPostTranslationalModificationsByPtmFilterPOST, fetchVersionGET │\n",
      "├────────────────────────────────────────────────────────────────────────────────────────────────────────┼───────────────────────────────────────────────────────────────────────────────────────────────────────────────────────────────────────────────────────────────────────────────────────────────────────────────────────────────────────────────────────────────────────────────────────────────────────────────────────────────────────────────────────────────────────────────────────────────────────────────────────────────────────────────────────────────────────────────────────────────────────────────────────────────────────────────────────────────────────────────────────────────────────────────────────────────────────────────────────────────────────────────────────────────────────────────────────────────────────────────────────────────────────────────────────────────────────────────────────────────────────────────────────────────────────┤\n",
      "│ Design API endpoints to accept variant information in JSON, VCF, and HGVS formats for annotation.      │ fetchVariantAnnotationPOST, fetchVariantAnnotationByIdPOST, fetchVariantAnnotationByIdGET, fetchVariantAnnotationByGenomicLocationPOST, fetchVariantAnnotationByGenomicLocationGET, fetchVariantAnnotationGET, fetchCanonicalEnsemblGeneIdByEntrezGeneIdsPOST, fetchCanonicalEnsemblGeneIdByEntrezGeneIdGET, fetchCanonicalEnsemblGeneIdByHugoSymbolsPOST, fetchCanonicalEnsemblGeneIdByHugoSymbolGET, fetchCanonicalEnsemblTranscriptsByHugoSymbolsPOST, fetchCanonicalEnsemblTranscriptByHugoSymbolGET, fetchEnsemblTranscriptsGET, fetchEnsemblTranscriptsByEnsemblFilterPOST, fetchEnsemblTranscriptByTranscriptIdGET, fetchGeneXrefsGET, fetchPdbHeaderPOST, fetchPdbHeaderGET, fetchPfamDomainsByPfamAccessionPOST, fetchPfamDomainsByAccessionGET, fetchPostTranslationalModificationsGET, fetchPostTranslationalModificationsByPtmFilterPOST, fetchVersionGET │\n",
      "├────────────────────────────────────────────────────────────────────────────────────────────────────────┼───────────────────────────────────────────────────────────────────────────────────────────────────────────────────────────────────────────────────────────────────────────────────────────────────────────────────────────────────────────────────────────────────────────────────────────────────────────────────────────────────────────────────────────────────────────────────────────────────────────────────────────────────────────────────────────────────────────────────────────────────────────────────────────────────────────────────────────────────────────────────────────────────────────────────────────────────────────────────────────────────────────────────────────────────────────────────────────────────────────────────────────────────────────────────────────────────────────────────────────────────────────────────────────────────────┤\n",
      "│ Create client libraries in Python, Java, and R for API interaction.                                    │ fetchVariantAnnotationPOST, fetchVariantAnnotationByIdPOST, fetchVariantAnnotationByIdGET, fetchVariantAnnotationByGenomicLocationPOST, fetchVariantAnnotationByGenomicLocationGET, fetchVariantAnnotationGET, fetchCanonicalEnsemblGeneIdByEntrezGeneIdsPOST, fetchCanonicalEnsemblGeneIdByEntrezGeneIdGET, fetchCanonicalEnsemblGeneIdByHugoSymbolsPOST, fetchCanonicalEnsemblGeneIdByHugoSymbolGET, fetchCanonicalEnsemblTranscriptsByHugoSymbolsPOST, fetchCanonicalEnsemblTranscriptByHugoSymbolGET, fetchEnsemblTranscriptsGET, fetchEnsemblTranscriptsByEnsemblFilterPOST, fetchEnsemblTranscriptByTranscriptIdGET, fetchGeneXrefsGET, fetchPdbHeaderPOST, fetchPdbHeaderGET, fetchPfamDomainsByPfamAccessionPOST, fetchPfamDomainsByAccessionGET, fetchPostTranslationalModificationsGET, fetchPostTranslationalModificationsByPtmFilterPOST, fetchVersionGET │\n",
      "├────────────────────────────────────────────────────────────────────────────────────────────────────────┼───────────────────────────────────────────────────────────────────────────────────────────────────────────────────────────────────────────────────────────────────────────────────────────────────────────────────────────────────────────────────────────────────────────────────────────────────────────────────────────────────────────────────────────────────────────────────────────────────────────────────────────────────────────────────────────────────────────────────────────────────────────────────────────────────────────────────────────────────────────────────────────────────────────────────────────────────────────────────────────────────────────────────────────────────────────────────────────────────────────────────────────────────────────────────────────────────────────────────────────────────────────────────────────────────────┤\n",
      "│ Implement command-line tool support for annotating MAF and VCF file formats.                           │ fetchVariantAnnotationPOST, fetchVariantAnnotationByIdPOST, fetchVariantAnnotationByIdGET, fetchVariantAnnotationByGenomicLocationPOST, fetchVariantAnnotationByGenomicLocationGET, fetchVariantAnnotationGET, fetchCanonicalEnsemblGeneIdByEntrezGeneIdsPOST, fetchCanonicalEnsemblGeneIdByEntrezGeneIdGET, fetchCanonicalEnsemblGeneIdByHugoSymbolsPOST, fetchCanonicalEnsemblGeneIdByHugoSymbolGET, fetchCanonicalEnsemblTranscriptsByHugoSymbolsPOST, fetchCanonicalEnsemblTranscriptByHugoSymbolGET, fetchEnsemblTranscriptsGET, fetchEnsemblTranscriptsByEnsemblFilterPOST, fetchEnsemblTranscriptByTranscriptIdGET, fetchGeneXrefsGET, fetchPdbHeaderPOST, fetchPdbHeaderGET, fetchPfamDomainsByPfamAccessionPOST, fetchPfamDomainsByAccessionGET, fetchPostTranslationalModificationsGET, fetchPostTranslationalModificationsByPtmFilterPOST, fetchVersionGET │\n",
      "├────────────────────────────────────────────────────────────────────────────────────────────────────────┼───────────────────────────────────────────────────────────────────────────────────────────────────────────────────────────────────────────────────────────────────────────────────────────────────────────────────────────────────────────────────────────────────────────────────────────────────────────────────────────────────────────────────────────────────────────────────────────────────────────────────────────────────────────────────────────────────────────────────────────────────────────────────────────────────────────────────────────────────────────────────────────────────────────────────────────────────────────────────────────────────────────────────────────────────────────────────────────────────────────────────────────────────────────────────────────────────────────────────────────────────────────────────────────────────────┤\n",
      "│ Develop a web-based user interface for annotating genetic variants.                                    │ fetchVariantAnnotationPOST, fetchVariantAnnotationByIdPOST, fetchVariantAnnotationByIdGET, fetchVariantAnnotationByGenomicLocationPOST, fetchVariantAnnotationByGenomicLocationGET, fetchVariantAnnotationGET, fetchCanonicalEnsemblGeneIdByEntrezGeneIdsPOST, fetchCanonicalEnsemblGeneIdByEntrezGeneIdGET, fetchCanonicalEnsemblGeneIdByHugoSymbolsPOST, fetchCanonicalEnsemblGeneIdByHugoSymbolGET, fetchCanonicalEnsemblTranscriptsByHugoSymbolsPOST, fetchCanonicalEnsemblTranscriptByHugoSymbolGET, fetchEnsemblTranscriptsGET, fetchEnsemblTranscriptsByEnsemblFilterPOST, fetchEnsemblTranscriptByTranscriptIdGET, fetchGeneXrefsGET, fetchPdbHeaderPOST, fetchPdbHeaderGET, fetchPfamDomainsByPfamAccessionPOST, fetchPfamDomainsByAccessionGET, fetchPostTranslationalModificationsGET, fetchPostTranslationalModificationsByPtmFilterPOST, fetchVersionGET │\n",
      "├────────────────────────────────────────────────────────────────────────────────────────────────────────┼───────────────────────────────────────────────────────────────────────────────────────────────────────────────────────────────────────────────────────────────────────────────────────────────────────────────────────────────────────────────────────────────────────────────────────────────────────────────────────────────────────────────────────────────────────────────────────────────────────────────────────────────────────────────────────────────────────────────────────────────────────────────────────────────────────────────────────────────────────────────────────────────────────────────────────────────────────────────────────────────────────────────────────────────────────────────────────────────────────────────────────────────────────────────────────────────────────────────────────────────────────────────────────────────────────┤\n",
      "│ Design API endpoints for accessing PDB ID header information.                                          │ fetchPdbHeaderPOST, fetchPdbHeaderGET                                                                                                                                                                                                                                                                                                                                                                                                                                                                                                                                                                                                                                                                                                                                                                                                                                 │\n",
      "├────────────────────────────────────────────────────────────────────────────────────────────────────────┼───────────────────────────────────────────────────────────────────────────────────────────────────────────────────────────────────────────────────────────────────────────────────────────────────────────────────────────────────────────────────────────────────────────────────────────────────────────────────────────────────────────────────────────────────────────────────────────────────────────────────────────────────────────────────────────────────────────────────────────────────────────────────────────────────────────────────────────────────────────────────────────────────────────────────────────────────────────────────────────────────────────────────────────────────────────────────────────────────────────────────────────────────────────────────────────────────────────────────────────────────────────────────────────────────────┤\n",
      "│ Create API endpoints for retrieving post-translational modification data using Ensembl Transcript IDs. │ fetchPostTranslationalModificationsGET, fetchPostTranslationalModificationsByPtmFilterPOST                                                                                                                                                                                                                                                                                                                                                                                                                                                                                                                                                                                                                                                                                                                                                                            │\n",
      "├────────────────────────────────────────────────────────────────────────────────────────────────────────┼───────────────────────────────────────────────────────────────────────────────────────────────────────────────────────────────────────────────────────────────────────────────────────────────────────────────────────────────────────────────────────────────────────────────────────────────────────────────────────────────────────────────────────────────────────────────────────────────────────────────────────────────────────────────────────────────────────────────────────────────────────────────────────────────────────────────────────────────────────────────────────────────────────────────────────────────────────────────────────────────────────────────────────────────────────────────────────────────────────────────────────────────────────────────────────────────────────────────────────────────────────────────────────────────────────┤\n",
      "│ Design API endpoints for accessing PFAM domain information with domain accession IDs.                  │ fetchVariantAnnotationPOST, fetchVariantAnnotationByIdPOST, fetchVariantAnnotationByIdGET, fetchVariantAnnotationByGenomicLocationPOST, fetchVariantAnnotationByGenomicLocationGET, fetchVariantAnnotationGET, fetchCanonicalEnsemblGeneIdByEntrezGeneIdsPOST, fetchCanonicalEnsemblGeneIdByEntrezGeneIdGET, fetchCanonicalEnsemblGeneIdByHugoSymbolsPOST, fetchCanonicalEnsemblGeneIdByHugoSymbolGET, fetchCanonicalEnsemblTranscriptsByHugoSymbolsPOST, fetchCanonicalEnsemblTranscriptByHugoSymbolGET, fetchEnsemblTranscriptsGET, fetchEnsemblTranscriptsByEnsemblFilterPOST, fetchEnsemblTranscriptByTranscriptIdGET, fetchGeneXrefsGET, fetchPdbHeaderPOST, fetchPdbHeaderGET, fetchPfamDomainsByPfamAccessionPOST, fetchPfamDomainsByAccessionGET, fetchPostTranslationalModificationsGET, fetchPostTranslationalModificationsByPtmFilterPOST, fetchVersionGET │\n",
      "├────────────────────────────────────────────────────────────────────────────────────────────────────────┼───────────────────────────────────────────────────────────────────────────────────────────────────────────────────────────────────────────────────────────────────────────────────────────────────────────────────────────────────────────────────────────────────────────────────────────────────────────────────────────────────────────────────────────────────────────────────────────────────────────────────────────────────────────────────────────────────────────────────────────────────────────────────────────────────────────────────────────────────────────────────────────────────────────────────────────────────────────────────────────────────────────────────────────────────────────────────────────────────────────────────────────────────────────────────────────────────────────────────────────────────────────────────────────────────────┤\n",
      "│ Develop APIs to manage references and queries for Ensembl genes and transcripts.                       │ fetchCanonicalEnsemblGeneIdByEntrezGeneIdsPOST, fetchCanonicalEnsemblGeneIdByEntrezGeneIdGET, fetchCanonicalEnsemblGeneIdByHugoSymbolsPOST, fetchCanonicalEnsemblGeneIdByHugoSymbolGET, fetchCanonicalEnsemblTranscriptsByHugoSymbolsPOST, fetchCanonicalEnsemblTranscriptByHugoSymbolGET, fetchEnsemblTranscriptsGET, fetchEnsemblTranscriptsByEnsemblFilterPOST, fetchEnsemblTranscriptByTranscriptIdGET, fetchGeneXrefsGET                                                                                                                                                                                                                                                                                                                                                                                                                                         │\n",
      "├────────────────────────────────────────────────────────────────────────────────────────────────────────┼───────────────────────────────────────────────────────────────────────────────────────────────────────────────────────────────────────────────────────────────────────────────────────────────────────────────────────────────────────────────────────────────────────────────────────────────────────────────────────────────────────────────────────────────────────────────────────────────────────────────────────────────────────────────────────────────────────────────────────────────────────────────────────────────────────────────────────────────────────────────────────────────────────────────────────────────────────────────────────────────────────────────────────────────────────────────────────────────────────────────────────────────────────────────────────────────────────────────────────────────────────────────────────────────────────┤\n",
      "│ Implement API versioning information endpoints for client awareness.                                   │ fetchVariantAnnotationPOST, fetchVariantAnnotationByIdPOST, fetchVariantAnnotationByIdGET, fetchVariantAnnotationByGenomicLocationPOST, fetchVariantAnnotationByGenomicLocationGET, fetchVariantAnnotationGET, fetchCanonicalEnsemblGeneIdByEntrezGeneIdsPOST, fetchCanonicalEnsemblGeneIdByEntrezGeneIdGET, fetchCanonicalEnsemblGeneIdByHugoSymbolsPOST, fetchCanonicalEnsemblGeneIdByHugoSymbolGET, fetchCanonicalEnsemblTranscriptsByHugoSymbolsPOST, fetchCanonicalEnsemblTranscriptByHugoSymbolGET, fetchEnsemblTranscriptsGET, fetchEnsemblTranscriptsByEnsemblFilterPOST, fetchEnsemblTranscriptByTranscriptIdGET, fetchGeneXrefsGET, fetchPdbHeaderPOST, fetchPdbHeaderGET, fetchPfamDomainsByPfamAccessionPOST, fetchPfamDomainsByAccessionGET, fetchPostTranslationalModificationsGET, fetchPostTranslationalModificationsByPtmFilterPOST, fetchVersionGET │\n",
      "╘════════════════════════════════════════════════════════════════════════════════════════════════════════╧═══════════════════════════════════════════════════════════════════════════════════════════════════════════════════════════════════════════════════════════════════════════════════════════════════════════════════════════════════════════════════════════════════════════════════════════════════════════════════════════════════════════════════════════════════════════════════════════════════════════════════════════════════════════════════════════════════════════════════════════════════════════════════════════════════════════════════════════════════════════════════════════════════════════════════════════════════════════════════════════════════════════════════════════════════════════════════════════════════════════════════════════════════════════════════════════════════════════════════════════════════════════════════════════════════════╛\n"
     ]
    }
   ],
   "source": [
    "#prettier\n",
    "print(\"\\n\\n\")\n",
    "print_api_goal_mapping(mappings)"
   ]
  }
 ],
 "metadata": {
  "accelerator": "GPU",
  "colab": {
   "gpuType": "T4",
   "provenance": []
  },
  "kernelspec": {
   "display_name": "Python 3",
   "language": "python",
   "name": "python3"
  },
  "language_info": {
   "codemirror_mode": {
    "name": "ipython",
    "version": 3
   },
   "file_extension": ".py",
   "mimetype": "text/x-python",
   "name": "python",
   "nbconvert_exporter": "python",
   "pygments_lexer": "ipython3",
   "version": "3.12.8"
  },
  "widgets": {
   "application/vnd.jupyter.widget-state+json": {
    "0adcbace0f6946568311b8010d5c7fc3": {
     "model_module": "@jupyter-widgets/base",
     "model_module_version": "1.2.0",
     "model_name": "LayoutModel",
     "state": {
      "_model_module": "@jupyter-widgets/base",
      "_model_module_version": "1.2.0",
      "_model_name": "LayoutModel",
      "_view_count": null,
      "_view_module": "@jupyter-widgets/base",
      "_view_module_version": "1.2.0",
      "_view_name": "LayoutView",
      "align_content": null,
      "align_items": null,
      "align_self": null,
      "border": null,
      "bottom": null,
      "display": null,
      "flex": null,
      "flex_flow": null,
      "grid_area": null,
      "grid_auto_columns": null,
      "grid_auto_flow": null,
      "grid_auto_rows": null,
      "grid_column": null,
      "grid_gap": null,
      "grid_row": null,
      "grid_template_areas": null,
      "grid_template_columns": null,
      "grid_template_rows": null,
      "height": null,
      "justify_content": null,
      "justify_items": null,
      "left": null,
      "margin": null,
      "max_height": null,
      "max_width": null,
      "min_height": null,
      "min_width": null,
      "object_fit": null,
      "object_position": null,
      "order": null,
      "overflow": null,
      "overflow_x": null,
      "overflow_y": null,
      "padding": null,
      "right": null,
      "top": null,
      "visibility": null,
      "width": null
     }
    },
    "14d5cc69e04e4fe588144913d220e57f": {
     "model_module": "@jupyter-widgets/controls",
     "model_module_version": "1.5.0",
     "model_name": "DescriptionStyleModel",
     "state": {
      "_model_module": "@jupyter-widgets/controls",
      "_model_module_version": "1.5.0",
      "_model_name": "DescriptionStyleModel",
      "_view_count": null,
      "_view_module": "@jupyter-widgets/base",
      "_view_module_version": "1.2.0",
      "_view_name": "StyleView",
      "description_width": ""
     }
    },
    "2b52835f91344aa396de748f5a68e40e": {
     "model_module": "@jupyter-widgets/controls",
     "model_module_version": "1.5.0",
     "model_name": "DescriptionStyleModel",
     "state": {
      "_model_module": "@jupyter-widgets/controls",
      "_model_module_version": "1.5.0",
      "_model_name": "DescriptionStyleModel",
      "_view_count": null,
      "_view_module": "@jupyter-widgets/base",
      "_view_module_version": "1.2.0",
      "_view_name": "StyleView",
      "description_width": ""
     }
    },
    "2c93510709bd46c889be8a8872af280e": {
     "model_module": "@jupyter-widgets/base",
     "model_module_version": "1.2.0",
     "model_name": "LayoutModel",
     "state": {
      "_model_module": "@jupyter-widgets/base",
      "_model_module_version": "1.2.0",
      "_model_name": "LayoutModel",
      "_view_count": null,
      "_view_module": "@jupyter-widgets/base",
      "_view_module_version": "1.2.0",
      "_view_name": "LayoutView",
      "align_content": null,
      "align_items": null,
      "align_self": null,
      "border": null,
      "bottom": null,
      "display": null,
      "flex": null,
      "flex_flow": null,
      "grid_area": null,
      "grid_auto_columns": null,
      "grid_auto_flow": null,
      "grid_auto_rows": null,
      "grid_column": null,
      "grid_gap": null,
      "grid_row": null,
      "grid_template_areas": null,
      "grid_template_columns": null,
      "grid_template_rows": null,
      "height": null,
      "justify_content": null,
      "justify_items": null,
      "left": null,
      "margin": null,
      "max_height": null,
      "max_width": null,
      "min_height": null,
      "min_width": null,
      "object_fit": null,
      "object_position": null,
      "order": null,
      "overflow": null,
      "overflow_x": null,
      "overflow_y": null,
      "padding": null,
      "right": null,
      "top": null,
      "visibility": null,
      "width": null
     }
    },
    "4d7aec60591343bab6a920285a64112f": {
     "model_module": "@jupyter-widgets/base",
     "model_module_version": "1.2.0",
     "model_name": "LayoutModel",
     "state": {
      "_model_module": "@jupyter-widgets/base",
      "_model_module_version": "1.2.0",
      "_model_name": "LayoutModel",
      "_view_count": null,
      "_view_module": "@jupyter-widgets/base",
      "_view_module_version": "1.2.0",
      "_view_name": "LayoutView",
      "align_content": null,
      "align_items": null,
      "align_self": null,
      "border": null,
      "bottom": null,
      "display": null,
      "flex": null,
      "flex_flow": null,
      "grid_area": null,
      "grid_auto_columns": null,
      "grid_auto_flow": null,
      "grid_auto_rows": null,
      "grid_column": null,
      "grid_gap": null,
      "grid_row": null,
      "grid_template_areas": null,
      "grid_template_columns": null,
      "grid_template_rows": null,
      "height": null,
      "justify_content": null,
      "justify_items": null,
      "left": null,
      "margin": null,
      "max_height": null,
      "max_width": null,
      "min_height": null,
      "min_width": null,
      "object_fit": null,
      "object_position": null,
      "order": null,
      "overflow": null,
      "overflow_x": null,
      "overflow_y": null,
      "padding": null,
      "right": null,
      "top": null,
      "visibility": null,
      "width": null
     }
    },
    "5ffc14edebc2432f9b95e774167ed333": {
     "model_module": "@jupyter-widgets/base",
     "model_module_version": "1.2.0",
     "model_name": "LayoutModel",
     "state": {
      "_model_module": "@jupyter-widgets/base",
      "_model_module_version": "1.2.0",
      "_model_name": "LayoutModel",
      "_view_count": null,
      "_view_module": "@jupyter-widgets/base",
      "_view_module_version": "1.2.0",
      "_view_name": "LayoutView",
      "align_content": null,
      "align_items": null,
      "align_self": null,
      "border": null,
      "bottom": null,
      "display": null,
      "flex": null,
      "flex_flow": null,
      "grid_area": null,
      "grid_auto_columns": null,
      "grid_auto_flow": null,
      "grid_auto_rows": null,
      "grid_column": null,
      "grid_gap": null,
      "grid_row": null,
      "grid_template_areas": null,
      "grid_template_columns": null,
      "grid_template_rows": null,
      "height": null,
      "justify_content": null,
      "justify_items": null,
      "left": null,
      "margin": null,
      "max_height": null,
      "max_width": null,
      "min_height": null,
      "min_width": null,
      "object_fit": null,
      "object_position": null,
      "order": null,
      "overflow": null,
      "overflow_x": null,
      "overflow_y": null,
      "padding": null,
      "right": null,
      "top": null,
      "visibility": null,
      "width": null
     }
    },
    "6422c15135a24be783734f255088421f": {
     "model_module": "@jupyter-widgets/controls",
     "model_module_version": "1.5.0",
     "model_name": "ProgressStyleModel",
     "state": {
      "_model_module": "@jupyter-widgets/controls",
      "_model_module_version": "1.5.0",
      "_model_name": "ProgressStyleModel",
      "_view_count": null,
      "_view_module": "@jupyter-widgets/base",
      "_view_module_version": "1.2.0",
      "_view_name": "StyleView",
      "bar_color": null,
      "description_width": ""
     }
    },
    "99beab2c378044f9833caf3d6b6f3d4e": {
     "model_module": "@jupyter-widgets/controls",
     "model_module_version": "1.5.0",
     "model_name": "HTMLModel",
     "state": {
      "_dom_classes": [],
      "_model_module": "@jupyter-widgets/controls",
      "_model_module_version": "1.5.0",
      "_model_name": "HTMLModel",
      "_view_count": null,
      "_view_module": "@jupyter-widgets/controls",
      "_view_module_version": "1.5.0",
      "_view_name": "HTMLView",
      "description": "",
      "description_tooltip": null,
      "layout": "IPY_MODEL_0adcbace0f6946568311b8010d5c7fc3",
      "placeholder": "​",
      "style": "IPY_MODEL_2b52835f91344aa396de748f5a68e40e",
      "value": "Loading checkpoint shards: 100%"
     }
    },
    "d3c2cd7f501c4c93ab43730f061273b5": {
     "model_module": "@jupyter-widgets/controls",
     "model_module_version": "1.5.0",
     "model_name": "FloatProgressModel",
     "state": {
      "_dom_classes": [],
      "_model_module": "@jupyter-widgets/controls",
      "_model_module_version": "1.5.0",
      "_model_name": "FloatProgressModel",
      "_view_count": null,
      "_view_module": "@jupyter-widgets/controls",
      "_view_module_version": "1.5.0",
      "_view_name": "ProgressView",
      "bar_style": "success",
      "description": "",
      "description_tooltip": null,
      "layout": "IPY_MODEL_4d7aec60591343bab6a920285a64112f",
      "max": 2,
      "min": 0,
      "orientation": "horizontal",
      "style": "IPY_MODEL_6422c15135a24be783734f255088421f",
      "value": 2
     }
    },
    "f795283dfaad4da2bb0b3fce64f7f8c2": {
     "model_module": "@jupyter-widgets/controls",
     "model_module_version": "1.5.0",
     "model_name": "HTMLModel",
     "state": {
      "_dom_classes": [],
      "_model_module": "@jupyter-widgets/controls",
      "_model_module_version": "1.5.0",
      "_model_name": "HTMLModel",
      "_view_count": null,
      "_view_module": "@jupyter-widgets/controls",
      "_view_module_version": "1.5.0",
      "_view_name": "HTMLView",
      "description": "",
      "description_tooltip": null,
      "layout": "IPY_MODEL_2c93510709bd46c889be8a8872af280e",
      "placeholder": "​",
      "style": "IPY_MODEL_14d5cc69e04e4fe588144913d220e57f",
      "value": " 2/2 [00:02&lt;00:00,  1.38s/it]"
     }
    },
    "fe25ee512c184077be919dcd38d43296": {
     "model_module": "@jupyter-widgets/controls",
     "model_module_version": "1.5.0",
     "model_name": "HBoxModel",
     "state": {
      "_dom_classes": [],
      "_model_module": "@jupyter-widgets/controls",
      "_model_module_version": "1.5.0",
      "_model_name": "HBoxModel",
      "_view_count": null,
      "_view_module": "@jupyter-widgets/controls",
      "_view_module_version": "1.5.0",
      "_view_name": "HBoxView",
      "box_style": "",
      "children": [
       "IPY_MODEL_99beab2c378044f9833caf3d6b6f3d4e",
       "IPY_MODEL_d3c2cd7f501c4c93ab43730f061273b5",
       "IPY_MODEL_f795283dfaad4da2bb0b3fce64f7f8c2"
      ],
      "layout": "IPY_MODEL_5ffc14edebc2432f9b95e774167ed333"
     }
    }
   }
  }
 },
 "nbformat": 4,
 "nbformat_minor": 0
}
