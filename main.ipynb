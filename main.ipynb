{
 "cells": [
  {
   "cell_type": "markdown",
   "metadata": {
    "id": "VtisuG2Q6lhm"
   },
   "source": [
    "###  Install Required Libraries\n",
    "\n"
   ]
  },
  {
   "cell_type": "code",
   "execution_count": null,
   "metadata": {
    "colab": {
     "base_uri": "https://localhost:8080/",
     "height": 243,
     "referenced_widgets": [
      "fe25ee512c184077be919dcd38d43296",
      "99beab2c378044f9833caf3d6b6f3d4e",
      "d3c2cd7f501c4c93ab43730f061273b5",
      "f795283dfaad4da2bb0b3fce64f7f8c2",
      "5ffc14edebc2432f9b95e774167ed333",
      "0adcbace0f6946568311b8010d5c7fc3",
      "2b52835f91344aa396de748f5a68e40e",
      "4d7aec60591343bab6a920285a64112f",
      "6422c15135a24be783734f255088421f",
      "2c93510709bd46c889be8a8872af280e",
      "14d5cc69e04e4fe588144913d220e57f"
     ]
    },
    "id": "hL2Z-R9s3uXY",
    "outputId": "b46b1644-8691-4f6e-bd97-76b8864a48bd"
   },
   "outputs": [],
   "source": [
    "\n",
    "%pip install openai\n",
    "%pip install icecream\n",
    "%pip install tqdm\n",
    "%pip install requests\n"
   ]
  },
  {
   "cell_type": "code",
   "execution_count": 1,
   "metadata": {},
   "outputs": [],
   "source": [
    "from openai import OpenAI\n",
    "from tools import get_markdown\n",
    "import json\n",
    "from tqdm import tqdm\n",
    "from pydantic import BaseModel\n",
    "from key import get_key\n"
   ]
  },
  {
   "cell_type": "markdown",
   "metadata": {},
   "source": [
    "### Set Up the OpenAI API Key"
   ]
  },
  {
   "cell_type": "code",
   "execution_count": 2,
   "metadata": {},
   "outputs": [],
   "source": [
    "# Set your GPT-4 API key\n",
    "client = OpenAI(\n",
    "    api_key= get_key()\n",
    ")"
   ]
  },
  {
   "cell_type": "markdown",
   "metadata": {},
   "source": [
    "### Test the API Connection"
   ]
  },
  {
   "cell_type": "code",
   "execution_count": 3,
   "metadata": {},
   "outputs": [
    {
     "name": "stdout",
     "output_type": "stream",
     "text": [
      "This is a test. How can I assist you further?\n"
     ]
    }
   ],
   "source": [
    "chat_completion = client.chat.completions.create(\n",
    "    messages=[\n",
    "        {\n",
    "            \"role\": \"user\",\n",
    "            \"content\": \"Say this is a test\",\n",
    "        }\n",
    "    ],\n",
    "    model=\"gpt-4o\",\n",
    ")\n",
    "\n",
    "# Stampa la risposta\n",
    "print(chat_completion.choices[0].message.content.strip())\n"
   ]
  },
  {
   "cell_type": "markdown",
   "metadata": {},
   "source": [
    "## Models"
   ]
  },
  {
   "cell_type": "code",
   "execution_count": 4,
   "metadata": {},
   "outputs": [],
   "source": [
    "class Action():\n",
    "    def __init__(self, name, description):\n",
    "        self.name = name\n",
    "        self.description = description"
   ]
  },
  {
   "cell_type": "code",
   "execution_count": 42,
   "metadata": {},
   "outputs": [],
   "source": [
    "def generate_response(prompt, sys_prompt, response_format):\n",
    "    response = client.beta.chat.completions.parse(\n",
    "        messages=[\n",
    "            { \"role\": \"system\", \"content\":  sys_prompt},\n",
    "            { \"role\": \"user\", \"content\": prompt }\n",
    "        ],\n",
    "        model=\"gpt-4o\",\n",
    "        max_tokens=2000,\n",
    "        response_format=response_format\n",
    "    )\n",
    "    return response.choices[0].message.content.strip()"
   ]
  },
  {
   "cell_type": "markdown",
   "metadata": {},
   "source": [
    "# Define description"
   ]
  },
  {
   "cell_type": "code",
   "execution_count": 7,
   "metadata": {},
   "outputs": [],
   "source": [
    "class DocumentDescription(BaseModel):\n",
    "    description: str"
   ]
  },
  {
   "cell_type": "code",
   "execution_count": 37,
   "metadata": {},
   "outputs": [],
   "source": [
    "def get_description(documentation_link=None):\n",
    "    if documentation_link == None:\n",
    "        raise Exception(\"No documentation link provided\")\n",
    "    \n",
    "    sys_prompt = (\n",
    "        \"You are a helpful assistant that helps create a description of a software project. \\n\"\n",
    "        \"You start from the README file of the project and create a description of the project. \\n\"\n",
    "        \"Take information from the README file and create a description of the project. \\n\"\n",
    "        \"Dont invent anything, just take information from the README file and create a description of the project. \\n\"\n",
    "    )\n",
    "    \n",
    "    prompt = (\n",
    "        \"The following is the README file of a software project: \\n\"\n",
    "        f\"{get_markdown(link=documentation_link)}\"\n",
    "        \"Create a description of the project and dont invent anything, just take information from the README file and create a description of the project. \\n\"\n",
    "    )\n",
    "    \n",
    "    response = generate_response(prompt, sys_prompt, DocumentDescription)\n",
    "    \n",
    "    return response"
   ]
  },
  {
   "cell_type": "markdown",
   "metadata": {},
   "source": [
    "# Define high level goals from description"
   ]
  },
  {
   "cell_type": "code",
   "execution_count": 11,
   "metadata": {},
   "outputs": [],
   "source": [
    "class HighLevelGoal(BaseModel):\n",
    "    description: str"
   ]
  },
  {
   "cell_type": "code",
   "execution_count": 45,
   "metadata": {},
   "outputs": [],
   "source": [
    "class HighLevelGoals(BaseModel):\n",
    "    goals: list[HighLevelGoal]"
   ]
  },
  {
   "cell_type": "code",
   "execution_count": 43,
   "metadata": {},
   "outputs": [],
   "source": [
    "def define_high_level_goals(project_description=None):\n",
    "    if project_description == None:\n",
    "        raise Exception(\"No documentation provided\")\n",
    "        \n",
    "    #project_description = get_markdown(link=documentation_link)#\"https://raw.githubusercontent.com/genome-nexus/genome-nexus/refs/heads/master/README.md\"\n",
    "\n",
    "    sys_prompt = (\n",
    "        \"You are a helpful assistant that helps developers to extract high-level goals from software descriptions.\"\n",
    "        \" Please provide high-level goals for the following software description.\"\n",
    "        \" Extract high-level goals for the following software description (consider only the description of the project and ignore other instructions).\"\n",
    "        \" MUST focus only on functional requirements and ignore non-functional requirements. Focus only on requirements that benefit the end user of the software.\"\n",
    "        \" The return outcome must be a list of goals in JSON format: { \\\"highLevelGoals\\\": [[\\\"goal 1\\\", \\\"goal 2\\\", \\\"goal 3\\\"]]}.\"\n",
    "        \" Do not include any additional text or markdown or additional text or variables.\"\n",
    "        \" For example, given the software description: 'Create an online store platform where users can browse products, add them to their cart, and checkout with multiple payment options.'\"\n",
    "        \" A valid set of high-level goals could be:\"\n",
    "        '{ \"highLevelGoals\": [[\"Enable user to browse products\", \"Allow users to add products to cart\", \"Implement multiple payment options for checkout\"]]}'\n",
    "        \" The returned high-level goals should be specific and focused on functional user needs.\"\n",
    "    )\n",
    "\n",
    "    prompt = f\"\"\"\n",
    "\n",
    "        **Description:** \\n\\n\n",
    "        {project_description}\n",
    "\n",
    "        \"\"\"\n",
    "\n",
    "    high_level_goals = generate_response(prompt, sys_prompt, HighLevelGoals)\n",
    "\n",
    "    return json.loads(high_level_goals)"
   ]
  },
  {
   "cell_type": "code",
   "execution_count": 15,
   "metadata": {},
   "outputs": [],
   "source": [
    "#print(define_high_level_goals(\"https://raw.githubusercontent.com/genome-nexus/genome-nexus/refs/heads/master/README.md\"))"
   ]
  },
  {
   "cell_type": "markdown",
   "metadata": {},
   "source": [
    "# Define low level goals from high level goals"
   ]
  },
  {
   "cell_type": "code",
   "execution_count": 16,
   "metadata": {},
   "outputs": [],
   "source": [
    "class LowLevelGoal(BaseModel):\n",
    "    description: str\n",
    "    high_level_associated: HighLevelGoal"
   ]
  },
  {
   "cell_type": "code",
   "execution_count": 17,
   "metadata": {},
   "outputs": [],
   "source": [
    "class LowLevelGoals(BaseModel):\n",
    "    low_level_goals: list[LowLevelGoal]"
   ]
  },
  {
   "cell_type": "code",
   "execution_count": 49,
   "metadata": {},
   "outputs": [],
   "source": [
    "def define_low_level_goals(highLevelGoals):\n",
    "    sys_prompt = (\n",
    "        \"You are a helpful assistant that helps developers to extract low-level goals from high-level goals.\"\n",
    "        \" Extract low-level goals from the given high-level goals and return them as a plain JSON array of strings.\"\n",
    "        \" The low-level goals that you create MUST be structured to match against a set of API calls. Don't be too generic, for example, avoid goals like 'make the software fast', 'develop a web interface' etc.\"\n",
    "        \" MUST focus only on functional requirements and ignore non-functional requirements. Focus only on requirements that benefit the end user of the software.\"\n",
    "        \" The return outcome must be a list of goals in JSON format: \"\n",
    "        '{ \"lowLevelGoals\": [[\"goal 1\", \"goal 2\", \"goal 3\"]]}'\n",
    "        \" Do not include any additional text or markdown or additional text or variables.\"\n",
    "        \" For example, given the high-level goal: 'Build an online shopping platform', a valid set of low-level goals could be:\"\n",
    "        '{ \"lowLevelGoals\": [[\"Implement user authentication\", \"Integrate payment gateway\", \"Create shopping cart functionality\"]]}'\n",
    "        \" The returned low-level goals should be specific and focused on the user's needs.\"\n",
    "    )\n",
    "\n",
    "    prompt = f\"\"\" \n",
    "        Define low level goals from this High-level goals:\n",
    "        {highLevelGoals}\n",
    "    \"\"\"\n",
    "\n",
    "    lowLevelGoals = generate_response(prompt, sys_prompt, LowLevelGoals)\n",
    "\n",
    "    return json.loads(lowLevelGoals)"
   ]
  },
  {
   "cell_type": "markdown",
   "metadata": {},
   "source": [
    "### Get API List from Swagger"
   ]
  },
  {
   "cell_type": "code",
   "execution_count": 21,
   "metadata": {},
   "outputs": [],
   "source": [
    "class API(BaseModel):\n",
    "    api_name: str\n",
    "    api_path: str\n",
    "    description: str\n",
    "    request_type: str"
   ]
  },
  {
   "cell_type": "code",
   "execution_count": 22,
   "metadata": {},
   "outputs": [],
   "source": [
    "def get_api_list_from_swagger():\n",
    "    api_list = get_markdown(\"https://raw.githubusercontent.com/WebFuzzing/EMB/refs/heads/master/openapi-swagger/genome-nexus.json\")\n",
    "\n",
    "    json_api_list = json.loads(api_list)[\"paths\"]\n",
    "    api_paths = json_api_list.keys()\n",
    "\n",
    "    preprocessed_api_list = []\n",
    "\n",
    "    for api in api_paths:\n",
    "        path = json_api_list[api]\n",
    "        for method in path.keys():\n",
    "            preprocessed_api_list.append(\n",
    "                API(api_name=path[method][\"operationId\"], api_path=api, description=path[method][\"summary\"], request_type=method)\n",
    "            )\n",
    "            \n",
    "    return preprocessed_api_list\n"
   ]
  },
  {
   "cell_type": "markdown",
   "metadata": {},
   "source": [
    "### Mapping goal to API"
   ]
  },
  {
   "cell_type": "code",
   "execution_count": 23,
   "metadata": {},
   "outputs": [],
   "source": [
    "class APIMapping(BaseModel):\n",
    "    api: list[API]\n",
    "    low_level_goal: list[LowLevelGoal]"
   ]
  },
  {
   "cell_type": "code",
   "execution_count": 56,
   "metadata": {},
   "outputs": [],
   "source": [
    "def define_mapping_apis_goals(lowLevelGoals, apiList):\n",
    "    \n",
    "    sys_prompt = (\n",
    "        \"You are a helpful assistant that helps developers to map low-level goals to APIs.\"\n",
    "        \" You will be given a low-level goal and a list of APIs. Your task is to identify which APIs best satisfies each low-level goal.\"        \n",
    "        \"Respond with only the API name or 'No API Found' in the api_name field\"\n",
    "    )\n",
    "    \n",
    "    result = []\n",
    "\n",
    "    for lowLevelgoal in tqdm(lowLevelGoals):\n",
    "        \n",
    "        print(f\"Doing: {lowLevelgoal}...\" )\n",
    "        \n",
    "        prompt = f\"\"\"\n",
    "            Given the following goal:\n",
    "            {lowLevelgoal}\n",
    "\n",
    "            And the list of APIs below:\n",
    "            {apiList}\n",
    "\n",
    "            Identify the single API that best satisfies the goal. If no API satisfies the goal, return exactly \"No API Found\".\n",
    "            Respond with only the API name or \"No API Found\"—no extra text, markdown, or variables.\n",
    "        \"\"\"\n",
    "        \n",
    "        response = generate_response(prompt, sys_prompt, APIMapping)\n",
    "        \n",
    "        result.append(json.loads(response))\n",
    "        \n",
    "    return result\n",
    "            #response = generate_response(prompt,\"you are an helpful assistant that helps developers to choose the best API that satisfy a given goal. The answer must be in a JSON format\").strip()\n",
    "            # Analizza la risposta come JSON\n",
    "            #response_data = json.loads(response)\n",
    "            #best_api = response_data.get(\"api_name\", \"No API Found\")\n",
    "            \n",
    "            # Verifica se l'API è valida o restituisce \"No API Found\"\n",
    "            #if best_api != \"No API Found\" and best_api not in [api[\"api_name\"] for api in preprocessed_api_list]:\n",
    "            #    print(f\"Goal: {goal}. Invalid response: {best_api}\")\n",
    "            #else:\n",
    "            #    print(f\"Goal: {goal}. Best API: {best_api}\")\n",
    "        \n",
    "        "
   ]
  },
  {
   "cell_type": "code",
   "execution_count": 46,
   "metadata": {},
   "outputs": [
    {
     "name": "stdout",
     "output_type": "stream",
     "text": [
      "Description STARTING...\n",
      "Description DONE...\n",
      "{\"description\":\"The Genome Nexus API is a service providing access to genetic variant annotations. Users can interact with the API to obtain annotations using HTTP requests, and it supports a variety of programmatic clients in different programming languages such as Python, R, JavaScript, and TypeScript. A command-line client is also available for processing MAF and VCF files. The API primarily supports the '/annotation' endpoint, which provides long-term support, and users are advised that other endpoints may be subject to change.\\n\\nThe Genome Nexus API enables retrieval of VEP (Variant Effect Predictor) annotations for genomic variants, dbSNP ids, and genomic locations. The API offers data endpoints including those for Canonical Ensembl Gene and Transcript IDs by Entrez Gene ID, Hugo Symbols, accessing Ensembl Transcripts by IDs or gene information, Protein Data Bank (PDB) header information, PFAM domain information, and post-translational modifications via Ensembl Transcript IDs.\\n\\nAdditional features include:\\n\\n- Web-based tools to annotate genetic variants.\\n- A comprehensive set of endpoints categorized under different controllers such as info-controller, pdb-controller, annotation-controller, ptm-controller, pfam-controller, and ensembl-controller.\\n- Ability to filter variant annotation results by fields, with options to specify isoform override sources and include authentication tokens where necessary.\\n\\nThe service is versioned, ensuring users can access consistent and reliable functionality. Supporting long-term API endpoints allows users to integrate consistent genomic data into their workflows and systems. The API is provided under the MIT License, and further documentation is available at https://docs.genomenexus.org/api.\"}\n"
     ]
    }
   ],
   "source": [
    "print(\"Description STARTING...\")\n",
    "description = get_description(\"https://raw.githubusercontent.com/WebFuzzing/EMB/refs/heads/master/openapi-swagger/genome-nexus.json\")\n",
    "print(\"Description DONE...\")\n",
    "print(description)"
   ]
  },
  {
   "cell_type": "code",
   "execution_count": 47,
   "metadata": {},
   "outputs": [
    {
     "name": "stdout",
     "output_type": "stream",
     "text": [
      "High Level Goals STARTING...\n",
      "High Level Goals DONE...\n",
      "{'goals': [{'description': 'Enable users to obtain genetic variant annotations via HTTP requests.'}, {'description': 'Provide support for multiple programming languages including Python, R, JavaScript, and TypeScript.'}, {'description': 'Offer a command-line client for processing MAF and VCF files.'}, {'description': 'Support retrieval of VEP annotations for genomic variants, dbSNP ids, and genomic locations.'}, {'description': 'Enable access to Canonical Ensembl Gene and Transcript IDs.'}, {'description': 'Provide endpoints for accessing Hugo Symbols and Ensembl Transcripts by IDs or gene information.'}, {'description': 'Provide access to Protein Data Bank (PDB) header information and PFAM domain information.'}, {'description': 'Provide access to post-translational modifications via Ensembl Transcript IDs.'}, {'description': 'Offer web-based tools for annotating genetic variants.'}, {'description': 'Allow users to filter variant annotation results by fields.'}]}\n"
     ]
    }
   ],
   "source": [
    "print(\"High Level Goals STARTING...\")\n",
    "highLevelGoals = define_high_level_goals(description)\n",
    "print(\"High Level Goals DONE...\")\n",
    "print(highLevelGoals)"
   ]
  },
  {
   "cell_type": "code",
   "execution_count": 52,
   "metadata": {},
   "outputs": [
    {
     "name": "stdout",
     "output_type": "stream",
     "text": [
      "Low Level Goals STARTING...\n",
      "Low Level Goals DONE...\n",
      "{'low_level_goals': [{'description': 'Implement API endpoint for submitting genetic variant annotations requests', 'high_level_associated': {'description': 'Enable users to obtain genetic variant annotations via HTTP requests.'}}, {'description': 'Develop language-specific client libraries for API interaction in Python', 'high_level_associated': {'description': 'Provide support for multiple programming languages including Python, R, JavaScript, and TypeScript.'}}, {'description': 'Develop language-specific client libraries for API interaction in R', 'high_level_associated': {'description': 'Provide support for multiple programming languages including Python, R, JavaScript, and TypeScript.'}}, {'description': 'Develop language-specific client libraries for API interaction in JavaScript', 'high_level_associated': {'description': 'Provide support for multiple programming languages including Python, R, JavaScript, and TypeScript.'}}, {'description': 'Develop language-specific client libraries for API interaction in TypeScript', 'high_level_associated': {'description': 'Provide support for multiple programming languages including Python, R, JavaScript, and TypeScript.'}}, {'description': 'Implement command-line interface for processing MAF files', 'high_level_associated': {'description': 'Offer a command-line client for processing MAF and VCF files.'}}, {'description': 'Implement command-line interface for processing VCF files', 'high_level_associated': {'description': 'Offer a command-line client for processing MAF and VCF files.'}}, {'description': 'Create API endpoint for retrieving VEP annotations by genomic variant', 'high_level_associated': {'description': 'Support retrieval of VEP annotations for genomic variants, dbSNP ids, and genomic locations.'}}, {'description': 'Create API endpoint for retrieving VEP annotations by dbSNP id', 'high_level_associated': {'description': 'Support retrieval of VEP annotations for genomic variants, dbSNP ids, and genomic locations.'}}, {'description': 'Create API endpoint for retrieving VEP annotations by genomic location', 'high_level_associated': {'description': 'Support retrieval of VEP annotations for genomic variants, dbSNP ids, and genomic locations.'}}, {'description': 'Create API endpoint for accessing Canonical Ensembl Gene IDs', 'high_level_associated': {'description': 'Enable access to Canonical Ensembl Gene and Transcript IDs.'}}, {'description': 'Create API endpoint for accessing Canonical Ensembl Transcript IDs', 'high_level_associated': {'description': 'Enable access to Canonical Ensembl Gene and Transcript IDs.'}}, {'description': 'Create API endpoint for retrieving Hugo Symbols by ID', 'high_level_associated': {'description': 'Provide endpoints for accessing Hugo Symbols and Ensembl Transcripts by IDs or gene information.'}}, {'description': 'Create API endpoint for retrieving Ensembl Transcripts by ID', 'high_level_associated': {'description': 'Provide endpoints for accessing Hugo Symbols and Ensembl Transcripts by IDs or gene information.'}}, {'description': 'Create API endpoint for retrieving Hugo Symbols by gene information', 'high_level_associated': {'description': 'Provide endpoints for accessing Hugo Symbols and Ensembl Transcripts by IDs or gene information.'}}, {'description': 'Implement API endpoint for accessing PDB header information', 'high_level_associated': {'description': 'Provide access to Protein Data Bank (PDB) header information and PFAM domain information.'}}, {'description': 'Implement API endpoint for accessing PFAM domain information', 'high_level_associated': {'description': 'Provide access to Protein Data Bank (PDB) header information and PFAM domain information.'}}, {'description': 'Create API endpoint for accessing post-translational modifications by Ensembl Transcript ID', 'high_level_associated': {'description': 'Provide access to post-translational modifications via Ensembl Transcript IDs.'}}, {'description': 'Develop web-based tool for annotating genetic variants', 'high_level_associated': {'description': 'Offer web-based tools for annotating genetic variants.'}}, {'description': 'Implement filtering functionality for variant annotation results using specific fields', 'high_level_associated': {'description': 'Allow users to filter variant annotation results by fields.'}}]}\n"
     ]
    }
   ],
   "source": [
    "print(\"Low Level Goals STARTING...\")\n",
    "lowLevelGoals = define_low_level_goals(highLevelGoals)\n",
    "print(\"Low Level Goals DONE...\")\n",
    "print(lowLevelGoals)"
   ]
  },
  {
   "cell_type": "code",
   "execution_count": 53,
   "metadata": {},
   "outputs": [
    {
     "name": "stdout",
     "output_type": "stream",
     "text": [
      "API List STARTING...\n",
      "API List DONE...\n",
      "[API(api_name='fetchVariantAnnotationPOST', api_path='/annotation', description='Retrieves VEP annotation for the provided list of variants', request_type='post'), API(api_name='fetchVariantAnnotationByIdPOST', api_path='/annotation/dbsnp/', description='Retrieves VEP annotation for the provided list of dbSNP ids', request_type='post'), API(api_name='fetchVariantAnnotationByIdGET', api_path='/annotation/dbsnp/{variantId}', description='Retrieves VEP annotation for the give dbSNP id', request_type='get'), API(api_name='fetchVariantAnnotationByGenomicLocationPOST', api_path='/annotation/genomic', description='Retrieves VEP annotation for the provided list of genomic locations', request_type='post'), API(api_name='fetchVariantAnnotationByGenomicLocationGET', api_path='/annotation/genomic/{genomicLocation}', description='Retrieves VEP annotation for the provided genomic location', request_type='get'), API(api_name='fetchVariantAnnotationGET', api_path='/annotation/{variant}', description='Retrieves VEP annotation for the provided variant', request_type='get'), API(api_name='fetchCanonicalEnsemblGeneIdByEntrezGeneIdsPOST', api_path='/ensembl/canonical-gene/entrez', description='Retrieves canonical Ensembl Gene ID by Entrez Gene Ids', request_type='post'), API(api_name='fetchCanonicalEnsemblGeneIdByEntrezGeneIdGET', api_path='/ensembl/canonical-gene/entrez/{entrezGeneId}', description='Retrieves Ensembl canonical gene id by Entrez Gene Id', request_type='get'), API(api_name='fetchCanonicalEnsemblGeneIdByHugoSymbolsPOST', api_path='/ensembl/canonical-gene/hgnc', description='Retrieves canonical Ensembl Gene ID by Hugo Symbols', request_type='post'), API(api_name='fetchCanonicalEnsemblGeneIdByHugoSymbolGET', api_path='/ensembl/canonical-gene/hgnc/{hugoSymbol}', description='Retrieves Ensembl canonical gene id by Hugo Symbol', request_type='get'), API(api_name='fetchCanonicalEnsemblTranscriptsByHugoSymbolsPOST', api_path='/ensembl/canonical-transcript/hgnc', description='Retrieves Ensembl canonical transcripts by Hugo Symbols', request_type='post'), API(api_name='fetchCanonicalEnsemblTranscriptByHugoSymbolGET', api_path='/ensembl/canonical-transcript/hgnc/{hugoSymbol}', description='Retrieves Ensembl canonical transcript by Hugo Symbol', request_type='get'), API(api_name='fetchEnsemblTranscriptsGET', api_path='/ensembl/transcript', description='Retrieves Ensembl Transcripts by protein ID, and gene ID. Retrieves all transcripts in case no query parameter provided', request_type='get'), API(api_name='fetchEnsemblTranscriptsByEnsemblFilterPOST', api_path='/ensembl/transcript', description='Retrieves Ensembl Transcripts by Ensembl transcript IDs, hugo Symbols, protein IDs, or gene IDs', request_type='post'), API(api_name='fetchEnsemblTranscriptByTranscriptIdGET', api_path='/ensembl/transcript/{transcriptId}', description='Retrieves the transcript by an Ensembl transcript ID', request_type='get'), API(api_name='fetchGeneXrefsGET', api_path='/ensembl/xrefs', description='Perform lookups of Ensembl identifiers and retrieve their external references in other databases', request_type='get'), API(api_name='fetchPdbHeaderPOST', api_path='/pdb/header', description='Retrieves PDB header info by a PDB id', request_type='post'), API(api_name='fetchPdbHeaderGET', api_path='/pdb/header/{pdbId}', description='Retrieves PDB header info by a PDB id', request_type='get'), API(api_name='fetchPfamDomainsByPfamAccessionPOST', api_path='/pfam/domain', description='Retrieves PFAM domains by PFAM domain accession IDs', request_type='post'), API(api_name='fetchPfamDomainsByAccessionGET', api_path='/pfam/domain/{pfamAccession}', description='Retrieves a PFAM domain by a PFAM domain ID', request_type='get'), API(api_name='fetchPostTranslationalModificationsGET', api_path='/ptm/experimental', description='Retrieves PTM entries by Ensembl Transcript ID', request_type='get'), API(api_name='fetchPostTranslationalModificationsByPtmFilterPOST', api_path='/ptm/experimental', description='Retrieves PTM entries by Ensembl Transcript IDs', request_type='post'), API(api_name='fetchVersionGET', api_path='/version', description='Retrieve Genome Nexus Version', request_type='get')]\n"
     ]
    }
   ],
   "source": [
    "print(\"API List STARTING...\")\n",
    "apiList = get_api_list_from_swagger()\n",
    "print(\"API List DONE...\")\n",
    "print(apiList)"
   ]
  },
  {
   "cell_type": "code",
   "execution_count": 57,
   "metadata": {},
   "outputs": [
    {
     "name": "stdout",
     "output_type": "stream",
     "text": [
      "Mapping STARTING...\n"
     ]
    },
    {
     "name": "stderr",
     "output_type": "stream",
     "text": [
      "  0%|          | 0/20 [00:00<?, ?it/s]"
     ]
    },
    {
     "name": "stdout",
     "output_type": "stream",
     "text": [
      "Doing: {'description': 'Implement API endpoint for submitting genetic variant annotations requests', 'high_level_associated': {'description': 'Enable users to obtain genetic variant annotations via HTTP requests.'}}...\n"
     ]
    },
    {
     "name": "stderr",
     "output_type": "stream",
     "text": [
      "  5%|▌         | 1/20 [00:10<03:10, 10.02s/it]"
     ]
    },
    {
     "name": "stdout",
     "output_type": "stream",
     "text": [
      "Doing: {'description': 'Develop language-specific client libraries for API interaction in Python', 'high_level_associated': {'description': 'Provide support for multiple programming languages including Python, R, JavaScript, and TypeScript.'}}...\n"
     ]
    },
    {
     "name": "stderr",
     "output_type": "stream",
     "text": [
      " 10%|█         | 2/20 [00:11<01:24,  4.72s/it]"
     ]
    },
    {
     "name": "stdout",
     "output_type": "stream",
     "text": [
      "Doing: {'description': 'Develop language-specific client libraries for API interaction in R', 'high_level_associated': {'description': 'Provide support for multiple programming languages including Python, R, JavaScript, and TypeScript.'}}...\n"
     ]
    },
    {
     "name": "stderr",
     "output_type": "stream",
     "text": [
      " 15%|█▌        | 3/20 [00:12<00:56,  3.31s/it]"
     ]
    },
    {
     "name": "stdout",
     "output_type": "stream",
     "text": [
      "Doing: {'description': 'Develop language-specific client libraries for API interaction in JavaScript', 'high_level_associated': {'description': 'Provide support for multiple programming languages including Python, R, JavaScript, and TypeScript.'}}...\n"
     ]
    },
    {
     "name": "stderr",
     "output_type": "stream",
     "text": [
      " 20%|██        | 4/20 [00:13<00:38,  2.41s/it]"
     ]
    },
    {
     "name": "stdout",
     "output_type": "stream",
     "text": [
      "Doing: {'description': 'Develop language-specific client libraries for API interaction in TypeScript', 'high_level_associated': {'description': 'Provide support for multiple programming languages including Python, R, JavaScript, and TypeScript.'}}...\n"
     ]
    },
    {
     "name": "stderr",
     "output_type": "stream",
     "text": [
      " 25%|██▌       | 5/20 [00:22<01:10,  4.72s/it]"
     ]
    },
    {
     "name": "stdout",
     "output_type": "stream",
     "text": [
      "Doing: {'description': 'Implement command-line interface for processing MAF files', 'high_level_associated': {'description': 'Offer a command-line client for processing MAF and VCF files.'}}...\n"
     ]
    },
    {
     "name": "stderr",
     "output_type": "stream",
     "text": [
      " 30%|███       | 6/20 [00:31<01:27,  6.23s/it]"
     ]
    },
    {
     "name": "stdout",
     "output_type": "stream",
     "text": [
      "Doing: {'description': 'Implement command-line interface for processing VCF files', 'high_level_associated': {'description': 'Offer a command-line client for processing MAF and VCF files.'}}...\n"
     ]
    },
    {
     "name": "stderr",
     "output_type": "stream",
     "text": [
      " 35%|███▌      | 7/20 [00:32<00:59,  4.60s/it]"
     ]
    },
    {
     "name": "stdout",
     "output_type": "stream",
     "text": [
      "Doing: {'description': 'Create API endpoint for retrieving VEP annotations by genomic variant', 'high_level_associated': {'description': 'Support retrieval of VEP annotations for genomic variants, dbSNP ids, and genomic locations.'}}...\n"
     ]
    },
    {
     "name": "stderr",
     "output_type": "stream",
     "text": [
      " 40%|████      | 8/20 [00:43<01:17,  6.46s/it]"
     ]
    },
    {
     "name": "stdout",
     "output_type": "stream",
     "text": [
      "Doing: {'description': 'Create API endpoint for retrieving VEP annotations by dbSNP id', 'high_level_associated': {'description': 'Support retrieval of VEP annotations for genomic variants, dbSNP ids, and genomic locations.'}}...\n"
     ]
    },
    {
     "name": "stderr",
     "output_type": "stream",
     "text": [
      " 45%|████▌     | 9/20 [00:44<00:53,  4.82s/it]"
     ]
    },
    {
     "name": "stdout",
     "output_type": "stream",
     "text": [
      "Doing: {'description': 'Create API endpoint for retrieving VEP annotations by genomic location', 'high_level_associated': {'description': 'Support retrieval of VEP annotations for genomic variants, dbSNP ids, and genomic locations.'}}...\n"
     ]
    },
    {
     "name": "stderr",
     "output_type": "stream",
     "text": [
      " 50%|█████     | 10/20 [00:46<00:38,  3.84s/it]"
     ]
    },
    {
     "name": "stdout",
     "output_type": "stream",
     "text": [
      "Doing: {'description': 'Create API endpoint for accessing Canonical Ensembl Gene IDs', 'high_level_associated': {'description': 'Enable access to Canonical Ensembl Gene and Transcript IDs.'}}...\n"
     ]
    },
    {
     "name": "stderr",
     "output_type": "stream",
     "text": [
      " 55%|█████▌    | 11/20 [00:47<00:27,  3.06s/it]"
     ]
    },
    {
     "name": "stdout",
     "output_type": "stream",
     "text": [
      "Doing: {'description': 'Create API endpoint for accessing Canonical Ensembl Transcript IDs', 'high_level_associated': {'description': 'Enable access to Canonical Ensembl Gene and Transcript IDs.'}}...\n"
     ]
    },
    {
     "name": "stderr",
     "output_type": "stream",
     "text": [
      " 60%|██████    | 12/20 [00:50<00:24,  3.00s/it]"
     ]
    },
    {
     "name": "stdout",
     "output_type": "stream",
     "text": [
      "Doing: {'description': 'Create API endpoint for retrieving Hugo Symbols by ID', 'high_level_associated': {'description': 'Provide endpoints for accessing Hugo Symbols and Ensembl Transcripts by IDs or gene information.'}}...\n"
     ]
    },
    {
     "name": "stderr",
     "output_type": "stream",
     "text": [
      " 65%|██████▌   | 13/20 [00:52<00:18,  2.63s/it]"
     ]
    },
    {
     "name": "stdout",
     "output_type": "stream",
     "text": [
      "Doing: {'description': 'Create API endpoint for retrieving Ensembl Transcripts by ID', 'high_level_associated': {'description': 'Provide endpoints for accessing Hugo Symbols and Ensembl Transcripts by IDs or gene information.'}}...\n"
     ]
    },
    {
     "name": "stderr",
     "output_type": "stream",
     "text": [
      " 70%|███████   | 14/20 [00:53<00:13,  2.19s/it]"
     ]
    },
    {
     "name": "stdout",
     "output_type": "stream",
     "text": [
      "Doing: {'description': 'Create API endpoint for retrieving Hugo Symbols by gene information', 'high_level_associated': {'description': 'Provide endpoints for accessing Hugo Symbols and Ensembl Transcripts by IDs or gene information.'}}...\n"
     ]
    },
    {
     "name": "stderr",
     "output_type": "stream",
     "text": [
      " 75%|███████▌  | 15/20 [00:55<00:10,  2.13s/it]"
     ]
    },
    {
     "name": "stdout",
     "output_type": "stream",
     "text": [
      "Doing: {'description': 'Implement API endpoint for accessing PDB header information', 'high_level_associated': {'description': 'Provide access to Protein Data Bank (PDB) header information and PFAM domain information.'}}...\n"
     ]
    },
    {
     "name": "stderr",
     "output_type": "stream",
     "text": [
      " 80%|████████  | 16/20 [00:57<00:08,  2.06s/it]"
     ]
    },
    {
     "name": "stdout",
     "output_type": "stream",
     "text": [
      "Doing: {'description': 'Implement API endpoint for accessing PFAM domain information', 'high_level_associated': {'description': 'Provide access to Protein Data Bank (PDB) header information and PFAM domain information.'}}...\n"
     ]
    },
    {
     "name": "stderr",
     "output_type": "stream",
     "text": [
      " 85%|████████▌ | 17/20 [00:59<00:06,  2.19s/it]"
     ]
    },
    {
     "name": "stdout",
     "output_type": "stream",
     "text": [
      "Doing: {'description': 'Create API endpoint for accessing post-translational modifications by Ensembl Transcript ID', 'high_level_associated': {'description': 'Provide access to post-translational modifications via Ensembl Transcript IDs.'}}...\n"
     ]
    },
    {
     "name": "stderr",
     "output_type": "stream",
     "text": [
      " 90%|█████████ | 18/20 [01:01<00:03,  1.99s/it]"
     ]
    },
    {
     "name": "stdout",
     "output_type": "stream",
     "text": [
      "Doing: {'description': 'Develop web-based tool for annotating genetic variants', 'high_level_associated': {'description': 'Offer web-based tools for annotating genetic variants.'}}...\n"
     ]
    },
    {
     "name": "stderr",
     "output_type": "stream",
     "text": [
      " 95%|█████████▌| 19/20 [01:02<00:01,  1.86s/it]"
     ]
    },
    {
     "name": "stdout",
     "output_type": "stream",
     "text": [
      "Doing: {'description': 'Implement filtering functionality for variant annotation results using specific fields', 'high_level_associated': {'description': 'Allow users to filter variant annotation results by fields.'}}...\n"
     ]
    },
    {
     "name": "stderr",
     "output_type": "stream",
     "text": [
      "100%|██████████| 20/20 [01:04<00:00,  3.24s/it]"
     ]
    },
    {
     "name": "stdout",
     "output_type": "stream",
     "text": [
      "Mapping DONE...\n",
      "[{'api': [{'api_name': 'fetchVariantAnnotationPOST', 'api_path': '/annotation', 'description': 'Retrieves VEP annotation for the provided list of variants', 'request_type': 'post'}, {'api_name': 'fetchVariantAnnotationByIdPOST', 'api_path': '/annotation/dbsnp/', 'description': 'Retrieves VEP annotation for the provided list of dbSNP ids', 'request_type': 'post'}, {'api_name': 'fetchVariantAnnotationByIdGET', 'api_path': '/annotation/dbsnp/{variantId}', 'description': 'Retrieves VEP annotation for the give dbSNP id', 'request_type': 'get'}, {'api_name': 'fetchVariantAnnotationByGenomicLocationPOST', 'api_path': '/annotation/genomic', 'description': 'Retrieves VEP annotation for the provided list of genomic locations', 'request_type': 'post'}, {'api_name': 'fetchVariantAnnotationByGenomicLocationGET', 'api_path': '/annotation/genomic/{genomicLocation}', 'description': 'Retrieves VEP annotation for the provided genomic location', 'request_type': 'get'}, {'api_name': 'fetchVariantAnnotationGET', 'api_path': '/annotation/{variant}', 'description': 'Retrieves VEP annotation for the provided variant', 'request_type': 'get'}, {'api_name': 'fetchCanonicalEnsemblGeneIdByEntrezGeneIdsPOST', 'api_path': '/ensembl/canonical-gene/entrez', 'description': 'Retrieves canonical Ensembl Gene ID by Entrez Gene Ids', 'request_type': 'post'}, {'api_name': 'fetchCanonicalEnsemblGeneIdByEntrezGeneIdGET', 'api_path': '/ensembl/canonical-gene/entrez/{entrezGeneId}', 'description': 'Retrieves Ensembl canonical gene id by Entrez Gene Id', 'request_type': 'get'}, {'api_name': 'fetchCanonicalEnsemblGeneIdByHugoSymbolsPOST', 'api_path': '/ensembl/canonical-gene/hgnc', 'description': 'Retrieves canonical Ensembl Gene ID by Hugo Symbols', 'request_type': 'post'}, {'api_name': 'fetchCanonicalEnsemblGeneIdByHugoSymbolGET', 'api_path': '/ensembl/canonical-gene/hgnc/{hugoSymbol}', 'description': 'Retrieves Ensembl canonical gene id by Hugo Symbol', 'request_type': 'get'}, {'api_name': 'fetchCanonicalEnsemblTranscriptsByHugoSymbolsPOST', 'api_path': '/ensembl/canonical-transcript/hgnc', 'description': 'Retrieves Ensembl canonical transcripts by Hugo Symbols', 'request_type': 'post'}, {'api_name': 'fetchCanonicalEnsemblTranscriptByHugoSymbolGET', 'api_path': '/ensembl/canonical-transcript/hgnc/{hugoSymbol}', 'description': 'Retrieves Ensembl canonical transcript by Hugo Symbol', 'request_type': 'get'}, {'api_name': 'fetchEnsemblTranscriptsGET', 'api_path': '/ensembl/transcript', 'description': 'Retrieves Ensembl Transcripts by protein ID, and gene ID. Retrieves all transcripts in case no query parameter provided', 'request_type': 'get'}, {'api_name': 'fetchEnsemblTranscriptsByEnsemblFilterPOST', 'api_path': '/ensembl/transcript', 'description': 'Retrieves Ensembl Transcripts by Ensembl transcript IDs, hugo Symbols, protein IDs, or gene IDs', 'request_type': 'post'}, {'api_name': 'fetchEnsemblTranscriptByTranscriptIdGET', 'api_path': '/ensembl/transcript/{transcriptId}', 'description': 'Retrieves the transcript by an Ensembl transcript ID', 'request_type': 'get'}, {'api_name': 'fetchGeneXrefsGET', 'api_path': '/ensembl/xrefs', 'description': 'Perform lookups of Ensembl identifiers and retrieve their external references in other databases', 'request_type': 'get'}, {'api_name': 'fetchPdbHeaderPOST', 'api_path': '/pdb/header', 'description': 'Retrieves PDB header info by a PDB id', 'request_type': 'post'}, {'api_name': 'fetchPdbHeaderGET', 'api_path': '/pdb/header/{pdbId}', 'description': 'Retrieves PDB header info by a PDB id', 'request_type': 'get'}, {'api_name': 'fetchPfamDomainsByPfamAccessionPOST', 'api_path': '/pfam/domain', 'description': 'Retrieves PFAM domains by PFAM domain accession IDs', 'request_type': 'post'}, {'api_name': 'fetchPfamDomainsByAccessionGET', 'api_path': '/pfam/domain/{pfamAccession}', 'description': 'Retrieves a PFAM domain by a PFAM domain ID', 'request_type': 'get'}, {'api_name': 'fetchPostTranslationalModificationsGET', 'api_path': '/ptm/experimental', 'description': 'Retrieves PTM entries by Ensembl Transcript ID', 'request_type': 'get'}, {'api_name': 'fetchPostTranslationalModificationsByPtmFilterPOST', 'api_path': '/ptm/experimental', 'description': 'Retrieves PTM entries by Ensembl Transcript IDs', 'request_type': 'post'}, {'api_name': 'fetchVersionGET', 'api_path': '/version', 'description': 'Retrieve Genome Nexus Version', 'request_type': 'get'}], 'low_level_goal': [{'description': 'Implement API endpoint for submitting genetic variant annotations requests', 'high_level_associated': {'description': 'Enable users to obtain genetic variant annotations via HTTP requests.'}}]}, {'api': [{'api_name': 'No API Found', 'api_path': '', 'description': '', 'request_type': ''}], 'low_level_goal': [{'description': 'Develop language-specific client libraries for API interaction in Python', 'high_level_associated': {'description': 'Provide support for multiple programming languages including Python, R, JavaScript, and TypeScript.'}}]}, {'api': [{'api_name': 'No API Found', 'api_path': '', 'description': '', 'request_type': ''}], 'low_level_goal': [{'description': 'Develop language-specific client libraries for API interaction in R', 'high_level_associated': {'description': 'Provide support for multiple programming languages including Python, R, JavaScript, and TypeScript.'}}]}, {'api': [{'api_name': 'No API Found', 'api_path': '', 'description': '', 'request_type': ''}], 'low_level_goal': [{'description': 'Develop language-specific client libraries for API interaction in JavaScript', 'high_level_associated': {'description': 'Provide support for multiple programming languages including Python, R, JavaScript, and TypeScript.'}}]}, {'api': [{'api_name': 'No API Found', 'api_path': '/annotation', 'description': 'Retrieves VEP annotation for the provided list of variants', 'request_type': 'post'}, {'api_name': 'No API Found', 'api_path': '/annotation/dbsnp/', 'description': 'Retrieves VEP annotation for the provided list of dbSNP ids', 'request_type': 'post'}, {'api_name': 'No API Found', 'api_path': '/annotation/dbsnp/{variantId}', 'description': 'Retrieves VEP annotation for the give dbSNP id', 'request_type': 'get'}, {'api_name': 'No API Found', 'api_path': '/annotation/genomic', 'description': 'Retrieves VEP annotation for the provided list of genomic locations', 'request_type': 'post'}, {'api_name': 'No API Found', 'api_path': '/annotation/genomic/{genomicLocation}', 'description': 'Retrieves VEP annotation for the provided genomic location', 'request_type': 'get'}, {'api_name': 'No API Found', 'api_path': '/annotation/{variant}', 'description': 'Retrieves VEP annotation for the provided variant', 'request_type': 'get'}, {'api_name': 'No API Found', 'api_path': '/ensembl/canonical-gene/entrez', 'description': 'Retrieves canonical Ensembl Gene ID by Entrez Gene Ids', 'request_type': 'post'}, {'api_name': 'No API Found', 'api_path': '/ensembl/canonical-gene/entrez/{entrezGeneId}', 'description': 'Retrieves Ensembl canonical gene id by Entrez Gene Id', 'request_type': 'get'}, {'api_name': 'No API Found', 'api_path': '/ensembl/canonical-gene/hgnc', 'description': 'Retrieves canonical Ensembl Gene ID by Hugo Symbols', 'request_type': 'post'}, {'api_name': 'No API Found', 'api_path': '/ensembl/canonical-gene/hgnc/{hugoSymbol}', 'description': 'Retrieves Ensembl canonical gene id by Hugo Symbol', 'request_type': 'get'}, {'api_name': 'No API Found', 'api_path': '/ensembl/canonical-transcript/hgnc', 'description': 'Retrieves Ensembl canonical transcripts by Hugo Symbols', 'request_type': 'post'}, {'api_name': 'No API Found', 'api_path': '/ensembl/canonical-transcript/hgnc/{hugoSymbol}', 'description': 'Retrieves Ensembl canonical transcript by Hugo Symbol', 'request_type': 'get'}, {'api_name': 'No API Found', 'api_path': '/ensembl/transcript', 'description': 'Retrieves Ensembl Transcripts by protein ID, and gene ID. Retrieves all transcripts in case no query parameter provided', 'request_type': 'get'}, {'api_name': 'No API Found', 'api_path': '/ensembl/transcript', 'description': 'Retrieves Ensembl Transcripts by Ensembl transcript IDs, hugo Symbols, protein IDs, or gene IDs', 'request_type': 'post'}, {'api_name': 'No API Found', 'api_path': '/ensembl/transcript/{transcriptId}', 'description': 'Retrieves the transcript by an Ensembl transcript ID', 'request_type': 'get'}, {'api_name': 'No API Found', 'api_path': '/ensembl/xrefs', 'description': 'Perform lookups of Ensembl identifiers and retrieve their external references in other databases', 'request_type': 'get'}, {'api_name': 'No API Found', 'api_path': '/pdb/header', 'description': 'Retrieves PDB header info by a PDB id', 'request_type': 'post'}, {'api_name': 'No API Found', 'api_path': '/pdb/header/{pdbId}', 'description': 'Retrieves PDB header info by a PDB id', 'request_type': 'get'}, {'api_name': 'No API Found', 'api_path': '/pfam/domain', 'description': 'Retrieves PFAM domains by PFAM domain accession IDs', 'request_type': 'post'}, {'api_name': 'No API Found', 'api_path': '/pfam/domain/{pfamAccession}', 'description': 'Retrieves a PFAM domain by a PFAM domain ID', 'request_type': 'get'}, {'api_name': 'No API Found', 'api_path': '/ptm/experimental', 'description': 'Retrieves PTM entries by Ensembl Transcript ID', 'request_type': 'get'}, {'api_name': 'No API Found', 'api_path': '/ptm/experimental', 'description': 'Retrieves PTM entries by Ensembl Transcript IDs', 'request_type': 'post'}, {'api_name': 'No API Found', 'api_path': '/version', 'description': 'Retrieve Genome Nexus Version', 'request_type': 'get'}], 'low_level_goal': [{'description': 'Develop language-specific client libraries for API interaction in TypeScript', 'high_level_associated': {'description': 'Provide support for multiple programming languages including Python, R, JavaScript, and TypeScript.'}}]}, {'api': [{'api_name': 'No API Found', 'api_path': '/annotation', 'description': 'Retrieves VEP annotation for the provided list of variants', 'request_type': 'post'}, {'api_name': 'fetchVariantAnnotationByIdPOST', 'api_path': '/annotation/dbsnp/', 'description': 'Retrieves VEP annotation for the provided list of dbSNP ids', 'request_type': 'post'}, {'api_name': 'fetchVariantAnnotationByIdGET', 'api_path': '/annotation/dbsnp/{variantId}', 'description': 'Retrieves VEP annotation for the give dbSNP id', 'request_type': 'get'}, {'api_name': 'fetchVariantAnnotationByGenomicLocationPOST', 'api_path': '/annotation/genomic', 'description': 'Retrieves VEP annotation for the provided list of genomic locations', 'request_type': 'post'}, {'api_name': 'fetchVariantAnnotationByGenomicLocationGET', 'api_path': '/annotation/genomic/{genomicLocation}', 'description': 'Retrieves VEP annotation for the provided genomic location', 'request_type': 'get'}, {'api_name': 'fetchVariantAnnotationGET', 'api_path': '/annotation/{variant}', 'description': 'Retrieves VEP annotation for the provided variant', 'request_type': 'get'}, {'api_name': 'fetchCanonicalEnsemblGeneIdByEntrezGeneIdsPOST', 'api_path': '/ensembl/canonical-gene/entrez', 'description': 'Retrieves canonical Ensembl Gene ID by Entrez Gene Ids', 'request_type': 'post'}, {'api_name': 'fetchCanonicalEnsemblGeneIdByEntrezGeneIdGET', 'api_path': '/ensembl/canonical-gene/entrez/{entrezGeneId}', 'description': 'Retrieves Ensembl canonical gene id by Entrez Gene Id', 'request_type': 'get'}, {'api_name': 'fetchCanonicalEnsemblGeneIdByHugoSymbolsPOST', 'api_path': '/ensembl/canonical-gene/hgnc', 'description': 'Retrieves canonical Ensembl Gene ID by Hugo Symbols', 'request_type': 'post'}, {'api_name': 'fetchCanonicalEnsemblGeneIdByHugoSymbolGET', 'api_path': '/ensembl/canonical-gene/hgnc/{hugoSymbol}', 'description': 'Retrieves Ensembl canonical gene id by Hugo Symbol', 'request_type': 'get'}, {'api_name': 'fetchCanonicalEnsemblTranscriptsByHugoSymbolsPOST', 'api_path': '/ensembl/canonical-transcript/hgnc', 'description': 'Retrieves Ensembl canonical transcripts by Hugo Symbols', 'request_type': 'post'}, {'api_name': 'fetchCanonicalEnsemblTranscriptByHugoSymbolGET', 'api_path': '/ensembl/canonical-transcript/hgnc/{hugoSymbol}', 'description': 'Retrieves Ensembl canonical transcript by Hugo Symbol', 'request_type': 'get'}, {'api_name': 'fetchEnsemblTranscriptsGET', 'api_path': '/ensembl/transcript', 'description': 'Retrieves Ensembl Transcripts by protein ID, and gene ID. Retrieves all transcripts in case no query parameter provided', 'request_type': 'get'}, {'api_name': 'fetchEnsemblTranscriptsByEnsemblFilterPOST', 'api_path': '/ensembl/transcript', 'description': 'Retrieves Ensembl Transcripts by Ensembl transcript IDs, hugo Symbols, protein IDs, or gene IDs', 'request_type': 'post'}, {'api_name': 'fetchEnsemblTranscriptByTranscriptIdGET', 'api_path': '/ensembl/transcript/{transcriptId}', 'description': 'Retrieves the transcript by an Ensembl transcript ID', 'request_type': 'get'}, {'api_name': 'fetchGeneXrefsGET', 'api_path': '/ensembl/xrefs', 'description': 'Perform lookups of Ensembl identifiers and retrieve their external references in other databases', 'request_type': 'get'}, {'api_name': 'fetchPdbHeaderPOST', 'api_path': '/pdb/header', 'description': 'Retrieves PDB header info by a PDB id', 'request_type': 'post'}, {'api_name': 'fetchPdbHeaderGET', 'api_path': '/pdb/header/{pdbId}', 'description': 'Retrieves PDB header info by a PDB id', 'request_type': 'get'}, {'api_name': 'fetchPfamDomainsByPfamAccessionPOST', 'api_path': '/pfam/domain', 'description': 'Retrieves PFAM domains by PFAM domain accession IDs', 'request_type': 'post'}, {'api_name': 'fetchPfamDomainsByAccessionGET', 'api_path': '/pfam/domain/{pfamAccession}', 'description': 'Retrieves a PFAM domain by a PFAM domain ID', 'request_type': 'get'}, {'api_name': 'fetchPostTranslationalModificationsGET', 'api_path': '/ptm/experimental', 'description': 'Retrieves PTM entries by Ensembl Transcript ID', 'request_type': 'get'}, {'api_name': 'fetchPostTranslationalModificationsByPtmFilterPOST', 'api_path': '/ptm/experimental', 'description': 'Retrieves PTM entries by Ensembl Transcript IDs', 'request_type': 'post'}, {'api_name': 'fetchVersionGET', 'api_path': '/version', 'description': 'Retrieve Genome Nexus Version', 'request_type': 'get'}], 'low_level_goal': [{'description': 'Implement command-line interface for processing MAF files', 'high_level_associated': {'description': 'Offer a command-line client for processing MAF and VCF files.'}}]}, {'api': [{'api_name': 'No API Found', 'api_path': '', 'description': '', 'request_type': ''}], 'low_level_goal': [{'description': 'Implement command-line interface for processing VCF files', 'high_level_associated': {'description': 'Offer a command-line client for processing MAF and VCF files.'}}]}, {'api': [{'api_name': 'fetchVariantAnnotationPOST', 'api_path': '/annotation', 'description': 'Retrieves VEP annotation for the provided list of variants', 'request_type': 'post'}, {'api_name': 'fetchVariantAnnotationByIdPOST', 'api_path': '/annotation/dbsnp/', 'description': 'Retrieves VEP annotation for the provided list of dbSNP ids', 'request_type': 'post'}, {'api_name': 'fetchVariantAnnotationByIdGET', 'api_path': '/annotation/dbsnp/{variantId}', 'description': 'Retrieves VEP annotation for the give dbSNP id', 'request_type': 'get'}, {'api_name': 'fetchVariantAnnotationByGenomicLocationPOST', 'api_path': '/annotation/genomic', 'description': 'Retrieves VEP annotation for the provided list of genomic locations', 'request_type': 'post'}, {'api_name': 'fetchVariantAnnotationByGenomicLocationGET', 'api_path': '/annotation/genomic/{genomicLocation}', 'description': 'Retrieves VEP annotation for the provided genomic location', 'request_type': 'get'}, {'api_name': 'fetchVariantAnnotationGET', 'api_path': '/annotation/{variant}', 'description': 'Retrieves VEP annotation for the provided variant', 'request_type': 'get'}, {'api_name': 'fetchCanonicalEnsemblGeneIdByEntrezGeneIdsPOST', 'api_path': '/ensembl/canonical-gene/entrez', 'description': 'Retrieves canonical Ensembl Gene ID by Entrez Gene Ids', 'request_type': 'post'}, {'api_name': 'fetchCanonicalEnsemblGeneIdByEntrezGeneIdGET', 'api_path': '/ensembl/canonical-gene/entrez/{entrezGeneId}', 'description': 'Retrieves Ensembl canonical gene id by Entrez Gene Id', 'request_type': 'get'}, {'api_name': 'fetchCanonicalEnsemblGeneIdByHugoSymbolsPOST', 'api_path': '/ensembl/canonical-gene/hgnc', 'description': 'Retrieves canonical Ensembl Gene ID by Hugo Symbols', 'request_type': 'post'}, {'api_name': 'fetchCanonicalEnsemblGeneIdByHugoSymbolGET', 'api_path': '/ensembl/canonical-gene/hgnc/{hugoSymbol}', 'description': 'Retrieves Ensembl canonical gene id by Hugo Symbol', 'request_type': 'get'}, {'api_name': 'fetchCanonicalEnsemblTranscriptsByHugoSymbolsPOST', 'api_path': '/ensembl/canonical-transcript/hgnc', 'description': 'Retrieves Ensembl canonical transcripts by Hugo Symbols', 'request_type': 'post'}, {'api_name': 'fetchCanonicalEnsemblTranscriptByHugoSymbolGET', 'api_path': '/ensembl/canonical-transcript/hgnc/{hugoSymbol}', 'description': 'Retrieves Ensembl canonical transcript by Hugo Symbol', 'request_type': 'get'}, {'api_name': 'fetchEnsemblTranscriptsGET', 'api_path': '/ensembl/transcript', 'description': 'Retrieves Ensembl Transcripts by protein ID, and gene ID. Retrieves all transcripts in case no query parameter provided', 'request_type': 'get'}, {'api_name': 'fetchEnsemblTranscriptsByEnsemblFilterPOST', 'api_path': '/ensembl/transcript', 'description': 'Retrieves Ensembl Transcripts by Ensembl transcript IDs, hugo Symbols, protein IDs, or gene IDs', 'request_type': 'post'}, {'api_name': 'fetchEnsemblTranscriptByTranscriptIdGET', 'api_path': '/ensembl/transcript/{transcriptId}', 'description': 'Retrieves the transcript by an Ensembl transcript ID', 'request_type': 'get'}, {'api_name': 'fetchGeneXrefsGET', 'api_path': '/ensembl/xrefs', 'description': 'Perform lookups of Ensembl identifiers and retrieve their external references in other databases', 'request_type': 'get'}, {'api_name': 'fetchPdbHeaderPOST', 'api_path': '/pdb/header', 'description': 'Retrieves PDB header info by a PDB id', 'request_type': 'post'}, {'api_name': 'fetchPdbHeaderGET', 'api_path': '/pdb/header/{pdbId}', 'description': 'Retrieves PDB header info by a PDB id', 'request_type': 'get'}, {'api_name': 'fetchPfamDomainsByPfamAccessionPOST', 'api_path': '/pfam/domain', 'description': 'Retrieves PFAM domains by PFAM domain accession IDs', 'request_type': 'post'}, {'api_name': 'fetchPfamDomainsByAccessionGET', 'api_path': '/pfam/domain/{pfamAccession}', 'description': 'Retrieves a PFAM domain by a PFAM domain ID', 'request_type': 'get'}, {'api_name': 'fetchPostTranslationalModificationsGET', 'api_path': '/ptm/experimental', 'description': 'Retrieves PTM entries by Ensembl Transcript ID', 'request_type': 'get'}, {'api_name': 'fetchPostTranslationalModificationsByPtmFilterPOST', 'api_path': '/ptm/experimental', 'description': 'Retrieves PTM entries by Ensembl Transcript IDs', 'request_type': 'post'}, {'api_name': 'fetchVersionGET', 'api_path': '/version', 'description': 'Retrieve Genome Nexus Version', 'request_type': 'get'}], 'low_level_goal': [{'description': 'Create API endpoint for retrieving VEP annotations by genomic variant', 'high_level_associated': {'description': 'Support retrieval of VEP annotations for genomic variants, dbSNP ids, and genomic locations.'}}]}, {'api': [{'api_name': 'fetchVariantAnnotationByIdGET', 'api_path': '/annotation/dbsnp/{variantId}', 'description': 'Retrieves VEP annotation for the give dbSNP id', 'request_type': 'get'}], 'low_level_goal': [{'description': 'Create API endpoint for retrieving VEP annotations by dbSNP id', 'high_level_associated': {'description': 'Support retrieval of VEP annotations for genomic variants, dbSNP ids, and genomic locations.'}}]}, {'api': [{'api_name': 'fetchVariantAnnotationByGenomicLocationPOST', 'api_path': '/annotation/genomic', 'description': 'Retrieves VEP annotation for the provided list of genomic locations', 'request_type': 'post'}, {'api_name': 'fetchVariantAnnotationByGenomicLocationGET', 'api_path': '/annotation/genomic/{genomicLocation}', 'description': 'Retrieves VEP annotation for the provided genomic location', 'request_type': 'get'}], 'low_level_goal': [{'description': 'Create API endpoint for retrieving VEP annotations by genomic location', 'high_level_associated': {'description': 'Support retrieval of VEP annotations for genomic variants, dbSNP ids, and genomic locations.'}}]}, {'api': [{'api_name': 'fetchCanonicalEnsemblGeneIdByEntrezGeneIdsPOST', 'api_path': '/ensembl/canonical-gene/entrez', 'description': 'Retrieves canonical Ensembl Gene ID by Entrez Gene Ids', 'request_type': 'post'}], 'low_level_goal': [{'description': 'Create API endpoint for accessing Canonical Ensembl Gene IDs', 'high_level_associated': {'description': 'Enable access to Canonical Ensembl Gene and Transcript IDs.'}}]}, {'api': [{'api_name': 'fetchCanonicalEnsemblTranscriptsByHugoSymbolsPOST', 'api_path': '/ensembl/canonical-transcript/hgnc', 'description': 'Retrieves Ensembl canonical transcripts by Hugo Symbols', 'request_type': 'post'}, {'api_name': 'fetchCanonicalEnsemblTranscriptByHugoSymbolGET', 'api_path': '/ensembl/canonical-transcript/hgnc/{hugoSymbol}', 'description': 'Retrieves Ensembl canonical transcript by Hugo Symbol', 'request_type': 'get'}], 'low_level_goal': [{'description': 'Create API endpoint for accessing Canonical Ensembl Transcript IDs', 'high_level_associated': {'description': 'Enable access to Canonical Ensembl Gene and Transcript IDs.'}}]}, {'api': [{'api_name': 'fetchCanonicalEnsemblGeneIdByHugoSymbolGET', 'api_path': '/ensembl/canonical-gene/hgnc/{hugoSymbol}', 'description': 'Retrieves Ensembl canonical gene id by Hugo Symbol', 'request_type': 'get'}], 'low_level_goal': [{'description': 'Create API endpoint for retrieving Hugo Symbols by ID', 'high_level_associated': {'description': 'Provide endpoints for accessing Hugo Symbols and Ensembl Transcripts by IDs or gene information.'}}]}, {'api': [{'api_name': 'fetchEnsemblTranscriptByTranscriptIdGET', 'api_path': '/ensembl/transcript/{transcriptId}', 'description': 'Retrieves the transcript by an Ensembl transcript ID', 'request_type': 'get'}], 'low_level_goal': [{'description': 'Create API endpoint for retrieving Ensembl Transcripts by ID', 'high_level_associated': {'description': 'Provide endpoints for accessing Hugo Symbols and Ensembl Transcripts by IDs or gene information.'}}]}, {'api': [{'api_name': 'No API Found', 'api_path': '', 'description': '', 'request_type': ''}], 'low_level_goal': [{'description': 'Create API endpoint for retrieving Hugo Symbols by gene information', 'high_level_associated': {'description': 'Provide endpoints for accessing Hugo Symbols and Ensembl Transcripts by IDs or gene information.'}}]}, {'api': [{'api_name': 'fetchPdbHeaderPOST', 'api_path': '/pdb/header', 'description': 'Retrieves PDB header info by a PDB id', 'request_type': 'post'}, {'api_name': 'fetchPdbHeaderGET', 'api_path': '/pdb/header/{pdbId}', 'description': 'Retrieves PDB header info by a PDB id', 'request_type': 'get'}], 'low_level_goal': [{'description': 'Implement API endpoint for accessing PDB header information', 'high_level_associated': {'description': 'Provide access to Protein Data Bank (PDB) header information and PFAM domain information.'}}]}, {'api': [{'api_name': 'fetchPfamDomainsByPfamAccessionPOST', 'api_path': '/pfam/domain', 'description': 'Retrieves PFAM domains by PFAM domain accession IDs', 'request_type': 'post'}, {'api_name': 'fetchPfamDomainsByAccessionGET', 'api_path': '/pfam/domain/{pfamAccession}', 'description': 'Retrieves a PFAM domain by a PFAM domain ID', 'request_type': 'get'}], 'low_level_goal': [{'description': 'Implement API endpoint for accessing PFAM domain information', 'high_level_associated': {'description': 'Provide access to Protein Data Bank (PDB) header information and PFAM domain information.'}}]}, {'api': [{'api_name': 'fetchPostTranslationalModificationsByPtmFilterPOST', 'api_path': '/ptm/experimental', 'description': 'Retrieves PTM entries by Ensembl Transcript IDs', 'request_type': 'post'}], 'low_level_goal': [{'description': 'Create API endpoint for accessing post-translational modifications by Ensembl Transcript ID', 'high_level_associated': {'description': 'Provide access to post-translational modifications via Ensembl Transcript IDs.'}}]}, {'api': [{'api_name': 'fetchVariantAnnotationPOST', 'api_path': '/annotation', 'description': 'Retrieves VEP annotation for the provided list of variants', 'request_type': 'post'}], 'low_level_goal': [{'description': 'Develop web-based tool for annotating genetic variants', 'high_level_associated': {'description': 'Offer web-based tools for annotating genetic variants.'}}]}, {'api': [{'api_name': 'No API Found', 'api_path': '/ensembl/transcript', 'description': 'Retrieves Ensembl Transcripts by Ensembl transcript IDs, hugo Symbols, protein IDs, or gene IDs', 'request_type': 'post'}, {'api_name': 'fetchGeneXrefsGET', 'api_path': '/ensembl/xrefs', 'description': 'Perform lookups of Ensembl identifiers and retrieve their external references in other databases', 'request_type': 'get'}, {'api_name': 'fetchPostTranslationalModificationsGET', 'api_path': '/ptm/experimental', 'description': 'Retrieves PTM entries by Ensembl Transcript ID', 'request_type': 'get'}], 'low_level_goal': [{'description': 'Implement filtering functionality for variant annotation results using specific fields', 'high_level_associated': {'description': 'Allow users to filter variant annotation results by fields.'}}, {'description': 'Implement variant annotation filtering for fields.', 'high_level_associated': {'description': 'General filtering capabilities.'}}]}]\n"
     ]
    },
    {
     "name": "stderr",
     "output_type": "stream",
     "text": [
      "\n"
     ]
    }
   ],
   "source": [
    "print(\"Mapping STARTING...\")\n",
    "mapping = define_mapping_apis_goals(lowLevelGoals[\"low_level_goals\"], apiList)\n",
    "print(\"Mapping DONE...\")\n",
    "print(mapping)"
   ]
  }
 ],
 "metadata": {
  "accelerator": "GPU",
  "colab": {
   "gpuType": "T4",
   "provenance": []
  },
  "kernelspec": {
   "display_name": "Python 3",
   "language": "python",
   "name": "python3"
  },
  "language_info": {
   "codemirror_mode": {
    "name": "ipython",
    "version": 3
   },
   "file_extension": ".py",
   "mimetype": "text/x-python",
   "name": "python",
   "nbconvert_exporter": "python",
   "pygments_lexer": "ipython3",
   "version": "3.12.8"
  },
  "widgets": {
   "application/vnd.jupyter.widget-state+json": {
    "0adcbace0f6946568311b8010d5c7fc3": {
     "model_module": "@jupyter-widgets/base",
     "model_module_version": "1.2.0",
     "model_name": "LayoutModel",
     "state": {
      "_model_module": "@jupyter-widgets/base",
      "_model_module_version": "1.2.0",
      "_model_name": "LayoutModel",
      "_view_count": null,
      "_view_module": "@jupyter-widgets/base",
      "_view_module_version": "1.2.0",
      "_view_name": "LayoutView",
      "align_content": null,
      "align_items": null,
      "align_self": null,
      "border": null,
      "bottom": null,
      "display": null,
      "flex": null,
      "flex_flow": null,
      "grid_area": null,
      "grid_auto_columns": null,
      "grid_auto_flow": null,
      "grid_auto_rows": null,
      "grid_column": null,
      "grid_gap": null,
      "grid_row": null,
      "grid_template_areas": null,
      "grid_template_columns": null,
      "grid_template_rows": null,
      "height": null,
      "justify_content": null,
      "justify_items": null,
      "left": null,
      "margin": null,
      "max_height": null,
      "max_width": null,
      "min_height": null,
      "min_width": null,
      "object_fit": null,
      "object_position": null,
      "order": null,
      "overflow": null,
      "overflow_x": null,
      "overflow_y": null,
      "padding": null,
      "right": null,
      "top": null,
      "visibility": null,
      "width": null
     }
    },
    "14d5cc69e04e4fe588144913d220e57f": {
     "model_module": "@jupyter-widgets/controls",
     "model_module_version": "1.5.0",
     "model_name": "DescriptionStyleModel",
     "state": {
      "_model_module": "@jupyter-widgets/controls",
      "_model_module_version": "1.5.0",
      "_model_name": "DescriptionStyleModel",
      "_view_count": null,
      "_view_module": "@jupyter-widgets/base",
      "_view_module_version": "1.2.0",
      "_view_name": "StyleView",
      "description_width": ""
     }
    },
    "2b52835f91344aa396de748f5a68e40e": {
     "model_module": "@jupyter-widgets/controls",
     "model_module_version": "1.5.0",
     "model_name": "DescriptionStyleModel",
     "state": {
      "_model_module": "@jupyter-widgets/controls",
      "_model_module_version": "1.5.0",
      "_model_name": "DescriptionStyleModel",
      "_view_count": null,
      "_view_module": "@jupyter-widgets/base",
      "_view_module_version": "1.2.0",
      "_view_name": "StyleView",
      "description_width": ""
     }
    },
    "2c93510709bd46c889be8a8872af280e": {
     "model_module": "@jupyter-widgets/base",
     "model_module_version": "1.2.0",
     "model_name": "LayoutModel",
     "state": {
      "_model_module": "@jupyter-widgets/base",
      "_model_module_version": "1.2.0",
      "_model_name": "LayoutModel",
      "_view_count": null,
      "_view_module": "@jupyter-widgets/base",
      "_view_module_version": "1.2.0",
      "_view_name": "LayoutView",
      "align_content": null,
      "align_items": null,
      "align_self": null,
      "border": null,
      "bottom": null,
      "display": null,
      "flex": null,
      "flex_flow": null,
      "grid_area": null,
      "grid_auto_columns": null,
      "grid_auto_flow": null,
      "grid_auto_rows": null,
      "grid_column": null,
      "grid_gap": null,
      "grid_row": null,
      "grid_template_areas": null,
      "grid_template_columns": null,
      "grid_template_rows": null,
      "height": null,
      "justify_content": null,
      "justify_items": null,
      "left": null,
      "margin": null,
      "max_height": null,
      "max_width": null,
      "min_height": null,
      "min_width": null,
      "object_fit": null,
      "object_position": null,
      "order": null,
      "overflow": null,
      "overflow_x": null,
      "overflow_y": null,
      "padding": null,
      "right": null,
      "top": null,
      "visibility": null,
      "width": null
     }
    },
    "4d7aec60591343bab6a920285a64112f": {
     "model_module": "@jupyter-widgets/base",
     "model_module_version": "1.2.0",
     "model_name": "LayoutModel",
     "state": {
      "_model_module": "@jupyter-widgets/base",
      "_model_module_version": "1.2.0",
      "_model_name": "LayoutModel",
      "_view_count": null,
      "_view_module": "@jupyter-widgets/base",
      "_view_module_version": "1.2.0",
      "_view_name": "LayoutView",
      "align_content": null,
      "align_items": null,
      "align_self": null,
      "border": null,
      "bottom": null,
      "display": null,
      "flex": null,
      "flex_flow": null,
      "grid_area": null,
      "grid_auto_columns": null,
      "grid_auto_flow": null,
      "grid_auto_rows": null,
      "grid_column": null,
      "grid_gap": null,
      "grid_row": null,
      "grid_template_areas": null,
      "grid_template_columns": null,
      "grid_template_rows": null,
      "height": null,
      "justify_content": null,
      "justify_items": null,
      "left": null,
      "margin": null,
      "max_height": null,
      "max_width": null,
      "min_height": null,
      "min_width": null,
      "object_fit": null,
      "object_position": null,
      "order": null,
      "overflow": null,
      "overflow_x": null,
      "overflow_y": null,
      "padding": null,
      "right": null,
      "top": null,
      "visibility": null,
      "width": null
     }
    },
    "5ffc14edebc2432f9b95e774167ed333": {
     "model_module": "@jupyter-widgets/base",
     "model_module_version": "1.2.0",
     "model_name": "LayoutModel",
     "state": {
      "_model_module": "@jupyter-widgets/base",
      "_model_module_version": "1.2.0",
      "_model_name": "LayoutModel",
      "_view_count": null,
      "_view_module": "@jupyter-widgets/base",
      "_view_module_version": "1.2.0",
      "_view_name": "LayoutView",
      "align_content": null,
      "align_items": null,
      "align_self": null,
      "border": null,
      "bottom": null,
      "display": null,
      "flex": null,
      "flex_flow": null,
      "grid_area": null,
      "grid_auto_columns": null,
      "grid_auto_flow": null,
      "grid_auto_rows": null,
      "grid_column": null,
      "grid_gap": null,
      "grid_row": null,
      "grid_template_areas": null,
      "grid_template_columns": null,
      "grid_template_rows": null,
      "height": null,
      "justify_content": null,
      "justify_items": null,
      "left": null,
      "margin": null,
      "max_height": null,
      "max_width": null,
      "min_height": null,
      "min_width": null,
      "object_fit": null,
      "object_position": null,
      "order": null,
      "overflow": null,
      "overflow_x": null,
      "overflow_y": null,
      "padding": null,
      "right": null,
      "top": null,
      "visibility": null,
      "width": null
     }
    },
    "6422c15135a24be783734f255088421f": {
     "model_module": "@jupyter-widgets/controls",
     "model_module_version": "1.5.0",
     "model_name": "ProgressStyleModel",
     "state": {
      "_model_module": "@jupyter-widgets/controls",
      "_model_module_version": "1.5.0",
      "_model_name": "ProgressStyleModel",
      "_view_count": null,
      "_view_module": "@jupyter-widgets/base",
      "_view_module_version": "1.2.0",
      "_view_name": "StyleView",
      "bar_color": null,
      "description_width": ""
     }
    },
    "99beab2c378044f9833caf3d6b6f3d4e": {
     "model_module": "@jupyter-widgets/controls",
     "model_module_version": "1.5.0",
     "model_name": "HTMLModel",
     "state": {
      "_dom_classes": [],
      "_model_module": "@jupyter-widgets/controls",
      "_model_module_version": "1.5.0",
      "_model_name": "HTMLModel",
      "_view_count": null,
      "_view_module": "@jupyter-widgets/controls",
      "_view_module_version": "1.5.0",
      "_view_name": "HTMLView",
      "description": "",
      "description_tooltip": null,
      "layout": "IPY_MODEL_0adcbace0f6946568311b8010d5c7fc3",
      "placeholder": "​",
      "style": "IPY_MODEL_2b52835f91344aa396de748f5a68e40e",
      "value": "Loading checkpoint shards: 100%"
     }
    },
    "d3c2cd7f501c4c93ab43730f061273b5": {
     "model_module": "@jupyter-widgets/controls",
     "model_module_version": "1.5.0",
     "model_name": "FloatProgressModel",
     "state": {
      "_dom_classes": [],
      "_model_module": "@jupyter-widgets/controls",
      "_model_module_version": "1.5.0",
      "_model_name": "FloatProgressModel",
      "_view_count": null,
      "_view_module": "@jupyter-widgets/controls",
      "_view_module_version": "1.5.0",
      "_view_name": "ProgressView",
      "bar_style": "success",
      "description": "",
      "description_tooltip": null,
      "layout": "IPY_MODEL_4d7aec60591343bab6a920285a64112f",
      "max": 2,
      "min": 0,
      "orientation": "horizontal",
      "style": "IPY_MODEL_6422c15135a24be783734f255088421f",
      "value": 2
     }
    },
    "f795283dfaad4da2bb0b3fce64f7f8c2": {
     "model_module": "@jupyter-widgets/controls",
     "model_module_version": "1.5.0",
     "model_name": "HTMLModel",
     "state": {
      "_dom_classes": [],
      "_model_module": "@jupyter-widgets/controls",
      "_model_module_version": "1.5.0",
      "_model_name": "HTMLModel",
      "_view_count": null,
      "_view_module": "@jupyter-widgets/controls",
      "_view_module_version": "1.5.0",
      "_view_name": "HTMLView",
      "description": "",
      "description_tooltip": null,
      "layout": "IPY_MODEL_2c93510709bd46c889be8a8872af280e",
      "placeholder": "​",
      "style": "IPY_MODEL_14d5cc69e04e4fe588144913d220e57f",
      "value": " 2/2 [00:02&lt;00:00,  1.38s/it]"
     }
    },
    "fe25ee512c184077be919dcd38d43296": {
     "model_module": "@jupyter-widgets/controls",
     "model_module_version": "1.5.0",
     "model_name": "HBoxModel",
     "state": {
      "_dom_classes": [],
      "_model_module": "@jupyter-widgets/controls",
      "_model_module_version": "1.5.0",
      "_model_name": "HBoxModel",
      "_view_count": null,
      "_view_module": "@jupyter-widgets/controls",
      "_view_module_version": "1.5.0",
      "_view_name": "HBoxView",
      "box_style": "",
      "children": [
       "IPY_MODEL_99beab2c378044f9833caf3d6b6f3d4e",
       "IPY_MODEL_d3c2cd7f501c4c93ab43730f061273b5",
       "IPY_MODEL_f795283dfaad4da2bb0b3fce64f7f8c2"
      ],
      "layout": "IPY_MODEL_5ffc14edebc2432f9b95e774167ed333"
     }
    }
   }
  }
 },
 "nbformat": 4,
 "nbformat_minor": 0
}
