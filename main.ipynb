{
 "cells": [
  {
   "cell_type": "markdown",
   "metadata": {
    "id": "VtisuG2Q6lhm"
   },
   "source": [
    "###  Install Required Libraries\n",
    "\n"
   ]
  },
  {
   "cell_type": "code",
   "execution_count": 1,
   "metadata": {
    "colab": {
     "base_uri": "https://localhost:8080/",
     "height": 243,
     "referenced_widgets": [
      "fe25ee512c184077be919dcd38d43296",
      "99beab2c378044f9833caf3d6b6f3d4e",
      "d3c2cd7f501c4c93ab43730f061273b5",
      "f795283dfaad4da2bb0b3fce64f7f8c2",
      "5ffc14edebc2432f9b95e774167ed333",
      "0adcbace0f6946568311b8010d5c7fc3",
      "2b52835f91344aa396de748f5a68e40e",
      "4d7aec60591343bab6a920285a64112f",
      "6422c15135a24be783734f255088421f",
      "2c93510709bd46c889be8a8872af280e",
      "14d5cc69e04e4fe588144913d220e57f"
     ]
    },
    "id": "hL2Z-R9s3uXY",
    "outputId": "b46b1644-8691-4f6e-bd97-76b8864a48bd"
   },
   "outputs": [
    {
     "data": {
      "text/plain": [
       "'%pip install torch\\n%pip install transformers\\n%pip install torchtext\\n%pip install openai\\n%pip install icecream\\n%pip install tqdm\\n%pip install requests\\n%pip install tabulate\\n%pip install scikit-learn\\n%pip install nltk\\n'"
      ]
     },
     "execution_count": 1,
     "metadata": {},
     "output_type": "execute_result"
    }
   ],
   "source": [
    "\"\"\"%pip install torch\n",
    "%pip install transformers\n",
    "%pip install torchtext\n",
    "%pip install openai\n",
    "%pip install icecream\n",
    "%pip install tqdm\n",
    "%pip install requests\n",
    "%pip install tabulate\n",
    "%pip install scikit-learn\n",
    "%pip install nltk\n",
    "\"\"\"\n"
   ]
  },
  {
   "cell_type": "code",
   "execution_count": 2,
   "metadata": {},
   "outputs": [
    {
     "name": "stderr",
     "output_type": "stream",
     "text": [
      "/Users/andreabioddo/Desktop/POLITO/LLM/progetto/LLM_Agent-Goal_Oriented_API_Alignement/shot_learning_examples/examples.py:175: SyntaxWarning: invalid escape sequence '\\{'\n",
      "  example2_map = \"\"\"\n",
      "/Users/andreabioddo/Desktop/POLITO/LLM/progetto/LLM_Agent-Goal_Oriented_API_Alignement/shot_learning_examples/examples.py:194: SyntaxWarning: invalid escape sequence '\\{'\n",
      "  example3_map = \"\"\"\n",
      "/Users/andreabioddo/Desktop/POLITO/LLM/progetto/LLM_Agent-Goal_Oriented_API_Alignement/.venv/lib/python3.12/site-packages/tqdm/auto.py:21: TqdmWarning: IProgress not found. Please update jupyter and ipywidgets. See https://ipywidgets.readthedocs.io/en/stable/user_install.html\n",
      "  from .autonotebook import tqdm as notebook_tqdm\n",
      "[nltk_data] Downloading package punkt to\n",
      "[nltk_data]     /Users/andreabioddo/nltk_data...\n",
      "[nltk_data]   Package punkt is already up-to-date!\n",
      "[nltk_data] Downloading package punkt_tab to\n",
      "[nltk_data]     /Users/andreabioddo/nltk_data...\n",
      "[nltk_data]   Package punkt_tab is already up-to-date!\n",
      "[nltk_data] Downloading package wordnet to\n",
      "[nltk_data]     /Users/andreabioddo/nltk_data...\n",
      "[nltk_data]   Package wordnet is already up-to-date!\n",
      "[nltk_data] Downloading package omw-1.4 to\n",
      "[nltk_data]     /Users/andreabioddo/nltk_data...\n",
      "[nltk_data]   Package omw-1.4 is already up-to-date!\n"
     ]
    }
   ],
   "source": [
    "from openai import OpenAI\n",
    "from tools import get_markdown\n",
    "import sys\n",
    "import json\n",
    "from tqdm import tqdm\n",
    "from pydantic import BaseModel\n",
    "from enum import Enum\n",
    "from key import get_key_openai, get_key_llama\n",
    "from types import SimpleNamespace\n",
    "from shot_learning_examples.examples import example1_actors, example2_actors, example1_hl, example2_hl, example1_ll, example2_ll, example1_map, example2_map\n",
    "from structured_ouptut_models.data_model import DocumentDescription, Actor, Actors, LowLevelGoal, LowLevelGoals, HighLevelGoal, HighLevelGoals, API, APIMapping\n",
    "from goal_evaluator import GoalEvaluator\n",
    "from tabulate import tabulate # Import tabulate for nice table formatting\n",
    "\n",
    "# from llamaapi import LlamaAPI"
   ]
  },
  {
   "cell_type": "markdown",
   "metadata": {},
   "source": [
    "### Set Up the OpenAI and Llama API Keys"
   ]
  },
  {
   "cell_type": "code",
   "execution_count": 3,
   "metadata": {},
   "outputs": [],
   "source": [
    "# Set your GPT-4 API key\n",
    "client = OpenAI(\n",
    "    api_key= get_key_openai()\n",
    ")\n",
    "\n",
    "# Set your llama API key, still using the OpenAI client API\n",
    "llama = OpenAI(\n",
    "    api_key=get_key_llama(),\n",
    "    base_url = \"https://api.llama-api.com\"\n",
    ")\n"
   ]
  },
  {
   "cell_type": "markdown",
   "metadata": {},
   "source": [
    "### Test the API Connection"
   ]
  },
  {
   "cell_type": "code",
   "execution_count": 4,
   "metadata": {},
   "outputs": [
    {
     "name": "stdout",
     "output_type": "stream",
     "text": [
      "This is a test with GPT! How can I assist you today?\n"
     ]
    },
    {
     "data": {
      "text/plain": [
       "'llama_chat_completion = llama.chat.completions.create(\\n    messages=[\\n        {\\n            \"role\": \"user\",\\n            \"content\": \"Say this is a test but with llama\",\\n        }\\n    ],\\n    model = \"llama3.3-70b\",\\n    #model=\"llama3.1-8b\",\\n)\\n\\nprint(llama_chat_completion.choices[0].message.content)'"
      ]
     },
     "execution_count": 4,
     "metadata": {},
     "output_type": "execute_result"
    }
   ],
   "source": [
    "chat_completion = client.chat.completions.create(\n",
    "    messages=[\n",
    "        {\n",
    "            \"role\": \"user\",\n",
    "            \"content\": \"Say this is a test with GPT\",\n",
    "        }\n",
    "    ],\n",
    "    #model=\"gpt-4o\",\n",
    "    model=\"gpt-4o-mini\",\n",
    ")\n",
    "\n",
    "# Stampa la risposta\n",
    "print(chat_completion.choices[0].message.content.strip())\n",
    "\n",
    "\"\"\"llama_chat_completion = llama.chat.completions.create(\n",
    "    messages=[\n",
    "        {\n",
    "            \"role\": \"user\",\n",
    "            \"content\": \"Say this is a test but with llama\",\n",
    "        }\n",
    "    ],\n",
    "    model = \"llama3.3-70b\",\n",
    "    #model=\"llama3.1-8b\",\n",
    ")\n",
    "\n",
    "print(llama_chat_completion.choices[0].message.content)\"\"\""
   ]
  },
  {
   "cell_type": "markdown",
   "metadata": {},
   "source": [
    "## Models"
   ]
  },
  {
   "cell_type": "code",
   "execution_count": 5,
   "metadata": {},
   "outputs": [],
   "source": [
    "def generate_response(prompt, sys_prompt, response_format):\n",
    "    response = client.beta.chat.completions.parse(\n",
    "        messages=[\n",
    "            { \"role\": \"system\", \"content\":  sys_prompt},\n",
    "            { \"role\": \"user\", \"content\": prompt }\n",
    "        ],\n",
    "        #model=\"gpt-4o\",\n",
    "        model=\"gpt-4o-mini\",\n",
    "        max_tokens=2000,\n",
    "        response_format=response_format\n",
    "    )\n",
    "    return response.choices[0].message.parsed"
   ]
  },
  {
   "cell_type": "code",
   "execution_count": 6,
   "metadata": {},
   "outputs": [],
   "source": [
    "def generate_response_llama(prompt, sys_prompt):\n",
    "    \"\"\"response = llama.beta.chat.completions.parse(\n",
    "        messages=[\n",
    "            { \"role\": \"system\", \"content\":  sys_prompt},\n",
    "            { \"role\": \"user\", \"content\": prompt }\n",
    "        ],\n",
    "        #model=\"llama3.3-70b\",\n",
    "        model=\"llama3.1-8b\",\n",
    "        max_tokens=2000,\n",
    "        #response_format=response_format,\n",
    "    )\n",
    "    \n",
    "    return response.choices[0].message.content\"\"\"\n",
    "    response = client.beta.chat.completions.parse(\n",
    "        messages=[\n",
    "            { \"role\": \"system\", \"content\":  sys_prompt},\n",
    "            { \"role\": \"user\", \"content\": prompt }\n",
    "        ],\n",
    "        #model=\"gpt-4o\",\n",
    "        model=\"gpt-4o-mini\",\n",
    "        max_tokens=2000,\n",
    "    )\n",
    "    return response.choices[0].message.content"
   ]
  },
  {
   "cell_type": "markdown",
   "metadata": {},
   "source": [
    "# Prompt modes"
   ]
  },
  {
   "cell_type": "code",
   "execution_count": 7,
   "metadata": {},
   "outputs": [],
   "source": [
    "class ShotPromptingMode(Enum):\n",
    "    ZERO_SHOT = \"zero\"\n",
    "    ONE_SHOT = \"one\"\n",
    "    FEW_SHOT = \"few\""
   ]
  },
  {
   "cell_type": "code",
   "execution_count": 8,
   "metadata": {},
   "outputs": [],
   "source": [
    "class EvalMode(Enum):\n",
    "    ACTORS = \"actors\"\n",
    "    HIGH_LEVEL = \"high\"\n",
    "    LOW_LEVEL = \"low\""
   ]
  },
  {
   "cell_type": "code",
   "execution_count": 9,
   "metadata": {},
   "outputs": [],
   "source": [
    "class Feedback():\n",
    "    def __init__(self, previous_output, critique):\n",
    "        self.previous_output = previous_output\n",
    "        self.critique = critique "
   ]
  },
  {
   "cell_type": "markdown",
   "metadata": {},
   "source": [
    "# Define description"
   ]
  },
  {
   "cell_type": "code",
   "execution_count": 10,
   "metadata": {},
   "outputs": [],
   "source": [
    "def get_description(documentation_link=None):\n",
    "    if documentation_link == None:\n",
    "        raise Exception(\"No documentation link provided\")\n",
    "    \n",
    "    sys_prompt = (\n",
    "        \"You are a technical writing assistant specialized in summarizing software documentation. \"\n",
    "        \"Your goal is to extract a clear, well-written, and accurate description of a project from its README file. \"\n",
    "        \"The description should be natural and informative, without unnecessary details or implementation specifics. \"\n",
    "        \"Avoid marketing language, vague claims, or filler content. \"\n",
    "        \"Write in a neutral, professional tone, ensuring that the description is easy to understand for someone unfamiliar with the project.\"\n",
    "    )\n",
    "\n",
    "    prompt = (\n",
    "        f\"Here is the README file of a software project:\\n\\n{get_markdown(link=documentation_link)}\\n\\n\"\n",
    "        \"Based on this README, write a concise and well-structured description of the project. \"\n",
    "        \"Explain its purpose, the problem it addresses (if mentioned), and its main functionalities. \"\n",
    "        \"Do not include implementation details, generic statements, or assumptions not explicitly stated in the README.\"\n",
    "    )\n",
    "    \n",
    "    response = generate_response(prompt, sys_prompt, DocumentDescription)\n",
    "    \n",
    "    return response"
   ]
  },
  {
   "cell_type": "markdown",
   "metadata": {},
   "source": [
    "# Actors extraction"
   ]
  },
  {
   "cell_type": "code",
   "execution_count": 11,
   "metadata": {},
   "outputs": [],
   "source": [
    "def define_actors(project_description, feedback=None, mode=ShotPromptingMode.ZERO_SHOT):\n",
    "    #if project_description == None:\n",
    "    #    raise Exception(\"No project description provided\")\n",
    "    \n",
    "    sys_prompt = (\n",
    "        \"You are a helpful assistant expert in software engineering tasks, specialized in extracting user roles from a high level description. \\n\"\n",
    "    )\n",
    "\n",
    "    if feedback != None:\n",
    "        print(\"Feedback provided!\")\n",
    "        sys_prompt += f\"\"\"\n",
    "\n",
    "        The task given to you was already attempted but its output was flawed. You're provided with a critique on the previous attempt.\n",
    "        The critique contains comments about actors, please take it into account when generating actors.\n",
    "\n",
    "        **Critique:**\n",
    "        {feedback.critique}\n",
    "        **Previous attempt:**\n",
    "        {feedback.previous_output}\n",
    "        \"\"\"\n",
    "    else:\n",
    "        print(\"No feedback provided!\")\n",
    "    \n",
    "    prompt = f\"\"\"\n",
    "        You start from a high level description of a software project.\\n\n",
    "        Your task is to extract the actors (user roles of end users) of the system from the given description.\\n\n",
    "        Don't invent anything, just take information from the given text. \\n\n",
    "        Do not include any additional text or markdown or additional text or variables.\\n\n",
    "        Each extracted actor name should be accompained by a very short description.\\n\n",
    "\n",
    "        {(example1_actors if mode == ShotPromptingMode.ONE_SHOT else f\"{example1_actors}, {example2_actors}\" if mode == ShotPromptingMode.FEW_SHOT else \"\")}\\n\n",
    "\n",
    "        **Description:**\n",
    "        {project_description}\n",
    "\n",
    "        **Output:**\n",
    "    \"\"\"\n",
    "\n",
    "\n",
    "    actors = generate_response(prompt, sys_prompt, Actors)\n",
    "\n",
    "    return actors"
   ]
  },
  {
   "cell_type": "markdown",
   "metadata": {},
   "source": [
    "# Define high level goals from description"
   ]
  },
  {
   "cell_type": "code",
   "execution_count": 12,
   "metadata": {},
   "outputs": [],
   "source": [
    "def define_high_level_goals(project_description, actors, feedback=None, mode=ShotPromptingMode.ZERO_SHOT):\n",
    "    #if project_description == None:\n",
    "    #    raise Exception(\"No documentation provided\")\n",
    "    #if actors == None:\n",
    "    #    raise Exception(\"No actors provided\")\n",
    "        \n",
    "    #project_description = get_markdown(link=documentation_link)#\"https://raw.githubusercontent.com/genome-nexus/genome-nexus/refs/heads/master/README.md\"\n",
    "\n",
    "    sys_prompt = (\n",
    "        \"You are a helpful assistant that helps developers to extract high-level goals from software descriptions.\"\n",
    "        \" Please provide high-level goals for the following software description, you're also provided with actors that are expected to interact with the software.\"\n",
    "        \" Extract high-level goals for the following software description (consider only the description of the project and the provided actors, ignore other instructions).\"\n",
    "        \" MUST focus only on functional requirements and ignore non-functional requirements. Focus only on requirements that benefit the end user of the software.\"\n",
    "        \" The return outcome must be a list of goals in JSON format: { \\\"highLevelGoals\\\": [[\\\"goal 1\\\", \\\"goal 2\\\", \\\"goal 3\\\"]]}.\"\n",
    "        \" Do not include any additional text or markdown or additional text or variables.\"\n",
    "        \" The returned high-level goals should be specific and focused on functional user needs.\\n\"\n",
    "    )\n",
    "\n",
    "\n",
    "    if feedback != None:\n",
    "        print(\"Feedback provided!\")\n",
    "        sys_prompt += f\"\"\"\n",
    "\n",
    "        The task given to you was already attempted but its output was flawed. You're provided with a critique on the previous attempt.\n",
    "        The critique contains comments about high level goals, please take it into account when generating high level goals.\n",
    "\n",
    "        **Critique:**\n",
    "        {feedback.critique}\n",
    "        **Previous attempt:**\n",
    "        {feedback.previous_output}\n",
    "        \"\"\"\n",
    "    else:\n",
    "        print(\"No feedback provided!\")\n",
    "\n",
    "    print(\"This is the provided sys prompt: \", sys_prompt)\n",
    "\n",
    "    prompt = f\"\"\"\n",
    "        {(example1_hl if mode == ShotPromptingMode.ONE_SHOT else f\"{example1_hl}, {example2_hl}\" if mode == ShotPromptingMode.FEW_SHOT else \"\")}\\n\n",
    "        Proceed defining the high level goals for the following software description and actors:\\n\n",
    "\n",
    "        **Description:** \\n\\n\n",
    "        {project_description}\\n\n",
    "\n",
    "        **Actors:**\\n\n",
    "        {actors}\\n\n",
    "\n",
    "        **Output:**\n",
    "        \"\"\"\n",
    "\n",
    "    high_level_goals = generate_response(prompt, sys_prompt, HighLevelGoals)\n",
    "\n",
    "    return high_level_goals"
   ]
  },
  {
   "cell_type": "markdown",
   "metadata": {},
   "source": [
    "# Define low level goals from high level goals"
   ]
  },
  {
   "cell_type": "code",
   "execution_count": 13,
   "metadata": {},
   "outputs": [],
   "source": [
    "def define_low_level_goals(highLevelGoals, feedback=None, mode=ShotPromptingMode.ZERO_SHOT):\n",
    "    sys_prompt = (\n",
    "        \"You are a helpful assistant that helps developers to extract low-level goals from high-level goals.\"\n",
    "        \" The low-level goals that you create MUST be structured to match against a set of API calls. Don't be too generic, for example, avoid goals like 'make the software fast', 'develop a web interface' etc.\"\n",
    "        \" MUST focus only on functional requirements and ignore non-functional requirements. Focus only on requirements that benefit the end user of the software.\"\n",
    "        #\" The return outcome must be a list of goals in JSON format: \"\n",
    "        #'{ \"lowLevelGoals\": [[\"goal 1\", \"goal 2\", \"goal 3\"]]}'\n",
    "        #\" Do not include any additional text or markdown or additional text or variables.\"\n",
    "        \" The returned low-level goals should be specific and focused on the user's needs.\\n\"\n",
    "    )\n",
    "\n",
    "    if feedback != None:\n",
    "        print(\"Feedback provided!\")\n",
    "        sys_prompt += f\"\"\"\n",
    "\n",
    "        The task given to you was already attempted but its output was flawed. You're provided with a critique on the previous attempt.\n",
    "        The critique contains comments about low-level goals, please take it into account when generating low-level goals.\n",
    "\n",
    "        **Critique:**\n",
    "        {feedback.critique}\\n\n",
    "        **Previous attempt:**\n",
    "        {feedback.previous_output}\\n\n",
    "        \"\"\"\n",
    "    else:\n",
    "        print(\"No feedback provided!\")\n",
    "\n",
    "    print(\"This is the provided sys prompt: \", sys_prompt)\n",
    "\n",
    "    prompt = f\"\"\" \n",
    "\n",
    "        {(example1_ll if mode == ShotPromptingMode.ONE_SHOT else f\"{example1_ll}, {example2_ll}\" if mode == ShotPromptingMode.FEW_SHOT else \"\")}\\n\n",
    "        Based on your understanding of the typical tasks that compose the sequence of high-level goal,\n",
    "        provide if possible a decomposition of goals into sub-goals. \n",
    "        Each low-level goal should theoretically correspond to a single action of the actor with the software.\n",
    "        **High-level goals:**\\n\\n\n",
    "        {highLevelGoals}\\n\n",
    "\n",
    "        **Output:**\n",
    "    \"\"\"\n",
    "\n",
    "    lowLevelGoals = generate_response(prompt, sys_prompt, LowLevelGoals)\n",
    "\n",
    "    return lowLevelGoals"
   ]
  },
  {
   "cell_type": "markdown",
   "metadata": {},
   "source": [
    "### Evaluation by Llama"
   ]
  },
  {
   "cell_type": "code",
   "execution_count": 14,
   "metadata": {},
   "outputs": [],
   "source": [
    "def get_evaluation(eval_mode: EvalMode, description, actors, high_level_goals=None, low_level_goals=None):\n",
    "    if not isinstance(eval_mode, EvalMode):\n",
    "        raise TypeError(f\"Expected an instance of EvalMode, but got {type(eval_mode).__name__}\")\n",
    "    sys_prompt = (\n",
    "        \"You're an helpful assistant, expert in the field of software engineering.\"\n",
    "        )\n",
    "\n",
    "    assume_this_is_ok = \"\"\n",
    "    additional_prompt = \"\"\n",
    "    if eval_mode == EvalMode.ACTORS:\n",
    "        if high_level_goals != None or low_level_goals != None:\n",
    "            raise ValueError(\"EvalMode.ACTORS can only be used when high_level_goals and low_level_goals are both None.\")\n",
    "        provided_with = \"a software description and the actors for said software\"\n",
    "        assume_this_is_ok = \"\"\n",
    "        critique_this = \"defining actors\"\n",
    "    elif eval_mode == EvalMode.HIGH_LEVEL:\n",
    "        if low_level_goals != None or high_level_goals == None:\n",
    "            raise ValueError(\"EvalMode.HIGH_LEVEL can only be used when low_level_goals is None and high_level_goals is not None.\")\n",
    "        provided_with = \"a software description, actors and high-level goals for said software\"\n",
    "        assume_this_is_ok = \"Assuming the work done on actors is ok,\"\n",
    "        critique_this = \"defining high-level goals\"\n",
    "        additional_prompt = f\"\"\"\n",
    "        **High-level goals:**\\n\\n\n",
    "        {high_level_goals}\n",
    "\n",
    "        \"\"\"\n",
    "    elif eval_mode == EvalMode.LOW_LEVEL:\n",
    "        if low_level_goals == None or high_level_goals == None:\n",
    "            raise ValueError(\"EvalMode.LOW_LEVEL can only be used when both low_level_goals and high_level_goals are not None.\")\n",
    "        provided_with = \"a software description, actors, high-level goals and low-level goals for said software\"\n",
    "        assume_this_is_ok = \"Assuming the work done on actors and high-level goals is ok,\"\n",
    "        critique_this = \"defining low-level goals\"\n",
    "        additional_prompt =  f\"\"\"\n",
    "        **High-level goals:**\\n\\n\n",
    "        {high_level_goals}\n",
    "\n",
    "        **Low-level goals:**\\n\\n\n",
    "        {low_level_goals}\n",
    "\n",
    "        \"\"\"\n",
    "\n",
    "    prompt = f\"\"\"\n",
    "        You are provided with {provided_with}.\\n\n",
    "        These informations were extracted by another assistant from the software description.\\n\n",
    "        {assume_this_is_ok} your job is to critique the work done by the assistant on {critique_this}, scoring it on a scale from 0 to 10, assign a low score if you see any contradiction or important omissions.\\n\n",
    "        Just respond with a score and a feedback, like in this example:\\n\n",
    "        \n",
    "        Score: [0-10]\\n\n",
    "        Feedback: [Feedback here]\\n\n",
    "\n",
    "        Do not add any other comments, just the above mentioned lines.\\n\n",
    "\n",
    "        **Description:** \\n\\n\n",
    "        {description}\n",
    "\n",
    "        **Actors:**\\n\\n\n",
    "        {actors}\n",
    "\n",
    "        {additional_prompt}\n",
    "        **Output:**\\n\\n\n",
    "    \"\"\"\n",
    "\n",
    "    critique = generate_response_llama(prompt, sys_prompt)\n",
    "    return critique \n",
    "\n",
    "def parse_evaluation(evaluation):\n",
    "    lines = evaluation.strip().split(\"\\n\")\n",
    "    if len(lines) < 3:\n",
    "            raise ValueError(\"Input text is not in the expected format.\")\n",
    "    score_line = lines[0]\n",
    "    if not score_line.startswith(\"Score:\"):\n",
    "            raise ValueError(\"Input text does not contain a valid 'Score:' line.\")\n",
    "    feedback_line = \" \".join(lines[2:])\n",
    "    if not feedback_line.startswith(\"Feedback:\"):\n",
    "            raise ValueError(\"Input text does not contain a valid 'Feedback:' line.\")\n",
    "    score = int(score_line.split(\":\")[1].strip())\n",
    "    feedback = feedback_line.split(\":\")[1].strip()\n",
    "    return score, feedback\n"
   ]
  },
  {
   "cell_type": "markdown",
   "metadata": {},
   "source": [
    "### Get API List from Swagger"
   ]
  },
  {
   "cell_type": "code",
   "execution_count": 15,
   "metadata": {},
   "outputs": [],
   "source": [
    "def get_api_list_from_swagger():\n",
    "    api_list = get_markdown(\"https://raw.githubusercontent.com/WebFuzzing/EMB/refs/heads/master/openapi-swagger/genome-nexus.json\")\n",
    "\n",
    "    json_api_list = json.loads(api_list)[\"paths\"]\n",
    "    api_paths = json_api_list.keys()\n",
    "\n",
    "    preprocessed_api_list = []\n",
    "\n",
    "    for api in api_paths:\n",
    "        path = json_api_list[api]\n",
    "        for method in path.keys():\n",
    "            preprocessed_api_list.append(\n",
    "                API(api_name=path[method][\"operationId\"], api_path=api, description=path[method][\"summary\"], request_type=method)\n",
    "            )\n",
    "            \n",
    "    return preprocessed_api_list\n"
   ]
  },
  {
   "cell_type": "markdown",
   "metadata": {},
   "source": [
    "### Mapping goal to API"
   ]
  },
  {
   "cell_type": "code",
   "execution_count": 16,
   "metadata": {},
   "outputs": [],
   "source": [
    "def api_list_to_string(api_list):\n",
    "    apis = \"\"\n",
    "    for api in api_list:\n",
    "        apis += api.api_name + \", \"\n",
    "    # Remove the trailing comma and add a newline\n",
    "    apis = apis.rstrip(\", \") + \"\\n\"\n",
    "    return apis\n",
    "\n",
    "def define_mapping_apis_goals(lowLevelGoals, apiList, mode=ShotPromptingMode.ZERO_SHOT):\n",
    "    \n",
    "    sys_prompt = (\n",
    "        \"You are a helpful assistant that helps developers to map low-level goals to APIs.\"\n",
    "        \" You will be given a low-level goal and a list of APIs. Your task is to identify which APIs best satisfies each low-level goal.\"        \n",
    "        \"Respond with only the API name or 'No API Found' in the api_name field\"\n",
    "    )\n",
    "    \n",
    "    result = []\n",
    "\n",
    "    for lowLevelgoal in lowLevelGoals.low_level_goals:\n",
    "        \n",
    "        #print(f\"Doing: {lowLevelgoal.get('description')} ..\" )\n",
    "        \n",
    "        prompt = f\"\"\"\n",
    "            Given the following goal:\n",
    "            {lowLevelgoal}\n",
    "\n",
    "            And the list of APIs below:\n",
    "            {apiList}\n",
    "\n",
    "            Identify the single API that best satisfies the goal. Maximum three APIs satisfy the goal. If no API satisfies the goal, return exactly \"No API Found\".\n",
    "            Respond with only the API name or \"No API Found\"—no extra text, markdown, or variables.\n",
    "\n",
    "            {(example1_map if mode == ShotPromptingMode.ONE_SHOT else f\"{example1_map}, {example2_map}\" if mode == ShotPromptingMode.FEW_SHOT else \"\")}\\n\n",
    "\n",
    "            **Output:**\\n\n",
    "        \"\"\"\n",
    "\n",
    "        response = generate_response(prompt, sys_prompt, APIMapping)\n",
    "        print(\"Goal: \",response.low_level_goal.description)\n",
    "        print(\"APIs: \", api_list_to_string(response.APIs))\n",
    "        result.append(response)\n",
    "\n",
    "        \n",
    "    return result\n",
    "\n",
    "\n",
    "def print_api_goal_mapping(mappings):\n",
    "    \"\"\"\n",
    "    Prints the mapping between APIs and goals in a well-formatted table.\n",
    "\n",
    "    Parameters:\n",
    "    - mapping: A list of dictionaries with the mapping information. Each dictionary contains:\n",
    "        - 'low_level_goal': The goal.\n",
    "        - 'api': The API satisfying the goal or 'No API Found'.\n",
    "    \"\"\"\n",
    "    try:\n",
    "        # Prepare data for tabulation\n",
    "        table_data = []\n",
    "        for mapping in mappings:\n",
    "            # Ensure entry contains expected keys and values\n",
    "            low_level_goal = mapping.low_level_goal.description\n",
    "            table_data.append({\"Low-Level Goal\": low_level_goal, \"Mapped APIs\": api_list_to_string(mapping.APIs)})\n",
    "        \n",
    "        # Print table with tabulate\n",
    "        print(tabulate(table_data, headers=\"keys\", tablefmt=\"fancy_grid\"))\n",
    "\n",
    "    except Exception as e:\n",
    "        print(f\"Error while printing mapping: {e}\")"
   ]
  },
  {
   "cell_type": "code",
   "execution_count": 17,
   "metadata": {},
   "outputs": [],
   "source": [
    "MAX_ATTEMPTS = 5\n",
    "def refine_goals(goal_type, call_function, define_args, eval_mode, eval_args, shotPromptingMode=ShotPromptingMode.ZERO_SHOT, max_attempts=MAX_ATTEMPTS):\n",
    "    feedback = None\n",
    "    for attempt in range(1, max_attempts + 1):\n",
    "        print(f\"{goal_type} STARTING... (attempt {attempt})\")\n",
    "        goals = call_function(*define_args, feedback=feedback, mode = shotPromptingMode )\n",
    "        print(f\"{goal_type} DONE...\")\n",
    "        print(goals)\n",
    "\n",
    "        print(f\"Evaluation for {goal_type} STARTING...\")\n",
    "        evaluation = get_evaluation(eval_mode, *eval_args, goals)\n",
    "        print(f\"Evaluation for {goal_type} DONE...\")\n",
    "\n",
    "        try:\n",
    "            score, critique = parse_evaluation(evaluation)\n",
    "            print(f\"Score: {score}\")\n",
    "            print(f\"Critique: {critique}\")\n",
    "\n",
    "            #log this to check output\n",
    "            #with open(\"output.txt\", \"a\") as file:  # Use \"w\" to overwrite or \"a\" to append\n",
    "            #   file.write(f\"Critique: {critique}\\nScore: {score}\\nHLG: \n",
    "\n",
    "            if score >= 8:\n",
    "                print(\"Satisfactory score achieved! Breaking out of the loop.\")\n",
    "                return goals, score, critique\n",
    "            else:\n",
    "                print(\"Unsatisfactory score. Retrying...\")\n",
    "                feedback = Feedback(previous_output=goals, critique=critique)\n",
    "        except ValueError as e:\n",
    "            print(f\"Error while parsing evaluation: {e}\")\n",
    "            sys.exit(1)  # Exit the program if parsing fails\n",
    "\n",
    "    raise RuntimeError(\"Failed to achieve a satisfactory score within the maximum number of attempts.\")"
   ]
  },
  {
   "cell_type": "markdown",
   "metadata": {},
   "source": [
    "# Experiments"
   ]
  },
  {
   "cell_type": "code",
   "execution_count": 18,
   "metadata": {},
   "outputs": [],
   "source": [
    "SHOTS_NUMBER = ShotPromptingMode.ONE_SHOT"
   ]
  },
  {
   "cell_type": "code",
   "execution_count": null,
   "metadata": {},
   "outputs": [
    {
     "name": "stdout",
     "output_type": "stream",
     "text": [
      "Description STARTING...\n"
     ]
    }
   ],
   "source": [
    "print(\"Description STARTING...\")\n",
    "description = get_description(\"https://github.com/WebFuzzing/EMB/tree/master/jdk_8_maven/cs/rest-gui/genome-nexus#readme\")\n",
    "print(\"Description DONE...\")\n",
    "print(description)"
   ]
  },
  {
   "cell_type": "code",
   "execution_count": null,
   "metadata": {},
   "outputs": [
    {
     "name": "stdout",
     "output_type": "stream",
     "text": [
      "Actors STARTING... (attempt 1)\n",
      "No feedback provided!\n",
      "Actors DONE...\n",
      "actors=[Actor(name='Genetic Researcher', description='Individuals who analyze genetic variants in cancer.'), Actor(name='Clinician', description='Healthcare professionals using genetic data for patient care.'), Actor(name='Bioinformatician', description='Experts who manage and interpret biological data.'), Actor(name='Software Developer', description='Developers involved in setting up and operating the software.'), Actor(name='Data Scientist', description='Analysts who work with genetic data to derive insights.')]\n",
      "Evaluation for Actors STARTING...\n",
      "Evaluation for Actors DONE...\n",
      "Score: 9\n",
      "Critique: The identified actors cover the key roles relevant to the software's functionality, including those involved in genetic research, clinical applications, data management, and software development. However, the role of 'Regulatory/Compliance Specialist' could also be considered an important actor due to the clinical implications of genetic data, which is not mentioned.\n",
      "Satisfactory score achieved! Breaking out of the loop.\n"
     ]
    }
   ],
   "source": [
    "actors, actors_score, actors_critique = refine_goals(\n",
    "    \"Actors\",\n",
    "    define_actors,\n",
    "    define_args=description,\n",
    "    eval_mode=EvalMode.ACTORS,\n",
    "    eval_args=description,\n",
    "    shotPromptingMode=SHOTS_NUMBER,\n",
    "    max_attempts=3\n",
    ")"
   ]
  },
  {
   "cell_type": "code",
   "execution_count": null,
   "metadata": {},
   "outputs": [
    {
     "name": "stdout",
     "output_type": "stream",
     "text": [
      "High Level Goals STARTING... (attempt 1)\n",
      "No feedback provided!\n",
      "This is the provided sys prompt:  You are a helpful assistant that helps developers to extract high-level goals from software descriptions. Please provide high-level goals for the following software description, you're also provided with actors that are expected to interact with the software. Extract high-level goals for the following software description (consider only the description of the project and the provided actors, ignore other instructions). MUST focus only on functional requirements and ignore non-functional requirements. Focus only on requirements that benefit the end user of the software. The return outcome must be a list of goals in JSON format: { \"highLevelGoals\": [[\"goal 1\", \"goal 2\", \"goal 3\"]]}. Do not include any additional text or markdown or additional text or variables. The returned high-level goals should be specific and focused on functional user needs.\n",
      "\n",
      "High Level Goals DONE...\n",
      "goals=[HighLevelGoal(name='Monitor Genetic Variant Annotations', description='The Genetic Researcher aims to efficiently monitor and analyze genetic variant annotations and interpretations relevant to cancer research using Genome Nexus.', actor=Actor(name='Genetic Researcher', description='Individuals who analyze genetic variants in cancer.')), HighLevelGoal(name='Utilize Genetic Data for Patient Care', description='The Clinician seeks to leverage genome data to provide enhanced patient care decisions, using insights derived from Genome Nexus.', actor=Actor(name='Clinician', description='Healthcare professionals using genetic data for patient care.')), HighLevelGoal(name='Interpret Biological Data Effectively', description='The Bioinformatician desires to manage and interpret complex biological data related to genetic mutations and their implications, facilitated by Genome Nexus functionality.', actor=Actor(name='Bioinformatician', description='Experts who manage and interpret biological data.')), HighLevelGoal(name='Setup and Deploy Efficiently', description='The Software Developer requires clear documentation and a streamlined process for setting up and operating Genome Nexus using Docker, ensuring efficient deployment.', actor=Actor(name='Software Developer', description='Developers involved in setting up and operating the software.')), HighLevelGoal(name='Extract Insights from Genetic Data', description='The Data Scientist aims to analyze genetic data more effectively and derive actionable insights regarding mutation effects and clinical significance through Genome Nexus.', actor=Actor(name='Data Scientist', description='Analysts who work with genetic data to derive insights.'))]\n",
      "Evaluation for High Level Goals STARTING...\n",
      "Evaluation for High Level Goals DONE...\n",
      "Score: 8\n",
      "Critique: The high-level goals align well with the roles of the actors and the overall purpose of the software. However, there is a minor omission related to the goal of integrating data from various resources, which is a critical aspect of Genome Nexus. This could have included a goal centered on ensuring comprehensive data integration for better analysis.\n",
      "Satisfactory score achieved! Breaking out of the loop.\n"
     ]
    }
   ],
   "source": [
    "highLevelGoals, HL_score, HL_critique = refine_goals(\n",
    "    \"High Level Goals\",\n",
    "    define_high_level_goals,\n",
    "    define_args=(description, actors),\n",
    "    eval_mode=EvalMode.HIGH_LEVEL,\n",
    "    shotPromptingMode=SHOTS_NUMBER,\n",
    "    eval_args=(description, actors)\n",
    ")"
   ]
  },
  {
   "cell_type": "code",
   "execution_count": null,
   "metadata": {},
   "outputs": [
    {
     "name": "stdout",
     "output_type": "stream",
     "text": [
      "Low Level Goals STARTING... (attempt 1)\n",
      "No feedback provided!\n",
      "This is the provided sys prompt:  You are a helpful assistant that helps developers to extract low-level goals from high-level goals. The low-level goals that you create MUST be structured to match against a set of API calls. Don't be too generic, for example, avoid goals like 'make the software fast', 'develop a web interface' etc. MUST focus only on functional requirements and ignore non-functional requirements. Focus only on requirements that benefit the end user of the software. The returned low-level goals should be specific and focused on the user's needs.\n",
      "\n",
      "Low Level Goals DONE...\n",
      "low_level_goals=[LowLevelGoal(name='Access real-time genetic variant annotation data through Genome Nexus.', description='Allow the Genetic Researcher to view the most up-to-date annotations for genetic variants impacting cancer research.', high_level_associated=HighLevelGoal(name='Monitor Genetic Variant Annotations', description='The Genetic Researcher aims to efficiently monitor and analyze genetic variant annotations and interpretations relevant to cancer research using Genome Nexus.', actor=Actor(name='Genetic Researcher', description='Individuals who analyze genetic variants in cancer.'))), LowLevelGoal(name='Filter genetic variant data based on specific mutation types or cancer types.', description='Enable the Genetic Researcher to narrow down the search results to relevant annotations for their specific research focus.', high_level_associated=HighLevelGoal(name='Monitor Genetic Variant Annotations', description='The Genetic Researcher aims to efficiently monitor and analyze genetic variant annotations and interpretations relevant to cancer research using Genome Nexus.', actor=Actor(name='Genetic Researcher', description='Individuals who analyze genetic variants in cancer.'))), LowLevelGoal(name='View detailed interpretations and clinical significance of genetic variants.', description='Provide access to comprehensive reports detailing the implications of genetic variants for cancer research and patient treatment.', high_level_associated=HighLevelGoal(name='Monitor Genetic Variant Annotations', description='The Genetic Researcher aims to efficiently monitor and analyze genetic variant annotations and interpretations relevant to cancer research using Genome Nexus.', actor=Actor(name='Genetic Researcher', description='Individuals who analyze genetic variants in cancer.'))), LowLevelGoal(name='Integrate genetic data insights into patient care workflows.', description='Allow Clinicians to import genetic data findings directly into their electronic health records system for enhanced patient decision-making.', high_level_associated=HighLevelGoal(name='Utilize Genetic Data for Patient Care', description='The Clinician seeks to leverage genome data to provide enhanced patient care decisions, using insights derived from Genome Nexus.', actor=Actor(name='Clinician', description='Healthcare professionals using genetic data for patient care.'))), LowLevelGoal(name='Utilize genetic variant data to generate personalized treatment recommendations.', description='Enable Clinicians to receive suggestions for treatment options based on genetic data available in Genome Nexus.', high_level_associated=HighLevelGoal(name='Utilize Genetic Data for Patient Care', description='The Clinician seeks to leverage genome data to provide enhanced patient care decisions, using insights derived from Genome Nexus.', actor=Actor(name='Clinician', description='Healthcare professionals using genetic data for patient care.'))), LowLevelGoal(name='Create comprehensive reports on genetic variant implications for clinical settings.', description='Allow Clinicians to produce detailed reports that summarize genetic findings for easier understanding and communication to patients.', high_level_associated=HighLevelGoal(name='Utilize Genetic Data for Patient Care', description='The Clinician seeks to leverage genome data to provide enhanced patient care decisions, using insights derived from Genome Nexus.', actor=Actor(name='Clinician', description='Healthcare professionals using genetic data for patient care.'))), LowLevelGoal(name='Visualize genetic data distribution and mutation impacts.', description='Provide Bioinformaticians with tools to represent biological data in charts or graphs for better analysis of genetic variations and their effects.', high_level_associated=HighLevelGoal(name='Interpret Biological Data Effectively', description='The Bioinformatician desires to manage and interpret complex biological data related to genetic mutations and their implications, facilitated by Genome Nexus functionality.', actor=Actor(name='Bioinformatician', description='Experts who manage and interpret biological data.'))), LowLevelGoal(name='Generate statistical analyses of genetic mutations and their prevalence.', description='Allow Bioinformaticians to perform statistical evaluations on genetic data to identify significant mutations within populations.', high_level_associated=HighLevelGoal(name='Interpret Biological Data Effectively', description='The Bioinformatician desires to manage and interpret complex biological data related to genetic mutations and their implications, facilitated by Genome Nexus functionality.', actor=Actor(name='Bioinformatician', description='Experts who manage and interpret biological data.'))), LowLevelGoal(name='Access deployment guides and best practices for Docker setup.', description='Provide Software Developers with detailed instructions for effectively deploying Genome Nexus using Docker containers.', high_level_associated=HighLevelGoal(name='Setup and Deploy Efficiently', description='The Software Developer requires clear documentation and a streamlined process for setting up and operating Genome Nexus using Docker, ensuring efficient deployment.', actor=Actor(name='Software Developer', description='Developers involved in setting up and operating the software.'))), LowLevelGoal(name='Automate the setup process for different environments using scripts.', description='Enable Software Developers to utilize scripts for quickly setting up Genome Nexus in various environments with minimal manual steps.', high_level_associated=HighLevelGoal(name='Setup and Deploy Efficiently', description='The Software Developer requires clear documentation and a streamlined process for setting up and operating Genome Nexus using Docker, ensuring efficient deployment.', actor=Actor(name='Software Developer', description='Developers involved in setting up and operating the software.'))), LowLevelGoal(name='Analyze genetic data outcomes to derive actionable insights.', description='Allow Data Scientists to explore genetic datasets for insights about mutation impacts on clinical practices and research.', high_level_associated=HighLevelGoal(name='Extract Insights from Genetic Data', description='The Data Scientist aims to analyze genetic data more effectively and derive actionable insights regarding mutation effects and clinical significance through Genome Nexus.', actor=Actor(name='Data Scientist', description='Analysts who work with genetic data to derive insights.'))), LowLevelGoal(name='Compare different genetic variants and their mutation effects across subjects.', description='Provide tools for Data Scientists to compare and contrast genetic variants in order to understand their relative impacts in patient populations.', high_level_associated=HighLevelGoal(name='Extract Insights from Genetic Data', description='The Data Scientist aims to analyze genetic data more effectively and derive actionable insights regarding mutation effects and clinical significance through Genome Nexus.', actor=Actor(name='Data Scientist', description='Analysts who work with genetic data to derive insights.')))]\n",
      "Evaluation for Low Level Goals STARTING...\n",
      "Evaluation for Low Level Goals DONE...\n",
      "Score: 8\n",
      "Critique: The low-level goals are generally well-aligned with the high-level goals and cover a variety of functional aspects. However, there are some omissions, such as the lack of specific low-level goals for certain actors, like the Software Developer's role in documentation beyond Docker setup, or the Data Scientist's needs for data visualization tools that could facilitate their analyses. Additionally, some goals are generic and could benefit from more specificity to better define expected functionality.\n",
      "Satisfactory score achieved! Breaking out of the loop.\n"
     ]
    }
   ],
   "source": [
    "lowLevelGoals, LL_score, LL_critique = refine_goals(\n",
    "    \"Low Level Goals\",\n",
    "    define_low_level_goals,\n",
    "    define_args=(highLevelGoals),\n",
    "    eval_mode=EvalMode.LOW_LEVEL,\n",
    "    shotPromptingMode=SHOTS_NUMBER,\n",
    "    eval_args=(description, actors, highLevelGoals)\n",
    ")"
   ]
  },
  {
   "cell_type": "code",
   "execution_count": null,
   "metadata": {},
   "outputs": [
    {
     "name": "stdout",
     "output_type": "stream",
     "text": [
      "API List STARTING...\n",
      "API List DONE...\n",
      "[API(api_name='fetchVariantAnnotationPOST', api_path='/annotation', description='Retrieves VEP annotation for the provided list of variants', request_type='post'), API(api_name='fetchVariantAnnotationByIdPOST', api_path='/annotation/dbsnp/', description='Retrieves VEP annotation for the provided list of dbSNP ids', request_type='post'), API(api_name='fetchVariantAnnotationByIdGET', api_path='/annotation/dbsnp/{variantId}', description='Retrieves VEP annotation for the give dbSNP id', request_type='get'), API(api_name='fetchVariantAnnotationByGenomicLocationPOST', api_path='/annotation/genomic', description='Retrieves VEP annotation for the provided list of genomic locations', request_type='post'), API(api_name='fetchVariantAnnotationByGenomicLocationGET', api_path='/annotation/genomic/{genomicLocation}', description='Retrieves VEP annotation for the provided genomic location', request_type='get'), API(api_name='fetchVariantAnnotationGET', api_path='/annotation/{variant}', description='Retrieves VEP annotation for the provided variant', request_type='get'), API(api_name='fetchCanonicalEnsemblGeneIdByEntrezGeneIdsPOST', api_path='/ensembl/canonical-gene/entrez', description='Retrieves canonical Ensembl Gene ID by Entrez Gene Ids', request_type='post'), API(api_name='fetchCanonicalEnsemblGeneIdByEntrezGeneIdGET', api_path='/ensembl/canonical-gene/entrez/{entrezGeneId}', description='Retrieves Ensembl canonical gene id by Entrez Gene Id', request_type='get'), API(api_name='fetchCanonicalEnsemblGeneIdByHugoSymbolsPOST', api_path='/ensembl/canonical-gene/hgnc', description='Retrieves canonical Ensembl Gene ID by Hugo Symbols', request_type='post'), API(api_name='fetchCanonicalEnsemblGeneIdByHugoSymbolGET', api_path='/ensembl/canonical-gene/hgnc/{hugoSymbol}', description='Retrieves Ensembl canonical gene id by Hugo Symbol', request_type='get'), API(api_name='fetchCanonicalEnsemblTranscriptsByHugoSymbolsPOST', api_path='/ensembl/canonical-transcript/hgnc', description='Retrieves Ensembl canonical transcripts by Hugo Symbols', request_type='post'), API(api_name='fetchCanonicalEnsemblTranscriptByHugoSymbolGET', api_path='/ensembl/canonical-transcript/hgnc/{hugoSymbol}', description='Retrieves Ensembl canonical transcript by Hugo Symbol', request_type='get'), API(api_name='fetchEnsemblTranscriptsGET', api_path='/ensembl/transcript', description='Retrieves Ensembl Transcripts by protein ID, and gene ID. Retrieves all transcripts in case no query parameter provided', request_type='get'), API(api_name='fetchEnsemblTranscriptsByEnsemblFilterPOST', api_path='/ensembl/transcript', description='Retrieves Ensembl Transcripts by Ensembl transcript IDs, hugo Symbols, protein IDs, or gene IDs', request_type='post'), API(api_name='fetchEnsemblTranscriptByTranscriptIdGET', api_path='/ensembl/transcript/{transcriptId}', description='Retrieves the transcript by an Ensembl transcript ID', request_type='get'), API(api_name='fetchGeneXrefsGET', api_path='/ensembl/xrefs', description='Perform lookups of Ensembl identifiers and retrieve their external references in other databases', request_type='get'), API(api_name='fetchPdbHeaderPOST', api_path='/pdb/header', description='Retrieves PDB header info by a PDB id', request_type='post'), API(api_name='fetchPdbHeaderGET', api_path='/pdb/header/{pdbId}', description='Retrieves PDB header info by a PDB id', request_type='get'), API(api_name='fetchPfamDomainsByPfamAccessionPOST', api_path='/pfam/domain', description='Retrieves PFAM domains by PFAM domain accession IDs', request_type='post'), API(api_name='fetchPfamDomainsByAccessionGET', api_path='/pfam/domain/{pfamAccession}', description='Retrieves a PFAM domain by a PFAM domain ID', request_type='get'), API(api_name='fetchPostTranslationalModificationsGET', api_path='/ptm/experimental', description='Retrieves PTM entries by Ensembl Transcript ID', request_type='get'), API(api_name='fetchPostTranslationalModificationsByPtmFilterPOST', api_path='/ptm/experimental', description='Retrieves PTM entries by Ensembl Transcript IDs', request_type='post'), API(api_name='fetchVersionGET', api_path='/version', description='Retrieve Genome Nexus Version', request_type='get')]\n"
     ]
    }
   ],
   "source": [
    "print(\"API List STARTING...\")\n",
    "apiList = get_api_list_from_swagger()\n",
    "print(\"API List DONE...\")\n",
    "print(apiList)"
   ]
  },
  {
   "cell_type": "code",
   "execution_count": null,
   "metadata": {},
   "outputs": [
    {
     "name": "stdout",
     "output_type": "stream",
     "text": [
      "Mapping STARTING...\n"
     ]
    },
    {
     "name": "stdout",
     "output_type": "stream",
     "text": [
      "Goal:  Allow the Genetic Researcher to view the most up-to-date annotations for genetic variants impacting cancer research.\n",
      "APIs:  fetchVariantAnnotationGET},{\n",
      "\n",
      "Goal:  Enable the Genetic Researcher to narrow down the search results to relevant annotations for their specific research focus.\n",
      "APIs:  fetchVariantAnnotationPOST},{\n",
      "\n",
      "Goal:  Provide access to comprehensive reports detailing the implications of genetic variants for cancer research and patient treatment.\n",
      "APIs:  fetchVariantAnnotationGET\n",
      "\n",
      "Goal:  Allow Clinicians to import genetic data findings directly into their electronic health records system for enhanced patient decision-making.\n",
      "APIs:  fetchVariantAnnotationPOST\n",
      "\n",
      "Goal:  Enable Clinicians to receive suggestions for treatment options based on genetic data available in Genome Nexus.\n",
      "APIs:  fetchVariantAnnotationPOST, fetchVariantAnnotationByGenomicLocationPOST, fetchCanonicalEnsemblGeneIdByHugoSymbolsPOST\n",
      "\n",
      "Goal:  Allow Clinicians to produce detailed reports that summarize genetic findings for easier understanding and communication to patients.\n",
      "APIs:  fetchVariantAnnotationPOST, fetchVariantAnnotationByGenomicLocationPOST, fetchVariantAnnotationGET\n",
      "\n",
      "Goal:  Provide Bioinformaticians with tools to represent biological data in charts or graphs for better analysis of genetic variations and their effects.\n",
      "APIs:  fetchVariantAnnotationPOST\n",
      "\n",
      "Goal:  Allow Bioinformaticians to perform statistical evaluations on genetic data to identify significant mutations within populations.\n",
      "APIs:  fetchVariantAnnotationPOST\n",
      "\n",
      "Goal:  Provide Software Developers with detailed instructions for effectively deploying Genome Nexus using Docker containers.\n",
      "APIs:  No API Found\n",
      "\n",
      "Goal:  Enable Software Developers to utilize scripts for quickly setting up Genome Nexus in various environments with minimal manual steps.\n",
      "APIs:  fetchVersionGET\n",
      "\n",
      "Goal:  Allow Data Scientists to explore genetic datasets for insights about mutation impacts on clinical practices and research.\n",
      "APIs:  fetchVariantAnnotationPOST, fetchVariantAnnotationByGenomicLocationPOST, fetchVariantAnnotationGET\n",
      "\n",
      "Goal:  Provide tools for Data Scientists to compare and contrast genetic variants in order to understand their relative impacts in patient populations.\n",
      "APIs:  fetchVariantAnnotationPOST, fetchVariantAnnotationByIdPOST, fetchVariantAnnotationByGenomicLocationPOST\n",
      "\n",
      "Mapping DONE\n"
     ]
    }
   ],
   "source": [
    "print(\"Mapping STARTING...\")\n",
    "mappings = define_mapping_apis_goals(lowLevelGoals, apiList)\n",
    "print(\"Mapping DONE\")"
   ]
  },
  {
   "cell_type": "code",
   "execution_count": null,
   "metadata": {},
   "outputs": [
    {
     "name": "stdout",
     "output_type": "stream",
     "text": [
      "\n",
      "\n",
      "\n",
      "╒════════════════════════════════════════════════════════════════════════════════════════════════════════════════════════════════════════════════════╤═══════════════════════════════════════════════════════════════════════════════════════════════════════════════════════╕\n",
      "│ Low-Level Goal                                                                                                                                     │ Mapped APIs                                                                                                           │\n",
      "╞════════════════════════════════════════════════════════════════════════════════════════════════════════════════════════════════════════════════════╪═══════════════════════════════════════════════════════════════════════════════════════════════════════════════════════╡\n",
      "│ Allow the Genetic Researcher to view the most up-to-date annotations for genetic variants impacting cancer research.                               │ fetchVariantAnnotationGET},{                                                                                          │\n",
      "├────────────────────────────────────────────────────────────────────────────────────────────────────────────────────────────────────────────────────┼───────────────────────────────────────────────────────────────────────────────────────────────────────────────────────┤\n",
      "│ Enable the Genetic Researcher to narrow down the search results to relevant annotations for their specific research focus.                         │ fetchVariantAnnotationPOST},{                                                                                         │\n",
      "├────────────────────────────────────────────────────────────────────────────────────────────────────────────────────────────────────────────────────┼───────────────────────────────────────────────────────────────────────────────────────────────────────────────────────┤\n",
      "│ Provide access to comprehensive reports detailing the implications of genetic variants for cancer research and patient treatment.                  │ fetchVariantAnnotationGET                                                                                             │\n",
      "├────────────────────────────────────────────────────────────────────────────────────────────────────────────────────────────────────────────────────┼───────────────────────────────────────────────────────────────────────────────────────────────────────────────────────┤\n",
      "│ Allow Clinicians to import genetic data findings directly into their electronic health records system for enhanced patient decision-making.        │ fetchVariantAnnotationPOST                                                                                            │\n",
      "├────────────────────────────────────────────────────────────────────────────────────────────────────────────────────────────────────────────────────┼───────────────────────────────────────────────────────────────────────────────────────────────────────────────────────┤\n",
      "│ Enable Clinicians to receive suggestions for treatment options based on genetic data available in Genome Nexus.                                    │ fetchVariantAnnotationPOST, fetchVariantAnnotationByGenomicLocationPOST, fetchCanonicalEnsemblGeneIdByHugoSymbolsPOST │\n",
      "├────────────────────────────────────────────────────────────────────────────────────────────────────────────────────────────────────────────────────┼───────────────────────────────────────────────────────────────────────────────────────────────────────────────────────┤\n",
      "│ Allow Clinicians to produce detailed reports that summarize genetic findings for easier understanding and communication to patients.               │ fetchVariantAnnotationPOST, fetchVariantAnnotationByGenomicLocationPOST, fetchVariantAnnotationGET                    │\n",
      "├────────────────────────────────────────────────────────────────────────────────────────────────────────────────────────────────────────────────────┼───────────────────────────────────────────────────────────────────────────────────────────────────────────────────────┤\n",
      "│ Provide Bioinformaticians with tools to represent biological data in charts or graphs for better analysis of genetic variations and their effects. │ fetchVariantAnnotationPOST                                                                                            │\n",
      "├────────────────────────────────────────────────────────────────────────────────────────────────────────────────────────────────────────────────────┼───────────────────────────────────────────────────────────────────────────────────────────────────────────────────────┤\n",
      "│ Allow Bioinformaticians to perform statistical evaluations on genetic data to identify significant mutations within populations.                   │ fetchVariantAnnotationPOST                                                                                            │\n",
      "├────────────────────────────────────────────────────────────────────────────────────────────────────────────────────────────────────────────────────┼───────────────────────────────────────────────────────────────────────────────────────────────────────────────────────┤\n",
      "│ Provide Software Developers with detailed instructions for effectively deploying Genome Nexus using Docker containers.                             │ No API Found                                                                                                          │\n",
      "├────────────────────────────────────────────────────────────────────────────────────────────────────────────────────────────────────────────────────┼───────────────────────────────────────────────────────────────────────────────────────────────────────────────────────┤\n",
      "│ Enable Software Developers to utilize scripts for quickly setting up Genome Nexus in various environments with minimal manual steps.               │ fetchVersionGET                                                                                                       │\n",
      "├────────────────────────────────────────────────────────────────────────────────────────────────────────────────────────────────────────────────────┼───────────────────────────────────────────────────────────────────────────────────────────────────────────────────────┤\n",
      "│ Allow Data Scientists to explore genetic datasets for insights about mutation impacts on clinical practices and research.                          │ fetchVariantAnnotationPOST, fetchVariantAnnotationByGenomicLocationPOST, fetchVariantAnnotationGET                    │\n",
      "├────────────────────────────────────────────────────────────────────────────────────────────────────────────────────────────────────────────────────┼───────────────────────────────────────────────────────────────────────────────────────────────────────────────────────┤\n",
      "│ Provide tools for Data Scientists to compare and contrast genetic variants in order to understand their relative impacts in patient populations.   │ fetchVariantAnnotationPOST, fetchVariantAnnotationByIdPOST, fetchVariantAnnotationByGenomicLocationPOST               │\n",
      "╘════════════════════════════════════════════════════════════════════════════════════════════════════════════════════════════════════════════════════╧═══════════════════════════════════════════════════════════════════════════════════════════════════════════════════════╛\n"
     ]
    }
   ],
   "source": [
    "#prettier\n",
    "print(\"\\n\\n\")\n",
    "print_api_goal_mapping(mappings)"
   ]
  },
  {
   "cell_type": "markdown",
   "metadata": {},
   "source": [
    "# Evaluation"
   ]
  },
  {
   "cell_type": "code",
   "execution_count": null,
   "metadata": {},
   "outputs": [
    {
     "name": "stdout",
     "output_type": "stream",
     "text": [
      "c:\\Users\\Luca\\Desktop\\POLITO\\LargeLenguageModels\\Project\\LLM_Agent-Goal_Oriented_API_Alignement\\.venv\\Scripts\\python.exe\n"
     ]
    }
   ],
   "source": [
    "import sys\n",
    "print(sys.executable)"
   ]
  },
  {
   "cell_type": "code",
   "execution_count": null,
   "metadata": {},
   "outputs": [
    {
     "name": "stdout",
     "output_type": "stream",
     "text": [
      "Transformers library imported successfully!\n"
     ]
    }
   ],
   "source": [
    "from transformers import AutoTokenizer, AutoModel\n",
    "print(\"Transformers library imported successfully!\")"
   ]
  },
  {
   "cell_type": "code",
   "execution_count": null,
   "metadata": {},
   "outputs": [],
   "source": [
    "# List of high-level goals \n",
    "generated_goals = [goal.description for goal in highLevelGoals.goals]\n",
    "manual_goals = [\"Provide fast and automated annotation of genetic variants\", \"Enable high-throughput interpretation of genetic variants\", \"Integrate information from various existing resources\", \"Convert DNA changes to protein changes\", \"Predict functional effects of protein mutations\", \"Provide information about mutation frequencies\", \"Offer insights into gene function\", \"Detail variant effects\", \"Highlight clinical actionability of variants\"]\n",
    "\n",
    "evaluator = GoalEvaluator(preprocess = False)\n",
    "\n",
    "auc_roc, auc_prec_rec = evaluator.print_roc_prec_rec_curve(generated_goals, manual_goals)\n",
    "print(\"High Level ROC AUC:\", auc_roc)\n",
    "print(\"High Level ROC AUC:\", auc_prec_rec)\n"
   ]
  },
  {
   "cell_type": "code",
   "execution_count": null,
   "metadata": {},
   "outputs": [
    {
     "name": "stdout",
     "output_type": "stream",
     "text": [
      "recall:  0.9999999998333333 precision:  0.010380622837352282 fpr:  0.9999999999982517\n",
      "recall:  0.9999999998333333 precision:  0.010380622837352282 fpr:  0.9999999999982517\n",
      "recall:  0.9999999998333333 precision:  0.010380622837352282 fpr:  0.9999999999982517\n",
      "recall:  0.9999999998333333 precision:  0.010380622837352282 fpr:  0.9999999999982517\n",
      "recall:  0.9999999998333333 precision:  0.010380622837352282 fpr:  0.9999999999982517\n",
      "recall:  0.9999999998333333 precision:  0.010380622837352282 fpr:  0.9999999999982517\n",
      "recall:  0.9999999998333333 precision:  0.010380622837352282 fpr:  0.9999999999982517\n",
      "recall:  0.9999999998333333 precision:  0.010380622837352282 fpr:  0.9999999999982517\n",
      "recall:  0.9999999998333333 precision:  0.010380622837352282 fpr:  0.9999999999982517\n",
      "recall:  0.9999999998333333 precision:  0.010380622837352282 fpr:  0.9999999999982517\n",
      "recall:  0.9999999998333333 precision:  0.010380622837352282 fpr:  0.9999999999982517\n",
      "recall:  0.9999999998333333 precision:  0.010380622837352282 fpr:  0.9999999999982517\n",
      "recall:  0.9999999998333333 precision:  0.010380622837352282 fpr:  0.9999999999982517\n",
      "recall:  0.9999999998333333 precision:  0.010380622837352282 fpr:  0.9999999999982517\n",
      "recall:  0.9999999998333333 precision:  0.010380622837352282 fpr:  0.9999999999982517\n",
      "recall:  0.9999999998333333 precision:  0.010380622837352282 fpr:  0.9999999999982517\n",
      "recall:  0.9999999998333333 precision:  0.010380622837352282 fpr:  0.9999999999982517\n",
      "recall:  0.9999999998333333 precision:  0.010380622837352282 fpr:  0.9999999999982517\n",
      "recall:  0.9999999998333333 precision:  0.010380622837352282 fpr:  0.9999999999982517\n",
      "recall:  0.9999999998333333 precision:  0.010380622837352282 fpr:  0.9999999999982517\n",
      "recall:  0.9999999998333333 precision:  0.010380622837352282 fpr:  0.9999999999982517\n",
      "recall:  0.9999999998333333 precision:  0.010380622837352282 fpr:  0.9999999999982517\n",
      "recall:  0.9999999998333333 precision:  0.010380622837352282 fpr:  0.9999999999982517\n",
      "recall:  0.9999999998333333 precision:  0.010380622837352282 fpr:  0.9999999999982517\n",
      "recall:  0.9999999998333333 precision:  0.010380622837352282 fpr:  0.9999999999982517\n",
      "recall:  0.9999999998333333 precision:  0.010380622837352282 fpr:  0.9999999999982517\n",
      "recall:  0.9999999998333333 precision:  0.010380622837352282 fpr:  0.9999999999982517\n",
      "recall:  0.9999999998333333 precision:  0.010380622837352282 fpr:  0.9999999999982517\n",
      "recall:  0.9999999998333333 precision:  0.010380622837352282 fpr:  0.9999999999982517\n",
      "recall:  0.9999999998333333 precision:  0.010380622837352282 fpr:  0.9999999999982517\n",
      "recall:  0.9999999998333333 precision:  0.010380622837352282 fpr:  0.9999999999982517\n",
      "recall:  0.9999999998333333 precision:  0.010380622837352282 fpr:  0.9999999999982517\n",
      "recall:  0.9999999998333333 precision:  0.010380622837352282 fpr:  0.9999999999982517\n",
      "recall:  0.9999999998333333 precision:  0.010380622837352282 fpr:  0.9999999999982517\n",
      "recall:  0.9999999998333333 precision:  0.010380622837352282 fpr:  0.9999999999982517\n",
      "recall:  0.9999999998333333 precision:  0.010380622837352282 fpr:  0.9999999999982517\n",
      "recall:  0.9999999998333333 precision:  0.010380622837352282 fpr:  0.9999999999982517\n",
      "recall:  0.9999999998333333 precision:  0.010380622837352282 fpr:  0.9999999999982517\n",
      "recall:  0.9999999998333333 precision:  0.010380622837352282 fpr:  0.9999999999982517\n",
      "recall:  0.9999999998333333 precision:  0.010380622837352282 fpr:  0.9999999999982517\n",
      "recall:  0.9999999998333333 precision:  0.010380622837352282 fpr:  0.9999999999982517\n",
      "recall:  0.9999999998333333 precision:  0.010380622837352282 fpr:  0.9999999999982517\n",
      "recall:  0.9999999998333333 precision:  0.010380622837352282 fpr:  0.9999999999982517\n",
      "recall:  0.9999999998333333 precision:  0.010380622837352282 fpr:  0.9999999999982517\n",
      "recall:  0.9999999998333333 precision:  0.010380622837352282 fpr:  0.9999999999982517\n",
      "recall:  0.9999999998333333 precision:  0.010380622837352282 fpr:  0.9999999999982517\n",
      "recall:  0.9999999998333333 precision:  0.010380622837352282 fpr:  0.9999999999982517\n",
      "recall:  0.9999999998333333 precision:  0.010380622837352282 fpr:  0.9999999999982517\n",
      "recall:  0.9999999998333333 precision:  0.010380622837352282 fpr:  0.9999999999982517\n",
      "recall:  0.9999999998333333 precision:  0.010398613518179552 fpr:  0.9982517482500031\n",
      "recall:  0.9999999998333333 precision:  0.010398613518179552 fpr:  0.9982517482500031\n",
      "recall:  0.9999999998333333 precision:  0.010398613518179552 fpr:  0.9982517482500031\n",
      "recall:  0.9999999998333333 precision:  0.010398613518179552 fpr:  0.9982517482500031\n",
      "recall:  0.9999999998333333 precision:  0.010398613518179552 fpr:  0.9982517482500031\n",
      "recall:  0.9999999998333333 precision:  0.010398613518179552 fpr:  0.9982517482500031\n",
      "recall:  0.9999999998333333 precision:  0.010434782608677504 fpr:  0.9947552447535057\n",
      "recall:  0.9999999998333333 precision:  0.010434782608677504 fpr:  0.9947552447535057\n",
      "recall:  0.9999999998333333 precision:  0.010489510489492152 fpr:  0.9895104895087596\n",
      "recall:  0.9999999998333333 precision:  0.01050788091066461 fpr:  0.987762237760511\n",
      "recall:  0.9999999998333333 precision:  0.010563380281671543 fpr:  0.9825174825157649\n",
      "recall:  0.9999999998333333 precision:  0.010676156583610897 fpr:  0.9720279720262727\n",
      "recall:  0.9999999998333333 precision:  0.010791366906455411 fpr:  0.9615384615367806\n",
      "recall:  0.9999999998333333 precision:  0.010869565217371613 fpr:  0.9545454545437858\n",
      "recall:  0.9999999998333333 precision:  0.010928961748613974 fpr:  0.9493006992990397\n",
      "recall:  0.9999999998333333 precision:  0.011070110701086587 fpr:  0.9370629370612988\n",
      "recall:  0.9999999998333333 precision:  0.011090573012918502 fpr:  0.9353146853130502\n",
      "recall:  0.9999999998333333 precision:  0.011235955056158735 fpr:  0.9230769230753093\n",
      "recall:  0.9999999998333333 precision:  0.011538461538439349 fpr:  0.8986013985998277\n",
      "recall:  0.9999999998333333 precision:  0.011718749999977112 fpr:  0.8846153846138382\n",
      "recall:  0.9999999998333333 precision:  0.011904761904738284 fpr:  0.8706293706278486\n",
      "recall:  0.9999999998333333 precision:  0.012499999999973959 fpr:  0.8286713286698799\n",
      "recall:  0.9999999998333333 precision:  0.012958963282909377 fpr:  0.7989510489496522\n",
      "recall:  0.9999999998333333 precision:  0.013761467889876694 fpr:  0.7517482517469375\n",
      "recall:  0.9999999998333333 precision:  0.0149999999999625 fpr:  0.6888111888099846\n",
      "recall:  0.9999999998333333 precision:  0.01630434782604265 fpr:  0.6328671328660265\n",
      "recall:  0.9999999998333333 precision:  0.01764705882347751 fpr:  0.5839160839150631\n",
      "recall:  0.9999999998333333 precision:  0.02006688963203991 fpr:  0.5122377622368667\n",
      "recall:  0.9999999998333333 precision:  0.02371541501966911 fpr:  0.43181818181742687\n",
      "recall:  0.9999999998333333 precision:  0.02654867256625421 fpr:  0.38461538461471223\n",
      "recall:  0.9999999998333333 precision:  0.03389830508455425 fpr:  0.2989510489505263\n",
      "recall:  0.9999999998333333 precision:  0.04379562043763653 fpr:  0.22902097902057864\n",
      "recall:  0.8571428570204082 precision:  0.053097345132273474 fpr:  0.1873905429068522\n",
      "recall:  0.74999999990625 precision:  0.07228915662563506 fpr:  0.1350877192980086\n",
      "recall:  0.74999999990625 precision:  0.10526315789289013 fpr:  0.08947368421036934\n",
      "recall:  0.74999999990625 precision:  0.1935483870905307 fpr:  0.04385964912273007\n",
      "recall:  0.624999999921875 precision:  0.26315789472299167 fpr:  0.02456140350872884\n",
      "recall:  0.45454545450413225 precision:  0.3846153845857988 fpr:  0.014109347442655892\n",
      "recall:  0.2666666666488889 precision:  0.5714285713469388 fpr:  0.005328596802832454\n",
      "recall:  0.06249999999609375 precision:  0.49999999975 fpr:  0.001779359430601816\n",
      "recall:  0.06249999999609375 precision:  0.49999999975 fpr:  0.001779359430601816\n",
      "recall:  0.0588235294083045 precision:  0.9999999989999999 fpr:  0.0\n",
      "recall:  0.0 precision:  0.0 fpr:  0.0\n",
      "recall:  0.0 precision:  0.0 fpr:  0.0\n",
      "recall:  0.0 precision:  0.0 fpr:  0.0\n",
      "recall:  0.0 precision:  0.0 fpr:  0.0\n",
      "recall:  0.0 precision:  0.0 fpr:  0.0\n",
      "recall:  0.0 precision:  0.0 fpr:  0.0\n",
      "recall:  0.0 precision:  0.0 fpr:  0.0\n",
      "recall:  0.0 precision:  0.0 fpr:  0.0\n"
     ]
    },
    {
     "data": {
      "image/png": "[encoded data removed]",
      "text/plain": [
       "<Figure size 800x600 with 1 Axes>"
      ]
     },
     "metadata": {},
     "output_type": "display_data"
    },
    {
     "data": {
      "image/png": "[encoded data removed]",
      "text/plain": [
       "<Figure size 800x600 with 1 Axes>"
      ]
     },
     "metadata": {},
     "output_type": "display_data"
    },
    {
     "name": "stdout",
     "output_type": "stream",
     "text": [
      "Low Level Goals AUC: 0.9428537166437039\n"
     ]
    }
   ],
   "source": [
    "# List of low-level goals \n",
    "generated_low_level_goals = [goal.description for goal in lowLevelGoals.low_level_goals]\n",
    "\n",
    "manual_low_level_goals = [\n",
    "    # Provide a comprehensive one-stop resource for genetic variant annotation\n",
    "    \"Retrieve genetic variant data from multiple databases (e.g., dbSNP, ClinVar, COSMIC)\",\n",
    "    \"Search and retrieve variant annotations from a user interface\",\n",
    "    \"Annotate variants with clinical significance, mutation types, and related diseases\",\n",
    "    \"Map genetic data to genome assemblies (e.g., GRCh38, hg19)\",\n",
    "    \"Update variant information regularly from authoritative sources\",\n",
    "    \n",
    "    # Enable fast and automated interpretation of cancer-related genetic variants\n",
    "    \"Analyze cancer-related mutations using automated tools\",\n",
    "    \"Integrate gene expression data for cancer variant interpretation\",\n",
    "    \"Identify cancer-related mutations linked to specific pathways\",\n",
    "    \"Interpret large-scale cancer mutation datasets automatically\",\n",
    "    \"Classify cancer mutations based on clinical relevance\",\n",
    "    \n",
    "    # Support high-throughput analysis of genetic mutations\n",
    "    \"Process large genomic datasets in parallel\",\n",
    "    \"Extract and transform mutation data from high-throughput sequencing formats (e.g., VCF, BAM)\",\n",
    "    \"Perform mutation quality control and filtering\",\n",
    "    \n",
    "    # Integrate data from multiple genomic databases\n",
    "    \"Fetch and harmonize data from various genomic databases\",\n",
    "    \"Query integrated genomic databases for relevant mutation information\",\n",
    "    \"Integrate multiple data sources with compatible formats for easy retrieval\",\n",
    "    \n",
    "    # Convert DNA changes to corresponding protein changes\n",
    "    \"Map genetic mutations to corresponding protein-coding effects\",\n",
    "    \"Convert mutations to amino acid changes for protein function analysis\",\n",
    "    \"Predict the impact of mutations on protein structure using bioinformatics tools\",\n",
    "    \n",
    "    # Predict the functional impact of protein mutations\n",
    "    \"Use prediction tools (e.g., PolyPhen, SIFT) to estimate mutation effects on protein function\",\n",
    "    \"Build and apply machine learning models for functional impact prediction\",\n",
    "    \"Rank mutations based on predicted severity of functional impact\",\n",
    "    \n",
    "    # Provide information on mutation frequencies across datasets\n",
    "    \"Calculate mutation frequencies across various population groups\",\n",
    "    \"Generate visual representations of mutation frequencies (e.g., histograms, pie charts)\",\n",
    "    \"Provide mutation frequency data for specific diseases or conditions\",\n",
    "    \n",
    "    # Offer insights into gene function and biological relevance\n",
    "    \"Retrieve gene function annotations from public databases like Gene Ontology (GO)\",\n",
    "    \"Identify pathways and biological processes related to the mutated gene\",\n",
    "    \"Link genetic variants to specific diseases or phenotypes based on annotations\",\n",
    "    \n",
    "    # Detail the effects of genetic variants on protein function\n",
    "    \"Predict the effects of mutations on protein folding and stability\",\n",
    "    \"Identify how mutations alter protein activity or structure\",\n",
    "    \"Evaluate the impact of mutations on protein-protein interactions\",\n",
    "    \n",
    "    # Highlight the clinical actionability of specific mutations\n",
    "    \"Link genetic mutations to clinical guidelines or treatment protocols\",\n",
    "    \"Identify mutations with known clinical drug responses or therapeutic implications\",\n",
    "    \"Provide actionable insights on mutations based on current clinical research\"\n",
    "]\n",
    "\n",
    "evaluator_low_level = GoalEvaluator(preprocess = False)\n",
    "\n",
    "auc_roc, auc_prec_rec = evaluator_low_level.print_roc_prec_rec_curve(generated_low_level_goals, manual_low_level_goals)\n",
    "print(\"Low Level Goals ROC AUC:\", auc_roc)\n",
    "print(\"Low Level Goals PREC REC AUC:\", auc_prec_rec)"
   ]
  },
  {
   "cell_type": "code",
   "execution_count": null,
   "metadata": {},
   "outputs": [
    {
     "name": "stdout",
     "output_type": "stream",
     "text": [
      "recall:  0.9999999995 precision:  0.16666666665277777 fpr:  0.9999999999\n",
      "recall:  0.9999999995 precision:  0.16666666665277777 fpr:  0.9999999999\n",
      "recall:  0.9999999995 precision:  0.16666666665277777 fpr:  0.9999999999\n",
      "recall:  0.9999999995 precision:  0.16666666665277777 fpr:  0.9999999999\n",
      "recall:  0.9999999995 precision:  0.16666666665277777 fpr:  0.9999999999\n",
      "recall:  0.9999999995 precision:  0.16666666665277777 fpr:  0.9999999999\n",
      "recall:  0.9999999995 precision:  0.16666666665277777 fpr:  0.9999999999\n",
      "recall:  0.9999999995 precision:  0.16666666665277777 fpr:  0.9999999999\n",
      "recall:  0.9999999995 precision:  0.16666666665277777 fpr:  0.9999999999\n",
      "recall:  0.9999999995 precision:  0.16666666665277777 fpr:  0.9999999999\n",
      "recall:  0.9999999995 precision:  0.16666666665277777 fpr:  0.9999999999\n",
      "recall:  0.9999999995 precision:  0.16666666665277777 fpr:  0.9999999999\n",
      "recall:  0.9999999995 precision:  0.16666666665277777 fpr:  0.9999999999\n",
      "recall:  0.9999999995 precision:  0.16666666665277777 fpr:  0.9999999999\n",
      "recall:  0.9999999995 precision:  0.16666666665277777 fpr:  0.9999999999\n",
      "recall:  0.9999999995 precision:  0.16666666665277777 fpr:  0.9999999999\n",
      "recall:  0.9999999995 precision:  0.16666666665277777 fpr:  0.9999999999\n",
      "recall:  0.9999999995 precision:  0.16666666665277777 fpr:  0.9999999999\n",
      "recall:  0.9999999995 precision:  0.16666666665277777 fpr:  0.9999999999\n",
      "recall:  0.9999999995 precision:  0.16666666665277777 fpr:  0.9999999999\n",
      "recall:  0.9999999995 precision:  0.16666666665277777 fpr:  0.9999999999\n",
      "recall:  0.9999999995 precision:  0.16666666665277777 fpr:  0.9999999999\n",
      "recall:  0.9999999995 precision:  0.16666666665277777 fpr:  0.9999999999\n",
      "recall:  0.9999999995 precision:  0.16666666665277777 fpr:  0.9999999999\n",
      "recall:  0.9999999995 precision:  0.16666666665277777 fpr:  0.9999999999\n",
      "recall:  0.9999999995 precision:  0.16666666665277777 fpr:  0.9999999999\n",
      "recall:  0.9999999995 precision:  0.16666666665277777 fpr:  0.9999999999\n",
      "recall:  0.9999999995 precision:  0.16666666665277777 fpr:  0.9999999999\n",
      "recall:  0.9999999995 precision:  0.16666666665277777 fpr:  0.9999999999\n",
      "recall:  0.9999999995 precision:  0.16666666665277777 fpr:  0.9999999999\n",
      "recall:  0.9999999995 precision:  0.16666666665277777 fpr:  0.9999999999\n",
      "recall:  0.9999999995 precision:  0.16666666665277777 fpr:  0.9999999999\n",
      "recall:  0.9999999995 precision:  0.16666666665277777 fpr:  0.9999999999\n",
      "recall:  0.9999999995 precision:  0.16666666665277777 fpr:  0.9999999999\n",
      "recall:  0.9999999995 precision:  0.16666666665277777 fpr:  0.9999999999\n",
      "recall:  0.9999999995 precision:  0.16666666665277777 fpr:  0.9999999999\n",
      "recall:  0.9999999995 precision:  0.16666666665277777 fpr:  0.9999999999\n",
      "recall:  0.9999999995 precision:  0.16666666665277777 fpr:  0.9999999999\n",
      "recall:  0.9999999995 precision:  0.16666666665277777 fpr:  0.9999999999\n",
      "recall:  0.9999999995 precision:  0.16666666665277777 fpr:  0.9999999999\n",
      "recall:  0.9999999995 precision:  0.16666666665277777 fpr:  0.9999999999\n",
      "recall:  0.9999999995 precision:  0.16666666665277777 fpr:  0.9999999999\n",
      "recall:  0.9999999995 precision:  0.16666666665277777 fpr:  0.9999999999\n",
      "recall:  0.9999999995 precision:  0.16666666665277777 fpr:  0.9999999999\n",
      "recall:  0.9999999995 precision:  0.16666666665277777 fpr:  0.9999999999\n",
      "recall:  0.9999999995 precision:  0.16666666665277777 fpr:  0.9999999999\n",
      "recall:  0.9999999995 precision:  0.16666666665277777 fpr:  0.9999999999\n",
      "recall:  0.9999999995 precision:  0.16666666665277777 fpr:  0.9999999999\n",
      "recall:  0.9999999995 precision:  0.16666666665277777 fpr:  0.9999999999\n",
      "recall:  0.9999999995 precision:  0.16666666665277777 fpr:  0.9999999999\n",
      "recall:  0.9999999995 precision:  0.16666666665277777 fpr:  0.9999999999\n",
      "recall:  0.9999999995 precision:  0.16666666665277777 fpr:  0.9999999999\n",
      "recall:  0.9999999995 precision:  0.16666666665277777 fpr:  0.9999999999\n",
      "recall:  0.9999999995 precision:  0.16666666665277777 fpr:  0.9999999999\n",
      "recall:  0.9999999995 precision:  0.16666666665277777 fpr:  0.9999999999\n",
      "recall:  0.9999999995 precision:  0.16666666665277777 fpr:  0.9999999999\n",
      "recall:  0.9999999995 precision:  0.18181818180165288 fpr:  0.89999999991\n",
      "recall:  0.9999999995 precision:  0.18181818180165288 fpr:  0.89999999991\n",
      "recall:  0.9999999995 precision:  0.18181818180165288 fpr:  0.89999999991\n",
      "recall:  0.9999999995 precision:  0.18181818180165288 fpr:  0.89999999991\n",
      "recall:  0.9999999995 precision:  0.18181818180165288 fpr:  0.89999999991\n",
      "recall:  0.9999999995 precision:  0.18181818180165288 fpr:  0.89999999991\n",
      "recall:  0.9999999995 precision:  0.22222222219753085 fpr:  0.69999999993\n",
      "recall:  0.9999999995 precision:  0.22222222219753085 fpr:  0.69999999993\n",
      "recall:  0.9999999995 precision:  0.24999999996875 fpr:  0.59999999994\n",
      "recall:  0.9999999995 precision:  0.2857142856734694 fpr:  0.49999999995\n",
      "recall:  0.9999999995 precision:  0.2857142856734694 fpr:  0.49999999995\n",
      "recall:  0.9999999995 precision:  0.2857142856734694 fpr:  0.49999999995\n",
      "recall:  0.9999999995 precision:  0.33333333327777775 fpr:  0.39999999996\n",
      "recall:  0.9999999995 precision:  0.33333333327777775 fpr:  0.39999999996\n",
      "recall:  0.9999999995 precision:  0.33333333327777775 fpr:  0.39999999996\n",
      "recall:  0.9999999995 precision:  0.499999999875 fpr:  0.19999999998\n",
      "recall:  0.9999999995 precision:  0.499999999875 fpr:  0.19999999998\n",
      "recall:  0.9999999995 precision:  0.499999999875 fpr:  0.19999999998\n",
      "recall:  0.9999999995 precision:  0.499999999875 fpr:  0.19999999998\n",
      "recall:  0.9999999995 precision:  0.499999999875 fpr:  0.19999999998\n",
      "recall:  0.49999999975 precision:  0.49999999975 fpr:  0.09999999999\n",
      "recall:  0.49999999975 precision:  0.9999999989999999 fpr:  0.0\n",
      "recall:  0.49999999975 precision:  0.9999999989999999 fpr:  0.0\n",
      "recall:  0.49999999975 precision:  0.9999999989999999 fpr:  0.0\n",
      "recall:  0.0 precision:  0.0 fpr:  0.0\n",
      "recall:  0.0 precision:  0.0 fpr:  0.0\n",
      "recall:  0.0 precision:  0.0 fpr:  0.0\n",
      "recall:  0.0 precision:  0.0 fpr:  0.0\n",
      "recall:  0.0 precision:  0.0 fpr:  0.0\n",
      "recall:  0.0 precision:  0.0 fpr:  0.0\n",
      "recall:  0.0 precision:  0.0 fpr:  0.0\n",
      "recall:  0.0 precision:  0.0 fpr:  0.0\n",
      "recall:  0.0 precision:  0.0 fpr:  0.0\n",
      "recall:  0.0 precision:  0.0 fpr:  0.0\n",
      "recall:  0.0 precision:  0.0 fpr:  0.0\n",
      "recall:  0.0 precision:  0.0 fpr:  0.0\n",
      "recall:  0.0 precision:  0.0 fpr:  0.0\n",
      "recall:  0.0 precision:  0.0 fpr:  0.0\n",
      "recall:  0.0 precision:  0.0 fpr:  0.0\n",
      "recall:  0.0 precision:  0.0 fpr:  0.0\n",
      "recall:  0.0 precision:  0.0 fpr:  0.0\n",
      "recall:  0.0 precision:  0.0 fpr:  0.0\n",
      "recall:  0.0 precision:  0.0 fpr:  0.0\n"
     ]
    },
    {
     "data": {
      "image/png": "[encoded data removed]",
      "text/plain": [
       "<Figure size 800x600 with 1 Axes>"
      ]
     },
     "metadata": {},
     "output_type": "display_data"
    },
    {
     "data": {
      "image/png": "[encoded data removed]",
      "text/plain": [
       "<Figure size 800x600 with 1 Axes>"
      ]
     },
     "metadata": {},
     "output_type": "display_data"
    },
    {
     "name": "stdout",
     "output_type": "stream",
     "text": [
      "Actors AUC: 0.924999999445\n"
     ]
    }
   ],
   "source": [
    "# List of actors\n",
    "generated_actors = [actor.name for actor in actors.actors]\n",
    "manual_actors = [\n",
    "    \"Researchers\", \"Clinicians\", \"biologists\", \"Database Administrators\", \"Bioinformaticians\", \"Geneticists\"\n",
    "]\n",
    "\n",
    "evaluator = GoalEvaluator(preprocess = False)\n",
    "\n",
    "auc_roc, auc_prec_rec = evaluator.print_roc_prec_rec_curve(generated_actors, manual_actors)\n",
    "print(\"Actors ROC AUC:\", auc_roc)\n",
    "print(\"Actors PREC REC AUC:\", auc_prec_rec)"
   ]
  }
 ],
 "metadata": {
  "accelerator": "GPU",
  "colab": {
   "gpuType": "T4",
   "provenance": []
  },
  "kernelspec": {
   "display_name": ".venv",
   "language": "python",
   "name": "python3"
  },
  "language_info": {
   "codemirror_mode": {
    "name": "ipython",
    "version": 3
   },
   "file_extension": ".py",
   "mimetype": "text/x-python",
   "name": "python",
   "nbconvert_exporter": "python",
   "pygments_lexer": "ipython3",
   "version": "3.12.9"
  },
  "widgets": {
   "application/vnd.jupyter.widget-state+json": {
    "0adcbace0f6946568311b8010d5c7fc3": {
     "model_module": "@jupyter-widgets/base",
     "model_module_version": "1.2.0",
     "model_name": "LayoutModel",
     "state": {
      "_model_module": "@jupyter-widgets/base",
      "_model_module_version": "1.2.0",
      "_model_name": "LayoutModel",
      "_view_count": null,
      "_view_module": "@jupyter-widgets/base",
      "_view_module_version": "1.2.0",
      "_view_name": "LayoutView",
      "align_content": null,
      "align_items": null,
      "align_self": null,
      "border": null,
      "bottom": null,
      "display": null,
      "flex": null,
      "flex_flow": null,
      "grid_area": null,
      "grid_auto_columns": null,
      "grid_auto_flow": null,
      "grid_auto_rows": null,
      "grid_column": null,
      "grid_gap": null,
      "grid_row": null,
      "grid_template_areas": null,
      "grid_template_columns": null,
      "grid_template_rows": null,
      "height": null,
      "justify_content": null,
      "justify_items": null,
      "left": null,
      "margin": null,
      "max_height": null,
      "max_width": null,
      "min_height": null,
      "min_width": null,
      "object_fit": null,
      "object_position": null,
      "order": null,
      "overflow": null,
      "overflow_x": null,
      "overflow_y": null,
      "padding": null,
      "right": null,
      "top": null,
      "visibility": null,
      "width": null
     }
    },
    "14d5cc69e04e4fe588144913d220e57f": {
     "model_module": "@jupyter-widgets/controls",
     "model_module_version": "1.5.0",
     "model_name": "DescriptionStyleModel",
     "state": {
      "_model_module": "@jupyter-widgets/controls",
      "_model_module_version": "1.5.0",
      "_model_name": "DescriptionStyleModel",
      "_view_count": null,
      "_view_module": "@jupyter-widgets/base",
      "_view_module_version": "1.2.0",
      "_view_name": "StyleView",
      "description_width": ""
     }
    },
    "2b52835f91344aa396de748f5a68e40e": {
     "model_module": "@jupyter-widgets/controls",
     "model_module_version": "1.5.0",
     "model_name": "DescriptionStyleModel",
     "state": {
      "_model_module": "@jupyter-widgets/controls",
      "_model_module_version": "1.5.0",
      "_model_name": "DescriptionStyleModel",
      "_view_count": null,
      "_view_module": "@jupyter-widgets/base",
      "_view_module_version": "1.2.0",
      "_view_name": "StyleView",
      "description_width": ""
     }
    },
    "2c93510709bd46c889be8a8872af280e": {
     "model_module": "@jupyter-widgets/base",
     "model_module_version": "1.2.0",
     "model_name": "LayoutModel",
     "state": {
      "_model_module": "@jupyter-widgets/base",
      "_model_module_version": "1.2.0",
      "_model_name": "LayoutModel",
      "_view_count": null,
      "_view_module": "@jupyter-widgets/base",
      "_view_module_version": "1.2.0",
      "_view_name": "LayoutView",
      "align_content": null,
      "align_items": null,
      "align_self": null,
      "border": null,
      "bottom": null,
      "display": null,
      "flex": null,
      "flex_flow": null,
      "grid_area": null,
      "grid_auto_columns": null,
      "grid_auto_flow": null,
      "grid_auto_rows": null,
      "grid_column": null,
      "grid_gap": null,
      "grid_row": null,
      "grid_template_areas": null,
      "grid_template_columns": null,
      "grid_template_rows": null,
      "height": null,
      "justify_content": null,
      "justify_items": null,
      "left": null,
      "margin": null,
      "max_height": null,
      "max_width": null,
      "min_height": null,
      "min_width": null,
      "object_fit": null,
      "object_position": null,
      "order": null,
      "overflow": null,
      "overflow_x": null,
      "overflow_y": null,
      "padding": null,
      "right": null,
      "top": null,
      "visibility": null,
      "width": null
     }
    },
    "4d7aec60591343bab6a920285a64112f": {
     "model_module": "@jupyter-widgets/base",
     "model_module_version": "1.2.0",
     "model_name": "LayoutModel",
     "state": {
      "_model_module": "@jupyter-widgets/base",
      "_model_module_version": "1.2.0",
      "_model_name": "LayoutModel",
      "_view_count": null,
      "_view_module": "@jupyter-widgets/base",
      "_view_module_version": "1.2.0",
      "_view_name": "LayoutView",
      "align_content": null,
      "align_items": null,
      "align_self": null,
      "border": null,
      "bottom": null,
      "display": null,
      "flex": null,
      "flex_flow": null,
      "grid_area": null,
      "grid_auto_columns": null,
      "grid_auto_flow": null,
      "grid_auto_rows": null,
      "grid_column": null,
      "grid_gap": null,
      "grid_row": null,
      "grid_template_areas": null,
      "grid_template_columns": null,
      "grid_template_rows": null,
      "height": null,
      "justify_content": null,
      "justify_items": null,
      "left": null,
      "margin": null,
      "max_height": null,
      "max_width": null,
      "min_height": null,
      "min_width": null,
      "object_fit": null,
      "object_position": null,
      "order": null,
      "overflow": null,
      "overflow_x": null,
      "overflow_y": null,
      "padding": null,
      "right": null,
      "top": null,
      "visibility": null,
      "width": null
     }
    },
    "5ffc14edebc2432f9b95e774167ed333": {
     "model_module": "@jupyter-widgets/base",
     "model_module_version": "1.2.0",
     "model_name": "LayoutModel",
     "state": {
      "_model_module": "@jupyter-widgets/base",
      "_model_module_version": "1.2.0",
      "_model_name": "LayoutModel",
      "_view_count": null,
      "_view_module": "@jupyter-widgets/base",
      "_view_module_version": "1.2.0",
      "_view_name": "LayoutView",
      "align_content": null,
      "align_items": null,
      "align_self": null,
      "border": null,
      "bottom": null,
      "display": null,
      "flex": null,
      "flex_flow": null,
      "grid_area": null,
      "grid_auto_columns": null,
      "grid_auto_flow": null,
      "grid_auto_rows": null,
      "grid_column": null,
      "grid_gap": null,
      "grid_row": null,
      "grid_template_areas": null,
      "grid_template_columns": null,
      "grid_template_rows": null,
      "height": null,
      "justify_content": null,
      "justify_items": null,
      "left": null,
      "margin": null,
      "max_height": null,
      "max_width": null,
      "min_height": null,
      "min_width": null,
      "object_fit": null,
      "object_position": null,
      "order": null,
      "overflow": null,
      "overflow_x": null,
      "overflow_y": null,
      "padding": null,
      "right": null,
      "top": null,
      "visibility": null,
      "width": null
     }
    },
    "6422c15135a24be783734f255088421f": {
     "model_module": "@jupyter-widgets/controls",
     "model_module_version": "1.5.0",
     "model_name": "ProgressStyleModel",
     "state": {
      "_model_module": "@jupyter-widgets/controls",
      "_model_module_version": "1.5.0",
      "_model_name": "ProgressStyleModel",
      "_view_count": null,
      "_view_module": "@jupyter-widgets/base",
      "_view_module_version": "1.2.0",
      "_view_name": "StyleView",
      "bar_color": null,
      "description_width": ""
     }
    },
    "99beab2c378044f9833caf3d6b6f3d4e": {
     "model_module": "@jupyter-widgets/controls",
     "model_module_version": "1.5.0",
     "model_name": "HTMLModel",
     "state": {
      "_dom_classes": [],
      "_model_module": "@jupyter-widgets/controls",
      "_model_module_version": "1.5.0",
      "_model_name": "HTMLModel",
      "_view_count": null,
      "_view_module": "@jupyter-widgets/controls",
      "_view_module_version": "1.5.0",
      "_view_name": "HTMLView",
      "description": "",
      "description_tooltip": null,
      "layout": "IPY_MODEL_0adcbace0f6946568311b8010d5c7fc3",
      "placeholder": "​",
      "style": "IPY_MODEL_2b52835f91344aa396de748f5a68e40e",
      "value": "Loading checkpoint shards: 100%"
     }
    },
    "d3c2cd7f501c4c93ab43730f061273b5": {
     "model_module": "@jupyter-widgets/controls",
     "model_module_version": "1.5.0",
     "model_name": "FloatProgressModel",
     "state": {
      "_dom_classes": [],
      "_model_module": "@jupyter-widgets/controls",
      "_model_module_version": "1.5.0",
      "_model_name": "FloatProgressModel",
      "_view_count": null,
      "_view_module": "@jupyter-widgets/controls",
      "_view_module_version": "1.5.0",
      "_view_name": "ProgressView",
      "bar_style": "success",
      "description": "",
      "description_tooltip": null,
      "layout": "IPY_MODEL_4d7aec60591343bab6a920285a64112f",
      "max": 2,
      "min": 0,
      "orientation": "horizontal",
      "style": "IPY_MODEL_6422c15135a24be783734f255088421f",
      "value": 2
     }
    },
    "f795283dfaad4da2bb0b3fce64f7f8c2": {
     "model_module": "@jupyter-widgets/controls",
     "model_module_version": "1.5.0",
     "model_name": "HTMLModel",
     "state": {
      "_dom_classes": [],
      "_model_module": "@jupyter-widgets/controls",
      "_model_module_version": "1.5.0",
      "_model_name": "HTMLModel",
      "_view_count": null,
      "_view_module": "@jupyter-widgets/controls",
      "_view_module_version": "1.5.0",
      "_view_name": "HTMLView",
      "description": "",
      "description_tooltip": null,
      "layout": "IPY_MODEL_2c93510709bd46c889be8a8872af280e",
      "placeholder": "​",
      "style": "IPY_MODEL_14d5cc69e04e4fe588144913d220e57f",
      "value": " 2/2 [00:02&lt;00:00,  1.38s/it]"
     }
    },
    "fe25ee512c184077be919dcd38d43296": {
     "model_module": "@jupyter-widgets/controls",
     "model_module_version": "1.5.0",
     "model_name": "HBoxModel",
     "state": {
      "_dom_classes": [],
      "_model_module": "@jupyter-widgets/controls",
      "_model_module_version": "1.5.0",
      "_model_name": "HBoxModel",
      "_view_count": null,
      "_view_module": "@jupyter-widgets/controls",
      "_view_module_version": "1.5.0",
      "_view_name": "HBoxView",
      "box_style": "",
      "children": [
       "IPY_MODEL_99beab2c378044f9833caf3d6b6f3d4e",
       "IPY_MODEL_d3c2cd7f501c4c93ab43730f061273b5",
       "IPY_MODEL_f795283dfaad4da2bb0b3fce64f7f8c2"
      ],
      "layout": "IPY_MODEL_5ffc14edebc2432f9b95e774167ed333"
     }
    }
   }
  }
 },
 "nbformat": 4,
 "nbformat_minor": 0
}
