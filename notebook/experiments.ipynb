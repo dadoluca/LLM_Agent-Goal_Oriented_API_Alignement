{
 "cells": [
  {
   "cell_type": "code",
   "execution_count": 1,
   "metadata": {},
   "outputs": [
    {
     "name": "stderr",
     "output_type": "stream",
     "text": [
      "/Users/andreabioddo/Desktop/POLITO/LLM/progetto/LLM_Agent-Goal_Oriented_API_Alignement/.venv/lib/python3.12/site-packages/tqdm/auto.py:21: TqdmWarning: IProgress not found. Please update jupyter and ipywidgets. See https://ipywidgets.readthedocs.io/en/stable/user_install.html\n",
      "  from .autonotebook import tqdm as notebook_tqdm\n",
      "[nltk_data] Downloading package punkt to\n",
      "[nltk_data]     /Users/andreabioddo/nltk_data...\n",
      "[nltk_data]   Package punkt is already up-to-date!\n",
      "[nltk_data] Downloading package punkt_tab to\n",
      "[nltk_data]     /Users/andreabioddo/nltk_data...\n",
      "[nltk_data]   Package punkt_tab is already up-to-date!\n",
      "[nltk_data] Downloading package wordnet to\n",
      "[nltk_data]     /Users/andreabioddo/nltk_data...\n",
      "[nltk_data]   Package wordnet is already up-to-date!\n",
      "[nltk_data] Downloading package omw-1.4 to\n",
      "[nltk_data]     /Users/andreabioddo/nltk_data...\n",
      "[nltk_data]   Package omw-1.4 is already up-to-date!\n"
     ]
    }
   ],
   "source": [
    "import sys\n",
    "import os\n",
    "sys.path.append('../')\n",
    "from src.evaluation.goal_evaluator import GoalEvaluator\n",
    "from src.extraction.extractor import generate_description, generate_actors, generate_high_level_goals, generate_low_level_goals\n",
    "from src.mapping.APIs_mapping import generate_mapping_apis_goals, print_api_goal_mapping\n",
    "from src.self_critique.refine_response import EvalMode, generate_response_with_reflection\n",
    "from src.utils import get_api_list_from_swagger\n",
    "from src.examples.shot_learning import ShotPromptingMode"
   ]
  },
  {
   "cell_type": "markdown",
   "metadata": {},
   "source": [
    "# Experiments"
   ]
  },
  {
   "cell_type": "code",
   "execution_count": 2,
   "metadata": {},
   "outputs": [],
   "source": [
    "SHOTS_NUMBER = ShotPromptingMode.FEW_SHOT\n",
    "PREPROCESSING = True #stemming and lemmization for the evaluation\n",
    "OUPUT_PATH = \"output/\"\n",
    "\n",
    "os.makedirs(OUPUT_PATH, exist_ok=True)"
   ]
  },
  {
   "cell_type": "markdown",
   "metadata": {},
   "source": [
    "#### Choose the project among the available ones"
   ]
  },
  {
   "cell_type": "code",
   "execution_count": 3,
   "metadata": {},
   "outputs": [],
   "source": [
    "from groundtruth import GENOME, GESTAO_HOSPITAL\n",
    "GROUNDTRUTH = GESTAO_HOSPITAL\n"
   ]
  },
  {
   "cell_type": "markdown",
   "metadata": {},
   "source": [
    "### Description Generation"
   ]
  },
  {
   "cell_type": "code",
   "execution_count": 4,
   "metadata": {},
   "outputs": [
    {
     "name": "stdout",
     "output_type": "stream",
     "text": [
      "Description STARTING...\n",
      "Description DONE...\n",
      "description='The project \"GestaoHospital\" is a hospital management system designed to create an API that organizes a public health system, specifically the Sistema Único de Saúde (SUS) in Brazil. The primary purpose of this system is to improve the efficiency of hospitals by facilitating better management of resources and patient care. \\n\\nIt aims to provide functionalities for registering hospitals, indicating the nearest facilities based on patient location, managing patient check-ins and check-outs, and overseeing bed availability. Additionally, users can manage the inventory of hospital products and maintain blood bank stocks, ensuring that healthcare facilities can respond effectively to the needs of the patients while preventing waste and optimizing resources.'\n"
     ]
    }
   ],
   "source": [
    "print(\"Description STARTING...\")\n",
    "description = generate_description(GROUNDTRUTH[\"link-readme\"])\n",
    "print(\"Description DONE...\")\n",
    "print(description)"
   ]
  },
  {
   "cell_type": "markdown",
   "metadata": {},
   "source": [
    "### Actors Extraction"
   ]
  },
  {
   "cell_type": "code",
   "execution_count": 5,
   "metadata": {},
   "outputs": [
    {
     "name": "stdout",
     "output_type": "stream",
     "text": [
      "Actors STARTING... (attempt 1)\n",
      "No feedback provided!\n",
      "Actors DONE...\n",
      "actors=[Actor(name='Hospital Administrators', description='Individuals responsible for managing hospital operations and resources.'), Actor(name='Healthcare Staff', description='Doctors, nurses, and other staff who manage patient care and check-ins/outs.'), Actor(name='Patients', description='Individuals receiving healthcare services in the hospital.'), Actor(name='Inventory Managers', description='Personnel overseeing the management of hospital products and blood bank stocks.')]\n",
      "Evaluation for Actors STARTING...\n",
      "Evaluation for Actors DONE...\n",
      "Score: 8\n",
      "Critique: The actors defined seem to cover the main roles involved in the hospital management system, but the description could be improved by considering additional actors such as 'System Administrators' who may be responsible for maintaining the API and overall system, or 'External Users' who may be using the system to find nearest hospitals or access other public information. The current actors focus primarily on internal hospital operations.\n",
      "Satisfactory score achieved! Breaking out of the loop.\n"
     ]
    }
   ],
   "source": [
    "actors, actors_score, actors_critique = generate_response_with_reflection(\n",
    "    \"Actors\",\n",
    "    generate_actors,\n",
    "    define_args=description,\n",
    "    eval_mode=EvalMode.ACTORS,\n",
    "    eval_args=description,\n",
    "    shotPromptingMode=SHOTS_NUMBER,\n",
    "    max_attempts=3\n",
    ")"
   ]
  },
  {
   "cell_type": "markdown",
   "metadata": {},
   "source": [
    "### High Level Goals Extraction"
   ]
  },
  {
   "cell_type": "code",
   "execution_count": null,
   "metadata": {},
   "outputs": [],
   "source": [
    "highLevelGoals, HL_score, HL_critique = generate_response_with_reflection(\n",
    "    \"High Level Goals\",\n",
    "    generate_high_level_goals,\n",
    "    define_args=(description, actors),\n",
    "    eval_mode=EvalMode.HIGH_LEVEL,\n",
    "    shotPromptingMode=SHOTS_NUMBER,\n",
    "    eval_args=(description, actors)\n",
    ")"
   ]
  },
  {
   "cell_type": "markdown",
   "metadata": {},
   "source": [
    "### Low Level Goals Extraction"
   ]
  },
  {
   "cell_type": "code",
   "execution_count": null,
   "metadata": {},
   "outputs": [],
   "source": [
    "lowLevelGoals, LL_score, LL_critique = generate_response_with_reflection(\n",
    "    \"Low Level Goals\",\n",
    "    generate_low_level_goals,\n",
    "    define_args=(highLevelGoals),\n",
    "    eval_mode=EvalMode.LOW_LEVEL,\n",
    "    shotPromptingMode=SHOTS_NUMBER,\n",
    "    eval_args=(description, actors, highLevelGoals)\n",
    ")"
   ]
  },
  {
   "cell_type": "markdown",
   "metadata": {},
   "source": [
    "### APIs Extraction from Swagger"
   ]
  },
  {
   "cell_type": "code",
   "execution_count": null,
   "metadata": {},
   "outputs": [],
   "source": [
    "print(\"API List STARTING...\")\n",
    "apiList = get_api_list_from_swagger(link=GROUNDTRUTH[\"swagger\"])\n",
    "print(\"API List DONE...\")\n",
    "print(apiList)"
   ]
  },
  {
   "cell_type": "markdown",
   "metadata": {},
   "source": [
    "### APIs Mapping to Low Level Goals"
   ]
  },
  {
   "cell_type": "code",
   "execution_count": null,
   "metadata": {},
   "outputs": [],
   "source": [
    "print(\"Mapping STARTING...\")\n",
    "mappings = generate_mapping_apis_goals(lowLevelGoals, apiList)\n",
    "print(\"Mapping DONE\")"
   ]
  },
  {
   "cell_type": "code",
   "execution_count": null,
   "metadata": {},
   "outputs": [],
   "source": [
    "print(mappings[0].low_level_goal.high_level_associated.name)"
   ]
  },
  {
   "cell_type": "markdown",
   "metadata": {},
   "source": [
    "### Mapping Table"
   ]
  },
  {
   "cell_type": "code",
   "execution_count": null,
   "metadata": {},
   "outputs": [],
   "source": [
    "import json\n",
    "\n",
    "print_api_goal_mapping(mappings)\n",
    "with open(f\"{OUPUT_PATH}/final_mapping_{SHOTS_NUMBER}.txt\", \"w\") as f:\n",
    "    f.write(json.dumps(mappings, default=lambda o: o.__dict__, indent=4))"
   ]
  },
  {
   "cell_type": "markdown",
   "metadata": {},
   "source": [
    "# Evaluation"
   ]
  },
  {
   "cell_type": "markdown",
   "metadata": {},
   "source": [
    "### Evaluation: Extracted High Level Goals "
   ]
  },
  {
   "cell_type": "code",
   "execution_count": null,
   "metadata": {},
   "outputs": [],
   "source": [
    "# List of high-level goals \n",
    "generated_goals = [goal.description for goal in highLevelGoals.goals]\n",
    "manual_goals = GROUNDTRUTH[\"highLevelGoals\"]\n",
    "\n",
    "evaluator = GoalEvaluator(preprocess = PREPROCESSING)\n",
    "\n",
    "auc_roc, auc_prec_rec, summary, best_f1 = evaluator.print_roc_prec_rec_curve(generated_goals, manual_goals, output_file=f\"{OUPUT_PATH}/hl_{SHOTS_NUMBER}.txt\", save_to_file=True)\n",
    "print(\"High Level ROC AUC:\", auc_roc)\n",
    "print(\"High Level Precision Recall Curve AUC:\", auc_prec_rec)\n",
    "print(f\"Best F1 Score: {best_f1}\")\n"
   ]
  },
  {
   "cell_type": "markdown",
   "metadata": {},
   "source": [
    "### Evaluation: Extracted Low Level Goals "
   ]
  },
  {
   "cell_type": "code",
   "execution_count": null,
   "metadata": {},
   "outputs": [],
   "source": [
    "# List of low-level goals \n",
    "generated_low_level_goals = [goal.description for goal in lowLevelGoals.low_level_goals]\n",
    "\n",
    "manual_low_level_goals = GROUNDTRUTH[\"lowLevelGoals\"]\n",
    "\n",
    "evaluator_low_level = GoalEvaluator(preprocess = PREPROCESSING)\n",
    "\n",
    "auc_roc, auc_prec_rec, summary, best_f1 = evaluator_low_level.print_roc_prec_rec_curve(generated_low_level_goals, manual_low_level_goals, output_file=f\"{OUPUT_PATH}/ll_{SHOTS_NUMBER}.txt\", save_to_file=True)\n",
    "print(\"Low Level Goals ROC AUC:\", auc_roc)\n",
    "print(\"Low Level Goals Precision Recall Curve AUC:\", auc_prec_rec)\n",
    "print(f\"Best F1 Score: {best_f1}\")"
   ]
  },
  {
   "cell_type": "markdown",
   "metadata": {},
   "source": [
    "### Evaluation: Extracted Actors "
   ]
  },
  {
   "cell_type": "code",
   "execution_count": 6,
   "metadata": {},
   "outputs": [
    {
     "data": {
      "image/png": "[encoded data removed]",
      "text/plain": [
       "<Figure size 800x600 with 1 Axes>"
      ]
     },
     "metadata": {},
     "output_type": "display_data"
    },
    {
     "data": {
      "image/png": "[encoded data removed]",
      "text/plain": [
       "<Figure size 800x600 with 1 Axes>"
      ]
     },
     "metadata": {},
     "output_type": "display_data"
    },
    {
     "name": "stdout",
     "output_type": "stream",
     "text": [
      "Actors ROC AUC: 0.9903846149807074\n",
      "Actors Precision Recall Curve AUC: 0.46874999964062497\n",
      "Best F1 Score: th: 0.6900000000000001, preciion: 0.7499999998125, recall: 0.9999999996666666, fpr: 0.07692307691715976, f1_score: 0.8571428564081632\n"
     ]
    }
   ],
   "source": [
    "# List of actors\n",
    "generated_actors = [actor.name for actor in actors.actors]\n",
    "manual_actors = GROUNDTRUTH[\"actors\"]\n",
    "\n",
    "evaluator = GoalEvaluator(preprocess = PREPROCESSING)\n",
    "\n",
    "auc_roc, auc_prec_rec, summary, best_f1 = evaluator.print_roc_prec_rec_curve(generated_actors, manual_actors, output_file=f\"{OUPUT_PATH}/actor_{SHOTS_NUMBER}.txt\", save_to_file=True)\n",
    "print(\"Actors ROC AUC:\", auc_roc)\n",
    "print(\"Actors Precision Recall Curve AUC:\", auc_prec_rec)\n",
    "print(f\"Best F1 Score: {best_f1}\")"
   ]
  }
 ],
 "metadata": {
  "accelerator": "GPU",
  "colab": {
   "gpuType": "T4",
   "provenance": []
  },
  "kernelspec": {
   "display_name": ".venv",
   "language": "python",
   "name": "python3"
  },
  "language_info": {
   "codemirror_mode": {
    "name": "ipython",
    "version": 3
   },
   "file_extension": ".py",
   "mimetype": "text/x-python",
   "name": "python",
   "nbconvert_exporter": "python",
   "pygments_lexer": "ipython3",
   "version": "3.12.6"
  },
  "widgets": {
   "application/vnd.jupyter.widget-state+json": {
    "0adcbace0f6946568311b8010d5c7fc3": {
     "model_module": "@jupyter-widgets/base",
     "model_module_version": "1.2.0",
     "model_name": "LayoutModel",
     "state": {
      "_model_module": "@jupyter-widgets/base",
      "_model_module_version": "1.2.0",
      "_model_name": "LayoutModel",
      "_view_count": null,
      "_view_module": "@jupyter-widgets/base",
      "_view_module_version": "1.2.0",
      "_view_name": "LayoutView",
      "align_content": null,
      "align_items": null,
      "align_self": null,
      "border": null,
      "bottom": null,
      "display": null,
      "flex": null,
      "flex_flow": null,
      "grid_area": null,
      "grid_auto_columns": null,
      "grid_auto_flow": null,
      "grid_auto_rows": null,
      "grid_column": null,
      "grid_gap": null,
      "grid_row": null,
      "grid_template_areas": null,
      "grid_template_columns": null,
      "grid_template_rows": null,
      "height": null,
      "justify_content": null,
      "justify_items": null,
      "left": null,
      "margin": null,
      "max_height": null,
      "max_width": null,
      "min_height": null,
      "min_width": null,
      "object_fit": null,
      "object_position": null,
      "order": null,
      "overflow": null,
      "overflow_x": null,
      "overflow_y": null,
      "padding": null,
      "right": null,
      "top": null,
      "visibility": null,
      "width": null
     }
    },
    "14d5cc69e04e4fe588144913d220e57f": {
     "model_module": "@jupyter-widgets/controls",
     "model_module_version": "1.5.0",
     "model_name": "DescriptionStyleModel",
     "state": {
      "_model_module": "@jupyter-widgets/controls",
      "_model_module_version": "1.5.0",
      "_model_name": "DescriptionStyleModel",
      "_view_count": null,
      "_view_module": "@jupyter-widgets/base",
      "_view_module_version": "1.2.0",
      "_view_name": "StyleView",
      "description_width": ""
     }
    },
    "2b52835f91344aa396de748f5a68e40e": {
     "model_module": "@jupyter-widgets/controls",
     "model_module_version": "1.5.0",
     "model_name": "DescriptionStyleModel",
     "state": {
      "_model_module": "@jupyter-widgets/controls",
      "_model_module_version": "1.5.0",
      "_model_name": "DescriptionStyleModel",
      "_view_count": null,
      "_view_module": "@jupyter-widgets/base",
      "_view_module_version": "1.2.0",
      "_view_name": "StyleView",
      "description_width": ""
     }
    },
    "2c93510709bd46c889be8a8872af280e": {
     "model_module": "@jupyter-widgets/base",
     "model_module_version": "1.2.0",
     "model_name": "LayoutModel",
     "state": {
      "_model_module": "@jupyter-widgets/base",
      "_model_module_version": "1.2.0",
      "_model_name": "LayoutModel",
      "_view_count": null,
      "_view_module": "@jupyter-widgets/base",
      "_view_module_version": "1.2.0",
      "_view_name": "LayoutView",
      "align_content": null,
      "align_items": null,
      "align_self": null,
      "border": null,
      "bottom": null,
      "display": null,
      "flex": null,
      "flex_flow": null,
      "grid_area": null,
      "grid_auto_columns": null,
      "grid_auto_flow": null,
      "grid_auto_rows": null,
      "grid_column": null,
      "grid_gap": null,
      "grid_row": null,
      "grid_template_areas": null,
      "grid_template_columns": null,
      "grid_template_rows": null,
      "height": null,
      "justify_content": null,
      "justify_items": null,
      "left": null,
      "margin": null,
      "max_height": null,
      "max_width": null,
      "min_height": null,
      "min_width": null,
      "object_fit": null,
      "object_position": null,
      "order": null,
      "overflow": null,
      "overflow_x": null,
      "overflow_y": null,
      "padding": null,
      "right": null,
      "top": null,
      "visibility": null,
      "width": null
     }
    },
    "4d7aec60591343bab6a920285a64112f": {
     "model_module": "@jupyter-widgets/base",
     "model_module_version": "1.2.0",
     "model_name": "LayoutModel",
     "state": {
      "_model_module": "@jupyter-widgets/base",
      "_model_module_version": "1.2.0",
      "_model_name": "LayoutModel",
      "_view_count": null,
      "_view_module": "@jupyter-widgets/base",
      "_view_module_version": "1.2.0",
      "_view_name": "LayoutView",
      "align_content": null,
      "align_items": null,
      "align_self": null,
      "border": null,
      "bottom": null,
      "display": null,
      "flex": null,
      "flex_flow": null,
      "grid_area": null,
      "grid_auto_columns": null,
      "grid_auto_flow": null,
      "grid_auto_rows": null,
      "grid_column": null,
      "grid_gap": null,
      "grid_row": null,
      "grid_template_areas": null,
      "grid_template_columns": null,
      "grid_template_rows": null,
      "height": null,
      "justify_content": null,
      "justify_items": null,
      "left": null,
      "margin": null,
      "max_height": null,
      "max_width": null,
      "min_height": null,
      "min_width": null,
      "object_fit": null,
      "object_position": null,
      "order": null,
      "overflow": null,
      "overflow_x": null,
      "overflow_y": null,
      "padding": null,
      "right": null,
      "top": null,
      "visibility": null,
      "width": null
     }
    },
    "5ffc14edebc2432f9b95e774167ed333": {
     "model_module": "@jupyter-widgets/base",
     "model_module_version": "1.2.0",
     "model_name": "LayoutModel",
     "state": {
      "_model_module": "@jupyter-widgets/base",
      "_model_module_version": "1.2.0",
      "_model_name": "LayoutModel",
      "_view_count": null,
      "_view_module": "@jupyter-widgets/base",
      "_view_module_version": "1.2.0",
      "_view_name": "LayoutView",
      "align_content": null,
      "align_items": null,
      "align_self": null,
      "border": null,
      "bottom": null,
      "display": null,
      "flex": null,
      "flex_flow": null,
      "grid_area": null,
      "grid_auto_columns": null,
      "grid_auto_flow": null,
      "grid_auto_rows": null,
      "grid_column": null,
      "grid_gap": null,
      "grid_row": null,
      "grid_template_areas": null,
      "grid_template_columns": null,
      "grid_template_rows": null,
      "height": null,
      "justify_content": null,
      "justify_items": null,
      "left": null,
      "margin": null,
      "max_height": null,
      "max_width": null,
      "min_height": null,
      "min_width": null,
      "object_fit": null,
      "object_position": null,
      "order": null,
      "overflow": null,
      "overflow_x": null,
      "overflow_y": null,
      "padding": null,
      "right": null,
      "top": null,
      "visibility": null,
      "width": null
     }
    },
    "6422c15135a24be783734f255088421f": {
     "model_module": "@jupyter-widgets/controls",
     "model_module_version": "1.5.0",
     "model_name": "ProgressStyleModel",
     "state": {
      "_model_module": "@jupyter-widgets/controls",
      "_model_module_version": "1.5.0",
      "_model_name": "ProgressStyleModel",
      "_view_count": null,
      "_view_module": "@jupyter-widgets/base",
      "_view_module_version": "1.2.0",
      "_view_name": "StyleView",
      "bar_color": null,
      "description_width": ""
     }
    },
    "99beab2c378044f9833caf3d6b6f3d4e": {
     "model_module": "@jupyter-widgets/controls",
     "model_module_version": "1.5.0",
     "model_name": "HTMLModel",
     "state": {
      "_dom_classes": [],
      "_model_module": "@jupyter-widgets/controls",
      "_model_module_version": "1.5.0",
      "_model_name": "HTMLModel",
      "_view_count": null,
      "_view_module": "@jupyter-widgets/controls",
      "_view_module_version": "1.5.0",
      "_view_name": "HTMLView",
      "description": "",
      "description_tooltip": null,
      "layout": "IPY_MODEL_0adcbace0f6946568311b8010d5c7fc3",
      "placeholder": "​",
      "style": "IPY_MODEL_2b52835f91344aa396de748f5a68e40e",
      "value": "Loading checkpoint shards: 100%"
     }
    },
    "d3c2cd7f501c4c93ab43730f061273b5": {
     "model_module": "@jupyter-widgets/controls",
     "model_module_version": "1.5.0",
     "model_name": "FloatProgressModel",
     "state": {
      "_dom_classes": [],
      "_model_module": "@jupyter-widgets/controls",
      "_model_module_version": "1.5.0",
      "_model_name": "FloatProgressModel",
      "_view_count": null,
      "_view_module": "@jupyter-widgets/controls",
      "_view_module_version": "1.5.0",
      "_view_name": "ProgressView",
      "bar_style": "success",
      "description": "",
      "description_tooltip": null,
      "layout": "IPY_MODEL_4d7aec60591343bab6a920285a64112f",
      "max": 2,
      "min": 0,
      "orientation": "horizontal",
      "style": "IPY_MODEL_6422c15135a24be783734f255088421f",
      "value": 2
     }
    },
    "f795283dfaad4da2bb0b3fce64f7f8c2": {
     "model_module": "@jupyter-widgets/controls",
     "model_module_version": "1.5.0",
     "model_name": "HTMLModel",
     "state": {
      "_dom_classes": [],
      "_model_module": "@jupyter-widgets/controls",
      "_model_module_version": "1.5.0",
      "_model_name": "HTMLModel",
      "_view_count": null,
      "_view_module": "@jupyter-widgets/controls",
      "_view_module_version": "1.5.0",
      "_view_name": "HTMLView",
      "description": "",
      "description_tooltip": null,
      "layout": "IPY_MODEL_2c93510709bd46c889be8a8872af280e",
      "placeholder": "​",
      "style": "IPY_MODEL_14d5cc69e04e4fe588144913d220e57f",
      "value": " 2/2 [00:02&lt;00:00,  1.38s/it]"
     }
    },
    "fe25ee512c184077be919dcd38d43296": {
     "model_module": "@jupyter-widgets/controls",
     "model_module_version": "1.5.0",
     "model_name": "HBoxModel",
     "state": {
      "_dom_classes": [],
      "_model_module": "@jupyter-widgets/controls",
      "_model_module_version": "1.5.0",
      "_model_name": "HBoxModel",
      "_view_count": null,
      "_view_module": "@jupyter-widgets/controls",
      "_view_module_version": "1.5.0",
      "_view_name": "HBoxView",
      "box_style": "",
      "children": [
       "IPY_MODEL_99beab2c378044f9833caf3d6b6f3d4e",
       "IPY_MODEL_d3c2cd7f501c4c93ab43730f061273b5",
       "IPY_MODEL_f795283dfaad4da2bb0b3fce64f7f8c2"
      ],
      "layout": "IPY_MODEL_5ffc14edebc2432f9b95e774167ed333"
     }
    }
   }
  }
 },
 "nbformat": 4,
 "nbformat_minor": 0
}
