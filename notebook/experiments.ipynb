{
 "cells": [
  {
   "cell_type": "markdown",
   "metadata": {
    "id": "VtisuG2Q6lhm"
   },
   "source": [
    "###  Install Required Libraries\n",
    "\n"
   ]
  },
  {
   "cell_type": "code",
   "execution_count": 1,
   "metadata": {
    "colab": {
     "base_uri": "https://localhost:8080/",
     "height": 243,
     "referenced_widgets": [
      "fe25ee512c184077be919dcd38d43296",
      "99beab2c378044f9833caf3d6b6f3d4e",
      "d3c2cd7f501c4c93ab43730f061273b5",
      "f795283dfaad4da2bb0b3fce64f7f8c2",
      "5ffc14edebc2432f9b95e774167ed333",
      "0adcbace0f6946568311b8010d5c7fc3",
      "2b52835f91344aa396de748f5a68e40e",
      "4d7aec60591343bab6a920285a64112f",
      "6422c15135a24be783734f255088421f",
      "2c93510709bd46c889be8a8872af280e",
      "14d5cc69e04e4fe588144913d220e57f"
     ]
    },
    "id": "hL2Z-R9s3uXY",
    "outputId": "b46b1644-8691-4f6e-bd97-76b8864a48bd"
   },
   "outputs": [
    {
     "data": {
      "text/plain": [
       "'%pip install torch\\n%pip install transformers\\n%pip install torchtext\\n%pip install openai\\n%pip install icecream\\n%pip install tqdm\\n%pip install tabulate\\n%pip install requests\\n%pip install scikit-learn\\n%pip install nltk\\n'"
      ]
     },
     "execution_count": 1,
     "metadata": {},
     "output_type": "execute_result"
    }
   ],
   "source": [
    "\"\"\"%pip install torch\n",
    "%pip install transformers\n",
    "%pip install torchtext\n",
    "%pip install openai\n",
    "%pip install icecream\n",
    "%pip install tqdm\n",
    "%pip install tabulate\n",
    "%pip install requests\n",
    "%pip install scikit-learn\n",
    "%pip install nltk\n",
    "\"\"\""
   ]
  },
  {
   "cell_type": "code",
   "execution_count": 2,
   "metadata": {},
   "outputs": [
    {
     "name": "stderr",
     "output_type": "stream",
     "text": [
      "[nltk_data] Downloading package punkt to /Users/angelo/nltk_data...\n",
      "[nltk_data]   Package punkt is already up-to-date!\n",
      "[nltk_data] Downloading package punkt_tab to\n",
      "[nltk_data]     /Users/angelo/nltk_data...\n",
      "[nltk_data]   Package punkt_tab is already up-to-date!\n",
      "[nltk_data] Downloading package wordnet to /Users/angelo/nltk_data...\n",
      "[nltk_data]   Package wordnet is already up-to-date!\n",
      "[nltk_data] Downloading package omw-1.4 to /Users/angelo/nltk_data...\n",
      "[nltk_data]   Package omw-1.4 is already up-to-date!\n"
     ]
    }
   ],
   "source": [
    "import sys\n",
    "sys.path.append('../')\n",
    "from src.evaluation.goal_evaluator import GoalEvaluator\n",
    "from src.extraction.extractor import generate_description, generate_actors, generate_high_level_goals, generate_low_level_goals\n",
    "from src.mapping.APIs_mapping import generate_mapping_apis_goals, print_api_goal_mapping\n",
    "from src.self_critique.refine_response import EvalMode, generate_response_with_reflection\n",
    "from src.tools import get_api_list_from_swagger\n",
    "from src.examples.shot_learning import ShotPromptingMode"
   ]
  },
  {
   "cell_type": "markdown",
   "metadata": {},
   "source": [
    "# Experiments"
   ]
  },
  {
   "cell_type": "code",
   "execution_count": 3,
   "metadata": {},
   "outputs": [],
   "source": [
    "SHOTS_NUMBER = ShotPromptingMode.ONE_SHOT"
   ]
  },
  {
   "cell_type": "markdown",
   "metadata": {},
   "source": [
    "### Description Generation"
   ]
  },
  {
   "cell_type": "code",
   "execution_count": 4,
   "metadata": {},
   "outputs": [
    {
     "name": "stdout",
     "output_type": "stream",
     "text": [
      "Description STARTING...\n",
      "Description DONE...\n",
      "description='Genome Nexus is an innovative tool designed for the fast, automated, and high-throughput annotation and interpretation of genetic variants in cancer. It integrates data from various resources, including databases that facilitate the conversion of DNA changes into protein changes and that predict the functional effects of protein mutations. Furthermore, Genome Nexus contains comprehensive information regarding mutation frequencies, gene functions, variant effects, and clinical actionability, aiming to enhance the accessibility and utility of genetic information in cancer research.'\n"
     ]
    }
   ],
   "source": [
    "print(\"Description STARTING...\")\n",
    "description = generate_description(\"https://github.com/WebFuzzing/EMB/tree/master/jdk_8_maven/cs/rest-gui/genome-nexus#readme\")\n",
    "print(\"Description DONE...\")\n",
    "print(description)"
   ]
  },
  {
   "cell_type": "markdown",
   "metadata": {},
   "source": [
    "### Actors Extraction"
   ]
  },
  {
   "cell_type": "code",
   "execution_count": 9,
   "metadata": {},
   "outputs": [
    {
     "name": "stdout",
     "output_type": "stream",
     "text": [
      "Actors STARTING... (attempt 1)\n",
      "No feedback provided!\n",
      "Actors DONE...\n",
      "actors=[Actor(name='Cancer Researchers', description='Individuals conducting research on cancer genetics and variants.'), Actor(name='Geneticists', description='Experts who study gene functions and mutation effects.'), Actor(name='Clinical Oncologists', description='Medical professionals using genetic information for cancer treatment decisions.'), Actor(name='Data Analysts', description='Users analyzing genetic data to derive insights and patterns.')]\n",
      "Evaluation for Actors STARTING...\n",
      "Evaluation for Actors DONE...\n",
      "Score: 8\n",
      "Critique: The identified actors cover the main roles related to the usage of Genome Nexus, but there's a potential omission of roles such as software developers or bioinformaticians who might be involved in ensuring the tool's functionality and integration. Including these roles would provide a more comprehensive view of all actors involved in the software's ecosystem.\n",
      "Satisfactory score achieved! Breaking out of the loop.\n"
     ]
    }
   ],
   "source": [
    "actors, actors_score, actors_critique = generate_response_with_reflection(\n",
    "    \"Actors\",\n",
    "    generate_actors,\n",
    "    define_args=description,\n",
    "    eval_mode=EvalMode.ACTORS,\n",
    "    eval_args=description,\n",
    "    shotPromptingMode=SHOTS_NUMBER,\n",
    "    max_attempts=3\n",
    ")"
   ]
  },
  {
   "cell_type": "markdown",
   "metadata": {},
   "source": [
    "### High Level Goals Extraction"
   ]
  },
  {
   "cell_type": "code",
   "execution_count": 10,
   "metadata": {},
   "outputs": [
    {
     "name": "stdout",
     "output_type": "stream",
     "text": [
      "High Level Goals STARTING... (attempt 1)\n",
      "No feedback provided!\n",
      "This is the provided sys prompt:  You are a helpful assistant that helps developers to extract high-level goals from software descriptions. You're tasked with extracting high level goals from a software description, you're also provided with actors that are expected to interact with the software. MUST focus only on functional requirements and ignore non-functional requirements. Focus only on requirements that benefit the end user of the software. The returned high-level goals should be specific and focused on functional user needs.\n",
      "\n",
      "High Level Goals DONE...\n",
      "goals=[HighLevelGoal(name='Automated Annotation of Genetic Variants', description='Cancer Researchers aim to quickly and automatically annotate and interpret genetic variants in cancer using Genome Nexus.', actor=Actor(name='Cancer Researchers', description='Individuals conducting research on cancer genetics and variants.')), HighLevelGoal(name='Integration of Genetic Data', description='Geneticists require Genome Nexus to seamlessly integrate data from various resources, including DNA to protein change conversion and mutation predictions.', actor=Actor(name='Geneticists', description='Experts who study gene functions and mutation effects.')), HighLevelGoal(name='Clinical Actionability Insights', description='Clinical Oncologists need access to comprehensive information regarding mutation frequencies, gene functions, and clinical actionability to inform treatment decisions.', actor=Actor(name='Clinical Oncologists', description='Medical professionals using genetic information for cancer treatment decisions.')), HighLevelGoal(name='Data Analysis of Genetic Variants', description='Data Analysts desire tools within Genome Nexus that enable them to analyze genetic data for insights and patterns relevant to cancer research.', actor=Actor(name='Data Analysts', description='Users analyzing genetic data to derive insights and patterns.')), HighLevelGoal(name='Functional Effects of Mutations', description='All actors seek to understand the functional effects of protein mutations to better comprehend their impact on cancer progression and treatment.', actor=Actor(name='Cancer Researchers', description='Individuals conducting research on cancer genetics and variants.'))]\n",
      "Evaluation for High Level Goals STARTING...\n",
      "Evaluation for High Level Goals DONE...\n",
      "Score: 7\n",
      "Critique: The goals defined are mostly clear and aligned with the software's purpose, but there is some redundancy and a lack of distinct separation between goals, particularly how the \"Functional Effects of Mutations\" goal overlaps with others. Additionally, there could be more emphasis on the accessibility and utility aspect mentioned in the description, which is crucial for users. Overall, while the goals are relevant, they could be refined for clarity and completeness.\n",
      "Unsatisfactory score. Retrying...\n",
      "High Level Goals STARTING... (attempt 2)\n",
      "Feedback provided!\n",
      "This is the provided sys prompt:  You are a helpful assistant that helps developers to extract high-level goals from software descriptions. You're tasked with extracting high level goals from a software description, you're also provided with actors that are expected to interact with the software. MUST focus only on functional requirements and ignore non-functional requirements. Focus only on requirements that benefit the end user of the software. The returned high-level goals should be specific and focused on functional user needs.\n",
      "\n",
      "\n",
      "        The task given to you was already attempted but its output was flawed. You're provided with a critique on the previous attempt.\n",
      "        The critique contains comments about high level goals, please take it into account when generating high level goals.\n",
      "\n",
      "        **Critique:**\n",
      "        The goals defined are mostly clear and aligned with the software's purpose, but there is some redundancy and a lack of distinct separation between goals, particularly how the \"Functional Effects of Mutations\" goal overlaps with others. Additionally, there could be more emphasis on the accessibility and utility aspect mentioned in the description, which is crucial for users. Overall, while the goals are relevant, they could be refined for clarity and completeness.\n",
      "        **Previous attempt:**\n",
      "        goals=[HighLevelGoal(name='Automated Annotation of Genetic Variants', description='Cancer Researchers aim to quickly and automatically annotate and interpret genetic variants in cancer using Genome Nexus.', actor=Actor(name='Cancer Researchers', description='Individuals conducting research on cancer genetics and variants.')), HighLevelGoal(name='Integration of Genetic Data', description='Geneticists require Genome Nexus to seamlessly integrate data from various resources, including DNA to protein change conversion and mutation predictions.', actor=Actor(name='Geneticists', description='Experts who study gene functions and mutation effects.')), HighLevelGoal(name='Clinical Actionability Insights', description='Clinical Oncologists need access to comprehensive information regarding mutation frequencies, gene functions, and clinical actionability to inform treatment decisions.', actor=Actor(name='Clinical Oncologists', description='Medical professionals using genetic information for cancer treatment decisions.')), HighLevelGoal(name='Data Analysis of Genetic Variants', description='Data Analysts desire tools within Genome Nexus that enable them to analyze genetic data for insights and patterns relevant to cancer research.', actor=Actor(name='Data Analysts', description='Users analyzing genetic data to derive insights and patterns.')), HighLevelGoal(name='Functional Effects of Mutations', description='All actors seek to understand the functional effects of protein mutations to better comprehend their impact on cancer progression and treatment.', actor=Actor(name='Cancer Researchers', description='Individuals conducting research on cancer genetics and variants.'))]\n",
      "        \n",
      "High Level Goals DONE...\n",
      "goals=[HighLevelGoal(name='Automated Annotation of Genetic Variants', description='Cancer Researchers aim to quickly and automatically annotate and interpret genetic variants in cancer using Genome Nexus.', actor=Actor(name='Cancer Researchers', description='Individuals conducting research on cancer genetics and variants.')), HighLevelGoal(name='Integration of Genetic Data', description='Geneticists require Genome Nexus to seamlessly integrate data from various resources regarding DNA to protein change conversion and mutation predictions.', actor=Actor(name='Geneticists', description='Experts who study gene functions and mutation effects.')), HighLevelGoal(name='Access to Mutation Frequencies and Gene Functions', description='Clinical Oncologists need access to comprehensive information on mutation frequencies and gene functions to inform and guide treatment decisions based on genetic data.', actor=Actor(name='Clinical Oncologists', description='Medical professionals using genetic information for cancer treatment decisions.')), HighLevelGoal(name='Data Analysis Tools for Genetic Insights', description='Data Analysts desire robust analytical tools within Genome Nexus that enable them to analyze genetic data for insights and patterns relevant to cancer research.', actor=Actor(name='Data Analysts', description='Users analyzing genetic data to derive insights and patterns.')), HighLevelGoal(name='Understanding Functional Effects of Mutations', description='All actors seek to understand the functional effects of protein mutations to better comprehend their impact on cancer progression and treatment implications.', actor=Actor(name='All Users', description='Includes all actors involved in genetic research and application.')), HighLevelGoal(name='Enhanced Accessibility of Genetic Information', description='All actors require Genome Nexus to enhance the accessibility and utility of genetic information to support their research and clinical decisions.', actor=Actor(name='All Users', description='Includes all actors involved in genetic research and application.'))]\n",
      "Evaluation for High Level Goals STARTING...\n",
      "Evaluation for High Level Goals DONE...\n",
      "Score: 7\n",
      "Critique: The high-level goals are generally well-defined and align with the actors mentioned. However, there are a couple of issues. First, the goal \"Understanding Functional Effects of Mutations\" could be seen as somewhat redundant given the more specific goal regarding \"Integration of Genetic Data,\" which already implies an understanding of functional effects. Additionally, the roles of \"Clinical Oncologists\" and \"Geneticists\" could use more emphasis on how the tool specifically aids them in their distinct applications, particularly in the clinical decision-making process versus research. This could help clarify the end-user goals further. Overall, although the goals cover a broad spectrum, the redundancy and lack of specificity detract from the clarity.\n",
      "Unsatisfactory score. Retrying...\n",
      "High Level Goals STARTING... (attempt 3)\n",
      "Feedback provided!\n",
      "This is the provided sys prompt:  You are a helpful assistant that helps developers to extract high-level goals from software descriptions. You're tasked with extracting high level goals from a software description, you're also provided with actors that are expected to interact with the software. MUST focus only on functional requirements and ignore non-functional requirements. Focus only on requirements that benefit the end user of the software. The returned high-level goals should be specific and focused on functional user needs.\n",
      "\n",
      "\n",
      "        The task given to you was already attempted but its output was flawed. You're provided with a critique on the previous attempt.\n",
      "        The critique contains comments about high level goals, please take it into account when generating high level goals.\n",
      "\n",
      "        **Critique:**\n",
      "        The high-level goals are generally well-defined and align with the actors mentioned. However, there are a couple of issues. First, the goal \"Understanding Functional Effects of Mutations\" could be seen as somewhat redundant given the more specific goal regarding \"Integration of Genetic Data,\" which already implies an understanding of functional effects. Additionally, the roles of \"Clinical Oncologists\" and \"Geneticists\" could use more emphasis on how the tool specifically aids them in their distinct applications, particularly in the clinical decision-making process versus research. This could help clarify the end-user goals further. Overall, although the goals cover a broad spectrum, the redundancy and lack of specificity detract from the clarity.\n",
      "        **Previous attempt:**\n",
      "        goals=[HighLevelGoal(name='Automated Annotation of Genetic Variants', description='Cancer Researchers aim to quickly and automatically annotate and interpret genetic variants in cancer using Genome Nexus.', actor=Actor(name='Cancer Researchers', description='Individuals conducting research on cancer genetics and variants.')), HighLevelGoal(name='Integration of Genetic Data', description='Geneticists require Genome Nexus to seamlessly integrate data from various resources regarding DNA to protein change conversion and mutation predictions.', actor=Actor(name='Geneticists', description='Experts who study gene functions and mutation effects.')), HighLevelGoal(name='Access to Mutation Frequencies and Gene Functions', description='Clinical Oncologists need access to comprehensive information on mutation frequencies and gene functions to inform and guide treatment decisions based on genetic data.', actor=Actor(name='Clinical Oncologists', description='Medical professionals using genetic information for cancer treatment decisions.')), HighLevelGoal(name='Data Analysis Tools for Genetic Insights', description='Data Analysts desire robust analytical tools within Genome Nexus that enable them to analyze genetic data for insights and patterns relevant to cancer research.', actor=Actor(name='Data Analysts', description='Users analyzing genetic data to derive insights and patterns.')), HighLevelGoal(name='Understanding Functional Effects of Mutations', description='All actors seek to understand the functional effects of protein mutations to better comprehend their impact on cancer progression and treatment implications.', actor=Actor(name='All Users', description='Includes all actors involved in genetic research and application.')), HighLevelGoal(name='Enhanced Accessibility of Genetic Information', description='All actors require Genome Nexus to enhance the accessibility and utility of genetic information to support their research and clinical decisions.', actor=Actor(name='All Users', description='Includes all actors involved in genetic research and application.'))]\n",
      "        \n",
      "High Level Goals DONE...\n",
      "goals=[HighLevelGoal(name='Automated Annotation of Genetic Variants', description='Cancer Researchers want to quickly and automatically annotate and interpret genetic variants in cancer using Genome Nexus.', actor=Actor(name='Cancer Researchers', description='Individuals conducting research on cancer genetics and variants.')), HighLevelGoal(name='Integration of Genetic Data', description='Geneticists require Genome Nexus to integrate diverse genetic data resources to facilitate the understanding of gene functions and mutation effects.', actor=Actor(name='Geneticists', description='Experts who study gene functions and mutation effects.')), HighLevelGoal(name='Access to Mutation Frequencies and Gene Functions', description='Clinical Oncologists need comprehensive access to mutation frequencies and gene functions for informed decision-making in cancer treatment based on genetic data.', actor=Actor(name='Clinical Oncologists', description='Medical professionals using genetic information for cancer treatment decisions.')), HighLevelGoal(name='Data Analysis Tools for Genetic Insights', description='Data Analysts seek robust analytical tools within Genome Nexus that help discover insights and patterns from genetic data relevant to cancer research.', actor=Actor(name='Data Analysts', description='Users analyzing genetic data to derive insights and patterns.')), HighLevelGoal(name='Enhanced Accessibility of Genetic Information', description='All actors require Genome Nexus to improve the accessibility and utility of genetic information to support research and clinical decisions.', actor=Actor(name='All Users', description='Includes all actors involved in genetic research and application.'))]\n",
      "Evaluation for High Level Goals STARTING...\n",
      "Evaluation for High Level Goals DONE...\n",
      "Score: 8\n",
      "Critique: The goals outlined reflect the different user needs well but could benefit from more clarity on how these goals relate to outcomes or actions in relation to cancer research and treatment. Additionally, having a goal that specifically addresses the usability or user experience of the platform could strengthen the high-level goals.\n",
      "Satisfactory score achieved! Breaking out of the loop.\n"
     ]
    }
   ],
   "source": [
    "highLevelGoals, HL_score, HL_critique = generate_response_with_reflection(\n",
    "    \"High Level Goals\",\n",
    "    generate_high_level_goals,\n",
    "    define_args=(description, actors),\n",
    "    eval_mode=EvalMode.HIGH_LEVEL,\n",
    "    shotPromptingMode=SHOTS_NUMBER,\n",
    "    eval_args=(description, actors)\n",
    ")"
   ]
  },
  {
   "cell_type": "markdown",
   "metadata": {},
   "source": [
    "### Low Level Goals Extraction"
   ]
  },
  {
   "cell_type": "code",
   "execution_count": 11,
   "metadata": {},
   "outputs": [
    {
     "name": "stdout",
     "output_type": "stream",
     "text": [
      "Low Level Goals STARTING... (attempt 1)\n",
      "No feedback provided!\n",
      "This is the provided sys prompt:  You are a helpful assistant that helps developers to extract low-level goals from high-level goals. The low-level goals that you create MUST be structured to match against a set of API calls. Don't be too generic, for example, avoid goals like 'make the software fast', 'develop a web interface' etc. MUST focus only on functional requirements and ignore non-functional requirements. Focus only on requirements that benefit the end user of the software. The returned low-level goals should be specific and focused on the user's needs.\n",
      "\n",
      "Low Level Goals DONE...\n",
      "low_level_goals=[LowLevelGoal(name='Automatically annotate genetic variants identified in cancer research using Genome Nexus.', description='Process genetic variant data through Genome Nexus to obtain annotations without manual intervention, streamlining research efforts for cancer researchers.', high_level_associated=HighLevelGoal(name='Automated Annotation of Genetic Variants', description='Cancer Researchers want to quickly and automatically annotate and interpret genetic variants in cancer using Genome Nexus.', actor=Actor(name='Cancer Researchers', description='Individuals conducting research on cancer genetics and variants.'))), LowLevelGoal(name='Integrate genetic variant data from multiple sources into Genome Nexus.', description='Enable the seamless integration of diverse genetic data resources, allowing geneticists to analyze the combined information for better understanding of gene functions.', high_level_associated=HighLevelGoal(name='Integration of Genetic Data', description='Geneticists require Genome Nexus to integrate diverse genetic data resources to facilitate the understanding of gene functions and mutation effects.', actor=Actor(name='Geneticists', description='Experts who study gene functions and mutation effects.'))), LowLevelGoal(name='Access and visualize mutation frequencies relevant to specific genes in cancer patients.', description='Provide clinical oncologists with data dashboards that display mutation frequencies and gene functions, assisting in treatment decision-making based on real-time genetic data.', high_level_associated=HighLevelGoal(name='Access to Mutation Frequencies and Gene Functions', description='Clinical Oncologists need comprehensive access to mutation frequencies and gene functions for informed decision-making in cancer treatment based on genetic data.', actor=Actor(name='Clinical Oncologists', description='Medical professionals using genetic information for cancer treatment decisions.'))), LowLevelGoal(name='Utilize advanced analytics tools to identify patterns from genetic datasets within Genome Nexus.', description='Allow data analysts to employ various statistical and computational tools to derive insights from genetic information pertinent to cancer research.', high_level_associated=HighLevelGoal(name='Data Analysis Tools for Genetic Insights', description='Data Analysts seek robust analytical tools within Genome Nexus that help discover insights and patterns from genetic data relevant to cancer research.', actor=Actor(name='Data Analysts', description='Users analyzing genetic data to derive insights and patterns.'))), LowLevelGoal(name='Enhance the user interface of Genome Nexus for improved accessibility of genetic data.', description='Upgrade the platform to ensure that all users, including researchers and clinicians, can easily navigate and access the data they require for their studies and treatments.', high_level_associated=HighLevelGoal(name='Enhanced Accessibility of Genetic Information', description='All actors require Genome Nexus to improve the accessibility and utility of genetic information to support research and clinical decisions.', actor=Actor(name='All Users', description='Includes all actors involved in genetic research and application.')))]\n",
      "Evaluation for Low Level Goals STARTING...\n",
      "Evaluation for Low Level Goals DONE...\n",
      "Score: 8\n",
      "Critique: The low-level goals generally align well with the high-level goals and the actions of the respective actors. However, there is an important omission - specifically, the low-level goals do not explicitly address the role of Clinical Oncologists in directly utilizing Genome Nexus for treatment decisions beyond just accessing data. Including a goal that emphasizes actionable insights derived from the genetic data for clinical applications would enhance the completeness of the low-level goals.\n",
      "Satisfactory score achieved! Breaking out of the loop.\n"
     ]
    }
   ],
   "source": [
    "lowLevelGoals, LL_score, LL_critique = generate_response_with_reflection(\n",
    "    \"Low Level Goals\",\n",
    "    generate_low_level_goals,\n",
    "    define_args=(highLevelGoals),\n",
    "    eval_mode=EvalMode.LOW_LEVEL,\n",
    "    shotPromptingMode=SHOTS_NUMBER,\n",
    "    eval_args=(description, actors, highLevelGoals)\n",
    ")"
   ]
  },
  {
   "cell_type": "markdown",
   "metadata": {},
   "source": [
    "### APIs Extraction from Swagger"
   ]
  },
  {
   "cell_type": "code",
   "execution_count": 12,
   "metadata": {},
   "outputs": [
    {
     "name": "stdout",
     "output_type": "stream",
     "text": [
      "API List STARTING...\n",
      "API List DONE...\n",
      "[API(api_name='fetchVariantAnnotationPOST', api_path='/annotation', description='Retrieves VEP annotation for the provided list of variants', request_type='post'), API(api_name='fetchVariantAnnotationByIdPOST', api_path='/annotation/dbsnp/', description='Retrieves VEP annotation for the provided list of dbSNP ids', request_type='post'), API(api_name='fetchVariantAnnotationByIdGET', api_path='/annotation/dbsnp/{variantId}', description='Retrieves VEP annotation for the give dbSNP id', request_type='get'), API(api_name='fetchVariantAnnotationByGenomicLocationPOST', api_path='/annotation/genomic', description='Retrieves VEP annotation for the provided list of genomic locations', request_type='post'), API(api_name='fetchVariantAnnotationByGenomicLocationGET', api_path='/annotation/genomic/{genomicLocation}', description='Retrieves VEP annotation for the provided genomic location', request_type='get'), API(api_name='fetchVariantAnnotationGET', api_path='/annotation/{variant}', description='Retrieves VEP annotation for the provided variant', request_type='get'), API(api_name='fetchCanonicalEnsemblGeneIdByEntrezGeneIdsPOST', api_path='/ensembl/canonical-gene/entrez', description='Retrieves canonical Ensembl Gene ID by Entrez Gene Ids', request_type='post'), API(api_name='fetchCanonicalEnsemblGeneIdByEntrezGeneIdGET', api_path='/ensembl/canonical-gene/entrez/{entrezGeneId}', description='Retrieves Ensembl canonical gene id by Entrez Gene Id', request_type='get'), API(api_name='fetchCanonicalEnsemblGeneIdByHugoSymbolsPOST', api_path='/ensembl/canonical-gene/hgnc', description='Retrieves canonical Ensembl Gene ID by Hugo Symbols', request_type='post'), API(api_name='fetchCanonicalEnsemblGeneIdByHugoSymbolGET', api_path='/ensembl/canonical-gene/hgnc/{hugoSymbol}', description='Retrieves Ensembl canonical gene id by Hugo Symbol', request_type='get'), API(api_name='fetchCanonicalEnsemblTranscriptsByHugoSymbolsPOST', api_path='/ensembl/canonical-transcript/hgnc', description='Retrieves Ensembl canonical transcripts by Hugo Symbols', request_type='post'), API(api_name='fetchCanonicalEnsemblTranscriptByHugoSymbolGET', api_path='/ensembl/canonical-transcript/hgnc/{hugoSymbol}', description='Retrieves Ensembl canonical transcript by Hugo Symbol', request_type='get'), API(api_name='fetchEnsemblTranscriptsGET', api_path='/ensembl/transcript', description='Retrieves Ensembl Transcripts by protein ID, and gene ID. Retrieves all transcripts in case no query parameter provided', request_type='get'), API(api_name='fetchEnsemblTranscriptsByEnsemblFilterPOST', api_path='/ensembl/transcript', description='Retrieves Ensembl Transcripts by Ensembl transcript IDs, hugo Symbols, protein IDs, or gene IDs', request_type='post'), API(api_name='fetchEnsemblTranscriptByTranscriptIdGET', api_path='/ensembl/transcript/{transcriptId}', description='Retrieves the transcript by an Ensembl transcript ID', request_type='get'), API(api_name='fetchGeneXrefsGET', api_path='/ensembl/xrefs', description='Perform lookups of Ensembl identifiers and retrieve their external references in other databases', request_type='get'), API(api_name='fetchPdbHeaderPOST', api_path='/pdb/header', description='Retrieves PDB header info by a PDB id', request_type='post'), API(api_name='fetchPdbHeaderGET', api_path='/pdb/header/{pdbId}', description='Retrieves PDB header info by a PDB id', request_type='get'), API(api_name='fetchPfamDomainsByPfamAccessionPOST', api_path='/pfam/domain', description='Retrieves PFAM domains by PFAM domain accession IDs', request_type='post'), API(api_name='fetchPfamDomainsByAccessionGET', api_path='/pfam/domain/{pfamAccession}', description='Retrieves a PFAM domain by a PFAM domain ID', request_type='get'), API(api_name='fetchPostTranslationalModificationsGET', api_path='/ptm/experimental', description='Retrieves PTM entries by Ensembl Transcript ID', request_type='get'), API(api_name='fetchPostTranslationalModificationsByPtmFilterPOST', api_path='/ptm/experimental', description='Retrieves PTM entries by Ensembl Transcript IDs', request_type='post'), API(api_name='fetchVersionGET', api_path='/version', description='Retrieve Genome Nexus Version', request_type='get')]\n"
     ]
    }
   ],
   "source": [
    "print(\"API List STARTING...\")\n",
    "apiList = get_api_list_from_swagger()\n",
    "print(\"API List DONE...\")\n",
    "print(apiList)"
   ]
  },
  {
   "cell_type": "markdown",
   "metadata": {},
   "source": [
    "### APIs Mapping to Low Level Goals"
   ]
  },
  {
   "cell_type": "code",
   "execution_count": 13,
   "metadata": {},
   "outputs": [
    {
     "name": "stdout",
     "output_type": "stream",
     "text": [
      "Mapping STARTING...\n",
      "hlg name:  Automated Annotation of Genetic Variants\n",
      "Goal name:  Automatically annotate genetic variants identified in cancer research using Genome Nexus.\n",
      "Goal description:  Process genetic variant data through Genome Nexus to obtain annotations without manual intervention, streamlining research efforts for cancer researchers.\n",
      "APIs:  fetchVariantAnnotationPOST, fetchVariantAnnotationByGenomicLocationPOST, fetchVariantAnnotationGET\n",
      "\n",
      "hlg name:  Integration of Genetic Data\n",
      "Goal name:  Integrate genetic variant data from multiple sources into Genome Nexus.\n",
      "Goal description:  Enable the seamless integration of diverse genetic data resources, allowing geneticists to analyze the combined information for better understanding of gene functions.\n",
      "APIs:  fetchVariantAnnotationPOST, fetchVariantAnnotationByGenomicLocationPOST, fetchEnsemblTranscriptsByEnsemblFilterPOST\n",
      "\n",
      "hlg name:  Access to Mutation Frequencies and Gene Functions\n",
      "Goal name:  Access and visualize mutation frequencies relevant to specific genes in cancer patients.\n",
      "Goal description:  Provide clinical oncologists with data dashboards that display mutation frequencies and gene functions, assisting in treatment decision-making based on real-time genetic data.\n",
      "APIs:  fetchVariantAnnotationPOST, fetchVariantAnnotationByGenomicLocationPOST, fetchCanonicalEnsemblGeneIdByHugoSymbolsPOST\n",
      "\n",
      "hlg name:  Data Analysis Tools for Genetic Insights\n",
      "Goal name:  Utilize advanced analytics tools to identify patterns from genetic datasets within Genome Nexus.\n",
      "Goal description:  Allow data analysts to employ various statistical and computational tools to derive insights from genetic information pertinent to cancer research.\n",
      "APIs:  fetchVariantAnnotationPOST, fetchVariantAnnotationByGenomicLocationPOST, fetchEnsemblTranscriptsByEnsemblFilterPOST\n",
      "\n",
      "hlg name:  Enhanced Accessibility of Genetic Information\n",
      "Goal name:  Enhance the user interface of Genome Nexus for improved accessibility of genetic data.\n",
      "Goal description:  Upgrade the platform to ensure that all users, including researchers and clinicians, can easily navigate and access the data they require for their studies and treatments.\n",
      "APIs:  fetchVariantAnnotationGET, fetchVariantAnnotationByGenomicLocationGET, fetchEnsemblTranscriptsGET\n",
      "\n",
      "Mapping DONE\n"
     ]
    }
   ],
   "source": [
    "print(\"Mapping STARTING...\")\n",
    "mappings = generate_mapping_apis_goals(lowLevelGoals, apiList)\n",
    "print(\"Mapping DONE\")"
   ]
  },
  {
   "cell_type": "code",
   "execution_count": null,
   "metadata": {},
   "outputs": [
    {
     "name": "stdout",
     "output_type": "stream",
     "text": [
      "name='Automated Annotation of Genetic Variants' description='Cancer Researchers want to quickly and automatically annotate and interpret genetic variants in cancer using Genome Nexus.' actor=Actor(name='Cancer Researchers', description='Individuals conducting research on cancer genetics and variants.')\n"
     ]
    }
   ],
   "source": [
    "print(mappings[0].low_level_goal.high_level_associated.name)"
   ]
  },
  {
   "cell_type": "markdown",
   "metadata": {},
   "source": [
    "### Mapping Table"
   ]
  },
  {
   "cell_type": "code",
   "execution_count": 14,
   "metadata": {},
   "outputs": [
    {
     "name": "stdout",
     "output_type": "stream",
     "text": [
      "╒══════════════════════════════════════════════════════════════════════════════════════════════════╤═════════════════════════════════════════════════════════════════════════════════════════════════════════════════════════════════════════════════════════════════════════════════╤═══════════════════════════════════════════════════════════════════════════════════════════════════════════════════════╕\n",
      "│ Low-Level Goal name                                                                              │ Low-Level Goal description                                                                                                                                                      │ Mapped APIs                                                                                                           │\n",
      "╞══════════════════════════════════════════════════════════════════════════════════════════════════╪═════════════════════════════════════════════════════════════════════════════════════════════════════════════════════════════════════════════════════════════════════════════════╪═══════════════════════════════════════════════════════════════════════════════════════════════════════════════════════╡\n",
      "│ Automatically annotate genetic variants identified in cancer research using Genome Nexus.        │ Process genetic variant data through Genome Nexus to obtain annotations without manual intervention, streamlining research efforts for cancer researchers.                      │ fetchVariantAnnotationPOST, fetchVariantAnnotationByGenomicLocationPOST, fetchVariantAnnotationGET                    │\n",
      "├──────────────────────────────────────────────────────────────────────────────────────────────────┼─────────────────────────────────────────────────────────────────────────────────────────────────────────────────────────────────────────────────────────────────────────────────┼───────────────────────────────────────────────────────────────────────────────────────────────────────────────────────┤\n",
      "│ Integrate genetic variant data from multiple sources into Genome Nexus.                          │ Enable the seamless integration of diverse genetic data resources, allowing geneticists to analyze the combined information for better understanding of gene functions.         │ fetchVariantAnnotationPOST, fetchVariantAnnotationByGenomicLocationPOST, fetchEnsemblTranscriptsByEnsemblFilterPOST   │\n",
      "├──────────────────────────────────────────────────────────────────────────────────────────────────┼─────────────────────────────────────────────────────────────────────────────────────────────────────────────────────────────────────────────────────────────────────────────────┼───────────────────────────────────────────────────────────────────────────────────────────────────────────────────────┤\n",
      "│ Access and visualize mutation frequencies relevant to specific genes in cancer patients.         │ Provide clinical oncologists with data dashboards that display mutation frequencies and gene functions, assisting in treatment decision-making based on real-time genetic data. │ fetchVariantAnnotationPOST, fetchVariantAnnotationByGenomicLocationPOST, fetchCanonicalEnsemblGeneIdByHugoSymbolsPOST │\n",
      "├──────────────────────────────────────────────────────────────────────────────────────────────────┼─────────────────────────────────────────────────────────────────────────────────────────────────────────────────────────────────────────────────────────────────────────────────┼───────────────────────────────────────────────────────────────────────────────────────────────────────────────────────┤\n",
      "│ Utilize advanced analytics tools to identify patterns from genetic datasets within Genome Nexus. │ Allow data analysts to employ various statistical and computational tools to derive insights from genetic information pertinent to cancer research.                             │ fetchVariantAnnotationPOST, fetchVariantAnnotationByGenomicLocationPOST, fetchEnsemblTranscriptsByEnsemblFilterPOST   │\n",
      "├──────────────────────────────────────────────────────────────────────────────────────────────────┼─────────────────────────────────────────────────────────────────────────────────────────────────────────────────────────────────────────────────────────────────────────────────┼───────────────────────────────────────────────────────────────────────────────────────────────────────────────────────┤\n",
      "│ Enhance the user interface of Genome Nexus for improved accessibility of genetic data.           │ Upgrade the platform to ensure that all users, including researchers and clinicians, can easily navigate and access the data they require for their studies and treatments.     │ fetchVariantAnnotationGET, fetchVariantAnnotationByGenomicLocationGET, fetchEnsemblTranscriptsGET                     │\n",
      "╘══════════════════════════════════════════════════════════════════════════════════════════════════╧═════════════════════════════════════════════════════════════════════════════════════════════════════════════════════════════════════════════════════════════════════════════════╧═══════════════════════════════════════════════════════════════════════════════════════════════════════════════════════╛\n"
     ]
    }
   ],
   "source": [
    "print_api_goal_mapping(mappings)"
   ]
  },
  {
   "cell_type": "markdown",
   "metadata": {},
   "source": [
    "# Evaluation"
   ]
  },
  {
   "cell_type": "markdown",
   "metadata": {},
   "source": [
    "### Evaluation: Extracted High Level Goals "
   ]
  },
  {
   "cell_type": "code",
   "execution_count": null,
   "metadata": {},
   "outputs": [
    {
     "name": "stderr",
     "output_type": "stream",
     "text": [
      "/opt/anaconda3/lib/python3.11/site-packages/transformers/tokenization_utils_base.py:1601: FutureWarning: `clean_up_tokenization_spaces` was not set. It will be set to `True` by default. This behavior will be depracted in transformers v4.45, and will be then set to `False` by default. For more details check this issue: https://github.com/huggingface/transformers/issues/31884\n",
      "  warnings.warn(\n"
     ]
    }
   ],
   "source": [
    "# List of high-level goals \n",
    "generated_goals = [goal.description for goal in highLevelGoals.goals]\n",
    "manual_goals = [\"Provide fast and automated annotation of genetic variants\", \"Enable high-throughput interpretation of genetic variants\", \"Integrate information from various existing resources\", \"Convert DNA changes to protein changes\", \"Predict functional effects of protein mutations\", \"Provide information about mutation frequencies\", \"Offer insights into gene function\", \"Detail variant effects\", \"Highlight clinical actionability of variants\"]\n",
    "\n",
    "evaluator = GoalEvaluator(preprocess = False)\n",
    "\n",
    "auc_roc, auc_prec_rec = evaluator.print_roc_prec_rec_curve(generated_goals, manual_goals)\n",
    "print(\"High Level ROC AUC:\", auc_roc)\n",
    "print(\"High Level Precision Recall Curve AUC:\", auc_prec_rec)\n"
   ]
  },
  {
   "cell_type": "markdown",
   "metadata": {},
   "source": [
    "### Evaluation: Extracted Low Level Goals "
   ]
  },
  {
   "cell_type": "code",
   "execution_count": null,
   "metadata": {},
   "outputs": [
    {
     "data": {
      "image/png": "[encoded data removed]",
      "text/plain": [
       "<Figure size 800x600 with 1 Axes>"
      ]
     },
     "metadata": {},
     "output_type": "display_data"
    },
    {
     "data": {
      "image/png": "[encoded data removed]",
      "text/plain": [
       "<Figure size 800x600 with 1 Axes>"
      ]
     },
     "metadata": {},
     "output_type": "display_data"
    },
    {
     "name": "stdout",
     "output_type": "stream",
     "text": [
      "Low Level Goals ROC AUC: 0.9145599249073484\n",
      "Low Level Goals Precision Recall Curve AUC: 0.20901636119454708\n"
     ]
    }
   ],
   "source": [
    "# List of low-level goals \n",
    "generated_low_level_goals = [goal.description for goal in lowLevelGoals.low_level_goals]\n",
    "\n",
    "manual_low_level_goals = [\n",
    "    # Provide a comprehensive one-stop resource for genetic variant annotation\n",
    "    \"Retrieve genetic variant data from multiple databases (e.g., dbSNP, ClinVar, COSMIC)\",\n",
    "    \"Search and retrieve variant annotations from a user interface\",\n",
    "    \"Annotate variants with clinical significance, mutation types, and related diseases\",\n",
    "    \"Map genetic data to genome assemblies (e.g., GRCh38, hg19)\",\n",
    "    \"Update variant information regularly from authoritative sources\",\n",
    "    \n",
    "    # Enable fast and automated interpretation of cancer-related genetic variants\n",
    "    \"Analyze cancer-related mutations using automated tools\",\n",
    "    \"Integrate gene expression data for cancer variant interpretation\",\n",
    "    \"Identify cancer-related mutations linked to specific pathways\",\n",
    "    \"Interpret large-scale cancer mutation datasets automatically\",\n",
    "    \"Classify cancer mutations based on clinical relevance\",\n",
    "    \n",
    "    # Support high-throughput analysis of genetic mutations\n",
    "    \"Process large genomic datasets in parallel\",\n",
    "    \"Extract and transform mutation data from high-throughput sequencing formats (e.g., VCF, BAM)\",\n",
    "    \"Perform mutation quality control and filtering\",\n",
    "    \n",
    "    # Integrate data from multiple genomic databases\n",
    "    \"Fetch and harmonize data from various genomic databases\",\n",
    "    \"Query integrated genomic databases for relevant mutation information\",\n",
    "    \"Integrate multiple data sources with compatible formats for easy retrieval\",\n",
    "    \n",
    "    # Convert DNA changes to corresponding protein changes\n",
    "    \"Map genetic mutations to corresponding protein-coding effects\",\n",
    "    \"Convert mutations to amino acid changes for protein function analysis\",\n",
    "    \"Predict the impact of mutations on protein structure using bioinformatics tools\",\n",
    "    \n",
    "    # Predict the functional impact of protein mutations\n",
    "    \"Use prediction tools (e.g., PolyPhen, SIFT) to estimate mutation effects on protein function\",\n",
    "    \"Build and apply machine learning models for functional impact prediction\",\n",
    "    \"Rank mutations based on predicted severity of functional impact\",\n",
    "    \n",
    "    # Provide information on mutation frequencies across datasets\n",
    "    \"Calculate mutation frequencies across various population groups\",\n",
    "    \"Generate visual representations of mutation frequencies (e.g., histograms, pie charts)\",\n",
    "    \"Provide mutation frequency data for specific diseases or conditions\",\n",
    "    \n",
    "    # Offer insights into gene function and biological relevance\n",
    "    \"Retrieve gene function annotations from public databases like Gene Ontology (GO)\",\n",
    "    \"Identify pathways and biological processes related to the mutated gene\",\n",
    "    \"Link genetic variants to specific diseases or phenotypes based on annotations\",\n",
    "    \n",
    "    # Detail the effects of genetic variants on protein function\n",
    "    \"Predict the effects of mutations on protein folding and stability\",\n",
    "    \"Identify how mutations alter protein activity or structure\",\n",
    "    \"Evaluate the impact of mutations on protein-protein interactions\",\n",
    "    \n",
    "    # Highlight the clinical actionability of specific mutations\n",
    "    \"Link genetic mutations to clinical guidelines or treatment protocols\",\n",
    "    \"Identify mutations with known clinical drug responses or therapeutic implications\",\n",
    "    \"Provide actionable insights on mutations based on current clinical research\"\n",
    "]\n",
    "\n",
    "evaluator_low_level = GoalEvaluator(preprocess = False)\n",
    "\n",
    "auc_roc, auc_prec_rec = evaluator_low_level.print_roc_prec_rec_curve(generated_low_level_goals, manual_low_level_goals)\n",
    "print(\"Low Level Goals ROC AUC:\", auc_roc)\n",
    "print(\"Low Level Goals Precision Recall Curve AUC:\", auc_prec_rec)"
   ]
  },
  {
   "cell_type": "markdown",
   "metadata": {},
   "source": [
    "### Evaluation: Extracted Actors "
   ]
  },
  {
   "cell_type": "code",
   "execution_count": null,
   "metadata": {},
   "outputs": [
    {
     "data": {
      "image/png": "[encoded data removed]",
      "text/plain": [
       "<Figure size 800x600 with 1 Axes>"
      ]
     },
     "metadata": {},
     "output_type": "display_data"
    },
    {
     "data": {
      "image/png": "[encoded data removed]",
      "text/plain": [
       "<Figure size 800x600 with 1 Axes>"
      ]
     },
     "metadata": {},
     "output_type": "display_data"
    },
    {
     "name": "stdout",
     "output_type": "stream",
     "text": [
      "Actors ROC AUC: 0.9818452377257554\n",
      "Actors Precision Recall Curve AUC: 0.7937499992902083\n"
     ]
    }
   ],
   "source": [
    "# List of actors\n",
    "generated_actors = [actor.name for actor in actors.actors]\n",
    "manual_actors = [\n",
    "    \"Researchers\", \"Clinicians\", \"biologists\", \"Database Administrators\", \"Bioinformaticians\", \"Geneticists\"\n",
    "]\n",
    "\n",
    "evaluator = GoalEvaluator(preprocess = False)\n",
    "\n",
    "auc_roc, auc_prec_rec = evaluator.print_roc_prec_rec_curve(generated_actors, manual_actors)\n",
    "print(\"Actors ROC AUC:\", auc_roc)\n",
    "print(\"Actors Precision Recall Curve AUC:\", auc_prec_rec)"
   ]
  }
 ],
 "metadata": {
  "accelerator": "GPU",
  "colab": {
   "gpuType": "T4",
   "provenance": []
  },
  "kernelspec": {
   "display_name": "base",
   "language": "python",
   "name": "python3"
  },
  "language_info": {
   "codemirror_mode": {
    "name": "ipython",
    "version": 3
   },
   "file_extension": ".py",
   "mimetype": "text/x-python",
   "name": "python",
   "nbconvert_exporter": "python",
   "pygments_lexer": "ipython3",
   "version": "3.11.7"
  },
  "widgets": {
   "application/vnd.jupyter.widget-state+json": {
    "0adcbace0f6946568311b8010d5c7fc3": {
     "model_module": "@jupyter-widgets/base",
     "model_module_version": "1.2.0",
     "model_name": "LayoutModel",
     "state": {
      "_model_module": "@jupyter-widgets/base",
      "_model_module_version": "1.2.0",
      "_model_name": "LayoutModel",
      "_view_count": null,
      "_view_module": "@jupyter-widgets/base",
      "_view_module_version": "1.2.0",
      "_view_name": "LayoutView",
      "align_content": null,
      "align_items": null,
      "align_self": null,
      "border": null,
      "bottom": null,
      "display": null,
      "flex": null,
      "flex_flow": null,
      "grid_area": null,
      "grid_auto_columns": null,
      "grid_auto_flow": null,
      "grid_auto_rows": null,
      "grid_column": null,
      "grid_gap": null,
      "grid_row": null,
      "grid_template_areas": null,
      "grid_template_columns": null,
      "grid_template_rows": null,
      "height": null,
      "justify_content": null,
      "justify_items": null,
      "left": null,
      "margin": null,
      "max_height": null,
      "max_width": null,
      "min_height": null,
      "min_width": null,
      "object_fit": null,
      "object_position": null,
      "order": null,
      "overflow": null,
      "overflow_x": null,
      "overflow_y": null,
      "padding": null,
      "right": null,
      "top": null,
      "visibility": null,
      "width": null
     }
    },
    "14d5cc69e04e4fe588144913d220e57f": {
     "model_module": "@jupyter-widgets/controls",
     "model_module_version": "1.5.0",
     "model_name": "DescriptionStyleModel",
     "state": {
      "_model_module": "@jupyter-widgets/controls",
      "_model_module_version": "1.5.0",
      "_model_name": "DescriptionStyleModel",
      "_view_count": null,
      "_view_module": "@jupyter-widgets/base",
      "_view_module_version": "1.2.0",
      "_view_name": "StyleView",
      "description_width": ""
     }
    },
    "2b52835f91344aa396de748f5a68e40e": {
     "model_module": "@jupyter-widgets/controls",
     "model_module_version": "1.5.0",
     "model_name": "DescriptionStyleModel",
     "state": {
      "_model_module": "@jupyter-widgets/controls",
      "_model_module_version": "1.5.0",
      "_model_name": "DescriptionStyleModel",
      "_view_count": null,
      "_view_module": "@jupyter-widgets/base",
      "_view_module_version": "1.2.0",
      "_view_name": "StyleView",
      "description_width": ""
     }
    },
    "2c93510709bd46c889be8a8872af280e": {
     "model_module": "@jupyter-widgets/base",
     "model_module_version": "1.2.0",
     "model_name": "LayoutModel",
     "state": {
      "_model_module": "@jupyter-widgets/base",
      "_model_module_version": "1.2.0",
      "_model_name": "LayoutModel",
      "_view_count": null,
      "_view_module": "@jupyter-widgets/base",
      "_view_module_version": "1.2.0",
      "_view_name": "LayoutView",
      "align_content": null,
      "align_items": null,
      "align_self": null,
      "border": null,
      "bottom": null,
      "display": null,
      "flex": null,
      "flex_flow": null,
      "grid_area": null,
      "grid_auto_columns": null,
      "grid_auto_flow": null,
      "grid_auto_rows": null,
      "grid_column": null,
      "grid_gap": null,
      "grid_row": null,
      "grid_template_areas": null,
      "grid_template_columns": null,
      "grid_template_rows": null,
      "height": null,
      "justify_content": null,
      "justify_items": null,
      "left": null,
      "margin": null,
      "max_height": null,
      "max_width": null,
      "min_height": null,
      "min_width": null,
      "object_fit": null,
      "object_position": null,
      "order": null,
      "overflow": null,
      "overflow_x": null,
      "overflow_y": null,
      "padding": null,
      "right": null,
      "top": null,
      "visibility": null,
      "width": null
     }
    },
    "4d7aec60591343bab6a920285a64112f": {
     "model_module": "@jupyter-widgets/base",
     "model_module_version": "1.2.0",
     "model_name": "LayoutModel",
     "state": {
      "_model_module": "@jupyter-widgets/base",
      "_model_module_version": "1.2.0",
      "_model_name": "LayoutModel",
      "_view_count": null,
      "_view_module": "@jupyter-widgets/base",
      "_view_module_version": "1.2.0",
      "_view_name": "LayoutView",
      "align_content": null,
      "align_items": null,
      "align_self": null,
      "border": null,
      "bottom": null,
      "display": null,
      "flex": null,
      "flex_flow": null,
      "grid_area": null,
      "grid_auto_columns": null,
      "grid_auto_flow": null,
      "grid_auto_rows": null,
      "grid_column": null,
      "grid_gap": null,
      "grid_row": null,
      "grid_template_areas": null,
      "grid_template_columns": null,
      "grid_template_rows": null,
      "height": null,
      "justify_content": null,
      "justify_items": null,
      "left": null,
      "margin": null,
      "max_height": null,
      "max_width": null,
      "min_height": null,
      "min_width": null,
      "object_fit": null,
      "object_position": null,
      "order": null,
      "overflow": null,
      "overflow_x": null,
      "overflow_y": null,
      "padding": null,
      "right": null,
      "top": null,
      "visibility": null,
      "width": null
     }
    },
    "5ffc14edebc2432f9b95e774167ed333": {
     "model_module": "@jupyter-widgets/base",
     "model_module_version": "1.2.0",
     "model_name": "LayoutModel",
     "state": {
      "_model_module": "@jupyter-widgets/base",
      "_model_module_version": "1.2.0",
      "_model_name": "LayoutModel",
      "_view_count": null,
      "_view_module": "@jupyter-widgets/base",
      "_view_module_version": "1.2.0",
      "_view_name": "LayoutView",
      "align_content": null,
      "align_items": null,
      "align_self": null,
      "border": null,
      "bottom": null,
      "display": null,
      "flex": null,
      "flex_flow": null,
      "grid_area": null,
      "grid_auto_columns": null,
      "grid_auto_flow": null,
      "grid_auto_rows": null,
      "grid_column": null,
      "grid_gap": null,
      "grid_row": null,
      "grid_template_areas": null,
      "grid_template_columns": null,
      "grid_template_rows": null,
      "height": null,
      "justify_content": null,
      "justify_items": null,
      "left": null,
      "margin": null,
      "max_height": null,
      "max_width": null,
      "min_height": null,
      "min_width": null,
      "object_fit": null,
      "object_position": null,
      "order": null,
      "overflow": null,
      "overflow_x": null,
      "overflow_y": null,
      "padding": null,
      "right": null,
      "top": null,
      "visibility": null,
      "width": null
     }
    },
    "6422c15135a24be783734f255088421f": {
     "model_module": "@jupyter-widgets/controls",
     "model_module_version": "1.5.0",
     "model_name": "ProgressStyleModel",
     "state": {
      "_model_module": "@jupyter-widgets/controls",
      "_model_module_version": "1.5.0",
      "_model_name": "ProgressStyleModel",
      "_view_count": null,
      "_view_module": "@jupyter-widgets/base",
      "_view_module_version": "1.2.0",
      "_view_name": "StyleView",
      "bar_color": null,
      "description_width": ""
     }
    },
    "99beab2c378044f9833caf3d6b6f3d4e": {
     "model_module": "@jupyter-widgets/controls",
     "model_module_version": "1.5.0",
     "model_name": "HTMLModel",
     "state": {
      "_dom_classes": [],
      "_model_module": "@jupyter-widgets/controls",
      "_model_module_version": "1.5.0",
      "_model_name": "HTMLModel",
      "_view_count": null,
      "_view_module": "@jupyter-widgets/controls",
      "_view_module_version": "1.5.0",
      "_view_name": "HTMLView",
      "description": "",
      "description_tooltip": null,
      "layout": "IPY_MODEL_0adcbace0f6946568311b8010d5c7fc3",
      "placeholder": "​",
      "style": "IPY_MODEL_2b52835f91344aa396de748f5a68e40e",
      "value": "Loading checkpoint shards: 100%"
     }
    },
    "d3c2cd7f501c4c93ab43730f061273b5": {
     "model_module": "@jupyter-widgets/controls",
     "model_module_version": "1.5.0",
     "model_name": "FloatProgressModel",
     "state": {
      "_dom_classes": [],
      "_model_module": "@jupyter-widgets/controls",
      "_model_module_version": "1.5.0",
      "_model_name": "FloatProgressModel",
      "_view_count": null,
      "_view_module": "@jupyter-widgets/controls",
      "_view_module_version": "1.5.0",
      "_view_name": "ProgressView",
      "bar_style": "success",
      "description": "",
      "description_tooltip": null,
      "layout": "IPY_MODEL_4d7aec60591343bab6a920285a64112f",
      "max": 2,
      "min": 0,
      "orientation": "horizontal",
      "style": "IPY_MODEL_6422c15135a24be783734f255088421f",
      "value": 2
     }
    },
    "f795283dfaad4da2bb0b3fce64f7f8c2": {
     "model_module": "@jupyter-widgets/controls",
     "model_module_version": "1.5.0",
     "model_name": "HTMLModel",
     "state": {
      "_dom_classes": [],
      "_model_module": "@jupyter-widgets/controls",
      "_model_module_version": "1.5.0",
      "_model_name": "HTMLModel",
      "_view_count": null,
      "_view_module": "@jupyter-widgets/controls",
      "_view_module_version": "1.5.0",
      "_view_name": "HTMLView",
      "description": "",
      "description_tooltip": null,
      "layout": "IPY_MODEL_2c93510709bd46c889be8a8872af280e",
      "placeholder": "​",
      "style": "IPY_MODEL_14d5cc69e04e4fe588144913d220e57f",
      "value": " 2/2 [00:02&lt;00:00,  1.38s/it]"
     }
    },
    "fe25ee512c184077be919dcd38d43296": {
     "model_module": "@jupyter-widgets/controls",
     "model_module_version": "1.5.0",
     "model_name": "HBoxModel",
     "state": {
      "_dom_classes": [],
      "_model_module": "@jupyter-widgets/controls",
      "_model_module_version": "1.5.0",
      "_model_name": "HBoxModel",
      "_view_count": null,
      "_view_module": "@jupyter-widgets/controls",
      "_view_module_version": "1.5.0",
      "_view_name": "HBoxView",
      "box_style": "",
      "children": [
       "IPY_MODEL_99beab2c378044f9833caf3d6b6f3d4e",
       "IPY_MODEL_d3c2cd7f501c4c93ab43730f061273b5",
       "IPY_MODEL_f795283dfaad4da2bb0b3fce64f7f8c2"
      ],
      "layout": "IPY_MODEL_5ffc14edebc2432f9b95e774167ed333"
     }
    }
   }
  }
 },
 "nbformat": 4,
 "nbformat_minor": 0
}
